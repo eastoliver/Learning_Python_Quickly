{
 "cells": [
  {
   "metadata": {},
   "cell_type": "markdown",
   "source": [
    "## 01 数据类型和数据结构\n",
    "本节以元组和字典为代表介绍数据结构。\n",
    "本节的实例代码（不包含练习答案）皆在 01_Datatypes.ipynb 文件中，可一个一个运行。\n",
    "#### **原始数据类型**\n",
    "Python 有一些原始数据类型：\n",
    " - 整数\n",
    " - 浮点数\n",
    " - 字符串（文本）\n",
    "#### **空类型**\n",
    "```\n",
    "email_address = None\n",
    "```\n",
    "`None` 常用作可选值或缺失值的占位符。它在条件语句中计算为` False`。\n",
    "```\n",
    "if email_address:\n",
    "    send_email(email_address, msg)\n",
    "```\n",
    "#### **数据结构**\n",
    "实际的程序具有更复杂的数据。例如，关于股票的持有信息：\n",
    "```\n",
    "100 shares of GOOG at $490.10\n",
    "```\n",
    "这是一个包含三个部分的“对象”：\n",
    "* 股票的名称或符号（\"GOOG\"，字符串）\n",
    "* 股份数目（100，整数）\n",
    "* 价格（490.10，浮点数）\n",
    "#### **元组**\n",
    "元组是分组在一起的值的集合。\n",
    "示例：\n",
    "```\n",
    "s = ('GOOG', 100, 490.1)\n",
    "```\n",
    "有时候会在语法上省略 () 。\n",
    "```\n",
    "s = 'GOOG', 100, 490.1\n",
    "```\n",
    "特殊情况（0 元组，1 元组）。\n",
    "```\n",
    "t = ()            # An empty tuple\n",
    "w = ('GOOG', )    # A 1-item tuple\n",
    "```\n",
    "元组一般用来表示简单的记录或结构。\n",
    "通常，它是由多个部分组成的单个对象。这有一个很好的类比：元组就像数据库表中的一行。\n",
    "元组的内容是有序的（类似于数组）。\n",
    "```\n",
    "s = ('GOOG', 100, 490.1)\n",
    "name = s[0]                 # 'GOOG'\n",
    "shares = s[1]               # 100\n",
    "price = s[2]                # 490.1\n",
    "```\n",
    "但是，元组的内容无法修改。\n",
    "```\n",
    ">>> s[1] = 75\n",
    "TypeError: object does not support item assignment\n",
    "```\n",
    "你可以基于当前元组创建一个新元组。\n",
    "```\n",
    "s = (s[0], 75, s[2])\n",
    "```\n",
    "#### **元组打包**\n",
    "元组更多的是把相关的项打包到一个实体（entity）中。\n",
    "```\n",
    "s = ('GOOG', 100, 490.1)\n",
    "```\n",
    "然后，该元组很容易作为单个对象传递给程序的其它部分。\n",
    "#### **元组拆包**\n",
    "要在其它地方使用元组，可以把元组的各部分拆包为变量。\n",
    "```\n",
    "name, shares, price = s\n",
    "print('Cost', shares * price)\n",
    "```\n",
    "左侧变量的数目必须与元组的结构匹配。\n",
    "```\n",
    "name, shares = s     # ERROR\n",
    "Traceback (most recent call last):\n",
    "...\n",
    "ValueError: too many values to unpack\n",
    "```\n",
    "#### **元组与列表**\n",
    "元组看起来像只读列表。但是，元组最常用于由多个部分组成的单项。列表通常是类型相同的项的集合，\n",
    "```\n",
    "record = ('GOOG', 100, 490.1)       # A tuple representing a record in a portfolio\n",
    "\n",
    "symbols = [ 'GOOG', 'AAPL', 'IBM' ]  # A List representing three stock symbols\n",
    "```\n",
    "#### **字典**\n",
    "字典是键到值的映射。有时，字典也称为哈希表（hash table）或关联数组（associative array）。键用作访问值的索引。\n",
    "```\n",
    "s = {\n",
    "    'name': 'GOOG',\n",
    "    'shares': 100,\n",
    "    'price': 490.1\n",
    "}\n",
    "```\n",
    "#### **常见操作**\n",
    "要从字典中获取值，请使用键名。\n",
    "```\n",
    ">>> print(s['name'], s['shares'])\n",
    "GOOG 100\n",
    ">>> s['price']\n",
    "490.10\n",
    ">>>\n",
    "```\n",
    "要添加或修改值，请使用键名进行分配。\n",
    "```\n",
    ">>> s['shares'] = 75\n",
    ">>> s['date'] = '6/6/2007'\n",
    ">>>\n",
    "```\n",
    "要删除值，请使用 del 语句。\n",
    "```\n",
    ">>> del s['date']\n",
    ">>>\n",
    "```\n",
    "为什么使用字典？\n",
    "\n",
    "当存在很多不同的值并且可能会修改或操作这些值时，字典很有用。字典使代码更具可读性。\n",
    "```\n",
    "s['price']\n",
    "# vs\n",
    "s[2]\n",
    "```"
   ],
   "id": "6c3377a95b74fcd1"
  },
  {
   "metadata": {},
   "cell_type": "markdown",
   "source": [
    "### 练习\n",
    "在上次的几个练习中，编写了一个取数据文件 Data/portfolio.csv 的程序 。使用 csv 模块，可以轻松地逐行读取文件。"
   ],
   "id": "cb345ad002142f88"
  },
  {
   "cell_type": "code",
   "id": "initial_id",
   "metadata": {
    "collapsed": true,
    "ExecuteTime": {
     "end_time": "2025-10-24T03:26:24.132441Z",
     "start_time": "2025-10-24T03:26:24.127279Z"
    }
   },
   "source": [
    "import csv\n",
    "f = open('Data/portfolio.csv')\n",
    "rows = csv.reader(f)\n",
    "next(rows)\n",
    "row = next(rows)\n",
    "row"
   ],
   "outputs": [
    {
     "data": {
      "text/plain": [
       "['AA', '100', '32.20']"
      ]
     },
     "execution_count": 2,
     "metadata": {},
     "output_type": "execute_result"
    }
   ],
   "execution_count": 2
  },
  {
   "metadata": {},
   "cell_type": "markdown",
   "source": "尽管读取文件很容易，但是与读取数据相比，通常使用数据做更多的事情。例如，也许想存储它并对其执行一些计算。不幸的是，原始的数据“行”并不能这样做。例如，即使是简单的数学计算也不行。",
   "id": "7440700f881faa87"
  },
  {
   "metadata": {
    "ExecuteTime": {
     "end_time": "2025-10-24T03:27:45.852632Z",
     "start_time": "2025-10-24T03:27:45.545395Z"
    }
   },
   "cell_type": "code",
   "source": [
    "row = ['AA', '100', '32.20']\n",
    "cost = row[1] * row[2]"
   ],
   "id": "28272ef5c0a7ded2",
   "outputs": [
    {
     "ename": "TypeError",
     "evalue": "can't multiply sequence by non-int of type 'str'",
     "output_type": "error",
     "traceback": [
      "\u001B[31m---------------------------------------------------------------------------\u001B[39m",
      "\u001B[31mTypeError\u001B[39m                                 Traceback (most recent call last)",
      "\u001B[36mCell\u001B[39m\u001B[36m \u001B[39m\u001B[32mIn[3]\u001B[39m\u001B[32m, line 2\u001B[39m\n\u001B[32m      1\u001B[39m row = [\u001B[33m'\u001B[39m\u001B[33mAA\u001B[39m\u001B[33m'\u001B[39m, \u001B[33m'\u001B[39m\u001B[33m100\u001B[39m\u001B[33m'\u001B[39m, \u001B[33m'\u001B[39m\u001B[33m32.20\u001B[39m\u001B[33m'\u001B[39m]\n\u001B[32m----> \u001B[39m\u001B[32m2\u001B[39m cost = \u001B[43mrow\u001B[49m\u001B[43m[\u001B[49m\u001B[32;43m1\u001B[39;49m\u001B[43m]\u001B[49m\u001B[43m \u001B[49m\u001B[43m*\u001B[49m\u001B[43m \u001B[49m\u001B[43mrow\u001B[49m\u001B[43m[\u001B[49m\u001B[32;43m2\u001B[39;49m\u001B[43m]\u001B[49m\n",
      "\u001B[31mTypeError\u001B[39m: can't multiply sequence by non-int of type 'str'"
     ]
    }
   ],
   "execution_count": 3
  },
  {
   "metadata": {},
   "cell_type": "markdown",
   "source": [
    "要执行更多的操作，通常需要以某种方式解释原始数据，并将其转换为更有用的对象类型，以便以后处理。有两种简单的方式可以选择：元组或者字典。\n",
    "#### **练习 2.1：元组**\n",
    "在交互式提示符下，创建以下代表上一行的元组，但数字列要转换为恰当的数字。"
   ],
   "id": "1d12b240a4765e17"
  },
  {
   "metadata": {
    "ExecuteTime": {
     "end_time": "2025-10-24T03:29:25.217839Z",
     "start_time": "2025-10-24T03:29:25.212764Z"
    }
   },
   "cell_type": "code",
   "source": [
    "t=(row[0],int(row[1]),float(row[2]))\n",
    "t"
   ],
   "id": "aa8eee2aa908f4c9",
   "outputs": [
    {
     "data": {
      "text/plain": [
       "('AA', 100, 32.2)"
      ]
     },
     "execution_count": 5,
     "metadata": {},
     "output_type": "execute_result"
    }
   ],
   "execution_count": 5
  },
  {
   "metadata": {},
   "cell_type": "markdown",
   "source": "使用这种方式，现在可以使用股份数目乘以价格来计算总价，",
   "id": "6fb02b115d2df766"
  },
  {
   "metadata": {
    "ExecuteTime": {
     "end_time": "2025-10-24T03:30:13.631708Z",
     "start_time": "2025-10-24T03:30:13.627360Z"
    }
   },
   "cell_type": "code",
   "source": [
    "cost = t[1] * t[2]\n",
    "cost"
   ],
   "id": "31e177643671826b",
   "outputs": [
    {
     "data": {
      "text/plain": [
       "3220.0000000000005"
      ]
     },
     "execution_count": 7,
     "metadata": {},
     "output_type": "execute_result"
    }
   ],
   "execution_count": 7
  },
  {
   "metadata": {},
   "cell_type": "markdown",
   "source": [
    "在 Python 中，数学没用了吗？结果为什么是 3220.0000000000005？\n",
    "这是计算机上浮点硬件的产物，只能在二进制（而不是十进制）中准确表示小数。即使是涉及十进制小数的简单计算，也会引入小的误差。这很正常，如果你之前没有见过，可能会有点惊讶。\n",
    "虽然在所有使用浮点小数的编程语言中都会发生这种情况，但是打印的时候可以把它隐藏，例如："
   ],
   "id": "8a477cbc1bc23798"
  },
  {
   "metadata": {
    "ExecuteTime": {
     "end_time": "2025-10-24T03:31:42.427039Z",
     "start_time": "2025-10-24T03:31:42.423709Z"
    }
   },
   "cell_type": "code",
   "source": "print('%.2f' % cost)",
   "id": "1444c66bc99744e9",
   "outputs": [
    {
     "name": "stdout",
     "output_type": "stream",
     "text": [
      "3220.00\n"
     ]
    }
   ],
   "execution_count": 8
  },
  {
   "metadata": {},
   "cell_type": "markdown",
   "source": "元组是只读的。可以通过尝试把股份数目改为 75 来验证这点。",
   "id": "18f120537f062b3a"
  },
  {
   "metadata": {
    "ExecuteTime": {
     "end_time": "2025-10-24T03:32:14.525187Z",
     "start_time": "2025-10-24T03:32:14.503334Z"
    }
   },
   "cell_type": "code",
   "source": "t[1] = 75",
   "id": "4ba55a7d47e8de71",
   "outputs": [
    {
     "ename": "TypeError",
     "evalue": "'tuple' object does not support item assignment",
     "output_type": "error",
     "traceback": [
      "\u001B[31m---------------------------------------------------------------------------\u001B[39m",
      "\u001B[31mTypeError\u001B[39m                                 Traceback (most recent call last)",
      "\u001B[36mCell\u001B[39m\u001B[36m \u001B[39m\u001B[32mIn[9]\u001B[39m\u001B[32m, line 1\u001B[39m\n\u001B[32m----> \u001B[39m\u001B[32m1\u001B[39m \u001B[43mt\u001B[49m\u001B[43m[\u001B[49m\u001B[32;43m1\u001B[39;49m\u001B[43m]\u001B[49m = \u001B[32m75\u001B[39m\n",
      "\u001B[31mTypeError\u001B[39m: 'tuple' object does not support item assignment"
     ]
    }
   ],
   "execution_count": 9
  },
  {
   "metadata": {},
   "cell_type": "markdown",
   "source": "尽管无法更改元组的内容，但是始终可以创建一个全新的元组来替换旧的元组。",
   "id": "7e1948f25efcc919"
  },
  {
   "metadata": {
    "ExecuteTime": {
     "end_time": "2025-10-24T03:32:49.187660Z",
     "start_time": "2025-10-24T03:32:49.183594Z"
    }
   },
   "cell_type": "code",
   "source": [
    "t = (t[0], 75, t[2])\n",
    "t"
   ],
   "id": "45e37a91348c2742",
   "outputs": [
    {
     "data": {
      "text/plain": [
       "('AA', 75, 32.2)"
      ]
     },
     "execution_count": 11,
     "metadata": {},
     "output_type": "execute_result"
    }
   ],
   "execution_count": 11
  },
  {
   "metadata": {},
   "cell_type": "markdown",
   "source": [
    "每当像这样重新分配现有变量名时，旧值就会被丢弃。虽然上面的赋值可能看起来像在修改元组，但实际上是在创建一个新的元组，并且将旧的元组丢弃。\n",
    "元组通常用于将值打包或拆包到变量中。请尝试以下操作："
   ],
   "id": "2a1082ee80dd10f6"
  },
  {
   "metadata": {
    "ExecuteTime": {
     "end_time": "2025-10-24T03:34:04.388055Z",
     "start_time": "2025-10-24T03:34:04.383927Z"
    }
   },
   "cell_type": "code",
   "source": [
    "name, shares, price = t\n",
    "name\n",
    "shares\n",
    "price"
   ],
   "id": "334fa39d35bc9d6a",
   "outputs": [
    {
     "data": {
      "text/plain": [
       "32.2"
      ]
     },
     "execution_count": 14,
     "metadata": {},
     "output_type": "execute_result"
    }
   ],
   "execution_count": 14
  },
  {
   "metadata": {},
   "cell_type": "markdown",
   "source": "取上面的变量并将其打包回元组中：",
   "id": "3755962aed37b5e5"
  },
  {
   "metadata": {
    "ExecuteTime": {
     "end_time": "2025-10-24T03:34:41.435319Z",
     "start_time": "2025-10-24T03:34:41.430895Z"
    }
   },
   "cell_type": "code",
   "source": [
    "t=(name, shares, price)\n",
    "t"
   ],
   "id": "a4e0e8a85d73231f",
   "outputs": [
    {
     "data": {
      "text/plain": [
       "('AA', 75, 32.2)"
      ]
     },
     "execution_count": 16,
     "metadata": {},
     "output_type": "execute_result"
    }
   ],
   "execution_count": 16
  },
  {
   "metadata": {},
   "cell_type": "markdown",
   "source": [
    "#### **练习 2.2：把字典当作数据结构**\n",
    "可以创建字典来替代元组。"
   ],
   "id": "c3af0077c6ed2171"
  },
  {
   "metadata": {
    "ExecuteTime": {
     "end_time": "2025-10-24T03:36:31.342487Z",
     "start_time": "2025-10-24T03:36:31.338064Z"
    }
   },
   "cell_type": "code",
   "source": [
    "d = {\n",
    "    'name': row[0],\n",
    "    'shares': int(row[1]),\n",
    "    'price': float(row[2])\n",
    "}\n",
    "d"
   ],
   "id": "96aa9f2ef2dec01c",
   "outputs": [
    {
     "data": {
      "text/plain": [
       "{'name': 'AA', 'shares': 100, 'price': 32.2}"
      ]
     },
     "execution_count": 17,
     "metadata": {},
     "output_type": "execute_result"
    }
   ],
   "execution_count": 17
  },
  {
   "metadata": {},
   "cell_type": "markdown",
   "source": "计算持有的总价：",
   "id": "c7b5cd5a21c214ec"
  },
  {
   "metadata": {
    "ExecuteTime": {
     "end_time": "2025-10-24T03:37:00.223555Z",
     "start_time": "2025-10-24T03:37:00.219490Z"
    }
   },
   "cell_type": "code",
   "source": [
    "cost = d['shares'] * d['price']\n",
    "cost"
   ],
   "id": "d65631b98b588672",
   "outputs": [
    {
     "data": {
      "text/plain": [
       "3220.0000000000005"
      ]
     },
     "execution_count": 18,
     "metadata": {},
     "output_type": "execute_result"
    }
   ],
   "execution_count": 18
  },
  {
   "metadata": {},
   "cell_type": "markdown",
   "source": "将此示例与上面涉及元组的相同的计算进行比较，将股份数目修改为 75.",
   "id": "6c3f9b8344fdedd9"
  },
  {
   "metadata": {
    "ExecuteTime": {
     "end_time": "2025-10-24T03:38:11.884529Z",
     "start_time": "2025-10-24T03:38:11.880134Z"
    }
   },
   "cell_type": "code",
   "source": [
    "d['shares'] = 75\n",
    "d"
   ],
   "id": "db5b6da8398250bd",
   "outputs": [
    {
     "data": {
      "text/plain": [
       "{'name': 'AA', 'shares': 75, 'price': 32.2}"
      ]
     },
     "execution_count": 19,
     "metadata": {},
     "output_type": "execute_result"
    }
   ],
   "execution_count": 19
  },
  {
   "metadata": {},
   "cell_type": "markdown",
   "source": "与元组不同，字典可以自由修改。添加一些属性：",
   "id": "dc7858dfa097eba2"
  },
  {
   "metadata": {
    "ExecuteTime": {
     "end_time": "2025-10-24T03:39:31.932781Z",
     "start_time": "2025-10-24T03:39:31.928059Z"
    }
   },
   "cell_type": "code",
   "source": [
    "d['date'] = (10,24,2025)\n",
    "d['count'] = 12345\n",
    "d"
   ],
   "id": "5d1ba9215293ed9",
   "outputs": [
    {
     "data": {
      "text/plain": [
       "{'name': 'AA',\n",
       " 'shares': 75,\n",
       " 'price': 32.2,\n",
       " 'date': (10, 24, 2025),\n",
       " 'count': 12345}"
      ]
     },
     "execution_count": 20,
     "metadata": {},
     "output_type": "execute_result"
    }
   ],
   "execution_count": 20
  },
  {
   "metadata": {},
   "cell_type": "markdown",
   "source": [
    "#### **练习 2.3: 字典的其它操作**\n",
    "如果将一个字典转换为列表，则将获得其所有的键："
   ],
   "id": "b8336ee1537d12a6"
  },
  {
   "metadata": {
    "ExecuteTime": {
     "end_time": "2025-10-24T03:40:23.780293Z",
     "start_time": "2025-10-24T03:40:23.775948Z"
    }
   },
   "cell_type": "code",
   "source": "list(d)",
   "id": "a098d65197f46826",
   "outputs": [
    {
     "data": {
      "text/plain": [
       "['name', 'shares', 'price', 'date', 'count']"
      ]
     },
     "execution_count": 21,
     "metadata": {},
     "output_type": "execute_result"
    }
   ],
   "execution_count": 21
  },
  {
   "metadata": {},
   "cell_type": "markdown",
   "source": "类似地，如果使用 for 语句对字典进行迭代，则将获得其所有的键。",
   "id": "14f765fdb29f7343"
  },
  {
   "metadata": {
    "ExecuteTime": {
     "end_time": "2025-10-24T03:41:22.339966Z",
     "start_time": "2025-10-24T03:41:22.336357Z"
    }
   },
   "cell_type": "code",
   "source": [
    "for k in d:\n",
    "    print('k =',k)"
   ],
   "id": "a2472d7cd87f2488",
   "outputs": [
    {
     "name": "stdout",
     "output_type": "stream",
     "text": [
      "k = name\n",
      "k = shares\n",
      "k = price\n",
      "k = date\n",
      "k = count\n"
     ]
    }
   ],
   "execution_count": 22
  },
  {
   "metadata": {},
   "cell_type": "markdown",
   "source": "尝试使用这个同时执行查找的变体：",
   "id": "5045604024869061"
  },
  {
   "metadata": {
    "ExecuteTime": {
     "end_time": "2025-10-24T03:42:18.746520Z",
     "start_time": "2025-10-24T03:42:18.742822Z"
    }
   },
   "cell_type": "code",
   "source": [
    "for k in d:\n",
    "    print(k, '=', d[k])"
   ],
   "id": "569860dfacccd08f",
   "outputs": [
    {
     "name": "stdout",
     "output_type": "stream",
     "text": [
      "name = AA\n",
      "shares = 75\n",
      "price = 32.2\n",
      "date = (10, 24, 2025)\n",
      "count = 12345\n"
     ]
    }
   ],
   "execution_count": 23
  },
  {
   "metadata": {},
   "cell_type": "markdown",
   "source": "也可以使用 keys() 方法获得所有的键：",
   "id": "38782ffcc9579b36"
  },
  {
   "metadata": {
    "ExecuteTime": {
     "end_time": "2025-10-24T03:42:57.050405Z",
     "start_time": "2025-10-24T03:42:57.046243Z"
    }
   },
   "cell_type": "code",
   "source": [
    "keys = d.keys()\n",
    "keys"
   ],
   "id": "2e92691179507972",
   "outputs": [
    {
     "data": {
      "text/plain": [
       "dict_keys(['name', 'shares', 'price', 'date', 'count'])"
      ]
     },
     "execution_count": 24,
     "metadata": {},
     "output_type": "execute_result"
    }
   ],
   "execution_count": 24
  },
  {
   "metadata": {},
   "cell_type": "markdown",
   "source": [
    "在这里，keys() 稍微有点不同，它返回的是一个 dict_keys 对象。\n",
    "这是对原始字典的覆盖，它始终提供当前字典的键——即使字典改变了。例如，试试一下操作："
   ],
   "id": "6c59ae79697b2282"
  },
  {
   "metadata": {
    "ExecuteTime": {
     "end_time": "2025-10-24T03:45:06.181099Z",
     "start_time": "2025-10-24T03:45:06.176725Z"
    }
   },
   "cell_type": "code",
   "source": [
    "del d['count']\n",
    "keys"
   ],
   "id": "f950c580b64fe9c3",
   "outputs": [
    {
     "data": {
      "text/plain": [
       "dict_keys(['name', 'shares', 'price', 'date'])"
      ]
     },
     "execution_count": 26,
     "metadata": {},
     "output_type": "execute_result"
    }
   ],
   "execution_count": 26
  },
  {
   "metadata": {},
   "cell_type": "markdown",
   "source": [
    "请注意，尽管没有再次调用 d.keys() ，但键'count' 消失了。\n",
    "一个更优雅地一起使用键和值的方式是使用 items() 方法。这可以获得键值组成的元组 (key, value)。"
   ],
   "id": "c493e233d1ac092e"
  },
  {
   "metadata": {
    "ExecuteTime": {
     "end_time": "2025-10-24T03:46:39.549030Z",
     "start_time": "2025-10-24T03:46:39.545304Z"
    }
   },
   "cell_type": "code",
   "source": [
    "items = d.items()\n",
    "items\n",
    "for k,v in d.items():\n",
    "    print(k, '=', v)"
   ],
   "id": "6da152f6cba41a65",
   "outputs": [
    {
     "name": "stdout",
     "output_type": "stream",
     "text": [
      "name = AA\n",
      "shares = 75\n",
      "price = 32.2\n",
      "date = (10, 24, 2025)\n"
     ]
    }
   ],
   "execution_count": 28
  },
  {
   "metadata": {},
   "cell_type": "markdown",
   "source": "如果有类似于 items 的元组，那么可以使用 dict() 函数创建一个字典。请尝试以下操作：",
   "id": "ca3a7aa5aae78e51"
  },
  {
   "metadata": {
    "ExecuteTime": {
     "end_time": "2025-10-24T03:47:28.864150Z",
     "start_time": "2025-10-24T03:47:28.860185Z"
    }
   },
   "cell_type": "code",
   "source": [
    "items\n",
    "d = dict(items)\n",
    "d"
   ],
   "id": "b0745b464e015df3",
   "outputs": [
    {
     "data": {
      "text/plain": [
       "{'name': 'AA', 'shares': 75, 'price': 32.2, 'date': (10, 24, 2025)}"
      ]
     },
     "execution_count": 30,
     "metadata": {},
     "output_type": "execute_result"
    }
   ],
   "execution_count": 30
  },
  {
   "metadata": {},
   "cell_type": "markdown",
   "source": [
    "## 02 容器\n",
    "本节讨论列表（list），字典（dict）和集合（set）。\n",
    "#### **概述**\n",
    "通常，程序必须处理许多对象。\n",
    "* 股票的投资组合\n",
    "* 股票价格表\n",
    "这里有三种主要的选择（译注：数据结构）可以使用：\n",
    "* 列表。有序的数据。\n",
    "* 字典。无序的数据。\n",
    "* 集合。互异且无序的数据。\n",
    "#### **把列表当作容器**\n",
    "当数据顺序很重要时，请使用列表。记住，列表可以存储任何类型的对象。例如，包含元组的列表：\n",
    "```\n",
    "portfolio = [\n",
    "    ('GOOG', 100, 490.1),\n",
    "    ('IBM', 50, 91.3),\n",
    "    ('CAT', 150, 83.44)\n",
    "]\n",
    "\n",
    "portfolio[0]            # ('GOOG', 100, 490.1)\n",
    "portfolio[2]            # ('CAT', 150, 83.44)\n",
    "```\n",
    "#### **列表构建**\n",
    "从零开始构建列表。\n",
    "```\n",
    "records = []  # Initial empty list\n",
    "\n",
    "# Use .append() to add more items\n",
    "records.append(('GOOG', 100, 490.10))\n",
    "records.append(('IBM', 50, 91.3))\n",
    "...\n",
    "```\n",
    "从文件读取记录的示例：\n",
    "```\n",
    "records = []  # Initial empty list\n",
    "\n",
    "with open('Data/portfolio.csv', 'rt') as f:\n",
    "    next(f) # Skip header\n",
    "    for line in f:\n",
    "        row = line.split(',')\n",
    "        records.append((row[0], int(row[1]), float(row[2])))\n",
    "```"
   ],
   "id": "900408cfd348e154"
  },
  {
   "metadata": {},
   "cell_type": "markdown",
   "source": [
    "#### **把字典当作容器**\n",
    "如果要快速随机查找（通过键名），那么字典很有用。例如，股票价格字典：\n",
    "```\n",
    "prices = {\n",
    "   'GOOG': 513.25,\n",
    "   'CAT': 87.22,\n",
    "   'IBM': 93.37,\n",
    "   'MSFT': 44.12\n",
    "}\n",
    "```\n",
    "以下是一些简单的查找：\n",
    "```\n",
    ">>> prices['IBM']\n",
    "93.37\n",
    ">>> prices['GOOG']\n",
    "513.25\n",
    ">>>\n",
    "```\n",
    "#### **字典构建**\n",
    "从零开始构建字典的示例：\n",
    "```\n",
    "prices = {} # Initial empty dict\n",
    "\n",
    "# Insert new items\n",
    "prices['GOOG'] = 513.25\n",
    "prices['CAT'] = 87.22\n",
    "prices['IBM'] = 93.37\n",
    "```\n",
    "从文件内容填充字典的示例：\n",
    "```\n",
    "prices = {} # Initial empty dict\n",
    "\n",
    "with open('Data/prices.csv', 'rt') as f:\n",
    "    for line in f:\n",
    "        row = line.split(',')\n",
    "        prices[row[0]] = float(row[1])\n",
    "```\n",
    "注意：如果是在 Data/prices.csv 文件上尝试此操作，会发现几乎可以正常工作——但是，在末尾有一个空行导致程序崩溃了。需要找出一些方法来修改代码以解决此问题（参见练习 2.6）。\n",
    "#### **字典查找**\n",
    "测试键是否存在：\n",
    "```\n",
    "if key in d:\n",
    "    # YES\n",
    "else:\n",
    "    # NO\n",
    "```\n",
    "可以查找可能不存在的值，并在值不存在的情况下提供默认值。\n",
    "```\n",
    "name = d.get(key, default)\n",
    "```\n",
    "示例：\n",
    "```\n",
    ">>> prices.get('IBM', 0.0)\n",
    "0.0\n",
    ">>> prices.get('SCOX', 0.0)\n",
    "0.0\n",
    ">>>\n",
    "```\n",
    "#### **组合键**\n",
    "在 `Ｐython` 中，几乎任何类型的值都可以用作字典的键。字典的键必须是不可变类型。例如，元组：\n",
    "```\n",
    "holidays = {\n",
    "  (1, 1) : 'New Years',\n",
    "  (3, 14) : 'Pi day',\n",
    "  (9, 13) : \"Programmer's day\",\n",
    "}\n",
    "```\n",
    "然后访问：\n",
    "```\n",
    ">>> holidays[3, 14]\n",
    "'Pi day'\n",
    ">>>\n",
    "```\n",
    "列表，集合或者其它字典都不能用作字典的键，因为列表和字典（译注：集合也是使用哈希技术实现的）是可变的。"
   ],
   "id": "2f19e997fc4a0d55"
  },
  {
   "metadata": {},
   "cell_type": "markdown",
   "source": [
    "#### **集合**\n",
    "集合是互异且无序的数据。\n",
    "```\n",
    "tech_stocks = { 'IBM','AAPL','MSFT' }\n",
    "# Alternative syntax\n",
    "tech_stocks = set(['IBM', 'AAPL', 'MSFT'])\n",
    "```\n",
    "集合对于成员关系测试很有用。\n",
    "```\n",
    ">>> tech_stocks\n",
    "set(['AAPL', 'IBM', 'MSFT'])\n",
    ">>> 'IBM' in tech_stocks\n",
    "True\n",
    ">>> 'FB' in tech_stocks\n",
    "False\n",
    ">>>\n",
    "```\n",
    "集合对于消除重复也很有用。\n",
    "```\n",
    "names = ['IBM', 'AAPL', 'GOOG', 'IBM', 'GOOG', 'YHOO']\n",
    "\n",
    "unique = set(names)\n",
    "# unique = set(['IBM', 'AAPL','GOOG','YHOO'])\n",
    "```\n",
    "其它集合操作：\n",
    "```\n",
    "unique.add('CAT')        # Add an item\n",
    "unique.remove('YHOO')    # Remove an item\n",
    "\n",
    "s1 | s2                 # Set union\n",
    "s1 & s2                 # Set intersection\n",
    "s1 - s2                 # Set difference\n",
    "```"
   ],
   "id": "40a6003cc92b3137"
  },
  {
   "metadata": {},
   "cell_type": "markdown",
   "source": [
    "### 练习\n",
    "在这些练习中，你开始构建的程序是本课程剩余部分使用的主要程序之一。请在在右侧打开的文件中文件中工作。或者点击重新打开\n",
    "#### **练习 2.4：包含元组的列表**\n",
    "Data/portfolio.csv 文件包含投资组合中的股票列表。在 练习 1.30 中，你编写了一个读取该文件并执行简单计算的 portfolio_cost(filename) 函数。\n",
    "代码看起来应该像下面这样："
   ],
   "id": "7e607cf1b1b3517e"
  },
  {
   "metadata": {
    "ExecuteTime": {
     "end_time": "2025-10-24T05:19:08.404747Z",
     "start_time": "2025-10-24T05:19:08.399641Z"
    }
   },
   "cell_type": "code",
   "source": [
    "import csv\n",
    "\n",
    "def portfolio_cost(filename):\n",
    "    '''Computes the total cost (shares*price) of a portfolio file'''\n",
    "    total_cost = 0.0\n",
    "\n",
    "    with open(filename, 'rt') as f:\n",
    "        rows = csv.reader(f)\n",
    "        headers = next(rows)\n",
    "        for row in rows:\n",
    "            nshares = int(row[1])\n",
    "            price = float(row[2])\n",
    "            total_cost += nshares * price\n",
    "    return total_cost\n",
    "\n",
    "print(portfolio_cost('Data/portfolio.csv'))"
   ],
   "id": "8a8e83a922fefeae",
   "outputs": [
    {
     "name": "stdout",
     "output_type": "stream",
     "text": [
      "44671.15\n"
     ]
    }
   ],
   "execution_count": 31
  },
  {
   "metadata": {},
   "cell_type": "markdown",
   "source": "请使用这些代码作为指导，创建一个新文件 report.py 。在 report.py 文件中，定义 read_portfolio(filename) 函数，该函数打开 Data/portfolio.csv 文件并将其读入到包含元组的列表中。为此，你需要对上面的代码做一些小修改。",
   "id": "761d64f68778c4b4"
  },
  {
   "metadata": {
    "ExecuteTime": {
     "end_time": "2025-10-24T05:32:58.470744Z",
     "start_time": "2025-10-24T05:32:58.465513Z"
    }
   },
   "cell_type": "code",
   "source": [
    "import csv\n",
    "\n",
    "def read_portfolio(filename):\n",
    "    '''Computes the total cost (shares*price) of a portfolio file'''\n",
    "    total_cost = 0.0\n",
    "    # 首先，创建一个最初设为空列表的变量，而不是定义 total_cost = 0。例如：\n",
    "    portfolio = []\n",
    "    with open(filename, 'rt') as f:\n",
    "        rows = csv.reader(f)\n",
    "        headers = next(rows)\n",
    "        # 接着，把每一行准确地存储到元组中（就像在上次的练习中做的那样），然后把元组追加到列表中，而不是合计总的费用。\n",
    "        for row in rows:\n",
    "            holding = (row[0], int(row[1]), float(row[2]))\n",
    "            portfolio.append(holding)\n",
    "    # 最后，返回列表。\n",
    "    return portfolio\n",
    "\n",
    "portfolio = read_portfolio('Data/portfolio.csv')\n",
    "print(portfolio)\n",
    "total = 0.0\n",
    "for s in portfolio:\n",
    "    total += s[1] * s[2]\n",
    "print(total)"
   ],
   "id": "3386c7ffb4023f6f",
   "outputs": [
    {
     "name": "stdout",
     "output_type": "stream",
     "text": [
      "[('AA', 100, 32.2), ('IBM', 50, 91.1), ('CAT', 150, 83.44), ('MSFT', 200, 51.23), ('GE', 95, 40.37), ('MSFT', 50, 65.1), ('IBM', 100, 70.44)]\n",
      "44671.15\n"
     ]
    }
   ],
   "execution_count": 35
  },
  {
   "metadata": {},
   "cell_type": "markdown",
   "source": [
    "创建的包含元组的列表非常类似于二维（2-Ｄ）数组。例如，使用诸如 portfolio[row][column] （ row 和column 是整数）的查找来访问特定的列和行。\n",
    "也就是说，可以使用像下面这样的语句重写最后的 for 循环:"
   ],
   "id": "6851df864de4717c"
  },
  {
   "metadata": {
    "ExecuteTime": {
     "end_time": "2025-10-24T05:34:21.223958Z",
     "start_time": "2025-10-24T05:34:21.220423Z"
    }
   },
   "cell_type": "code",
   "source": [
    "total = 0.0\n",
    "for name, shares, price in portfolio:\n",
    "    total += shares * price\n",
    "print(total)"
   ],
   "id": "3f11716b66864121",
   "outputs": [
    {
     "name": "stdout",
     "output_type": "stream",
     "text": [
      "44671.15\n"
     ]
    }
   ],
   "execution_count": 36
  },
  {
   "metadata": {},
   "cell_type": "markdown",
   "source": [
    "#### **练习 2.5：包含字典的列表**\n",
    "使用字典（而不是元组）修改在练习 2.4 中编写的函数来表示投资组合中的股票。在字典中，使用字段名 \"name\", \"shares\" 和 \"price\" 来表示输入文件中的不同列。\n",
    "以与练习 2.4 中相同的方式试验这个新的函数。"
   ],
   "id": "a14be27715f19870"
  },
  {
   "metadata": {
    "ExecuteTime": {
     "end_time": "2025-10-24T05:40:31.498532Z",
     "start_time": "2025-10-24T05:40:31.493361Z"
    }
   },
   "cell_type": "code",
   "source": [
    "import csv\n",
    "\n",
    "def read_portfolio(filename):\n",
    "    '''Computes the total cost (shares*price) of a portfolio file'''\n",
    "    total_cost = 0.0\n",
    "    # 首先，创建一个最初设为空列表的变量，而不是定义 total_cost = 0。例如：\n",
    "    portfolio = []\n",
    "    with open(filename, 'rt') as f:\n",
    "        rows = csv.reader(f)\n",
    "        headers = next(rows)\n",
    "        # 接着，把每一行准确地存储到元组中（就像在上次的练习中做的那样），然后把元组追加到列表中，而不是合计总的费用。\n",
    "        for row in rows:\n",
    "            holding = {'name': row[0], 'shares': int(row[1]), 'price': float(row[2])}\n",
    "            portfolio.append(holding)\n",
    "    # 最后，返回列表。\n",
    "    return portfolio\n",
    "protfolio = read_portfolio('Data/portfolio.csv')\n",
    "print(protfolio)\n",
    "protfolio[1]['shares']\n",
    "total = 0.0\n",
    "for s in protfolio:\n",
    "    total += s['shares'] * s['price']\n",
    "print(total)"
   ],
   "id": "3f28c37d6969cc1c",
   "outputs": [
    {
     "name": "stdout",
     "output_type": "stream",
     "text": [
      "[{'name': 'AA', 'shares': 100, 'price': 32.2}, {'name': 'IBM', 'shares': 50, 'price': 91.1}, {'name': 'CAT', 'shares': 150, 'price': 83.44}, {'name': 'MSFT', 'shares': 200, 'price': 51.23}, {'name': 'GE', 'shares': 95, 'price': 40.37}, {'name': 'MSFT', 'shares': 50, 'price': 65.1}, {'name': 'IBM', 'shares': 100, 'price': 70.44}]\n",
      "44671.15\n"
     ]
    }
   ],
   "execution_count": 42
  },
  {
   "metadata": {},
   "cell_type": "markdown",
   "source": [
    "在这里可以看到，每个条目的不同字段是通过键名来访问的，而不是数字类型的列号。这通常是首选方式，因为这样得到的代码在以后易于阅读。\n",
    "查看大型的字典或者列表可能会很混乱。要使调试的输出变得整洁，可以考虑使用 pprint() 函数。"
   ],
   "id": "46cb0c512bee25c0"
  },
  {
   "metadata": {
    "ExecuteTime": {
     "end_time": "2025-10-24T05:41:55.112073Z",
     "start_time": "2025-10-24T05:41:55.107880Z"
    }
   },
   "cell_type": "code",
   "source": [
    "from  pprint import pprint\n",
    "pprint(protfolio)"
   ],
   "id": "a5138116923cfeb7",
   "outputs": [
    {
     "name": "stdout",
     "output_type": "stream",
     "text": [
      "[{'name': 'AA', 'price': 32.2, 'shares': 100},\n",
      " {'name': 'IBM', 'price': 91.1, 'shares': 50},\n",
      " {'name': 'CAT', 'price': 83.44, 'shares': 150},\n",
      " {'name': 'MSFT', 'price': 51.23, 'shares': 200},\n",
      " {'name': 'GE', 'price': 40.37, 'shares': 95},\n",
      " {'name': 'MSFT', 'price': 65.1, 'shares': 50},\n",
      " {'name': 'IBM', 'price': 70.44, 'shares': 100}]\n"
     ]
    }
   ],
   "execution_count": 43
  },
  {
   "metadata": {},
   "cell_type": "markdown",
   "source": [
    "#### **练习 2.6：把字典当作容器**\n",
    "在使用索引而不是数字查找某元素的地方，字典是一种用来跟踪元素的很有用的方式。在 Python shell 中，尝试使用字典："
   ],
   "id": "4e6303042ebced95"
  },
  {
   "metadata": {
    "ExecuteTime": {
     "end_time": "2025-10-24T05:45:35.924291Z",
     "start_time": "2025-10-24T05:45:35.918592Z"
    }
   },
   "cell_type": "code",
   "source": [
    "prices = {}\n",
    "prices['IBM'] = 92.45\n",
    "prices['MSFT'] = 45.12\n",
    "# prices['AAPL']\n",
    "'AAPL' in prices\n",
    "# prices"
   ],
   "id": "6541f41b26466fb4",
   "outputs": [
    {
     "data": {
      "text/plain": [
       "False"
      ]
     },
     "execution_count": 48,
     "metadata": {},
     "output_type": "execute_result"
    }
   ],
   "execution_count": 48
  },
  {
   "metadata": {},
   "cell_type": "markdown",
   "source": [
    "该 Data/prices.csv 文件包含一系列带有股票价格的行，看起来像下面这样：\n",
    "```\n",
    "\"AA\",9.22\n",
    "\"AXP\",24.85\n",
    "\"BA\",44.85\n",
    "\"BAC\",11.27\n",
    "\"C\",3.72\n",
    "...\n",
    "```\n",
    "编写` read_prices(filename)`函数将诸如此类的价格集合读取到字典中，字典的键代表股票的名字，字典的值代表股票的价格。\n",
    "为此，从空字典开始，并且像上面做的那样开始插入值。但是，现在正在从从文件中读取值。\n",
    "我们将使用该数据结构快速查找给定名称的股票的价格。\n",
    "这部分需要一些小技巧。首先，确保像之前做的那样使用 csv 模块——无需在这里重复发明轮子。"
   ],
   "id": "842cdcebabeac140"
  },
  {
   "metadata": {
    "ExecuteTime": {
     "end_time": "2025-10-24T05:53:39.537097Z",
     "start_time": "2025-10-24T05:53:39.532392Z"
    }
   },
   "cell_type": "code",
   "source": [
    "import csv\n",
    "def read_prices(filename):\n",
    "    '''Reads prices from a CSV file into a dictionary'''\n",
    "    prices = {}\n",
    "    with open(filename, 'rt') as f:\n",
    "        rows = csv.reader(f)\n",
    "        for row in rows:\n",
    "            try:\n",
    "                prices[row[0]] = float(row[1])\n",
    "            except IndexError:\n",
    "                pass\n",
    "    return prices\n",
    "print(read_prices('Data/prices.csv'))"
   ],
   "id": "5dcc3249f5dac773",
   "outputs": [
    {
     "name": "stdout",
     "output_type": "stream",
     "text": [
      "{'AA': 9.22, 'AXP': 24.85, 'BA': 44.85, 'BAC': 11.27, 'C': 3.72, 'CAT': 35.46, 'CVX': 66.67, 'DD': 28.47, 'DIS': 24.22, 'GE': 13.48, 'GM': 0.75, 'HD': 23.16, 'HPQ': 34.35, 'IBM': 106.28, 'INTC': 15.72, 'JNJ': 55.16, 'JPM': 36.9, 'KFT': 26.11, 'KO': 49.16, 'MCD': 58.99, 'MMM': 57.1, 'MRK': 27.58, 'MSFT': 20.89, 'PFE': 15.19, 'PG': 51.94, 'T': 24.79, 'UTX': 52.61, 'VZ': 29.26, 'WMT': 49.74, 'XOM': 69.35}\n"
     ]
    }
   ],
   "execution_count": 52
  },
  {
   "metadata": {},
   "cell_type": "markdown",
   "source": [
    "另外一个小麻烦是 Data/prices.csv 文件可能有一些空行在里面。注意上面数据的最后一行是一个空列表——意味着那一行没有数据。\n",
    "这有可能导致你的程序因为异常而终止。酌情使用 try 和 except 语句捕获这些异常。思考：使用 if 语句来防范错误的数据是否会更好？\n",
    "编写完 read_prices() 函数，请交互式地测试它并确保其正常工作："
   ],
   "id": "6cde1863ef728858"
  },
  {
   "metadata": {
    "ExecuteTime": {
     "end_time": "2025-10-24T05:54:16.144866Z",
     "start_time": "2025-10-24T05:54:16.140745Z"
    }
   },
   "cell_type": "code",
   "source": [
    "prices = read_prices('Data/prices.csv')\n",
    "print(prices['IBM'])\n",
    "print(prices['MSFT'])"
   ],
   "id": "b6b63a27c7dbf816",
   "outputs": [
    {
     "name": "stdout",
     "output_type": "stream",
     "text": [
      "106.28\n",
      "20.89\n"
     ]
    }
   ],
   "execution_count": 54
  },
  {
   "metadata": {},
   "cell_type": "markdown",
   "source": [
    "#### **练习 2.7：看看你是否可以退休**\n",
    "通过添加一些计算盈亏的语句到 report.py 程序，将所有的工作联系到一起。这些语句应该采用在练习 2.5 中存储股票名称的列表，以及在练习 2.6 中存储股票价格的字典，并计算投资组合的当前值以及盈亏。"
   ],
   "id": "a16a66cd31e13fc9"
  },
  {
   "metadata": {
    "ExecuteTime": {
     "end_time": "2025-10-24T06:16:10.581739Z",
     "start_time": "2025-10-24T06:16:10.575603Z"
    }
   },
   "cell_type": "code",
   "source": [
    "prices = read_prices('Data/prices.csv')\n",
    "protfolio = read_portfolio('Data/portfolio.csv')\n",
    "total_value = 0.0\n",
    "first_value = 0.0\n",
    "headers = ('股票名称', '股数', '价格', '当前价格', '盈亏')\n",
    "print('%8s %8s %8s %8s %8s' % headers)\n",
    "print(('-' * 10 + ' ') * len(headers))\n",
    "for s in protfolio:\n",
    "    first_value += s['shares'] * s['price']\n",
    "    total_value += s['shares'] * prices[s['name']]\n",
    "\n",
    "    print(f'{s['name']:10s} {s['shares']:10d} {s['price']:>10.2f} {prices[s['name']]:10.2f} {prices[s['name']]-s['price']:10.2f}')\n",
    "\n",
    "print('盈亏:', total_value - first_value)"
   ],
   "id": "a16959f96b044fad",
   "outputs": [
    {
     "name": "stdout",
     "output_type": "stream",
     "text": [
      "    股票名称       股数       价格     当前价格       盈亏\n",
      "---------- ---------- ---------- ---------- ---------- \n",
      "AA                100      32.20       9.22     -22.98\n",
      "IBM                50      91.10     106.28      15.18\n",
      "CAT               150      83.44      35.46     -47.98\n",
      "MSFT              200      51.23      20.89     -30.34\n",
      "GE                 95      40.37      13.48     -26.89\n",
      "MSFT               50      65.10      20.89     -44.21\n",
      "IBM               100      70.44     106.28      35.84\n",
      "盈亏: -15985.050000000003\n"
     ]
    }
   ],
   "execution_count": 76
  },
  {
   "metadata": {},
   "cell_type": "markdown",
   "source": [
    "## 03 格式化\n",
    "虽然本节稍微有点离题，但是当处理数据时，通常想要生成结构化的输出（如表格）。示例：\n",
    "```\n",
    "      Name      Shares        Price\n",
    "----------  ----------  -----------\n",
    "        AA         100        32.20\n",
    "       IBM          50        91.10\n",
    "       CAT         150        83.44\n",
    "      MSFT         200        51.23\n",
    "        GE          95        40.37\n",
    "      MSFT          50        65.10\n",
    "       IBM         100        70.44\n",
    "```\n",
    "#### **字符串格式化**\n",
    "在 Python 3.6+ 中，格式化字符串的一种方法是使用 f-strings：\n",
    "```\n",
    ">>> name = 'IBM'\n",
    ">>> shares = 100\n",
    ">>> price = 91.1\n",
    ">>> f'{name:>10s} {shares:>10d} {price:>10.2f}'\n",
    "'       IBM        100      91.10'\n",
    ">>>\n",
    "```\n",
    "`{expression:format} `部分会被取代。\n",
    "`f-strings `通常和` print() `函数一起使用：\n",
    "`\n",
    "print(f'{name:>10s} {shares:>10d} {price:>10.2f}')\n",
    "`\n",
    "#### **格式码**\n",
    "格式码（在 {} 内 : 之后）与 C 语言的 printf() 函数类似。常见格式码包括：\n",
    "```\n",
    "d       Decimal integer\n",
    "b       Binary integer\n",
    "x       Hexadecimal integer\n",
    "f       Float as [-]m.dddddd\n",
    "e       Float as [-]m.dddddde+-xx\n",
    "g       Float, but selective use of E notation\n",
    "s       String\n",
    "c       Character (from integer)\n",
    "```\n",
    "常见的修饰符可调整字段宽度和数的精度。这是部分内容：\n",
    "```\n",
    ":>10d   Integer right aligned in 10-character field\n",
    ":<10d   Integer left aligned in 10-character field\n",
    ":^10d   Integer centered in 10-character field\n",
    ":0.2f   Float with 2 digit precision\n",
    "```\n",
    "#### **字典格式化**\n",
    "可以使用字符串的 format_map() 方法将字符串格式化应用于值的字典：\n",
    "```\n",
    ">>> s = {\n",
    "    'name': 'IBM',\n",
    "    'shares': 100,\n",
    "    'price': 91.1\n",
    "}\n",
    ">>> '{name:>10s} {shares:10d} {price:10.2f}'.format_map(s)\n",
    "'       IBM        100      91.10'\n",
    ">>>\n",
    "``\n",
    "虽然 `format_map()` 和 `f-strings` 使用相同的格式码，但是是从提供的字典中获取值。\n",
    "#### **format()方法**\n",
    "有一个` format() `方法可以将格式化应用于参数或者关键字参数：\n",
    "```\n",
    ">>> '{name:>10s} {shares:10d} {price:10.2f}'.format(name='IBM', shares=100, price=91.1)\n",
    "'       IBM        100      91.10'\n",
    ">>> '{:10s} {:10d} {:10.2f}'.format('IBM', 100, 91.1)\n",
    "'       IBM        100      91.10'\n",
    ">>>\n",
    "```\n",
    "坦白说，format() 方法稍微有点冗长，我更倾向于使用 f-strings。\n",
    "#### **C 风格的格式化**\n",
    "也可以使用格式化操作符 % ：\n",
    "```\n",
    ">>> 'The value is %d' % 3\n",
    "'The value is 3'\n",
    ">>> '%5d %-5d %10d' % (3,4,5)\n",
    "'    3 4              5'\n",
    ">>> '%0.2f' % (3.1415926,)\n",
    "'3.14'\n",
    "```\n",
    "这要求右边是一个单项或者元组，格式码也是模仿 C 语言` printf()` 函数的。\n",
    "注意：这是字节字符串上唯一可用的格式化方法。\n",
    "```\n",
    ">>> b'%s has %n messages' % (b'Dave', 37)\n",
    "b'Dave has 37 messages'\n",
    ">>>\n",
    "```"
   ],
   "id": "b14fd8d754812893"
  },
  {
   "metadata": {},
   "cell_type": "markdown",
   "source": [
    "### 练习\n",
    "#### **练习 2.8：如何格式化数字**\n",
    "打印数字常见的一个问题就是指定数字的小数位数。其中的一种解决方法就是使用 f-strings。请尝试以下示例："
   ],
   "id": "de3786433ba28bbd"
  },
  {
   "metadata": {
    "ExecuteTime": {
     "end_time": "2025-10-24T06:37:38.368249Z",
     "start_time": "2025-10-24T06:37:38.363308Z"
    }
   },
   "cell_type": "code",
   "source": [
    "value = 42863.1\n",
    "print(value)\n",
    "print(f'{value:0.4f}')\n",
    "print(f'{value:>16.2f}')\n",
    "print(f'{value:<16.2f}')\n",
    "print(f'{value:*>16,.2f}')"
   ],
   "id": "323a4384bc74aed4",
   "outputs": [
    {
     "name": "stdout",
     "output_type": "stream",
     "text": [
      "42863.1\n",
      "42863.1000\n",
      "        42863.10\n",
      "42863.10        \n",
      "*******42,863.10\n"
     ]
    }
   ],
   "execution_count": 83
  },
  {
   "metadata": {},
   "cell_type": "markdown",
   "source": "有关` f-strings `使用的格式码的完整文档在 [这里](https://docs.python.org/3/library/string.html#format-specification-mini-language) 可以找到。有时，也使用字符串操作符 % 执行格式化。",
   "id": "4db4af487e7ef1fb"
  },
  {
   "metadata": {
    "ExecuteTime": {
     "end_time": "2025-10-24T06:41:32.559140Z",
     "start_time": "2025-10-24T06:41:32.555733Z"
    }
   },
   "cell_type": "code",
   "source": [
    "print('%.4f' % value)\n",
    "print('%16.2f' % value)"
   ],
   "id": "66671f63c658bf3c",
   "outputs": [
    {
     "name": "stdout",
     "output_type": "stream",
     "text": [
      "42863.1000\n",
      "        42863.10\n"
     ]
    }
   ],
   "execution_count": 85
  },
  {
   "metadata": {},
   "cell_type": "markdown",
   "source": "与操作符` % `使用的各种格式码有关的文档可以在 [这里](https://docs.python.org/3/library/stdtypes.html#printf-style-string-formatting) 找到。尽管它通常与 `print()` 函数一起使用，但是字符串格式化与打印无关。如果要保存格式化的字符串，把它赋值给变量即可。",
   "id": "ad2bcc10771c8a0a"
  },
  {
   "metadata": {
    "ExecuteTime": {
     "end_time": "2025-10-24T06:43:08.206863Z",
     "start_time": "2025-10-24T06:43:08.202129Z"
    }
   },
   "cell_type": "code",
   "source": [
    "f = '%.4f' % value\n",
    "f"
   ],
   "id": "ef61b49994afdcb9",
   "outputs": [
    {
     "data": {
      "text/plain": [
       "'42863.1000'"
      ]
     },
     "execution_count": 86,
     "metadata": {},
     "output_type": "execute_result"
    }
   ],
   "execution_count": 86
  },
  {
   "metadata": {},
   "cell_type": "markdown",
   "source": [
    "#### **练习 2.9：收集数据**\n",
    "在练习 2.7 中，编写了一个用于计算股票投资盈亏的程序 report.py。在本练习中，需要修改这个程序来生成如下表格：\n",
    "```\n",
    "      Name     Shares      Price     Change\n",
    "---------- ---------- ---------- ----------\n",
    "        AA        100       9.22     -22.98\n",
    "       IBM         50     106.28      15.18\n",
    "       CAT        150      35.46     -47.98\n",
    "      MSFT        200      20.89     -30.34\n",
    "        GE         95      13.48     -26.89\n",
    "      MSFT         50      20.89     -44.21\n",
    "       IBM        100     106.28      35.84\n",
    "```\n",
    "在此表格中，\"Price\" 是当前股价，\"Change\" 是当前股价与原始购买股价的差。\n",
    "为了生成上述表格，首先需要收集表中展示的所有数据。编写 `make_report()` 函数，以股票列表和价格字典作为输入，并返回一个包含上表中所有行的元组列表。\n",
    "把 `make_report()` 函数添加到 report.py 文件中。如果交互式地执行该函数，则应该按以下步骤进行："
   ],
   "id": "90d81397320aba6a"
  },
  {
   "metadata": {
    "ExecuteTime": {
     "end_time": "2025-10-24T06:48:19.330925Z",
     "start_time": "2025-10-24T06:48:19.325331Z"
    }
   },
   "cell_type": "code",
   "source": [
    "def make_report(portfolio, prices):\n",
    "    \"\"\"\n",
    "    Generate a list of tuples containing the name, shares, price, and change for each stock in the portfolio.\n",
    "    \"\"\"\n",
    "    report = []\n",
    "    for stock in portfolio:\n",
    "        current_price = prices[stock['name']]\n",
    "        change = current_price - stock['price']\n",
    "        report.append((stock['name'], stock['shares'], current_price, change))\n",
    "    return report\n",
    "\n",
    "portfolio = read_portfolio('Data/portfolio.csv')\n",
    "prices = read_prices('Data/prices.csv')\n",
    "report = make_report(portfolio, prices)\n",
    "\n",
    "for r in report:\n",
    "    print(r)"
   ],
   "id": "f7e1dc8e1aaac3c7",
   "outputs": [
    {
     "name": "stdout",
     "output_type": "stream",
     "text": [
      "('AA', 100, 9.22, -22.980000000000004)\n",
      "('IBM', 50, 106.28, 15.180000000000007)\n",
      "('CAT', 150, 35.46, -47.98)\n",
      "('MSFT', 200, 20.89, -30.339999999999996)\n",
      "('GE', 95, 13.48, -26.889999999999997)\n",
      "('MSFT', 50, 20.89, -44.209999999999994)\n",
      "('IBM', 100, 106.28, 35.84)\n"
     ]
    }
   ],
   "execution_count": 89
  },
  {
   "metadata": {},
   "cell_type": "markdown",
   "source": [
    "#### **练习 2.10：打印格式化的表格**\n",
    "重做练习 2.9 中的 for 循环，但是请更改打印语句以格式化元组。"
   ],
   "id": "e694b4ae7f30639"
  },
  {
   "metadata": {
    "ExecuteTime": {
     "end_time": "2025-10-24T06:50:09.763386Z",
     "start_time": "2025-10-24T06:50:09.759826Z"
    }
   },
   "cell_type": "code",
   "source": [
    "for r in report:\n",
    "    print('%10s %10d %10.2f %10.2f' % r)"
   ],
   "id": "f04d95680989a0f3",
   "outputs": [
    {
     "name": "stdout",
     "output_type": "stream",
     "text": [
      "        AA        100       9.22     -22.98\n",
      "       IBM         50     106.28      15.18\n",
      "       CAT        150      35.46     -47.98\n",
      "      MSFT        200      20.89     -30.34\n",
      "        GE         95      13.48     -26.89\n",
      "      MSFT         50      20.89     -44.21\n",
      "       IBM        100     106.28      35.84\n"
     ]
    }
   ],
   "execution_count": 90
  },
  {
   "metadata": {},
   "cell_type": "markdown",
   "source": "也可以使用`f-strings`扩展值。例如：",
   "id": "bccd125adcf4ad31"
  },
  {
   "metadata": {
    "ExecuteTime": {
     "end_time": "2025-10-24T06:51:30.387738Z",
     "start_time": "2025-10-24T06:51:30.383739Z"
    }
   },
   "cell_type": "code",
   "source": [
    "for name,shares,price,change in report:\n",
    "    print(f'{name:>10s} {shares:>10d} {price:>10.2f} {change:>10.2f}')"
   ],
   "id": "e3e975672ac77c4",
   "outputs": [
    {
     "name": "stdout",
     "output_type": "stream",
     "text": [
      "        AA        100       9.22     -22.98\n",
      "       IBM         50     106.28      15.18\n",
      "       CAT        150      35.46     -47.98\n",
      "      MSFT        200      20.89     -30.34\n",
      "        GE         95      13.48     -26.89\n",
      "      MSFT         50      20.89     -44.21\n",
      "       IBM        100     106.28      35.84\n"
     ]
    }
   ],
   "execution_count": 91
  },
  {
   "metadata": {},
   "cell_type": "markdown",
   "source": [
    "#### **练习 2.11：添加标题**\n",
    "假定有一个像下面这样的标题名称元组：\n",
    "```\n",
    "headers = ('Name', 'Shares', 'Price', 'Change')\n",
    "```\n",
    "把上面的标题元组代码添加到程序中，并且创建一个字符串，每个标题向右对齐并且宽度是10，每个字段使用单个空格分隔。\n",
    "```\n",
    "'      Name     Shares      Price      Change'\n",
    "```\n",
    "编写在标题和数据之间创建分隔字符串的代码。分隔字符串指每个字段名下的一串下划线（\"-\"）字符。例如：\n",
    "```\n",
    "'---------- ---------- ---------- -----------'\n",
    "```\n",
    "当完成后，程序应生成本节顶部所示的表。\n",
    "```\n",
    "      Name     Shares      Price     Change\n",
    "---------- ---------- ---------- ----------\n",
    "        AA        100       9.22     -22.98\n",
    "       IBM         50     106.28      15.18\n",
    "       CAT        150      35.46     -47.98\n",
    "      MSFT        200      20.89     -30.34\n",
    "        GE         95      13.48     -26.89\n",
    "      MSFT         50      20.89     -44.21\n",
    "       IBM        100     106.28      35.84\n",
    "```"
   ],
   "id": "d042eecdf86fd95f"
  },
  {
   "metadata": {
    "ExecuteTime": {
     "end_time": "2025-10-24T06:55:01.735444Z",
     "start_time": "2025-10-24T06:55:01.730685Z"
    }
   },
   "cell_type": "code",
   "source": [
    "headers = ('Name', 'Shares', 'Price', 'Change')\n",
    "print('%10s %10s %10s %10s' % headers)\n",
    "print(('-' * 10 + ' ') * len(headers))\n",
    "for name,shares,price,change in report:\n",
    "    print(f'{name:>10s} {shares:>10d} {price:>10.2f} {change:>10.2f}')"
   ],
   "id": "74062198adf08ebd",
   "outputs": [
    {
     "name": "stdout",
     "output_type": "stream",
     "text": [
      "      Name     Shares      Price     Change\n",
      "---------- ---------- ---------- ---------- \n",
      "        AA        100       9.22     -22.98\n",
      "       IBM         50     106.28      15.18\n",
      "       CAT        150      35.46     -47.98\n",
      "      MSFT        200      20.89     -30.34\n",
      "        GE         95      13.48     -26.89\n",
      "      MSFT         50      20.89     -44.21\n",
      "       IBM        100     106.28      35.84\n"
     ]
    }
   ],
   "execution_count": 93
  },
  {
   "metadata": {},
   "cell_type": "markdown",
   "source": [
    "#### **练习 2.12：格式化挑战**\n",
    "如何修改代码使得价格包括货币符号（$），并且像下面这样输出：\n",
    "```\n",
    "      Name     Shares      Price     Change\n",
    "---------- ---------- ---------- ----------\n",
    "        AA        100      $9.22     -22.98\n",
    "       IBM         50    $106.28      15.18\n",
    "       CAT        150     $35.46     -47.98\n",
    "      MSFT        200     $20.89     -30.34\n",
    "        GE         95     $13.48     -26.89\n",
    "      MSFT         50     $20.89     -44.21\n",
    "       IBM        100    $106.28      35.84\n",
    "```"
   ],
   "id": "1c49ebe1b8bb1e1e"
  },
  {
   "metadata": {
    "ExecuteTime": {
     "end_time": "2025-10-24T07:08:27.841859Z",
     "start_time": "2025-10-24T07:08:27.837102Z"
    }
   },
   "cell_type": "code",
   "source": [
    "print('%10s %10s %10s %10s' % headers)\n",
    "print(('-' * 10 + ' ') * len(headers))\n",
    "for name,shares,price,change in report:\n",
    "    print(f'{name:>10s} {shares:>10d} {f\"${price:.2f}\":>10s} {change:>10.2f}')"
   ],
   "id": "9e51ad9a5e9f814",
   "outputs": [
    {
     "name": "stdout",
     "output_type": "stream",
     "text": [
      "      Name     Shares      Price     Change\n",
      "---------- ---------- ---------- ---------- \n",
      "        AA        100      $9.22     -22.98\n",
      "       IBM         50    $106.28      15.18\n",
      "       CAT        150     $35.46     -47.98\n",
      "      MSFT        200     $20.89     -30.34\n",
      "        GE         95     $13.48     -26.89\n",
      "      MSFT         50     $20.89     -44.21\n",
      "       IBM        100    $106.28      35.84\n"
     ]
    }
   ],
   "execution_count": 107
  },
  {
   "metadata": {},
   "cell_type": "markdown",
   "source": [
    "## 04 序列\n",
    "#### **序列数据类型**\n",
    "Python 有三种序列数据类型。\n",
    "* 字符串：如 'Hello'。字符串是字符序列\n",
    "* 列表：如 [1, 4, 5]。\n",
    "* 元组：如 ('GOOG', 100, 490.1)。\n",
    "所有的序列都是有序的，由整数进行索引，并且具有长度。\n",
    "```\n",
    "a = 'Hello'               # String\n",
    "b = [1, 4, 5]             # List\n",
    "c = ('GOOG', 100, 490.1)  # Tuple\n",
    "\n",
    "# Indexed order\n",
    "a[0]                      # 'H'\n",
    "b[-1]                     # 5\n",
    "c[1]                      # 100\n",
    "\n",
    "# Length of sequence\n",
    "len(a)                    # 5\n",
    "len(b)                    # 3\n",
    "len(c)                    # 3\n",
    "```\n",
    "序列可以通过重复操作符 * 进行重复：s * n 。\n",
    "```\n",
    ">>> a = 'Hello'\n",
    ">>> a * 3\n",
    "'HelloHelloHello'\n",
    ">>> b = [1, 2, 3]\n",
    ">>> b * 2\n",
    "[1, 2, 3, 1, 2, 3]\n",
    ">>>\n",
    "```\n",
    "相同类型的序列可以通过加号 + 进行拼接：s + t。\n",
    "```\n",
    ">>> a = (1, 2, 3)\n",
    ">>> b = (4, 5)\n",
    ">>> a + b\n",
    "(1, 2, 3, 4, 5)\n",
    ">>>\n",
    ">>> c = [1, 5]\n",
    ">>> a + c\n",
    "Traceback (most recent call last):\n",
    "  File \"<stdin>\", line 1, in <module>\n",
    "TypeError: can only concatenate tuple (not \"list\") to tuple\n",
    "```"
   ],
   "id": "818055586ee3f689"
  },
  {
   "metadata": {},
   "cell_type": "markdown",
   "source": [
    "#### **切片**\n",
    "切片是指着从序列中提取子序列。切片的语法为 s[start:end] 。 start 和 end 是想要的子序列的索引。\n",
    "```\n",
    "a = [0,1,2,3,4,5,6,7,8]\n",
    "\n",
    "a[2:5]    # [2,3,4]\n",
    "a[-5:]    # [4,5,6,7,8]\n",
    "a[:3]     # [0,1,2]\n",
    "```\n",
    "* 索引 start 和 end 必须是整数。\n",
    "* 切片不包括结尾值。这就像数学上的半开区间。\n",
    "* 如果省略索引，则它们默认为序列的开头或结尾。\n",
    "#### **切片与重新赋值**\n",
    "在列表上，切片可以被重新赋值和删除。\n",
    "```\n",
    "# Reassignment\n",
    "a = [0,1,2,3,4,5,6,7,8]\n",
    "a[2:4] = [10,11,12]       # [0,1,10,11,12,4,5,6,7,8]\n",
    "```\n",
    "注意：重新赋值的切片不需要具有相同的长度。\n",
    "```\n",
    "# Deletion\n",
    "a = [0,1,2,3,4,5,6,7,8]\n",
    "del a[2:4]                # [0,1,4,5,6,7,8]\n",
    "```"
   ],
   "id": "18d5fe8a9d67017e"
  },
  {
   "metadata": {},
   "cell_type": "markdown",
   "source": [
    "#### **序列的缩减**\n",
    "有一常见的函数用于把序列缩减为单个值。\n",
    "```\n",
    ">>> s = [1, 2, 3, 4]\n",
    ">>> sum(s)\n",
    "10\n",
    ">>> min(s)\n",
    "1\n",
    ">>> max(s)\n",
    "4\n",
    ">>> t = ['Hello', 'World']\n",
    ">>> max(t)\n",
    "'World'\n",
    ">>>\n",
    "```\n",
    "#### **迭代序列**\n",
    "可以使用 for 循环对序列中的元素进行迭代。\n",
    "```\n",
    ">>> s = [1, 4, 9, 16]\n",
    ">>> for i in s:\n",
    "...     print(i)\n",
    "...\n",
    "1\n",
    "4\n",
    "9\n",
    "16\n",
    ">>>\n",
    "```\n",
    "在循环的每次迭代中，会获取一个新的项来处理。这个新的值会被放到迭代变量中。在此示例中，迭代变量为 x：\n",
    "```\n",
    "for x in s:         # `x` is an iteration variable\n",
    "    ...statements\n",
    "```\n",
    "在每次迭代中，迭代变量的先前值会被覆盖（如果有）。循环结束后，迭代变量保留最后一个值。\n",
    "#### **break 语句**\n",
    "可以使用 break 语句提前跳出循环。\n",
    "```\n",
    "for name in namelist:\n",
    "    if name == 'Jake':\n",
    "        break\n",
    "    ...\n",
    "    ...\n",
    "statements\n",
    "```\n",
    "当` break `语句执行时，它退出循环并且进入下一个语句。break 语句仅应用于最内部的循环。如果此循环在另一个循环的内部，那么` break `不会中断外部循环。\n",
    "#### **continue 语句**\n",
    "要跳过一个元素并且进入到下一个，请使用 continue 语句。\n",
    "```\n",
    "for line in lines:\n",
    "    if line == '\\n':    # Skip blank lines\n",
    "        continue\n",
    "    # More statements\n",
    "    ...\n",
    "```\n",
    "如果当前项不重要或者是在处理时需要忽略，那么使用 continue 语句很有用。\n",
    "#### **遍历整数**\n",
    "如果需要计数，请使用 range() 函数。\n",
    "```\n",
    "for i in range(100):\n",
    "    # i = 0,1,...,99\n",
    "```\n",
    "range() 函数的语法是range([start,] end [,step])。\n",
    "```\n",
    "for i in range(100):\n",
    "    # i = 0,1,...,99\n",
    "for j in range(10,20):\n",
    "    # j = 10,11,..., 19\n",
    "for k in range(10,50,2):\n",
    "    # k = 10,12,...,48\n",
    "    # Notice how it counts in steps of 2, not 1.\n",
    "\n",
    "    不包括结尾值。这与切片类似。\n",
    "    start 是可选的 ， 默认值是 0。\n",
    "    step 是可选的，默认值是 1。\n",
    "    当需要的值时候 range()才计算值，实际上，它不存储大范围的数。\n",
    "```\n",
    "#### **enumerate() 函数**\n",
    "enumerate 函数为迭代添加一个额外的计数值。\n",
    "```\n",
    "names = ['Elwood', 'Jake', 'Curtis']\n",
    "for i, name in enumerate(names):\n",
    "    # Loops with i = 0, name = 'Elwood'\n",
    "    # i = 1, name = 'Jake'\n",
    "    # i = 2, name = 'Curtis'\n",
    "```\n",
    "一般格式为enumerate(sequence [, start = 0])，start是可选的，一个很好的使用示例：读取文件时跟踪行数。\n",
    "```\n",
    "with open(filename) as f:\n",
    "    for lineno, line in enumerate(f, start=1):\n",
    "        ...\n",
    "```\n",
    "enumerate可以看成以下语句的简写：\n",
    "```\n",
    "i = 0\n",
    "for x in s:\n",
    "    i += 1\n",
    "```\n",
    "使用 enumerate 函数可以减少输入，运行速度也稍快一些。\n",
    "#### **For 与元组**\n",
    "可以迭代多个变量：\n",
    "```\n",
    "points = [\n",
    "  (1, 4),(10, 40),(23, 14),(5, 6),(7, 8)\n",
    "]\n",
    "for x, y in points:\n",
    "    # Loops with x = 1, y = 4\n",
    "    #            x = 10, y = 40\n",
    "    #            x = 23, y = 14\n",
    "    #            ...\n",
    "```\n",
    "当使用多个变量时，每个元组被拆包为一组迭代变量。变量的数目必须与每个元组中的项数匹配。\n",
    "#### **zip() 函数**\n",
    "zip 函数采用多个序列，并且生成将它们组合在一起的迭代器。\n",
    "```\n",
    "columns = ['name', 'shares', 'price']\n",
    "values = ['GOOG', 100, 490.1 ]\n",
    "pairs = zip(columns, values)\n",
    "# ('name','GOOG'), ('shares',100), ('price',490.1)\n",
    "```\n",
    "要获得结果，必须进行迭代。可以如先前所示的那样使用多个变量对元组进行拆包。\n",
    "```\n",
    "for column, value in pairs:\n",
    "    ...\n",
    "```\n",
    "zip 函数的常见用法是创建用于构造字典的键值对。\n",
    "```\n",
    "d = dict(zip(columns, values))\n",
    "```"
   ],
   "id": "d5a3a5a0e649b002"
  },
  {
   "metadata": {},
   "cell_type": "markdown",
   "source": [
    "### 练习\n",
    "#### **练习 2.13：计数**\n",
    "尝试一些基本的计数示例："
   ],
   "id": "829dbe7719502986"
  },
  {
   "metadata": {
    "ExecuteTime": {
     "end_time": "2025-10-24T07:25:04.817793Z",
     "start_time": "2025-10-24T07:25:04.813276Z"
    }
   },
   "cell_type": "code",
   "source": [
    "for n in range(10):\n",
    "    print(n,end=' ')\n",
    "print('')\n",
    "for n in range(10,0,-1):\n",
    "    print(n,end=' ')\n",
    "print('')\n",
    "for n in range(0,10,2):\n",
    "    print(n,end=' ')"
   ],
   "id": "d5b89eabd28e292a",
   "outputs": [
    {
     "name": "stdout",
     "output_type": "stream",
     "text": [
      "0 1 2 3 4 5 6 7 8 9 \n",
      "10 9 8 7 6 5 4 3 2 1 \n",
      "0 2 4 6 8 "
     ]
    }
   ],
   "execution_count": 111
  },
  {
   "metadata": {},
   "cell_type": "markdown",
   "source": [
    "#### **练习 2.14：更多序列操作**\n",
    "交互地试验一些序列缩减操作。"
   ],
   "id": "4a2a5062944f652"
  },
  {
   "metadata": {
    "ExecuteTime": {
     "end_time": "2025-10-24T07:26:33.933094Z",
     "start_time": "2025-10-24T07:26:33.929424Z"
    }
   },
   "cell_type": "code",
   "source": [
    "data = [4, 9, 1, 25, 16, 100, 49]\n",
    "print(min(data))\n",
    "print(max(data))\n",
    "print(sum(data))"
   ],
   "id": "39f79cdc4b0cdec5",
   "outputs": [
    {
     "name": "stdout",
     "output_type": "stream",
     "text": [
      "1\n",
      "100\n",
      "204\n"
     ]
    }
   ],
   "execution_count": 114
  },
  {
   "metadata": {},
   "cell_type": "code",
   "source": [
    "# 尝试遍历数据。\n",
    "for x in data:\n",
    "    print(x)\n",
    "for i,x in enumerate(data):\n",
    "    print(i,x)"
   ],
   "id": "5130a9aab867992b",
   "outputs": [],
   "execution_count": null
  },
  {
   "metadata": {},
   "cell_type": "markdown",
   "source": [
    "有时候，`for` 语句，`len()` 和 `range()` 函数被初学者用于一些可怕的代码片段中，这些代码看起来像来自于古老的 C 程序。\n",
    "```\n",
    "for n in range(len(data)):\n",
    "        print(data[n])\n",
    "```\n",
    "不要那样做。阅读这些代码不仅辣眼睛，而且内存效率低，运行慢。如果想要迭代数据，使用普通的for 循环即可。如果碰巧因为某些原因需要使用索引，请使用 enumerate()函数。"
   ],
   "id": "a8c3de2b631175f6"
  },
  {
   "metadata": {},
   "cell_type": "markdown",
   "source": [
    "#### **练习 2.15：enumerate() 函数使用示例**\n",
    "回想一下，Data/missing.csv 文件包含一个股票投资组合的数据，但是有一些行缺少值。请使用 enumerate() 函数修改 pcost.py 程序，以便在遇到错误的输入时，打印带有警告信息的行号。"
   ],
   "id": "6abe1732eb9a4c59"
  },
  {
   "metadata": {
    "ExecuteTime": {
     "end_time": "2025-10-24T07:56:46.803059Z",
     "start_time": "2025-10-24T07:56:46.797793Z"
    }
   },
   "cell_type": "code",
   "source": [
    "def portfolio_cost(filename):\n",
    "    '''Computes the total cost (shares*price) of a portfolio file'''\n",
    "    total_cost = 0.0\n",
    "\n",
    "    with open(filename, 'rt') as f:\n",
    "        rows = csv.reader(f)\n",
    "        headers = next(rows)\n",
    "        for rowno,row in enumerate(rows,start=1):\n",
    "            try:\n",
    "                nshares = int(row[1])\n",
    "                price = float(row[2])\n",
    "                total_cost += nshares * price\n",
    "            except ValueError:\n",
    "                print(f'Row {rowno}:Bad row:{row}')\n",
    "                continue\n",
    "\n",
    "    return total_cost\n",
    "\n",
    "cost = portfolio_cost('Data/missing.csv')"
   ],
   "id": "63379c1d81ae08a5",
   "outputs": [
    {
     "name": "stdout",
     "output_type": "stream",
     "text": [
      "Row 4:Bad row:['MSFT', '', '51.23']\n",
      "Row 7:Bad row:['IBM', '', '70.44']\n"
     ]
    }
   ],
   "execution_count": 131
  },
  {
   "metadata": {},
   "cell_type": "markdown",
   "source": [
    "#### **练习 2.16：使用 zip() 函数**\n",
    "在 Data/portfolio.csv 文件中，第一行包含列标题。在之前所有代码中，我们把它丢弃了。"
   ],
   "id": "5e69ba4f5b366d1"
  },
  {
   "metadata": {
    "ExecuteTime": {
     "end_time": "2025-10-24T07:41:51.910610Z",
     "start_time": "2025-10-24T07:41:51.906045Z"
    }
   },
   "cell_type": "code",
   "source": [
    "f = open('Data/portfolio.csv')\n",
    "rows = csv.reader(f)\n",
    "headers = next(rows)\n",
    "headers"
   ],
   "id": "8393a4ac6e87e252",
   "outputs": [
    {
     "data": {
      "text/plain": [
       "['name', 'shares', 'price']"
      ]
     },
     "execution_count": 122,
     "metadata": {},
     "output_type": "execute_result"
    }
   ],
   "execution_count": 122
  },
  {
   "metadata": {},
   "cell_type": "markdown",
   "source": "但是，如果标题要用于其它有用的事情呢？这就涉及到 `zip()` 函数了。首先，尝试把文件标题和数据行配对。",
   "id": "e105ba0569b30f4a"
  },
  {
   "metadata": {
    "ExecuteTime": {
     "end_time": "2025-10-24T07:42:59.180698Z",
     "start_time": "2025-10-24T07:42:59.175938Z"
    }
   },
   "cell_type": "code",
   "source": [
    "row = next(rows)\n",
    "row\n",
    "list(zip(headers, row))"
   ],
   "id": "a9abb938892497ca",
   "outputs": [
    {
     "data": {
      "text/plain": [
       "[('name', 'IBM'), ('shares', '50'), ('price', '91.10')]"
      ]
     },
     "execution_count": 124,
     "metadata": {},
     "output_type": "execute_result"
    }
   ],
   "execution_count": 124
  },
  {
   "metadata": {},
   "cell_type": "markdown",
   "source": [
    "请注意 `zip() `函数是如何把列标题与列值配对。在这里，我们使用` list() `函数把结果转换为列表，以便查看。通常，`zip() `函数创建一个必须由 `for `循环使用的迭代器。\n",
    "这种配对是构建字典的中间步骤。现在尝试："
   ],
   "id": "f4ad666e2c9d2082"
  },
  {
   "metadata": {
    "ExecuteTime": {
     "end_time": "2025-10-24T07:44:07.961965Z",
     "start_time": "2025-10-24T07:44:07.957503Z"
    }
   },
   "cell_type": "code",
   "source": [
    "record = dict(zip(headers, row))\n",
    "record"
   ],
   "id": "6bc3bcb04256fae6",
   "outputs": [
    {
     "data": {
      "text/plain": [
       "{'name': 'IBM', 'shares': '50', 'price': '91.10'}"
      ]
     },
     "execution_count": 125,
     "metadata": {},
     "output_type": "execute_result"
    }
   ],
   "execution_count": 125
  },
  {
   "metadata": {},
   "cell_type": "markdown",
   "source": [
    "在处理大量数据文件时，这种转换是最有用的技巧之一。例如，假设需要使 `pcost.py` 程序处理各种输入文件，但是不考虑名称，份额，价格所在列的编号。\n",
    "修改 `pcost.py` 程序中的 `portfolio_cost()`，使其看起来像这样："
   ],
   "id": "d285766cb302d12a"
  },
  {
   "metadata": {
    "ExecuteTime": {
     "end_time": "2025-10-24T08:09:28.887147Z",
     "start_time": "2025-10-24T08:09:28.881451Z"
    }
   },
   "cell_type": "code",
   "source": [
    "def portfolio_cost(filename):\n",
    "    '''Computes the total cost (shares*price) of a portfolio file'''\n",
    "    total_cost = 0.0\n",
    "\n",
    "    with open(filename, 'rt') as f:\n",
    "        rows = csv.reader(f)\n",
    "        headers = next(rows)\n",
    "        for rowno,row in enumerate(rows,start=1):\n",
    "            protfolio = dict(zip(headers, row))\n",
    "            try:\n",
    "                nshares = int(protfolio['shares'])\n",
    "                price = float(protfolio['price'])\n",
    "                total_cost += nshares * price\n",
    "            except ValueError:\n",
    "                print(f'Row {rowno}:Bad row:{row}')\n",
    "                continue\n",
    "\n",
    "    return total_cost\n",
    "portfolio_cost('Data/portfoliodate.csv')"
   ],
   "id": "17a887616fe3f0eb",
   "outputs": [
    {
     "data": {
      "text/plain": [
       "44671.15"
      ]
     },
     "execution_count": 139,
     "metadata": {},
     "output_type": "execute_result"
    }
   ],
   "execution_count": 139
  },
  {
   "metadata": {},
   "cell_type": "markdown",
   "source": "现在，在一个完全不同的数据文件 `Data/portfoliodate.csv`（如下所示）上尝试 `portfolio_cost()` 函数。",
   "id": "60d8437bf8736214"
  },
  {
   "metadata": {
    "ExecuteTime": {
     "end_time": "2025-10-24T08:04:19.466001Z",
     "start_time": "2025-10-24T08:04:19.460954Z"
    }
   },
   "cell_type": "code",
   "source": "portfolio_cost('Data/portfoliodate.csv')",
   "id": "e46df5b7cb42809c",
   "outputs": [
    {
     "data": {
      "text/plain": [
       "44671.15"
      ]
     },
     "execution_count": 135,
     "metadata": {},
     "output_type": "execute_result"
    }
   ],
   "execution_count": 135
  },
  {
   "metadata": {},
   "cell_type": "markdown",
   "source": [
    "#### **练习 2.17：翻转字典**\n",
    "字典将键映射到值。例如，股票价格字典。"
   ],
   "id": "d4654f01a439af02"
  },
  {
   "metadata": {
    "ExecuteTime": {
     "end_time": "2025-10-24T08:18:26.804514Z",
     "start_time": "2025-10-24T08:18:26.799990Z"
    }
   },
   "cell_type": "code",
   "source": [
    "prices = {\n",
    "  'GOOG': 490.1,\n",
    "  'AA': 23.45,\n",
    "  'IBM': 91.1,\n",
    "  'MSFT': 34.23\n",
    "}"
   ],
   "id": "6ce58c7d9a78b016",
   "outputs": [],
   "execution_count": 145
  },
  {
   "metadata": {},
   "cell_type": "markdown",
   "source": "如果使用字典的 items() 方法，那么可以获取到键值对 (key,value)：",
   "id": "a1d7935135586b11"
  },
  {
   "metadata": {
    "ExecuteTime": {
     "end_time": "2025-10-24T08:18:29.770002Z",
     "start_time": "2025-10-24T08:18:29.765662Z"
    }
   },
   "cell_type": "code",
   "source": "prices.items ()",
   "id": "2d09f2ab4c3cf58c",
   "outputs": [
    {
     "data": {
      "text/plain": [
       "dict_items([('GOOG', 490.1), ('AA', 23.45), ('IBM', 91.1), ('MSFT', 34.23)])"
      ]
     },
     "execution_count": 146,
     "metadata": {},
     "output_type": "execute_result"
    }
   ],
   "execution_count": 146
  },
  {
   "metadata": {},
   "cell_type": "markdown",
   "source": [
    "但是，如果想要获取 (value, key) 键值对列表呢？\n",
    "提示：使用 zip()函数。"
   ],
   "id": "20e648b37845a49d"
  },
  {
   "metadata": {
    "ExecuteTime": {
     "end_time": "2025-10-24T08:18:33.231134Z",
     "start_time": "2025-10-24T08:18:33.226667Z"
    }
   },
   "cell_type": "code",
   "source": [
    "pricelist = list(zip(prices.values(), prices.keys()))\n",
    "pricelist"
   ],
   "id": "ed04ba1451d71a3c",
   "outputs": [
    {
     "data": {
      "text/plain": [
       "[(490.1, 'GOOG'), (23.45, 'AA'), (91.1, 'IBM'), (34.23, 'MSFT')]"
      ]
     },
     "execution_count": 147,
     "metadata": {},
     "output_type": "execute_result"
    }
   ],
   "execution_count": 147
  },
  {
   "metadata": {},
   "cell_type": "markdown",
   "source": "为什么这样操作？首先，这允许对字典数据执行确切类型的数据处理。",
   "id": "44d86bc2328ef70f"
  },
  {
   "metadata": {
    "ExecuteTime": {
     "end_time": "2025-10-24T08:18:47.452398Z",
     "start_time": "2025-10-24T08:18:47.448066Z"
    }
   },
   "cell_type": "code",
   "source": [
    "min(pricelist)\n",
    "max(pricelist)\n",
    "sorted(pricelist)"
   ],
   "id": "ccac2b9e33f2790f",
   "outputs": [
    {
     "data": {
      "text/plain": [
       "[(23.45, 'AA'), (34.23, 'MSFT'), (91.1, 'IBM'), (490.1, 'GOOG')]"
      ]
     },
     "execution_count": 149,
     "metadata": {},
     "output_type": "execute_result"
    }
   ],
   "execution_count": 149
  },
  {
   "metadata": {},
   "cell_type": "markdown",
   "source": [
    "其次，这也说明了元组的一个重要特征，当在比较中使用元组时，从第一项开始，逐元素进行比较，类似于字符串中字符与字符逐个比较。\n",
    "\n",
    "zip() 函数经常应用于需要从不同的地方把数据进行配对。例如，为了使用已命名的值构建字典，将列名和列值进行配对。\n",
    "\n",
    "请注意，zip() 函数不限于一对。例如，可以使用任意数量的列表作为输入。"
   ],
   "id": "ea63e657cc1ca3cd"
  },
  {
   "metadata": {
    "ExecuteTime": {
     "end_time": "2025-10-24T08:21:32.292029Z",
     "start_time": "2025-10-24T08:21:32.287462Z"
    }
   },
   "cell_type": "code",
   "source": [
    "a=[1,2,3,4]\n",
    "b = ['w','x', 'y', 'z']\n",
    "c = [0.2, 0.4, 0.6, 0.8]\n",
    "list(zip(a,b,c))\n"
   ],
   "id": "7eb791734e075efb",
   "outputs": [
    {
     "data": {
      "text/plain": [
       "[(1, 'w', 0.2), (2, 'x', 0.4), (3, 'y', 0.6), (4, 'z', 0.8)]"
      ]
     },
     "execution_count": 150,
     "metadata": {},
     "output_type": "execute_result"
    }
   ],
   "execution_count": 150
  },
  {
   "metadata": {},
   "cell_type": "markdown",
   "source": "另外，请注意，一旦最短的输入序列耗尽，zip() 函数将会停止。",
   "id": "eeebbb5d9499abed"
  },
  {
   "metadata": {
    "ExecuteTime": {
     "end_time": "2025-10-24T08:22:37.796838Z",
     "start_time": "2025-10-24T08:22:37.792123Z"
    }
   },
   "cell_type": "code",
   "source": [
    "a = [1,2,3,4,5,6]\n",
    "b = ['x', 'y', 'z']\n",
    "list(zip(a,b))"
   ],
   "id": "7a6d63a7477eb1b6",
   "outputs": [
    {
     "data": {
      "text/plain": [
       "[(1, 'x'), (2, 'y'), (3, 'z')]"
      ]
     },
     "execution_count": 151,
     "metadata": {},
     "output_type": "execute_result"
    }
   ],
   "execution_count": 151
  },
  {
   "metadata": {},
   "cell_type": "markdown",
   "source": [
    "## 05 collections 模块\n",
    "`collections` 模块为数据处理提供了许多有用的对象。本部分简要介绍其中的一些特性。\n",
    "#### **示例：事物计数**\n",
    "假设要把每只股票的总份额表格化。"
   ],
   "id": "6e47e0d13227262d"
  },
  {
   "metadata": {
    "ExecuteTime": {
     "end_time": "2025-10-24T08:24:46.815132Z",
     "start_time": "2025-10-24T08:24:46.811849Z"
    }
   },
   "cell_type": "code",
   "source": [
    "portfolio = [\n",
    "    ('GOOG', 100, 490.1),\n",
    "    ('IBM', 50, 91.1),\n",
    "    ('CAT', 150, 83.44),\n",
    "    ('IBM', 100, 45.23),\n",
    "    ('GOOG', 75, 572.45),\n",
    "    ('AA', 50, 23.15)\n",
    "]"
   ],
   "id": "fd7db983d73be5f3",
   "outputs": [],
   "execution_count": 152
  },
  {
   "metadata": {},
   "cell_type": "markdown",
   "source": [
    "此表中有两个 IBM 条目，两个 GOOG 条目，它们应该以某种方式合并到一起。\n",
    "#### **计数**\n",
    "解决方案：使用 Counter 模块。"
   ],
   "id": "4058a2f5fd27ac04"
  },
  {
   "metadata": {
    "ExecuteTime": {
     "end_time": "2025-10-24T08:27:23.994052Z",
     "start_time": "2025-10-24T08:27:23.989606Z"
    }
   },
   "cell_type": "code",
   "source": [
    "from collections import Counter\n",
    "total_shares = Counter()\n",
    "for name, shares, price in portfolio:\n",
    "    total_shares[name] += shares\n",
    "total_shares['GOOG']"
   ],
   "id": "59bc44cf9d943ac",
   "outputs": [
    {
     "data": {
      "text/plain": [
       "175"
      ]
     },
     "execution_count": 154,
     "metadata": {},
     "output_type": "execute_result"
    }
   ],
   "execution_count": 154
  },
  {
   "metadata": {},
   "cell_type": "markdown",
   "source": [
    "#### **示例：一对多映射**\n",
    "问题：把一个键映射到多个值。"
   ],
   "id": "d704f111bb423742"
  },
  {
   "metadata": {},
   "cell_type": "code",
   "outputs": [],
   "execution_count": null,
   "source": [
    "portfolio = [\n",
    "    ('GOOG', 100, 490.1),\n",
    "    ('IBM', 50, 91.1),\n",
    "    ('CAT', 150, 83.44),\n",
    "    ('IBM', 100, 45.23),\n",
    "    ('GOOG', 75, 572.45),\n",
    "    ('AA', 50, 23.15)\n",
    "]"
   ],
   "id": "af0695041883e036"
  },
  {
   "metadata": {},
   "cell_type": "markdown",
   "source": [
    "像之前的示例那样，键 IBM 应具有两个不同的元组。\n",
    "解决方案：使用 defaultdict 模块。"
   ],
   "id": "3b0111e2c32dbf10"
  },
  {
   "metadata": {
    "ExecuteTime": {
     "end_time": "2025-10-24T08:30:59.417596Z",
     "start_time": "2025-10-24T08:30:59.412762Z"
    }
   },
   "cell_type": "code",
   "source": [
    "from collections import defaultdict\n",
    "holdings = defaultdict(list)\n",
    "for name, shares, price in portfolio:\n",
    "    holdings[name].append((shares, price))\n",
    "holdings['IBM']"
   ],
   "id": "ebe12ab2da1ed25c",
   "outputs": [
    {
     "name": "stdout",
     "output_type": "stream",
     "text": [
      "defaultdict(<class 'list'>, {})\n"
     ]
    },
    {
     "data": {
      "text/plain": [
       "[(50, 91.1), (100, 45.23)]"
      ]
     },
     "execution_count": 156,
     "metadata": {},
     "output_type": "execute_result"
    }
   ],
   "execution_count": 156
  },
  {
   "metadata": {},
   "cell_type": "markdown",
   "source": [
    "defaultdict模块确保每次访问键的时候获取到一个默认值。\n",
    "#### **示例：保留历史记录**\n",
    "问题：我们需要最近 N 件事的历史。\n",
    "\n",
    "解决方案：使用 deque 模块。\n",
    "```\n",
    "from collections import deque\n",
    "history = deque(maxlen=N)\n",
    "with open(filename, 'rt') as f:\n",
    "    for line in f:\n",
    "        fields = line.split(',')\n",
    "        timestamp, event = fields[0], fields[1:]\n",
    "        history.append((timestamp, event))\n",
    "```"
   ],
   "id": "409b1b5b92f23c8f"
  },
  {
   "metadata": {},
   "cell_type": "markdown",
   "source": [
    "### 练习\n",
    "`collections` 可能是最有用的库模块之一，用于解决特殊用途的数据处理问题，例如表格化或者索引化。\n",
    "\n",
    "在本练习中，我们来看几个简单的例子。首先运行report.py ，以便在交互模式下能够加载股票投资组合。\n",
    "#### **练习 2.18：使用 Counter 模块表格化**\n",
    "假设需要将每支股票的份额总数表格化，那么使用 Counter 对象会很容易。试试看："
   ],
   "id": "bb85af882855894d"
  },
  {
   "metadata": {
    "ExecuteTime": {
     "end_time": "2025-10-24T09:21:56.969046Z",
     "start_time": "2025-10-24T09:21:56.964136Z"
    }
   },
   "cell_type": "code",
   "source": [
    "import report\n",
    "portfolio = report.read_portfolio('Data/portfolio.csv')\n",
    "from collections import Counter\n",
    "holdings = Counter()\n",
    "for s in portfolio:\n",
    "    holdings[s['name']] += s['shares']\n",
    "holdings"
   ],
   "id": "2cf8b5c7cfdaeeb2",
   "outputs": [
    {
     "data": {
      "text/plain": [
       "Counter({'MSFT': 250, 'IBM': 150, 'CAT': 150, 'AA': 100, 'GE': 95})"
      ]
     },
     "execution_count": 163,
     "metadata": {},
     "output_type": "execute_result"
    }
   ],
   "execution_count": 163
  },
  {
   "metadata": {},
   "cell_type": "markdown",
   "source": [
    "仔细观察portfolio 中的 MSFT 和 IBM 的多个条目是如何合并的。\n",
    "\n",
    "可以像字典一样使用 Counter 模块检索单个值。"
   ],
   "id": "ac33cb48ccbcc315"
  },
  {
   "metadata": {
    "ExecuteTime": {
     "end_time": "2025-10-24T09:24:01.336705Z",
     "start_time": "2025-10-24T09:24:01.332959Z"
    }
   },
   "cell_type": "code",
   "source": [
    "holdings['IBM']\n",
    "holdings['MSFT']"
   ],
   "id": "fdbcc25e19b5ea76",
   "outputs": [
    {
     "data": {
      "text/plain": [
       "250"
      ]
     },
     "execution_count": 165,
     "metadata": {},
     "output_type": "execute_result"
    }
   ],
   "execution_count": 165
  },
  {
   "metadata": {},
   "cell_type": "markdown",
   "source": "如果想要对值排名，这样做：",
   "id": "9427461989fc45cc"
  },
  {
   "metadata": {
    "ExecuteTime": {
     "end_time": "2025-10-24T09:25:48.560448Z",
     "start_time": "2025-10-24T09:25:48.556450Z"
    }
   },
   "cell_type": "code",
   "source": "holdings.most_common(3)",
   "id": "a1095c27525f200d",
   "outputs": [
    {
     "data": {
      "text/plain": [
       "[('MSFT', 250), ('IBM', 150), ('CAT', 150)]"
      ]
     },
     "execution_count": 169,
     "metadata": {},
     "output_type": "execute_result"
    }
   ],
   "execution_count": 169
  },
  {
   "metadata": {},
   "cell_type": "markdown",
   "source": "让我们获取另一个股票投资组合并生成一个新的 Counter 对象：",
   "id": "4f46d13780241171"
  },
  {
   "metadata": {
    "ExecuteTime": {
     "end_time": "2025-10-24T09:28:05.680659Z",
     "start_time": "2025-10-24T09:28:05.675297Z"
    }
   },
   "cell_type": "code",
   "source": [
    "portfolio2 = report.read_portfolio('Data/portfolio2.csv')\n",
    "holdings2 = Counter()\n",
    "for s in portfolio2:\n",
    "    holdings2[s['name']] += s['shares']\n",
    "holdings2"
   ],
   "id": "d59ef647672142f",
   "outputs": [
    {
     "data": {
      "text/plain": [
       "Counter({'HPQ': 250, 'GE': 125, 'AA': 50, 'MSFT': 25})"
      ]
     },
     "execution_count": 170,
     "metadata": {},
     "output_type": "execute_result"
    }
   ],
   "execution_count": 170
  },
  {
   "metadata": {},
   "cell_type": "markdown",
   "source": "最后，通过一个简单的操作把所有的 holdings 变量合并。",
   "id": "e4943450ed01b9fb"
  },
  {
   "metadata": {
    "ExecuteTime": {
     "end_time": "2025-10-24T09:29:17.992093Z",
     "start_time": "2025-10-24T09:29:17.988021Z"
    }
   },
   "cell_type": "code",
   "source": [
    "holdings\n",
    "holdings2\n",
    "combined = holdings + holdings2\n",
    "combined"
   ],
   "id": "e8c7a0068df467d0",
   "outputs": [
    {
     "data": {
      "text/plain": [
       "Counter({'MSFT': 275,\n",
       "         'HPQ': 250,\n",
       "         'GE': 220,\n",
       "         'AA': 150,\n",
       "         'IBM': 150,\n",
       "         'CAT': 150})"
      ]
     },
     "execution_count": 173,
     "metadata": {},
     "output_type": "execute_result"
    }
   ],
   "execution_count": 173
  },
  {
   "metadata": {},
   "cell_type": "markdown",
   "source": [
    "这只是对 Counter 功能的一个小尝试，如果发现需要对值进行表格化，那么就应该考虑使用它。\n",
    "#### **说明：collections 模块**\n",
    "\n",
    "[collections 模块](https://docs.python.org/zh-cn/3.12/library/collections.html)是 Python 所有库中最有用的库模块之一。实际上，我们可以为此做一个拓展教程，但是，现在这样做会分散注意力。从现在开始，把collections列为您的睡前读物，以备后用。"
   ],
   "id": "6dd10bd60a604a9a"
  },
  {
   "metadata": {},
   "cell_type": "markdown",
   "source": [
    "## 06 列表推导式\n",
    "一个常见的任务是处理列表中的项（译注：元素）。本节介绍列表推导式，完成此任务的强大工具。\n",
    "#### **创建新列表**\n",
    "列表推导式通过将操作应用于序列的每一个元素来创建新列表。\n",
    "```\n",
    ">>> a = [1, 2, 3, 4, 5]\n",
    ">>> b = [2*x for x in a ]\n",
    ">>> b\n",
    "[2, 4, 6, 8, 10]\n",
    ">>>\n",
    "```\n",
    "再如:\n",
    "```\n",
    ">>> names = ['Elwood', 'Jake']\n",
    ">>> a = [name.lower() for name in names]\n",
    ">>> a\n",
    "['elwood', 'jake']\n",
    ">>>\n",
    "```\n",
    "列表推导式的一般语法是：[ <expression> for <variable_name> in <sequence> ]。\n",
    "#### **过滤**\n",
    "\n",
    "也可以在列表推导式中对元素进行过滤。\n",
    "```\n",
    ">>> a = [1, -5, 4, 2, -2, 10]\n",
    ">>> b = [2*x for x in a if x > 0 ]\n",
    ">>> b\n",
    "[2, 8, 4, 20]\n",
    "```\n",
    "#### **用例**\n",
    "列表推导式超级有用。例如，可以收集特定字典字段的值：\n",
    "```\n",
    "stocknames = [s['name'] for s in stocks]\n",
    "```\n",
    "在序列上执行类数据库查询：\n",
    "```\n",
    "a = [s for s in stocks if s['price'] > 100 and s['shares'] > 50 ]\n",
    "```\n",
    "也可以把列表推导式与序列缩减合并在一起：\n",
    "```\n",
    "cost = sum([s['shares']*s['price'] for s in stocks])\n",
    "```\n",
    "#### **一般语法**\n",
    "```\n",
    "[ <expression> for <variable_name> in <sequence> if <condition>]\n",
    "```\n",
    "上面语法的含义：\n",
    "```\n",
    "result = []\n",
    "for variable_name in sequence:\n",
    "    if condition:\n",
    "        result.append(expression)\n",
    "```\n",
    "#### **历史题外话**\n",
    "列表推导式来自于数学（集合构建符号）。\n",
    "```\n",
    "a = [ x * x for x in s if x > 0 ] # Python\n",
    "\n",
    "a = { x^2 | x ∈ s, x > 0 }         # Math\n",
    "```\n",
    "这在其它几种语言中也实现了，虽然大部分的程序员可能已经想不起他们的数学课了。所以，可以将其视为很酷的列表快捷方式。"
   ],
   "id": "abc24fbf88caf0d9"
  },
  {
   "metadata": {},
   "cell_type": "markdown",
   "source": [
    "#### **练习**\n",
    "首先运行 report.py 程序，以便能够在交互模式下中加载股票投资组合。\n",
    "```\n",
    "bash % python3 -i Playground/02_处理数据/report.py\n",
    "```\n",
    "现在，在 Python 交互提示符下，输入语句以执行下述操作。这些操作对投资组合数据执行各类缩减，转换和查找。\n",
    "#### **练习 2.19：列表推导式**\n",
    "尝试一些简单的列表推导式来熟悉语法："
   ],
   "id": "a5f583735118fef6"
  },
  {
   "metadata": {},
   "cell_type": "code",
   "source": [
    "nums = [1, 2, 3, 4]\n",
    "squares = [x*x for x in nums]\n",
    "squares\n",
    "twice = [x*2 for x in nums if x > 2]\n",
    "twice"
   ],
   "id": "74ce56db2e8c5183",
   "outputs": [],
   "execution_count": null
  },
  {
   "metadata": {},
   "cell_type": "markdown",
   "source": [
    "请注意列表推导式是如何通过适当转换或过滤的数据创建一个新列表的。\n",
    "#### **练习 2.20：序列缩减**\n",
    "使用单个 Python 语句计算投资组合的总价。"
   ],
   "id": "c48761aaa3b9075"
  },
  {
   "metadata": {
    "ExecuteTime": {
     "end_time": "2025-10-24T09:57:49.000765Z",
     "start_time": "2025-10-24T09:57:48.996454Z"
    }
   },
   "cell_type": "code",
   "source": [
    "portfolio = report.read_portfolio('Data/portfolio.csv')\n",
    "portfolio\n",
    "cost = sum([s['shares']*s['price'] for s in portfolio])\n",
    "cost"
   ],
   "id": "c41c08f34dc3b18",
   "outputs": [
    {
     "data": {
      "text/plain": [
       "44671.15"
      ]
     },
     "execution_count": 178,
     "metadata": {},
     "output_type": "execute_result"
    }
   ],
   "execution_count": 178
  },
  {
   "metadata": {},
   "cell_type": "markdown",
   "source": "完成后，展示如何使用单个语句计算投资组合的当前值",
   "id": "b2b5d08873fc0e66"
  },
  {
   "metadata": {
    "ExecuteTime": {
     "end_time": "2025-10-24T10:06:06.966924Z",
     "start_time": "2025-10-24T10:06:06.961532Z"
    }
   },
   "cell_type": "code",
   "source": [
    "prices = read_prices('Data/prices.csv')\n",
    "value = sum([s['shares']*prices[s['name']] for s in portfolio])\n",
    "value"
   ],
   "id": "e0a67d9c471c073",
   "outputs": [
    {
     "data": {
      "text/plain": [
       "28686.1"
      ]
     },
     "execution_count": 184,
     "metadata": {},
     "output_type": "execute_result"
    }
   ],
   "execution_count": 184
  },
  {
   "metadata": {},
   "cell_type": "markdown",
   "source": "上面的两个操作都是映射缩减的列子。列表推导式将操作映射到整个列表。",
   "id": "2e0f8f8270de2f82"
  },
  {
   "metadata": {
    "ExecuteTime": {
     "end_time": "2025-10-24T10:28:13.022770Z",
     "start_time": "2025-10-24T10:28:13.018475Z"
    }
   },
   "cell_type": "code",
   "source": "[ s['shares'] * s['price'] for s in portfolio ]",
   "id": "8b1455924a97bcd2",
   "outputs": [
    {
     "data": {
      "text/plain": [
       "[3220.0000000000005,\n",
       " 4555.0,\n",
       " 12516.0,\n",
       " 10246.0,\n",
       " 3835.1499999999996,\n",
       " 3254.9999999999995,\n",
       " 7044.0]"
      ]
     },
     "execution_count": 187,
     "metadata": {},
     "output_type": "execute_result"
    }
   ],
   "execution_count": 187
  },
  {
   "metadata": {},
   "cell_type": "markdown",
   "source": "然后，`sum()`函数对所有结果进行缩减。",
   "id": "534731ba55616afc"
  },
  {
   "metadata": {
    "ExecuteTime": {
     "end_time": "2025-10-24T10:28:03.340123Z",
     "start_time": "2025-10-24T10:28:03.336186Z"
    }
   },
   "cell_type": "code",
   "source": "sum(_)",
   "id": "fd5b0ce5f76d41f7",
   "outputs": [
    {
     "data": {
      "text/plain": [
       "44671.15"
      ]
     },
     "execution_count": 186,
     "metadata": {},
     "output_type": "execute_result"
    }
   ],
   "execution_count": 186
  },
  {
   "metadata": {},
   "cell_type": "markdown",
   "source": [
    "有了这些知识，你现在就可以准备成立一家大数据创业公司了。\n",
    "#### **练习 2.21：数据查询**\n",
    "请尝试以下各种数据查询示例。\n",
    "首先是创建一个列表，存储持有100股以上的股票投资组合。"
   ],
   "id": "30b51b2e0cae446c"
  },
  {
   "metadata": {
    "ExecuteTime": {
     "end_time": "2025-10-24T10:31:19.436147Z",
     "start_time": "2025-10-24T10:31:19.431471Z"
    }
   },
   "cell_type": "code",
   "source": [
    "more100 = [s for s in portfolio if s['shares'] > 100]\n",
    "more100"
   ],
   "id": "4924c11ab8920872",
   "outputs": [
    {
     "data": {
      "text/plain": [
       "[{'name': 'CAT', 'shares': 150, 'price': 83.44},\n",
       " {'name': 'MSFT', 'shares': 200, 'price': 51.23}]"
      ]
     },
     "execution_count": 188,
     "metadata": {},
     "output_type": "execute_result"
    }
   ],
   "execution_count": 188
  },
  {
   "metadata": {},
   "cell_type": "markdown",
   "source": "持有MSFT和IBM股票的所有投资组合",
   "id": "7249ae7397ccd384"
  },
  {
   "metadata": {
    "ExecuteTime": {
     "end_time": "2025-10-24T10:32:27.415003Z",
     "start_time": "2025-10-24T10:32:27.410139Z"
    }
   },
   "cell_type": "code",
   "source": [
    "msftibm = [s for s in portfolio if s['name'] in ('MSFT', 'IBM')]\n",
    "msftibm"
   ],
   "id": "7bd3cf9cf0269d38",
   "outputs": [
    {
     "data": {
      "text/plain": [
       "[{'name': 'IBM', 'shares': 50, 'price': 91.1},\n",
       " {'name': 'MSFT', 'shares': 200, 'price': 51.23},\n",
       " {'name': 'MSFT', 'shares': 50, 'price': 65.1},\n",
       " {'name': 'IBM', 'shares': 100, 'price': 70.44}]"
      ]
     },
     "execution_count": 189,
     "metadata": {},
     "output_type": "execute_result"
    }
   ],
   "execution_count": 189
  },
  {
   "metadata": {},
   "cell_type": "markdown",
   "source": "持有总价超过$10000的所有股票投资组合。",
   "id": "5298ef3c15bf72da"
  },
  {
   "metadata": {
    "ExecuteTime": {
     "end_time": "2025-10-24T10:34:01.089096Z",
     "start_time": "2025-10-24T10:34:01.084782Z"
    }
   },
   "cell_type": "code",
   "source": [
    "cost10k = [s for s in portfolio if s['shares']*s['price'] > 10000]\n",
    "cost10k"
   ],
   "id": "67e4f61d85ec111d",
   "outputs": [
    {
     "data": {
      "text/plain": [
       "[{'name': 'CAT', 'shares': 150, 'price': 83.44},\n",
       " {'name': 'MSFT', 'shares': 200, 'price': 51.23}]"
      ]
     },
     "execution_count": 190,
     "metadata": {},
     "output_type": "execute_result"
    }
   ],
   "execution_count": 190
  },
  {
   "metadata": {},
   "cell_type": "markdown",
   "source": [
    "#### **练习 2.22：数据提取**\n",
    "展示如何构建元组`(name,shares)`列表，名称（`name`）和股数（`shares`）从股票投资组合（`portfolio`）中提取："
   ],
   "id": "7181cdf025ef25d0"
  },
  {
   "metadata": {
    "ExecuteTime": {
     "end_time": "2025-10-24T10:45:50.366367Z",
     "start_time": "2025-10-24T10:45:50.362011Z"
    }
   },
   "cell_type": "code",
   "source": [
    "name_shares = [(s['name'], s['shares']) for s in portfolio]\n",
    "name_shares"
   ],
   "id": "a1b2e14bf1c2ba69",
   "outputs": [
    {
     "data": {
      "text/plain": [
       "[('AA', 100),\n",
       " ('IBM', 50),\n",
       " ('CAT', 150),\n",
       " ('MSFT', 200),\n",
       " ('GE', 95),\n",
       " ('MSFT', 50),\n",
       " ('IBM', 100)]"
      ]
     },
     "execution_count": 196,
     "metadata": {},
     "output_type": "execute_result"
    }
   ],
   "execution_count": 196
  },
  {
   "metadata": {},
   "cell_type": "markdown",
   "source": [
    "如果将方括号([,])更改为花括号({,})，那么将得到推导式。这会得到独一无二的或无重复的值。\n",
    "\n",
    "例如，这将确定集合中的股票名称是独一无二的："
   ],
   "id": "49469a11ffd1a79a"
  },
  {
   "metadata": {
    "ExecuteTime": {
     "end_time": "2025-10-24T10:45:54.776867Z",
     "start_time": "2025-10-24T10:45:54.772549Z"
    }
   },
   "cell_type": "code",
   "source": [
    "names = {s['name'] for s in portfolio}\n",
    "names"
   ],
   "id": "d593d5e0b4a0b203",
   "outputs": [
    {
     "data": {
      "text/plain": [
       "{'AA', 'CAT', 'GE', 'IBM', 'MSFT'}"
      ]
     },
     "execution_count": 197,
     "metadata": {},
     "output_type": "execute_result"
    }
   ],
   "execution_count": 197
  },
  {
   "metadata": {},
   "cell_type": "markdown",
   "source": "如果指定键值对（key:value），则可以构建一个字典。例如，构建一个将股票名称映射到持有的股票数量的字典：",
   "id": "2bb1190c4297a3e4"
  },
  {
   "metadata": {
    "ExecuteTime": {
     "end_time": "2025-10-24T10:45:57.848147Z",
     "start_time": "2025-10-24T10:45:57.843284Z"
    }
   },
   "cell_type": "code",
   "source": [
    "holdings = { name: 0 for name in names}\n",
    "holdings"
   ],
   "id": "f7847cc16d92694a",
   "outputs": [
    {
     "data": {
      "text/plain": [
       "{'MSFT': 0, 'AA': 0, 'IBM': 0, 'CAT': 0, 'GE': 0}"
      ]
     },
     "execution_count": 198,
     "metadata": {},
     "output_type": "execute_result"
    }
   ],
   "execution_count": 198
  },
  {
   "metadata": {},
   "cell_type": "markdown",
   "source": "后面的特性就是总所周知的字典推导式。让我们将其表格化：",
   "id": "938eefafe7aef6c9"
  },
  {
   "metadata": {
    "ExecuteTime": {
     "end_time": "2025-10-24T10:46:01.566564Z",
     "start_time": "2025-10-24T10:46:01.562298Z"
    }
   },
   "cell_type": "code",
   "source": [
    "for s in portfolio:\n",
    "    holdings[s['name']] += s['shares']\n",
    "holdings"
   ],
   "id": "578086eca0836aba",
   "outputs": [
    {
     "data": {
      "text/plain": [
       "{'MSFT': 250, 'AA': 100, 'IBM': 150, 'CAT': 150, 'GE': 95}"
      ]
     },
     "execution_count": 199,
     "metadata": {},
     "output_type": "execute_result"
    }
   ],
   "execution_count": 199
  },
  {
   "metadata": {},
   "cell_type": "markdown",
   "source": "请尝试以下示例，该示例将 prices 字典过滤出仅在 portfolio 中出现的名称（name）：",
   "id": "e0fa45065d2b7b47"
  },
  {
   "metadata": {
    "ExecuteTime": {
     "end_time": "2025-10-24T10:47:26.256019Z",
     "start_time": "2025-10-24T10:47:26.252043Z"
    }
   },
   "cell_type": "code",
   "source": [
    "portfolio_prices = { name: prices[name] for name in names}\n",
    "portfolio_prices"
   ],
   "id": "a27490196ee73e86",
   "outputs": [
    {
     "data": {
      "text/plain": [
       "{'MSFT': 20.89, 'AA': 9.22, 'IBM': 106.28, 'CAT': 35.46, 'GE': 13.48}"
      ]
     },
     "execution_count": 200,
     "metadata": {},
     "output_type": "execute_result"
    }
   ],
   "execution_count": 200
  },
  {
   "metadata": {},
   "cell_type": "markdown",
   "source": [
    "#### **练习 2.23：从 CSV 文件提取数据**\n",
    "在各类数据处理中，知道如何将列表，集合，字典推导式联合使用会非常有用。这里有一个示例，展示如何从 CSV 文件中提取所选择的列。\n",
    "\n",
    "首先，从 CSV 文件读取一行标题信息："
   ],
   "id": "db5b384aaacf6e23"
  },
  {
   "metadata": {
    "ExecuteTime": {
     "end_time": "2025-10-24T10:54:59.819012Z",
     "start_time": "2025-10-24T10:54:59.814288Z"
    }
   },
   "cell_type": "code",
   "source": [
    "import csv\n",
    "f = open('Data/portfoliodate.csv')\n",
    "rows = csv.reader(f)\n",
    "headers = next(rows)\n",
    "headers"
   ],
   "id": "1e78aa93019da6fb",
   "outputs": [
    {
     "data": {
      "text/plain": [
       "['name', 'date', 'time', 'shares', 'price']"
      ]
     },
     "execution_count": 210,
     "metadata": {},
     "output_type": "execute_result"
    }
   ],
   "execution_count": 210
  },
  {
   "metadata": {},
   "cell_type": "markdown",
   "source": "接着，定义一个变量列出实际需要的列：",
   "id": "71d697405c83d533"
  },
  {
   "metadata": {
    "ExecuteTime": {
     "end_time": "2025-10-24T10:55:02.281532Z",
     "start_time": "2025-10-24T10:55:02.277527Z"
    }
   },
   "cell_type": "code",
   "source": "select = ['name', 'shares', 'price']",
   "id": "a6e4e4471baf2617",
   "outputs": [],
   "execution_count": 211
  },
  {
   "metadata": {},
   "cell_type": "markdown",
   "source": "现在，在CSV源文件中找到以上各列的索引：",
   "id": "f42a2569cc47cb99"
  },
  {
   "metadata": {
    "ExecuteTime": {
     "end_time": "2025-10-24T10:55:09.022412Z",
     "start_time": "2025-10-24T10:55:09.017858Z"
    }
   },
   "cell_type": "code",
   "source": [
    "indices = [ headers.index(col) for col in select ]\n",
    "indices"
   ],
   "id": "71071c3bfce16104",
   "outputs": [
    {
     "data": {
      "text/plain": [
       "[0, 3, 4]"
      ]
     },
     "execution_count": 212,
     "metadata": {},
     "output_type": "execute_result"
    }
   ],
   "execution_count": 212
  },
  {
   "metadata": {},
   "cell_type": "markdown",
   "source": "最后，使用字典推导式读取数据的一行并把其转换为字典：",
   "id": "d757d7629fef01e0"
  },
  {
   "metadata": {
    "ExecuteTime": {
     "end_time": "2025-10-24T10:55:15.163507Z",
     "start_time": "2025-10-24T10:55:15.158263Z"
    }
   },
   "cell_type": "code",
   "source": [
    "row = next(rows)\n",
    "record = { colname: row[index] for colname, index in zip(select, indices)}\n",
    "record"
   ],
   "id": "7c1c850b10f0565a",
   "outputs": [
    {
     "data": {
      "text/plain": [
       "{'name': 'AA', 'shares': '100', 'price': '32.20'}"
      ]
     },
     "execution_count": 213,
     "metadata": {},
     "output_type": "execute_result"
    }
   ],
   "execution_count": 213
  },
  {
   "metadata": {},
   "cell_type": "markdown",
   "source": "如果你对前面的操作感到满意，那么请读取文件的剩余部分：",
   "id": "17a045b23f92bb2e"
  },
  {
   "metadata": {
    "ExecuteTime": {
     "end_time": "2025-10-24T10:58:02.457663Z",
     "start_time": "2025-10-24T10:58:02.451722Z"
    }
   },
   "cell_type": "code",
   "source": [
    "portfolio = [ { colname: row[index] for colname, index in zip(select, indices)} for row in rows ]\n",
    "portfolio"
   ],
   "id": "4e67e19162352f85",
   "outputs": [
    {
     "data": {
      "text/plain": [
       "[{'name': 'IBM', 'shares': '50', 'price': '91.10'},\n",
       " {'name': 'CAT', 'shares': '150', 'price': '83.44'},\n",
       " {'name': 'MSFT', 'shares': '200', 'price': '51.23'},\n",
       " {'name': 'GE', 'shares': '95', 'price': '40.37'},\n",
       " {'name': 'MSFT', 'shares': '50', 'price': '65.10'},\n",
       " {'name': 'IBM', 'shares': '100', 'price': '70.44'}]"
      ]
     },
     "execution_count": 214,
     "metadata": {},
     "output_type": "execute_result"
    }
   ],
   "execution_count": 214
  },
  {
   "metadata": {},
   "cell_type": "markdown",
   "source": [
    "#### **说明**\n",
    "列表推导式在 Python 中常用作转换，过滤和收集数据的有效方法。由于语法的原因，请不要走极端——应该让每个列表推导式尽可能简单。可以将事情分解为多个步骤。例如，不清楚你会不会把最后一个例子强加给毫不知情的同事。\n",
    "\n",
    "也就是说，知道如何快速处理数据是一项非常有用的技能。在很多情况下，可能必须解决某种一次性的问题，包括数据导入，导出，提取等。成为列表推导式的大师可以大大减少设计方案所花费的时间。另外，不要忘记 collections 模块。"
   ],
   "id": "ec40a4e22e033e7f"
  },
  {
   "metadata": {},
   "cell_type": "markdown",
   "source": [
    "## 07 对象\n",
    "本节介绍有关 Python 内部对象模型的更多详细信息，并讨论一些与内存管理，拷贝和类型检查有关的问题。\n",
    "#### **赋值**\n",
    "Python 中的许多操作都与赋值或者存储值有关。\n",
    "```\n",
    "a = value         # Assignment to a variable\n",
    "s[n] = value      # Assignment to a list\n",
    "s.append(value)   # Appending to a list\n",
    "d['key'] = value  # Adding to a dictionary\n",
    "```\n",
    "警告：赋值操作永远不是值拷贝。所有的赋值操作都是引用拷贝（如果你乐意，也可以说是指针拷贝）\n",
    "#### **赋值示例**\n",
    "考虑该代码片段：\n",
    "```\n",
    "a = [1,2,3]\n",
    "b = a\n",
    "c = [a,b]\n",
    "```\n",
    "以下是底层内存操作图。在此示例中，只有一个列表对象 [1,2,3]，但是有四个不同的引用指向它。\n",
    "![底层内存操作图](./images/object.png)\n",
    "这意味着修改一个值会影响所有的引用。\n",
    "```\n",
    ">>> a.append(999)\n",
    ">>> a\n",
    "[1,2,3,999]\n",
    ">>> b\n",
    "[1,2,3,999]\n",
    ">>> c\n",
    "[[1,2,3,999], [1,2,3,999]]\n",
    ">>>\n",
    "```\n",
    "请注意，原始列表中的更改是如何在其它地方显示的。这是因为从未进行任何拷贝，所有的东西都指向同一个东西。\n",
    "#### **重新赋值**\n",
    "重新赋值永远不会重写之前的值所使用的内存。\n",
    "```\n",
    "a = [1,2,3]\n",
    "b = a\n",
    "a = [4,5,6]\n",
    "\n",
    "print(a)      # [4, 5, 6]\n",
    "print(b)      # [1, 2, 3]    Holds the original value\n",
    "```\n",
    "切记：变量是名称，不是内存地址\n",
    "#### **风险**\n",
    "如果你不知道这种（数据）共享（的方式），那么在某些时候你会搬起石头砸自己的脚。典型情景，你修改了一些数据，以为它是自己的私有拷贝，但是它却意外地损破坏了程序其它部分的某些数据。\n",
    "\n",
    "说明：这就是为什么原始数据类型是不可变（只读）的原因之一\n",
    "#### **标识值和引用**\n",
    "使用 is 操作符检查两个值是否真的是相同的对象。\n",
    "```\n",
    ">>> a = [1,2,3]\n",
    ">>> b = a\n",
    ">>> a is b\n",
    "True\n",
    ">>>\n",
    "```\n",
    "is 操作符比较对象的标识值（一个整数）。标识值可以使用 id() 函数获取。\n",
    "```\n",
    ">>> id(a)\n",
    "3588944\n",
    ">>> id(b)\n",
    "3588944\n",
    ">>>\n",
    "```\n",
    "注意：使用 == 检查对象是否相等几乎总是更好，is的结果通常会出乎意料：\n",
    "```\n",
    ">>> a = [1,2,3]\n",
    ">>> b = a\n",
    ">>> c = [1,2,3]\n",
    ">>> a is b\n",
    "True\n",
    ">>> a is c\n",
    "False\n",
    ">>> a == c\n",
    "True\n",
    "```\n",
    "#### **浅拷贝**\n",
    "列表和字典自身具有用于拷贝的方法。\n",
    "```\n",
    ">>> a = [2,3,[100,101],4]\n",
    ">>> b = list(a) # Make a copy\n",
    ">>> a is b\n",
    "False\n",
    "```\n",
    "这是一个新列表，但是列表中的项是共享的。\n",
    "```\n",
    ">>> a[2].append(102)\n",
    ">>> b[2]\n",
    "[100,101,102]\n",
    ">>>\n",
    ">>> a[2] is b[2]\n",
    "True\n",
    ">>>\n",
    "```\n",
    "例如，内部列表 [100, 101, 102] 正在共享。这就是众所皆知的浅拷贝。下面是图示：\n",
    "![浅拷贝图示](./images/shallow.png)"
   ],
   "id": "d291b778a136f90a"
  },
  {
   "metadata": {},
   "cell_type": "markdown",
   "source": [
    "#### **深拷贝**\n",
    "有时候，需要拷贝一个对象及其中所包含的所有对象，为此，可以使用 copy 模块：\n",
    "```\n",
    ">>> a = [2,3,[100,101],4]\n",
    ">>> import copy\n",
    ">>> b = copy.deepcopy(a)\n",
    ">>> a[2].append(102)\n",
    ">>> b[2]\n",
    "[100,101]\n",
    ">>> a[2] is b[2]\n",
    "False\n",
    ">>>\n",
    "```\n",
    "#### **名称，值，类型**\n",
    "变量名称没有类型，仅仅是一个名字。但是，值确实具有一个底层的类型。\n",
    "```\n",
    ">>> a = 42\n",
    ">>> b = 'Hello World'\n",
    ">>> type(a)\n",
    "<type 'int'>\n",
    ">>> type(b)\n",
    "<type 'str'>\n",
    "```\n",
    "`type()` 函数将告诉你这是什么。类型名称通常用作创建或将值转换为该类型的函数。\n",
    "#### **类型检查**\n",
    "如何判断对象是否为特定类型？\n",
    "```\n",
    "if isinstance(a, list):\n",
    "    print('a is a list')\n",
    "```\n",
    "检查是否是多种类型中的一种：\n",
    "```\n",
    "if isinstance(a, (list,tuple)):\n",
    "    print('a is a list or tuple')\n",
    "```\n",
    "注意：不要过度使用类型检查。这会导致过度的代码复杂性。通常，如果这样做能够阻止其他人在使用你的代码时犯常见错误，那么就使用类型检查。\n",
    "#### **一切皆对象**\n",
    "数字，字符串，列表，函数，异常，类，实例等都是对象。这意味着所有可以命名的对象都可以作为数据传递、放置到容器中，而没有任何限制。没有特殊的对象。有时，可以这样说，所有的对象都是“一等对象”。\n",
    "\n",
    "一个简单的例子：\n",
    "```\n",
    ">>> import math\n",
    ">>> items = [abs, math, ValueError ]\n",
    ">>> items\n",
    "[<built-in function abs>,\n",
    "  <module 'math' (builtin)>,\n",
    "  <type 'exceptions.ValueError'>]\n",
    ">>> items[0](-45)\n",
    "45\n",
    ">>> items[1].sqrt(2)\n",
    "1.4142135623730951\n",
    ">>> try:\n",
    "        x = int('not a number')\n",
    "    except items[2]:\n",
    "        print('Failed!')\n",
    "Failed!\n",
    ">>>\n",
    "```\n",
    "在这里，items 是一个包含函数，模块和异常的列表。可以直接使用列表中的项代替原始名称。\n",
    "```\n",
    "items[0](-45)       # abs\n",
    "items[1].sqrt(2)    # math\n",
    "except items[2]:    # ValueError\n",
    "```\n",
    "权利越大，责任越大。只是因为你可以做，但并不意味着你应该这样做。"
   ],
   "id": "4b9e992c4ca1ad23"
  },
  {
   "metadata": {},
   "cell_type": "markdown",
   "source": [
    "### 练习\n",
    "在这组练习中，我们来看看来自一等对象的威力。\n",
    "#### **练习 2.24：一等数据**\n",
    "在 Data/portfolio.csv 文件中，我们把有组织的数据读取为列，如下所示：\n",
    "```\n",
    "name,shares,price\n",
    "\"AA\",100,32.20\n",
    "\"IBM\",50,91.10\n",
    "...\n",
    "```\n",
    "在之前的代码中，我们使用 csv 模块读取文件，但是仍必须手动执行类型转换。例如：\n",
    "```\n",
    "for row in rows:\n",
    "    name   = row[0]\n",
    "    shares = int(row[1])\n",
    "    price  = float(row[2])\n",
    "```\n",
    "也可以使用一些列表基本操作以更巧妙的方式来执行这种转换。\n",
    "\n",
    "创建一个包含转换函数名称的 Python 列表，这些函数用来把每一列转换成适当的类型。\n",
    "```\n",
    ">>> types = [str, int, float]\n",
    ">>>\n",
    "```\n",
    "可以创建这样的列表是因为在 Python 中一切皆一等对象。所以，如果想创建一个函数列表，也是可以的。列表中创建的项用于将值 x 转换为给定的类型（如：str(x), int(x), float(x)）。\n",
    "\n",
    "现在，从上面文件的数据中读取一行："
   ],
   "id": "4e9c7daede5de853"
  },
  {
   "metadata": {
    "ExecuteTime": {
     "end_time": "2025-10-24T11:37:38.525877Z",
     "start_time": "2025-10-24T11:37:38.520578Z"
    }
   },
   "cell_type": "code",
   "source": [
    "import csv\n",
    "f = open('Data/portfolio.csv')\n",
    "rows = csv.reader(f)\n",
    "headers = next(rows)\n",
    "row = next(rows)\n",
    "row"
   ],
   "id": "17422303d975208d",
   "outputs": [
    {
     "data": {
      "text/plain": [
       "['AA', '100', '32.20']"
      ]
     },
     "execution_count": 215,
     "metadata": {},
     "output_type": "execute_result"
    }
   ],
   "execution_count": 215
  },
  {
   "metadata": {},
   "cell_type": "markdown",
   "source": "如前所述，该行不足以进行计算，因为类型是错误的。例如：",
   "id": "a33a9a019d12657e"
  },
  {
   "metadata": {
    "ExecuteTime": {
     "end_time": "2025-10-24T11:38:21.290191Z",
     "start_time": "2025-10-24T11:38:21.254327Z"
    }
   },
   "cell_type": "code",
   "source": "row[1]*row[2]",
   "id": "c40bc07c7cb8be7b",
   "outputs": [
    {
     "ename": "TypeError",
     "evalue": "can't multiply sequence by non-int of type 'str'",
     "output_type": "error",
     "traceback": [
      "\u001B[31m---------------------------------------------------------------------------\u001B[39m",
      "\u001B[31mTypeError\u001B[39m                                 Traceback (most recent call last)",
      "\u001B[36mCell\u001B[39m\u001B[36m \u001B[39m\u001B[32mIn[216]\u001B[39m\u001B[32m, line 1\u001B[39m\n\u001B[32m----> \u001B[39m\u001B[32m1\u001B[39m \u001B[43mrow\u001B[49m\u001B[43m[\u001B[49m\u001B[32;43m1\u001B[39;49m\u001B[43m]\u001B[49m\u001B[43m*\u001B[49m\u001B[43mrow\u001B[49m\u001B[43m[\u001B[49m\u001B[32;43m2\u001B[39;49m\u001B[43m]\u001B[49m\n",
      "\u001B[31mTypeError\u001B[39m: can't multiply sequence by non-int of type 'str'"
     ]
    }
   ],
   "execution_count": 216
  },
  {
   "metadata": {},
   "cell_type": "markdown",
   "source": "但是，也许数据可以与在 types 中指定的类型配对。例如：",
   "id": "35844e157b47a82d"
  },
  {
   "metadata": {
    "ExecuteTime": {
     "end_time": "2025-10-24T11:40:09.944720Z",
     "start_time": "2025-10-24T11:40:09.940488Z"
    }
   },
   "cell_type": "code",
   "source": [
    "types = [str, int, float]\n",
    "types[1]\n",
    "row[1]"
   ],
   "id": "db5c0fd96ad3f2a5",
   "outputs": [
    {
     "data": {
      "text/plain": [
       "'100'"
      ]
     },
     "execution_count": 219,
     "metadata": {},
     "output_type": "execute_result"
    }
   ],
   "execution_count": 219
  },
  {
   "metadata": {},
   "cell_type": "markdown",
   "source": "尝试转换其中一个值：",
   "id": "ae96b5177f1d5369"
  },
  {
   "metadata": {
    "ExecuteTime": {
     "end_time": "2025-10-24T11:40:45.081592Z",
     "start_time": "2025-10-24T11:40:45.076456Z"
    }
   },
   "cell_type": "code",
   "source": "types[1](row[1])",
   "id": "6e3f594a29b6c91f",
   "outputs": [
    {
     "data": {
      "text/plain": [
       "100"
      ]
     },
     "execution_count": 220,
     "metadata": {},
     "output_type": "execute_result"
    }
   ],
   "execution_count": 220
  },
  {
   "metadata": {},
   "cell_type": "markdown",
   "source": "尝试转换另一个值：",
   "id": "546be7d386fb1de3"
  },
  {
   "metadata": {
    "ExecuteTime": {
     "end_time": "2025-10-24T11:41:19.891324Z",
     "start_time": "2025-10-24T11:41:19.887125Z"
    }
   },
   "cell_type": "code",
   "source": "types[2](row[2])",
   "id": "53e7b8c5fcb742d1",
   "outputs": [
    {
     "data": {
      "text/plain": [
       "32.2"
      ]
     },
     "execution_count": 221,
     "metadata": {},
     "output_type": "execute_result"
    }
   ],
   "execution_count": 221
  },
  {
   "metadata": {},
   "cell_type": "markdown",
   "source": "尝试使用转换后的值进行计算：",
   "id": "2f9ad6fee2ea37ad"
  },
  {
   "metadata": {
    "ExecuteTime": {
     "end_time": "2025-10-24T11:41:54.117202Z",
     "start_time": "2025-10-24T11:41:54.112972Z"
    }
   },
   "cell_type": "code",
   "source": "types[1](row[1])*types[2](row[2])",
   "id": "32df46f2d8673ebc",
   "outputs": [
    {
     "data": {
      "text/plain": [
       "3220.0000000000005"
      ]
     },
     "execution_count": 222,
     "metadata": {},
     "output_type": "execute_result"
    }
   ],
   "execution_count": 222
  },
  {
   "metadata": {},
   "cell_type": "markdown",
   "source": "使用zip()函数将字段组合到一起，并且查看结果：",
   "id": "f2abe07e5788e956"
  },
  {
   "metadata": {
    "ExecuteTime": {
     "end_time": "2025-10-24T11:43:10.964508Z",
     "start_time": "2025-10-24T11:43:10.959683Z"
    }
   },
   "cell_type": "code",
   "source": [
    "r = list(zip(types, row))\n",
    "r"
   ],
   "id": "3066a67ce51d843c",
   "outputs": [
    {
     "data": {
      "text/plain": [
       "[(str, 'AA'), (int, '100'), (float, '32.20')]"
      ]
     },
     "execution_count": 223,
     "metadata": {},
     "output_type": "execute_result"
    }
   ],
   "execution_count": 223
  },
  {
   "metadata": {},
   "cell_type": "markdown",
   "source": [
    "注意看，这会将类型转换函数名称与值配对。例如，int 和 '100'配对。\n",
    "\n",
    "如果要一个接一个地对所有值进行转换，那么合并后的列表很有用。请尝试："
   ],
   "id": "acf315ebb384e746"
  },
  {
   "metadata": {
    "ExecuteTime": {
     "end_time": "2025-10-24T11:45:31.418748Z",
     "start_time": "2025-10-24T11:45:31.413985Z"
    }
   },
   "cell_type": "code",
   "source": [
    "converted = []\n",
    "for func, val in zip(types, row):\n",
    "    converted.append(func(val))\n",
    "converted\n",
    "converted[1]*converted[2]"
   ],
   "id": "3152a939b4144da9",
   "outputs": [
    {
     "data": {
      "text/plain": [
       "3220.0000000000005"
      ]
     },
     "execution_count": 225,
     "metadata": {},
     "output_type": "execute_result"
    }
   ],
   "execution_count": 225
  },
  {
   "metadata": {},
   "cell_type": "markdown",
   "source": [
    "确保你理解上述代码中所发生的事情。在循环中，func 变量是类型转换函数（如str, int等 ）之一且 val 变量是值（'AA', '100'）之一。表达式 func(val)转换一个值（类似于类型转换）。\n",
    "\n",
    "上面的代码可以转换为单个列表推导式。"
   ],
   "id": "fe9ff74a14c94533"
  },
  {
   "metadata": {
    "ExecuteTime": {
     "end_time": "2025-10-24T11:47:55.832443Z",
     "start_time": "2025-10-24T11:47:55.827973Z"
    }
   },
   "cell_type": "code",
   "source": [
    "converted = [func(val) for func,val in zip(types, row)]\n",
    "converted"
   ],
   "id": "376327423bfa24fb",
   "outputs": [
    {
     "data": {
      "text/plain": [
       "['AA', 100, 32.2]"
      ]
     },
     "execution_count": 226,
     "metadata": {},
     "output_type": "execute_result"
    }
   ],
   "execution_count": 226
  },
  {
   "metadata": {},
   "cell_type": "markdown",
   "source": [
    "#### **练习 2.25：创建字典**\n",
    "还记得如果有一个键和值的序列，如何使用dict() 函数轻松地创建字典吗？让我们从列标题创建一个字典吧："
   ],
   "id": "5327f26a69cc5b18"
  },
  {
   "metadata": {
    "ExecuteTime": {
     "end_time": "2025-10-24T11:53:42.126Z",
     "start_time": "2025-10-24T11:53:42.121865Z"
    }
   },
   "cell_type": "code",
   "source": [
    "headers\n",
    "converted\n",
    "dict(zip(headers, converted))"
   ],
   "id": "baef1ede12355c86",
   "outputs": [
    {
     "data": {
      "text/plain": [
       "{'name': 'AA', 'shares': 100, 'price': 32.2}"
      ]
     },
     "execution_count": 231,
     "metadata": {},
     "output_type": "execute_result"
    }
   ],
   "execution_count": 231
  },
  {
   "metadata": {},
   "cell_type": "markdown",
   "source": "当然，如果你精通列表推导式，则可以使用字典推导式一步完成整个转换。",
   "id": "387ba21dceadc323"
  },
  {
   "metadata": {
    "ExecuteTime": {
     "end_time": "2025-10-24T11:54:52.490900Z",
     "start_time": "2025-10-24T11:54:52.486532Z"
    }
   },
   "cell_type": "code",
   "source": "{name: func(val) for name, func, val in zip(headers, types, row)}",
   "id": "a9027b18a2ff1273",
   "outputs": [
    {
     "data": {
      "text/plain": [
       "{'name': 'AA', 'shares': 100, 'price': 32.2}"
      ]
     },
     "execution_count": 232,
     "metadata": {},
     "output_type": "execute_result"
    }
   ],
   "execution_count": 232
  },
  {
   "metadata": {},
   "cell_type": "markdown",
   "source": [
    "#### **练习 2.26：全局**\n",
    "使用本练习中的技术，可以编写语句，轻松地将几乎任何面向列的数据文件中的字段转换为 Python 字典。\n",
    "\n",
    "为了说明，假设你像下面这样从不同的数据文件读取数据，如下所示："
   ],
   "id": "e706c94710827e7b"
  },
  {
   "metadata": {},
   "cell_type": "code",
   "source": [
    "f = open('Data/dowstocks.csv')\n",
    "rows = csv.reader(f)\n",
    "headers = next(rows)\n",
    "row = next(rows)\n",
    "headers\n",
    "row"
   ],
   "id": "2a69c3e4f8af2ba2",
   "outputs": [],
   "execution_count": null
  },
  {
   "metadata": {},
   "cell_type": "markdown",
   "source": "让我们使用类似的技巧来转换字段：",
   "id": "3d544e9896a2a06c"
  },
  {
   "metadata": {
    "ExecuteTime": {
     "end_time": "2025-10-24T12:02:23.258347Z",
     "start_time": "2025-10-24T12:02:23.253799Z"
    }
   },
   "cell_type": "code",
   "source": [
    "types = [str, float, str, str, float, float, float, float, int]\n",
    "converted = [func(val) for func, val in zip(types, row)]\n",
    "record = dict(zip(headers, converted))\n",
    "record"
   ],
   "id": "9944b42e37ee8fb2",
   "outputs": [
    {
     "data": {
      "text/plain": [
       "{'name': 'AA',\n",
       " 'price': 39.48,\n",
       " 'date': '6/11/2007',\n",
       " 'time': '9:36am',\n",
       " 'change': -0.18,\n",
       " 'open': 39.67,\n",
       " 'high': 39.69,\n",
       " 'low': 39.45,\n",
       " 'volume': 181800}"
      ]
     },
     "execution_count": 235,
     "metadata": {},
     "output_type": "execute_result"
    }
   ],
   "execution_count": 235
  },
  {
   "metadata": {},
   "cell_type": "markdown",
   "source": [
    "附加题：如何修改本示例以进一步解析 date 条目到元组中，如(6, 11, 2007)？\n",
    "\n",
    "请花一些时间仔细思考你在练习中所做的事情。我们稍后会再次讨论这些想法。"
   ],
   "id": "6e723551f35c191e"
  },
  {
   "metadata": {},
   "cell_type": "code",
   "source": [
    "def parse_date(date_string):\n",
    "    parts = date_string.split('/')\n",
    "    return (int(parts[0]), int(parts[1]), int(parts[2]))\n",
    "types = [str, float, parse_date, str, float, float, float, float, int]\n",
    "converted = [func(val) for func, val in zip(types, row)]\n",
    "record = dict(zip(headers, converted))\n",
    "record"
   ],
   "id": "550a702f6f732ed0",
   "outputs": [],
   "execution_count": null
  }
 ],
 "metadata": {
  "kernelspec": {
   "display_name": "Python 3",
   "language": "python",
   "name": "python3"
  },
  "language_info": {
   "codemirror_mode": {
    "name": "ipython",
    "version": 2
   },
   "file_extension": ".py",
   "mimetype": "text/x-python",
   "name": "python",
   "nbconvert_exporter": "python",
   "pygments_lexer": "ipython2",
   "version": "2.7.6"
  }
 },
 "nbformat": 4,
 "nbformat_minor": 5
}
