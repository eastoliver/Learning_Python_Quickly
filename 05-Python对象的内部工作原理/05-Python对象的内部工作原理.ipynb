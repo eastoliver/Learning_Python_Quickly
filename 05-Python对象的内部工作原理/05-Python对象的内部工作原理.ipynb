{
 "cells": [
  {
   "metadata": {},
   "cell_type": "markdown",
   "source": [
    "## 5. Python 对象的内部工作原理\n",
    "本节介绍 Python 对象的内部工作原理。来自其它语言的程序员通常会发现 Python 的类概念缺乏特性。例如，没有访问控制（access-control）的概念（如：private，protected），self 参数让人感觉很奇怪，并且，坦白地说，使用对象有时候让人感到“一切都是开放的”。虽然某种程度上来说也许是这样，但是我们要了解其工作原理，以及一些常见的编程习惯，以便更好的封装对象的内部。\n",
    "\n",
    "虽然没有必要担心内部细节会影响效率，但是，大多数 Python 程序员对类的工作原理都有基本了解。这就是为什么要介绍 Python 对象的内部工作原理的原因。\n",
    "### 01 再谈字典\n",
    "Python 对象系统主要基于字典实现。本节将对此进行讨论。\n",
    "#### **字典**\n",
    "字典是命名值（named values）的集合。\n",
    "```\n",
    "stock = {\n",
    "    'name' : 'GOOG',\n",
    "    'shares' : 100,\n",
    "    'price' : 490.1\n",
    "}\n",
    "```\n",
    "虽然字典常用于简单的数据结构，但是字典也用于解释器的关键部分。字典可能是 Python 中最重要的数据类型。\n",
    "#### **字典和模块**\n",
    "在模块内，字典存储所有的全局变量和函数。\n",
    "```\n",
    "# foo.py\n",
    "\n",
    "x = 42\n",
    "def bar():\n",
    "    ...\n",
    "\n",
    "def spam():\n",
    "    ...\n",
    "```\n",
    "可以通过 foo.__dict__ 或 globals() 查看该字典。\n",
    "```\n",
    "{\n",
    "    'x' : 42,\n",
    "    'bar' : <function bar>,\n",
    "    'spam' : <function spam>\n",
    "}\n",
    "```\n",
    "#### **字典和对象**\n",
    "用户定义对象的时候也使用到了实例字典和类字典。事实上，整个对象系统主要是基于字典实现的。\n",
    "\n",
    "字典存储实例数据，如 __dict__：\n",
    "```\n",
    ">>> s = Stock('GOOG', 100, 490.1)\n",
    ">>> s.__dict__\n",
    "{'name' : 'GOOG', 'shares' : 100, 'price': 490.1 }\n",
    "```\n",
    "当给 self 赋值的时候，你将填充该字典（和实例）。\n",
    "```\n",
    "class Stock:\n",
    "    def __init__(self, name, shares, price):\n",
    "        self.name = name\n",
    "        self.shares = shares\n",
    "        self.price = price\n",
    "```\n",
    "实例数据 self.__dict__ 看起来像下面这样：\n",
    "```\n",
    "{\n",
    "    'name': 'GOOG',\n",
    "    'shares': 100,\n",
    "    'price': 490.1\n",
    "}\n",
    "```\n",
    "每一个实例都拥有自己的私有字典。\n",
    "```\n",
    "s = Stock('GOOG', 100, 490.1)     # {'name' : 'GOOG','shares' : 100, 'price': 490.1 }\n",
    "t = Stock('AAPL', 50, 123.45)     # {'name' : 'AAPL','shares' : 50, 'price': 123.45 }\n",
    "```\n",
    "如果你创建了某个类的 100 个实例，那么就会有 100 个存储数据的字典。"
   ],
   "id": "8e48a60433514540"
  },
  {
   "metadata": {},
   "cell_type": "markdown",
   "source": [
    "#### **类成员**\n",
    "一个单独的字典也存储方法：\n",
    "```\n",
    "class Stock:\n",
    "    def __init__(self, name, shares, price):\n",
    "        self.name = name\n",
    "        self.shares = shares\n",
    "        self.price = price\n",
    "\n",
    "    def cost(self):\n",
    "        return self.shares * self.price\n",
    "\n",
    "    def sell(self, nshares):\n",
    "        self.shares -= nshares\n",
    "```\n",
    "使用 `Stock.__dict__` 可以查看该字典：\n",
    "```\n",
    "{\n",
    "    'cost': <function>,\n",
    "    'sell': <function>,\n",
    "    '__init__': <function>\n",
    "}\n",
    "```\n",
    "#### **实例和类**\n",
    "实例和类是链接在一起的。实例通过 `__class__` 属性指向类。\n",
    "```\n",
    ">>> s = Stock('GOOG', 100, 490.1)\n",
    ">>> s.__dict__\n",
    "{ 'name': 'GOOG', 'shares': 100, 'price': 490.1 }\n",
    ">>> s.__class__\n",
    "<class '__main__.Stock'>\n",
    ">>>\n",
    "```\n",
    "实例字典存储的数据对每个实例而言是唯一的。但是，类字典存储的数据被该类的所有实例共享。\n",
    "#### **属性访问**\n",
    "使用对象时，可以通过 . 运算符访问数据和方法。\n",
    "```\n",
    "x = obj.name          # Getting\n",
    "obj.name = value      # Setting\n",
    "del obj.name          # Deleting\n",
    "```\n",
    "这些操作直接与字典绑定到一起。\n",
    "#### **修改实例**\n",
    "修改对象的操作会更新底层字典：\n",
    "```\n",
    ">>> s = Stock('GOOG', 100, 490.1)\n",
    ">>> s.__dict__\n",
    "{ 'name':'GOOG', 'shares': 100, 'price': 490.1 }\n",
    ">>> s.shares = 50       # Setting\n",
    ">>> s.date = '6/7/2007' # Setting\n",
    ">>> s.__dict__\n",
    "{ 'name': 'GOOG', 'shares': 50, 'price': 490.1, 'date': '6/7/2007' }\n",
    ">>> del s.shares        # Deleting\n",
    ">>> s.__dict__\n",
    "{ 'name': 'GOOG', 'price': 490.1, 'date': '6/7/2007' }\n",
    ">>>\n",
    "```\n",
    "#### **读取属性**\n",
    "假设你要读取实例上的属性：\n",
    "```\n",
    "x = obj.name\n",
    "```\n",
    "该属性可能位于两个地方：\n",
    "* 局部实例字典\n",
    "* 类字典\n",
    "两种字典都会被检查到。首先，检查局部实例字典 `__dict__`。如果没有找到，通过 `__class__` 查找类字典 `__dict__`。\n",
    "```\n",
    ">>> s = Stock(...)\n",
    ">>> s.name\n",
    "'GOOG'\n",
    ">>> s.cost()\n",
    "49010.0\n",
    ">>>\n",
    "```\n",
    "通过这样的查找模式，类成员被所有实例共享。"
   ],
   "id": "bb2e10e597310a34"
  },
  {
   "metadata": {},
   "cell_type": "markdown",
   "source": [
    "#### **继承的工作原理**\n",
    "一个类可能继承自其它类：\n",
    "```\n",
    "class A(B, C):\n",
    "    ...\n",
    "```\n",
    "在每个类中，父类存储在一个元组中：\n",
    "```\n",
    ">>> A.__bases__\n",
    "(<class '__main__.B'>, <class '__main__.C'>)\n",
    ">>>\n",
    "```\n",
    "子类通过 `__bases__` 属性可以链接到父类。\n",
    "#### **多继承中的属性查找**\n",
    "从逻辑上讲，查找属性的过程如下：首先，检查局部字典 `__dict__`。如果没有找到，检查类字典 `__dict__`。如果在类中还是没有找到，通过 `__bases__` 属性在父类中查找。这里面有一些小细节，我们接下来讨论。\n",
    "#### **单继承中的属性查找**\n",
    "在继承层级结构中，通过按顺序遍历继承树来找到属性。\n",
    "```\n",
    "class A: pass\n",
    "class B(A): pass\n",
    "class C(A): pass\n",
    "class D(B): pass\n",
    "class E(D): pass\n",
    "```\n",
    "在单继承中，因为到达上层父类的路径只有一条，所以当找到第一个匹配的属性时即可停止。\n",
    "#### **方法解析顺序（MRO）**\n",
    "Python 会预先计算继承链并将其存储到类的 MRO 属性中。你可以像这样查看：\n",
    "```\n",
    ">>> E.__mro__\n",
    "(<class '__main__.E'>, <class '__main__.D'>,\n",
    " <class '__main__.B'>, <class '__main__.A'>,\n",
    " <type 'object'>)\n",
    ">>>\n",
    "```\n",
    "该继承链称为**方法解析顺序（Method Resolution Order）**。为了找到属性，Python 按顺序遍历 MRO，第一个匹配的属性即是要找的属性。（译注：有关 MRO 的更多信息，请查看 https://www.python.org/download/releases/2.3/mro/）。\n",
    "多继承中的方法解析顺序\n",
    "\n",
    "使用多继承时，到达上层父类的路径有很多条，请看示例：\n",
    "```\n",
    "class A: pass\n",
    "class B: pass\n",
    "class C(A, B): pass\n",
    "class D(B): pass\n",
    "class E(C, D): pass\n",
    "```\n",
    "访问属性时会发生什么？\n",
    "```\n",
    "e = E()\n",
    "e.attr\n",
    "```\n",
    "会执行属性查找，那么按什么顺序查找呢？这是个问题。\n",
    "\n",
    "Python 使用的是 协作多重继承（cooperative multiple inheritance），协作多继承遵守的类排序规则如下：\n",
    "* 总是在检查父类之前检查子类\n",
    "* 父类（如果有多个）总是按照列出的顺序检查\n",
    "根据该规则， 通过按层级结构对所有的类进行排序，然后计算出方法解析顺序。\n",
    "```\n",
    ">>> E.__mro__\n",
    "(\n",
    "  <class 'E'>,\n",
    "  <class 'C'>,\n",
    "  <class 'A'>,\n",
    "  <class 'D'>,\n",
    "  <class 'B'>,\n",
    "  <class 'object'>)\n",
    ">>>\n",
    "```\n",
    "底层算法称为“C3线性化算法（C3 Linearization Algorithm）”，确切的细节不重要，只要记住类层级结构遵守的排序规则与你家房子着火后必须撤离时遵守的规则相同：首先是孩子，其次是父母。\n",
    "#### **奇怪的代码重用（涉及多继承）**\n",
    "考虑以下两个完全不相关的对象：\n",
    "```\n",
    "class Dog:\n",
    "    def noise(self):\n",
    "        return 'Bark'\n",
    "\n",
    "    def chase(self):\n",
    "        return 'Chasing!'\n",
    "\n",
    "class LoudDog(Dog):\n",
    "    def noise(self):\n",
    "        # Code commonality with LoudBike (below)\n",
    "        return super().noise().upper()\n",
    "```\n",
    "和\n",
    "```\n",
    "class Bike:\n",
    "    def noise(self):\n",
    "        return 'On Your Left'\n",
    "\n",
    "    def pedal(self):\n",
    "        return 'Pedaling!'\n",
    "\n",
    "class LoudBike(Bike):\n",
    "    def noise(self):\n",
    "        # Code commonality with LoudDog (above)\n",
    "        return super().noise().upper()\n",
    "```\n",
    "`LoudDog.noise()` 方法和`LoudBike.noise()` 方法中有一些通用的代码。事实上，这些通用的代码是完全一样的。自然，这样的代码势必会吸引软件工程师。\n",
    "#### **\"Mixin\" 模式**\n",
    "Mixin 模式（pattern）是包含一部分代码片段的类。\n",
    "```\n",
    "class Loud:\n",
    "    def noise(self):\n",
    "        return super().noise().upper()\n",
    "```\n",
    "该类不能单独使用。通过继承和其它类混合使用。\n",
    "```\n",
    "class LoudDog(Loud, Dog):\n",
    "    pass\n",
    "\n",
    "class LoudBike(Loud, Bike):\n",
    "    pass\n",
    "```\n",
    "神奇的是，`noise()` 方法只实现了一次，却在两个完全不相关的类中使用。这种技巧是 Python 多继承的主要用途之一。\n",
    "#### **为什么使用 super()**\n",
    "当要覆盖一个方法的时候，总是使用 super() 函数。\n",
    "```\n",
    "class Loud:\n",
    "    def noise(self):\n",
    "        return super().noise().upper()\n",
    "```\n",
    "`super()` 函数代表 `MRO` 中的下一个类（译注：LoudDog 的 MRO 是 `LoudDog>Loud>Dog>object`。因为 Loud 的父类 object 没有定义 noise() 方法，所以 LoudDog 的实例在 Loud 中找不到 noise() 方法。然后 LoudDog 的实例就会到 MRO 中 Loud 的下一个类 Dog 中寻找）。\n",
    "\n",
    "麻烦的是你不知道它是什么，尤其是使用多继承的时候。\n",
    "#### **注意事项**\n",
    "多继承是一种强大的机制。使用这种强大的机制时请牢记“权利越大，责任越大”。有时候，框架或者库使用多继承来实现一些高级特性，如组件组合。"
   ],
   "id": "c14f19aa02ee232b"
  },
  {
   "metadata": {},
   "cell_type": "markdown",
   "source": [
    "### 练习\n",
    "在第 4 节中，定义了一个表示股票持有信息的类 Stock。在本节练习中，我们将使用该类。请重新启动解释器并创建一些 Stock 类的实例：\n",
    "```\n",
    ">>> ================================ RESTART ================================\n",
    ">>> from stock import Stock\n",
    ">>> goog = Stock('GOOG',100,490.10)\n",
    ">>> ibm  = Stock('IBM',50, 91.23)\n",
    ">>>\n",
    "```\n",
    "#### **练习 5.1：实例的表示**\n",
    "在交互式 shell 中，检查 goog 和 ibm 两个实例的底层字典：\n",
    "```\n",
    ">>> goog.__dict__\n",
    "... look at the output ...\n",
    ">>> ibm.__dict__\n",
    "... look at the output ...\n",
    ">>>\n",
    "```"
   ],
   "id": "af23ce546c106bf6"
  },
  {
   "cell_type": "code",
   "id": "initial_id",
   "metadata": {
    "collapsed": true,
    "ExecuteTime": {
     "end_time": "2025-10-26T08:56:33.959604Z",
     "start_time": "2025-10-26T08:56:33.951024Z"
    }
   },
   "source": [
    "from Stock import Stock\n",
    "goog = Stock('GOOG',100,490.10)\n",
    "ibm  = Stock('IBM',50, 91.23)"
   ],
   "outputs": [],
   "execution_count": 1
  },
  {
   "metadata": {
    "ExecuteTime": {
     "end_time": "2025-10-26T08:57:06.626441Z",
     "start_time": "2025-10-26T08:57:06.619492Z"
    }
   },
   "cell_type": "code",
   "source": "goog.__dict__",
   "id": "9f6f27b75e0c2f77",
   "outputs": [
    {
     "data": {
      "text/plain": [
       "{'name': 'GOOG', 'shares': 100, 'price': 490.1}"
      ]
     },
     "execution_count": 2,
     "metadata": {},
     "output_type": "execute_result"
    }
   ],
   "execution_count": 2
  },
  {
   "metadata": {
    "ExecuteTime": {
     "end_time": "2025-10-26T08:57:24.158010Z",
     "start_time": "2025-10-26T08:57:24.153628Z"
    }
   },
   "cell_type": "code",
   "source": "ibm.__dict__",
   "id": "9e0f324ddf2f8e90",
   "outputs": [
    {
     "data": {
      "text/plain": [
       "{'name': 'IBM', 'shares': 50, 'price': 91.23}"
      ]
     },
     "execution_count": 3,
     "metadata": {},
     "output_type": "execute_result"
    }
   ],
   "execution_count": 3
  },
  {
   "metadata": {},
   "cell_type": "markdown",
   "source": [
    "#### **练习 5.2：修改实例属性**\n",
    "尝试给上述其中一个实例添加新属性："
   ],
   "id": "7f14dff657ef0cd8"
  },
  {
   "metadata": {
    "ExecuteTime": {
     "end_time": "2025-10-26T09:04:33.634271Z",
     "start_time": "2025-10-26T09:04:33.629585Z"
    }
   },
   "cell_type": "code",
   "source": [
    "goog.date = '2025-10-26'\n",
    "goog.__dict__\n",
    "ibm.__dict__"
   ],
   "id": "a341614e52e829f8",
   "outputs": [
    {
     "data": {
      "text/plain": [
       "{'name': 'IBM', 'shares': 50, 'price': 91.23}"
      ]
     },
     "execution_count": 5,
     "metadata": {},
     "output_type": "execute_result"
    }
   ],
   "execution_count": 5
  },
  {
   "metadata": {},
   "cell_type": "markdown",
   "source": [
    "在上述输出中，你会发现 `goog` 实例具有 `date` 属性，但是 `ibm` 实例没有。重要的是要注意，Python 对实例属性确实没有任何限制。例如，实例属性不限于 `__init__()` 方法中设置的属性。\n",
    "\n",
    "尝试直接添加一个新的值到 `__dict__` 对象中："
   ],
   "id": "b7c6c2b1fdda37a2"
  },
  {
   "metadata": {
    "ExecuteTime": {
     "end_time": "2025-10-26T09:06:14.852527Z",
     "start_time": "2025-10-26T09:06:14.847212Z"
    }
   },
   "cell_type": "code",
   "source": [
    "goog.__dict__['time'] = '09:45:00'\n",
    "goog.time"
   ],
   "id": "f8f635bde5147680",
   "outputs": [
    {
     "data": {
      "text/plain": [
       "'09:45:00'"
      ]
     },
     "execution_count": 6,
     "metadata": {},
     "output_type": "execute_result"
    }
   ],
   "execution_count": 6
  },
  {
   "metadata": {},
   "cell_type": "markdown",
   "source": [
    "在这里，你会发现一个事实，实例仅仅是字典顶部的一层。注意：应该强调的是，直接操作字典并不常见——你应该始终使用语法 (.) 编写代码。\n",
    "#### **练习 5.3：类的作用**\n",
    "类中的定义被类的所有实例所共享。所有的实例都有一个链接，指向它们的关联类："
   ],
   "id": "319e92bde0c779b9"
  },
  {
   "metadata": {
    "ExecuteTime": {
     "end_time": "2025-10-26T09:07:45.154482Z",
     "start_time": "2025-10-26T09:07:45.150298Z"
    }
   },
   "cell_type": "code",
   "source": [
    "goog.__class__\n",
    "ibm.__class__"
   ],
   "id": "63e0fd0d6eca24d7",
   "outputs": [
    {
     "data": {
      "text/plain": [
       "Stock.Stock"
      ]
     },
     "execution_count": 8,
     "metadata": {},
     "output_type": "execute_result"
    }
   ],
   "execution_count": 8
  },
  {
   "metadata": {},
   "cell_type": "markdown",
   "source": "尝试在实例上调用方法：",
   "id": "565dcad70bac296b"
  },
  {
   "metadata": {
    "ExecuteTime": {
     "end_time": "2025-10-26T09:09:06.055246Z",
     "start_time": "2025-10-26T09:09:06.051198Z"
    }
   },
   "cell_type": "code",
   "source": [
    "goog.cost()\n",
    "ibm.cost()"
   ],
   "id": "699ad251c85b1931",
   "outputs": [
    {
     "data": {
      "text/plain": [
       "4561.5"
      ]
     },
     "execution_count": 10,
     "metadata": {},
     "output_type": "execute_result"
    }
   ],
   "execution_count": 10
  },
  {
   "metadata": {},
   "cell_type": "markdown",
   "source": "名字 'cost' 既不在 `goog.__dict__` 中定义，也不在 `ibm.__dict__`中定义。相反，而是由类字典提供的。请尝试以下代码：",
   "id": "3612b6e078202d9e"
  },
  {
   "metadata": {
    "ExecuteTime": {
     "end_time": "2025-10-26T09:11:13.262021Z",
     "start_time": "2025-10-26T09:11:13.257605Z"
    }
   },
   "cell_type": "code",
   "source": "Stock.__dict__['cost']",
   "id": "7f1d4ae1582b1f72",
   "outputs": [
    {
     "data": {
      "text/plain": [
       "<function Stock.Stock.cost(self)>"
      ]
     },
     "execution_count": 12,
     "metadata": {},
     "output_type": "execute_result"
    }
   ],
   "execution_count": 12
  },
  {
   "metadata": {},
   "cell_type": "markdown",
   "source": "尝试直接通过字典调用 `cost()` 方法：",
   "id": "58cc26b64984a936"
  },
  {
   "metadata": {
    "ExecuteTime": {
     "end_time": "2025-10-26T09:12:11.651149Z",
     "start_time": "2025-10-26T09:12:11.646856Z"
    }
   },
   "cell_type": "code",
   "source": [
    "Stock.__dict__['cost'](goog)\n",
    "Stock.__dict__['cost'](ibm)"
   ],
   "id": "97191bf126ff253e",
   "outputs": [
    {
     "data": {
      "text/plain": [
       "4561.5"
      ]
     },
     "execution_count": 14,
     "metadata": {},
     "output_type": "execute_result"
    }
   ],
   "execution_count": 14
  },
  {
   "metadata": {},
   "cell_type": "markdown",
   "source": [
    "你是如何调用类中定义的函数，那么 self 就是怎么调用实例的。\n",
    "\n",
    "尝试给 Stock 类添加新属性：："
   ],
   "id": "ebed67d02bf34eee"
  },
  {
   "metadata": {
    "ExecuteTime": {
     "end_time": "2025-10-26T09:13:14.304190Z",
     "start_time": "2025-10-26T09:13:14.301415Z"
    }
   },
   "cell_type": "code",
   "source": "Stock.foo = 42",
   "id": "edd0910fab2d86ee",
   "outputs": [],
   "execution_count": 15
  },
  {
   "metadata": {},
   "cell_type": "markdown",
   "source": "该新属性会出现在所有实例中：",
   "id": "b7d2fbdb3670942"
  },
  {
   "metadata": {
    "ExecuteTime": {
     "end_time": "2025-10-26T09:13:47.996523Z",
     "start_time": "2025-10-26T09:13:47.992370Z"
    }
   },
   "cell_type": "code",
   "source": [
    "goog.foo\n",
    "ibm.foo"
   ],
   "id": "5ad012b2c2824d62",
   "outputs": [
    {
     "data": {
      "text/plain": [
       "42"
      ]
     },
     "execution_count": 17,
     "metadata": {},
     "output_type": "execute_result"
    }
   ],
   "execution_count": 17
  },
  {
   "metadata": {},
   "cell_type": "markdown",
   "source": "但是，foo 并不属于实例字典：",
   "id": "47c6fbb61fdd9b7e"
  },
  {
   "metadata": {
    "ExecuteTime": {
     "end_time": "2025-10-26T09:14:12.072407Z",
     "start_time": "2025-10-26T09:14:12.068236Z"
    }
   },
   "cell_type": "code",
   "source": "goog.__dict__",
   "id": "259905f419787b7c",
   "outputs": [
    {
     "data": {
      "text/plain": [
       "{'name': 'GOOG',\n",
       " 'shares': 100,\n",
       " 'price': 490.1,\n",
       " 'date': '2025-10-26',\n",
       " 'time': '09:45:00'}"
      ]
     },
     "execution_count": 18,
     "metadata": {},
     "output_type": "execute_result"
    }
   ],
   "execution_count": 18
  },
  {
   "metadata": {},
   "cell_type": "markdown",
   "source": [
    "你可以访问 `foo` 属性的原因是：当 Python 在实例字典中查找不到某个属性时，那么它就会到类字典中查找。\n",
    "\n",
    "注意：本部分主要阐明什么是类变量。假设你有这样一个类："
   ],
   "id": "56579138b56e588d"
  },
  {
   "metadata": {
    "ExecuteTime": {
     "end_time": "2025-10-26T09:16:58.507214Z",
     "start_time": "2025-10-26T09:16:58.503609Z"
    }
   },
   "cell_type": "code",
   "source": [
    "class Foo(object):\n",
    "    a = 13  # 类变量\n",
    "    def __init__(self,b):\n",
    "        self.b = b # 实例变量"
   ],
   "id": "fd00532e25548eaf",
   "outputs": [],
   "execution_count": 19
  },
  {
   "metadata": {},
   "cell_type": "markdown",
   "source": "在 Foo 类中，因为变量 `a` 在类体（body of the class）中被赋值，所以 `a` 是“类变量（class variable）”。变量 `a` 可以被 Foo 类的所有实例所共享。示例：",
   "id": "c234914e0341bb1c"
  },
  {
   "metadata": {
    "ExecuteTime": {
     "end_time": "2025-10-26T09:19:01.100644Z",
     "start_time": "2025-10-26T09:19:01.096821Z"
    }
   },
   "cell_type": "code",
   "source": [
    "f = Foo(10)\n",
    "g = Foo(20)\n",
    "print(f.a,f.b)\n",
    "print(g.a,g.b)\n",
    "Foo.a = 42\n",
    "print(f.a,g.a)"
   ],
   "id": "1302edbf9f906759",
   "outputs": [
    {
     "name": "stdout",
     "output_type": "stream",
     "text": [
      "42 10\n",
      "42 20\n",
      "42 42\n"
     ]
    }
   ],
   "execution_count": 24
  },
  {
   "metadata": {},
   "cell_type": "markdown",
   "source": [
    "#### **练习 5.4：绑定方法**\n",
    "Python 有一个微妙的特性：调用方法实际上涉及两个步骤以及一个称为绑定方法的东西。示例："
   ],
   "id": "161589bea8d13f2f"
  },
  {
   "metadata": {
    "ExecuteTime": {
     "end_time": "2025-10-26T09:20:28.541732Z",
     "start_time": "2025-10-26T09:20:28.538305Z"
    }
   },
   "cell_type": "code",
   "source": [
    "s = goog.sell\n",
    "s\n",
    "s(25)\n",
    "goog.shares"
   ],
   "id": "98f56e6808acaddb",
   "outputs": [],
   "execution_count": 26
  },
  {
   "metadata": {},
   "cell_type": "markdown",
   "source": "实际上，绑定方法包含调用一个方法的所需的所有内容。例如，它们记录了实现方法的函数：",
   "id": "38f4077c7c1a3bf3"
  },
  {
   "metadata": {
    "ExecuteTime": {
     "end_time": "2025-10-26T09:21:33.215982Z",
     "start_time": "2025-10-26T09:21:33.211941Z"
    }
   },
   "cell_type": "code",
   "source": "s.__func__",
   "id": "7c3486cb66b44ddc",
   "outputs": [
    {
     "data": {
      "text/plain": [
       "<function Stock.Stock.sell(self, nshares)>"
      ]
     },
     "execution_count": 28,
     "metadata": {},
     "output_type": "execute_result"
    }
   ],
   "execution_count": 28
  },
  {
   "metadata": {},
   "cell_type": "markdown",
   "source": "这与在 `Stock `字典中找到的值是一样的：",
   "id": "f12cc38f97bf0f78"
  },
  {
   "metadata": {
    "ExecuteTime": {
     "end_time": "2025-10-26T09:22:39.817501Z",
     "start_time": "2025-10-26T09:22:39.813277Z"
    }
   },
   "cell_type": "code",
   "source": "Stock.__dict__['sell']",
   "id": "24a936f73c9ea8f4",
   "outputs": [
    {
     "data": {
      "text/plain": [
       "<function Stock.Stock.sell(self, nshares)>"
      ]
     },
     "execution_count": 29,
     "metadata": {},
     "output_type": "execute_result"
    }
   ],
   "execution_count": 29
  },
  {
   "metadata": {},
   "cell_type": "markdown",
   "source": "绑定方法还记录实例，即`self`:",
   "id": "e07b2fcd39f0b9b0"
  },
  {
   "metadata": {
    "ExecuteTime": {
     "end_time": "2025-10-26T09:24:10.708676Z",
     "start_time": "2025-10-26T09:24:10.704294Z"
    }
   },
   "cell_type": "code",
   "source": "s.__self__",
   "id": "9284e806bebf838c",
   "outputs": [
    {
     "data": {
      "text/plain": [
       "Stock(GOOG,75,490.1)"
      ]
     },
     "execution_count": 30,
     "metadata": {},
     "output_type": "execute_result"
    }
   ],
   "execution_count": 30
  },
  {
   "metadata": {},
   "cell_type": "markdown",
   "source": "你可以使用 `()` 一起调用所有的函数。例如，调用 `s(25)` 实际是这样做的：",
   "id": "9411ba962f39c402"
  },
  {
   "metadata": {
    "ExecuteTime": {
     "end_time": "2025-10-26T09:26:59.454101Z",
     "start_time": "2025-10-26T09:26:59.450015Z"
    }
   },
   "cell_type": "code",
   "source": [
    "s.__func__(s.__self__,25)  # 和s(25)一样\n",
    "goog.shares"
   ],
   "id": "a4f5e2fe1228ab1c",
   "outputs": [
    {
     "data": {
      "text/plain": [
       "50"
      ]
     },
     "execution_count": 31,
     "metadata": {},
     "output_type": "execute_result"
    }
   ],
   "execution_count": 31
  },
  {
   "metadata": {},
   "cell_type": "markdown",
   "source": [
    "#### **练习 5.5：继承**\n",
    "创建一个继承自 `Stock` 的类："
   ],
   "id": "6e97806b607e567b"
  },
  {
   "metadata": {
    "ExecuteTime": {
     "end_time": "2025-10-26T09:29:33.959354Z",
     "start_time": "2025-10-26T09:29:33.954660Z"
    }
   },
   "cell_type": "code",
   "source": [
    "class NewStock(Stock):\n",
    "    def yow(self):\n",
    "        print('Yow!')\n",
    "n = NewStock('ACME',50,123.45)\n",
    "n.cost()\n",
    "n.yow()"
   ],
   "id": "bf4165ca1c511cec",
   "outputs": [
    {
     "name": "stdout",
     "output_type": "stream",
     "text": [
      "Yow!\n"
     ]
    }
   ],
   "execution_count": 33
  },
  {
   "metadata": {},
   "cell_type": "markdown",
   "source": "通过扩展属性的搜索过程来实现继承。`__bases__` 属性是一个包含直接父类的元组：",
   "id": "d8e93333b36704c7"
  },
  {
   "metadata": {
    "ExecuteTime": {
     "end_time": "2025-10-26T09:30:13.627518Z",
     "start_time": "2025-10-26T09:30:13.622518Z"
    }
   },
   "cell_type": "code",
   "source": "NewStock.__base__",
   "id": "598e7fc0950f3f16",
   "outputs": [
    {
     "data": {
      "text/plain": [
       "Stock.Stock"
      ]
     },
     "execution_count": 34,
     "metadata": {},
     "output_type": "execute_result"
    }
   ],
   "execution_count": 34
  },
  {
   "metadata": {},
   "cell_type": "markdown",
   "source": "`__mro__` 属性是一个包含所有父类的元组，父类按查找顺序排列。",
   "id": "de4d72fce31a8a36"
  },
  {
   "metadata": {
    "ExecuteTime": {
     "end_time": "2025-10-26T09:30:47.570047Z",
     "start_time": "2025-10-26T09:30:47.565791Z"
    }
   },
   "cell_type": "code",
   "source": "NewStock.__mro__",
   "id": "c4dda687e63d9cd7",
   "outputs": [
    {
     "data": {
      "text/plain": [
       "(__main__.NewStock, Stock.Stock, object)"
      ]
     },
     "execution_count": 35,
     "metadata": {},
     "output_type": "execute_result"
    }
   ],
   "execution_count": 35
  },
  {
   "metadata": {},
   "cell_type": "markdown",
   "source": "实例 `n` 是这找到 `cost()` 方法的：",
   "id": "3fd0e8f2c19c7f8f"
  },
  {
   "metadata": {
    "ExecuteTime": {
     "end_time": "2025-10-26T09:33:36.834385Z",
     "start_time": "2025-10-26T09:33:36.831358Z"
    }
   },
   "cell_type": "code",
   "source": [
    "for cls in n.__class__.__mro__:\n",
    "    if 'cost' in cls.__dict__:\n",
    "        break"
   ],
   "id": "5abf498bd0bec9ee",
   "outputs": [],
   "execution_count": 36
  },
  {
   "metadata": {
    "ExecuteTime": {
     "end_time": "2025-10-26T09:34:02.904401Z",
     "start_time": "2025-10-26T09:34:02.899922Z"
    }
   },
   "cell_type": "code",
   "source": [
    "cls\n",
    "cls.__dict__['cost']"
   ],
   "id": "5a870d64ca8def71",
   "outputs": [
    {
     "data": {
      "text/plain": [
       "<function Stock.Stock.cost(self)>"
      ]
     },
     "execution_count": 38,
     "metadata": {},
     "output_type": "execute_result"
    }
   ],
   "execution_count": 38
  },
  {
   "metadata": {},
   "cell_type": "markdown",
   "source": [
    "#### **02 类和封装**\n",
    "创建类时，通常会尝试将类的内部细节进行封装。本节介绍 Python 编程中有关封装的习惯用法（包括私有变量和私有属性）。\n",
    "#### **Public vs Private**\n",
    "虽然类的主要作用之一是封装对象的属性和内部实现细节。但是，类还定义了外界用来操作该对象的公有接口（public interface）。实现细节与公有接口之间的区别很重要。\n",
    "#### **问题**\n",
    "在 Python 中，几乎所有与类和对象有关的东西都是 **开放（open）** 的。\n",
    "*  可以轻松地查看对象的内部细节。\n",
    "*  可以随意地修改。\n",
    "*  没有访问控制的概念（例如：私有类成员）。\n",
    "如何隔离内部实现的细节，这是一个问题。\n",
    "#### **Python 封装**\n",
    "Python 依赖编程约定来指示某些东西的用途。这就约定基于命名。有一种普遍的态度是，程序员应该遵守规则，而不是让语言来强制执行规则。\n",
    "#### **私有属性**\n",
    "以下划线`_`开头的任何属性被认为是私有的（private）。\n",
    "```\n",
    "class Person(object):\n",
    "    def __init__(self, name):\n",
    "        self._name = 0\n",
    "```\n",
    "如前所述，这这是一种编程风格。你仍然可以对这些私有属性进行访问和修改。\n",
    "```\n",
    ">>> p = Person('Guido')\n",
    ">>> p._name\n",
    "'Guido'\n",
    ">>> p._name = 'Dave'\n",
    ">>>\n",
    "```\n",
    "一般来说，一个以下划线 `_` 开头的名称被认为是内部实现，无论该名称是变量名、函数名还是模块名。如果你发现自己直接使用这些名称，那么你可能在做一些错误的事情。你应该寻找更高级的功能。\n",
    "#### **简单属性**\n",
    "考虑下面这个类：\n",
    "```\n",
    "class Stock:\n",
    "    def __init__(self, name, shares, price):\n",
    "        self.name = name\n",
    "        self.shares = shares\n",
    "        self.price = price\n",
    "```\n",
    "这里有一个让人惊讶的特性，你可以给属性设置任何值：\n",
    "```\n",
    ">>> s = Stock('IBM', 50, 91.1)\n",
    ">>> s.shares = 100\n",
    ">>> s.shares = \"hundred\"\n",
    ">>> s.shares = [1, 0, 0]\n",
    ">>>\n",
    "```\n",
    "你可能会想要对此进行检查（译注：例如 `shares` 表示的是股份数目，值应该是整数。所以给 `shares `赋值时应该对值进行检查。如果检查发现给 `shares` 赋的值不是整数，那么应该触发一个 `TypeError` 异常）：\n",
    "```\n",
    "s.shares = '50'     # Raise a TypeError, this is a string\n",
    "```\n",
    "这时候你会怎么做？\n",
    "#### **托管属性**\n",
    "方法一：引进访问方法（accessor methods）。\n",
    "```\n",
    "class Stock:\n",
    "    def __init__(self, name, shares, price):\n",
    "        self.name = name\n",
    "\t    self.set_shares(shares)\n",
    "\t    self.price = price\n",
    "\n",
    "    # Function that layers the \"get\" operation\n",
    "    def get_shares(self):\n",
    "        return self._shares\n",
    "\n",
    "    # Function that layers the \"set\" operation\n",
    "    def set_shares(self, value):\n",
    "        if not isinstance(value, int):\n",
    "            raise TypeError('Expected an int')\n",
    "        self._shares = value\n",
    "```\n",
    "糟糕的是，这破坏了我们的已有代码。例如：之前是通过 `s.shares = 50` 给 `shares` 赋值的，那么现在就要改成`s.set_shares(50)` 给 `shares` 赋值，这很不好。\n",
    "#### **特征属性（Properties）**\n",
    "方法二：\n",
    "```\n",
    "class Stock:\n",
    "    def __init__(self, name, shares, price):\n",
    "        self.name = name\n",
    "        self.shares = shares\n",
    "        self.price = price\n",
    "\n",
    "    @property\n",
    "    def shares(self):\n",
    "        return self._shares\n",
    "\n",
    "    @shares.setter\n",
    "    def shares(self, value):\n",
    "        if not isinstance(value, int):\n",
    "            raise TypeError('Expected int')\n",
    "        self._shares = value\n",
    "```\n",
    "现在，普通属性（normal attribute）的访问触发了 `@property` 和 `@shares.setter` 下的 getter 方法和 setter 方法。\n",
    "```\n",
    ">>> s = Stock('IBM', 50, 91.1)\n",
    ">>> s.shares         # Triggers @property\n",
    "50\n",
    ">>> s.shares = 75    # Triggers @shares.setter\n",
    ">>>\n",
    "```\n",
    "使用该方法，不需要对源代码做任何修改。在类内（包括在 `__init__()` 方法内）有赋值的时候，直接调用新的 setter：\n",
    "```\n",
    "class Stock:\n",
    "    def __init__(self, name, shares, price):\n",
    "        ...\n",
    "        # This assignment calls the setter below\n",
    "        self.shares = shares\n",
    "        ...\n",
    "\n",
    "    ...\n",
    "    @shares.setter\n",
    "    def shares(self, value):\n",
    "        if not isinstance(value, int):\n",
    "            raise TypeError('Expected int')\n",
    "        self._shares = value\n",
    "```\n",
    "特征属性和私有名称（ private names）的使用之间经常会出现混淆。尽管特征属性内部使用的是私有名称，如 `_shares`。类的其它地方（不是特征属性），仍可以继续使用诸如 `shares` 这样的名称。\n",
    "\n",
    "特征属性对于计算数据属性也非常有用。\n",
    "```\n",
    "class Stock:\n",
    "    def __init__(self, name, shares, price):\n",
    "        self.name = name\n",
    "        self.shares = shares\n",
    "        self.price = price\n",
    "\n",
    "    @property\n",
    "    def cost(self):\n",
    "        return self.shares * self.price\n",
    "    ...\n",
    "```\n",
    "这允许你删除 cost 后面的括号，隐藏 cost 是一个方法的事实：\n",
    "```\n",
    ">>> s = Stock('GOOG', 100, 490.1)\n",
    ">>> s.shares # Instance variable\n",
    "100\n",
    ">>> s.cost   # Computed Value\n",
    "49010.0\n",
    ">>>\n",
    "```"
   ],
   "id": "6350b033b689431e"
  },
  {
   "metadata": {},
   "cell_type": "markdown",
   "source": [
    "#### **统一访问**\n",
    "最后一个例子展示了如何在对象上放置一个更加统一的接口。如果不这样做，对象使用起来可能会令人困惑。\n",
    "```\n",
    ">>> s = Stock('GOOG', 100, 490.1)\n",
    ">>> a = s.cost() # Method\n",
    "49010.0\n",
    ">>> b = s.shares # Data attribute\n",
    "100\n",
    ">>>\n",
    "```\n",
    "为什么 cost 后面需要加上括号 `()`，但是 shares 却不需要？ 特征属性可以解决这个问题。\n",
    "#### **装饰器语法**\n",
    "`@` 语法称为“装饰（decoration）”。它指定了一个修饰符（modifier），应用于紧接其后的函数定义：\n",
    "```\n",
    "...\n",
    "@property\n",
    "def cost(self):\n",
    "    return self.shares * self.price\n",
    "```\n",
    "更多细节在 第 7 节 中给到。\n",
    "#### **插槽属性（`__slots__`）**\n",
    "你可以使用 `__slots__` 限制属性名称集：\n",
    "```\n",
    "class Stock:\n",
    "    __slots__ = ('name','_shares','price')\n",
    "    def __init__(self, name, shares, price):\n",
    "        self.name = name\n",
    "        ...\n",
    "```\n",
    "使用其它属性时，将会触发错误：\n",
    "```\n",
    ">>> s.price = 385.15\n",
    ">>> s.prices = 410.2\n",
    "Traceback (most recent call last):\n",
    "File \"<stdin>\", line 1, in ?\n",
    "AttributeError: 'Stock' object has no attribute 'prices'\n",
    "```\n",
    "尽管这样可以防止错误和限制对象的使用，但实际上使用 `__slots__` 是为了提高性能，提高 Python 利用内存的效率。\n",
    "#### **关于封装的最终说明**\n",
    "不要滥用私有属性（private attributes），特征属性（properties），插槽属性（slots）等。它们有特殊的用途，你在阅读其它 Python 代码时可能会看到。但是，对于大多数日常编码而言，它们不是必需的。"
   ],
   "id": "74b3f0f04688ea65"
  },
  {
   "metadata": {},
   "cell_type": "markdown",
   "source": [
    "### 练习\n",
    "#### **练习 5.6：简单特征属性**\n",
    "使用特征属性是一种非常有用的给对象添加“计算属性”的方式。虽然你在 `stock.py` 文件中创建了 `Stock` 对象，但是请注意，在 `Stock` 对象上 ，对于不同类型的属性，获取方式稍微有点不同。"
   ],
   "id": "c8a58c10e716008f"
  },
  {
   "metadata": {
    "ExecuteTime": {
     "end_time": "2025-10-26T09:54:53.307436Z",
     "start_time": "2025-10-26T09:54:53.303334Z"
    }
   },
   "cell_type": "code",
   "source": [
    "from Stock import Stock\n",
    "s = Stock('GOOG', 100, 490.1)\n",
    "s.shares\n",
    "s.price\n",
    "s.cost()"
   ],
   "id": "d6ea35feea9026ca",
   "outputs": [
    {
     "data": {
      "text/plain": [
       "49010.0"
      ]
     },
     "execution_count": 41,
     "metadata": {},
     "output_type": "execute_result"
    }
   ],
   "execution_count": 41
  },
  {
   "metadata": {},
   "cell_type": "markdown",
   "source": [
    "具体来说，`cost` 后面之所以要添加括号，是因为 `cost` 是一个方法。\n",
    "\n",
    "如果你想去掉 `cost()` 的括号，那么可以把该方法转为一个特征属性。请修改 `Stock` 类，使其像下面这样计算所持有股票的总价:"
   ],
   "id": "501fb9ddce4bf2b0"
  },
  {
   "metadata": {
    "ExecuteTime": {
     "end_time": "2025-10-26T09:57:42.795668Z",
     "start_time": "2025-10-26T09:57:42.787110Z"
    }
   },
   "cell_type": "code",
   "source": [
    "from Stock import Stock\n",
    "s = Stock('GOOG', 100, 490.1)\n",
    "s.cost"
   ],
   "id": "32e5f7b8872f670",
   "outputs": [
    {
     "data": {
      "text/plain": [
       "49010.0"
      ]
     },
     "execution_count": 1,
     "metadata": {},
     "output_type": "execute_result"
    }
   ],
   "execution_count": 1
  },
  {
   "metadata": {},
   "cell_type": "markdown",
   "source": "尝试将 `cost`作为方法调用（`s.cost()`），你会发现，现在已经被定义为特征属性的 `cost` 无法作为方法被调用。",
   "id": "ee8185717bcfc25e"
  },
  {
   "metadata": {
    "ExecuteTime": {
     "end_time": "2025-10-26T09:58:29.155696Z",
     "start_time": "2025-10-26T09:58:28.883398Z"
    }
   },
   "cell_type": "code",
   "source": "s.cost()",
   "id": "1234d33e8382d8fc",
   "outputs": [
    {
     "ename": "TypeError",
     "evalue": "'float' object is not callable",
     "output_type": "error",
     "traceback": [
      "\u001B[31m---------------------------------------------------------------------------\u001B[39m",
      "\u001B[31mTypeError\u001B[39m                                 Traceback (most recent call last)",
      "\u001B[36mCell\u001B[39m\u001B[36m \u001B[39m\u001B[32mIn[2]\u001B[39m\u001B[32m, line 1\u001B[39m\n\u001B[32m----> \u001B[39m\u001B[32m1\u001B[39m \u001B[43ms\u001B[49m\u001B[43m.\u001B[49m\u001B[43mcost\u001B[49m\u001B[43m(\u001B[49m\u001B[43m)\u001B[49m\n",
      "\u001B[31mTypeError\u001B[39m: 'float' object is not callable"
     ]
    }
   ],
   "execution_count": 2
  },
  {
   "metadata": {},
   "cell_type": "markdown",
   "source": [
    "这些更改很可能会破坏你之前的 `pcost.py` 程序，所以，你可能需要返回到 `pcost.py` 中去掉 cost() 方法后面的括号`()`。\n",
    "#### **练习 5.7：特征属性和 Setters**\n",
    "请修改 `shares` 属性，以便将该值存储在私有属性中，并且使用属性函数（property functions）确保赋给 `shares` 的值总是整数。预期行为示例："
   ],
   "id": "bb03d95793c05931"
  },
  {
   "metadata": {},
   "cell_type": "code",
   "source": [
    "from Stock import Stock\n",
    "s = Stock('GOOG', 100, 490.1)\n",
    "s.shares = 50\n",
    "s.shares = 'a lot'"
   ],
   "id": "7f74ca832d9af4a8",
   "outputs": [],
   "execution_count": null
  },
  {
   "metadata": {},
   "cell_type": "markdown",
   "source": [
    "#### **练习 5.8：添加插槽属性（slots）**\n",
    "请修改 `Stock` 类，以便 `Stock` 类拥有一个 `__slots__` 属性。然后确认无法添加新属性:"
   ],
   "id": "7933210bae814f"
  },
  {
   "metadata": {
    "ExecuteTime": {
     "end_time": "2025-10-26T10:17:37.412091Z",
     "start_time": "2025-10-26T10:17:37.100140Z"
    }
   },
   "cell_type": "code",
   "source": [
    "from Stock import Stock\n",
    "s = Stock('GOOG', 100, 490.1)\n",
    "s.name\n",
    "s.blah = 42"
   ],
   "id": "6b7154d5c9474290",
   "outputs": [
    {
     "ename": "AttributeError",
     "evalue": "'Stock' object has no attribute 'blah' and no __dict__ for setting new attributes",
     "output_type": "error",
     "traceback": [
      "\u001B[31m---------------------------------------------------------------------------\u001B[39m",
      "\u001B[31mAttributeError\u001B[39m                            Traceback (most recent call last)",
      "\u001B[36mCell\u001B[39m\u001B[36m \u001B[39m\u001B[32mIn[2]\u001B[39m\u001B[32m, line 4\u001B[39m\n\u001B[32m      2\u001B[39m s = Stock(\u001B[33m'\u001B[39m\u001B[33mGOOG\u001B[39m\u001B[33m'\u001B[39m, \u001B[32m100\u001B[39m, \u001B[32m490.1\u001B[39m)\n\u001B[32m      3\u001B[39m s.name\n\u001B[32m----> \u001B[39m\u001B[32m4\u001B[39m \u001B[43ms\u001B[49m\u001B[43m.\u001B[49m\u001B[43mblah\u001B[49m = \u001B[32m42\u001B[39m\n",
      "\u001B[31mAttributeError\u001B[39m: 'Stock' object has no attribute 'blah' and no __dict__ for setting new attributes"
     ]
    }
   ],
   "execution_count": 2
  },
  {
   "metadata": {},
   "cell_type": "markdown",
   "source": "使用 `__slots__` 时，Python 使用更高效的对象内部表示。如果你尝试查看实例 `s` 的底层字典会发生什么？",
   "id": "e83a15a472712a91"
  },
  {
   "metadata": {
    "ExecuteTime": {
     "end_time": "2025-10-26T10:18:51.745043Z",
     "start_time": "2025-10-26T10:18:51.726754Z"
    }
   },
   "cell_type": "code",
   "source": "s.__dict__",
   "id": "b485281bf33d25c7",
   "outputs": [
    {
     "ename": "AttributeError",
     "evalue": "'Stock' object has no attribute '__dict__'",
     "output_type": "error",
     "traceback": [
      "\u001B[31m---------------------------------------------------------------------------\u001B[39m",
      "\u001B[31mAttributeError\u001B[39m                            Traceback (most recent call last)",
      "\u001B[36mCell\u001B[39m\u001B[36m \u001B[39m\u001B[32mIn[3]\u001B[39m\u001B[32m, line 1\u001B[39m\n\u001B[32m----> \u001B[39m\u001B[32m1\u001B[39m \u001B[43ms\u001B[49m\u001B[43m.\u001B[49m\u001B[34;43m__dict__\u001B[39;49m\n",
      "\u001B[31mAttributeError\u001B[39m: 'Stock' object has no attribute '__dict__'"
     ]
    }
   ],
   "execution_count": 3
  },
  {
   "metadata": {},
   "cell_type": "markdown",
   "source": "应当指出， `__slots__` 作为数据结构是类中最常用的一种优化。使用插槽属性使程序占用更少的内存，运行更快。但是，在其它大多数类中，你应该尽可能避免使用 `__slots__` 。",
   "id": "8d5c67ea036d7820"
  },
  {
   "metadata": {},
   "cell_type": "code",
   "outputs": [],
   "execution_count": null,
   "source": "",
   "id": "ac194664911ebe13"
  }
 ],
 "metadata": {
  "kernelspec": {
   "display_name": "Python 3",
   "language": "python",
   "name": "python3"
  },
  "language_info": {
   "codemirror_mode": {
    "name": "ipython",
    "version": 2
   },
   "file_extension": ".py",
   "mimetype": "text/x-python",
   "name": "python",
   "nbconvert_exporter": "python",
   "pygments_lexer": "ipython2",
   "version": "2.7.6"
  }
 },
 "nbformat": 4,
 "nbformat_minor": 5
}
