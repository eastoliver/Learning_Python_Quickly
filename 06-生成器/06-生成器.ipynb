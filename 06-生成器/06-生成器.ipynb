{
 "cells": [
  {
   "metadata": {},
   "cell_type": "markdown",
   "source": [
    "#### **6. 生成器**\n",
    "在 Python 语言中，迭代（`for` 循环）是最常用的编程模式之一。程序执行大量的迭代来处理列表、读取文件、查询数据库......Python 最强大的特性之一就是能够以所谓的“生成器函数（generator function）”形式自定义和重新定义迭代。本节将对生成器主题进行介绍。最后，你将学习以一种有趣的方式编写程序来处理实时流数据。"
   ],
   "id": "59ffcd17b8c69185"
  },
  {
   "metadata": {},
   "cell_type": "markdown",
   "source": [
    "### 01 迭代协议\n",
    "本节将探究迭代的底层过程。\n",
    "#### **迭代无处不在 **\n",
    "许多对象都支持迭代：\n",
    "```\n",
    "a = 'hello'\n",
    "for c in a: # Loop over characters in a\n",
    "    ...\n",
    "\n",
    "b = { 'name': 'Dave', 'password':'foo'}\n",
    "for k in b: # Loop over keys in dictionary\n",
    "    ...\n",
    "\n",
    "c = [1,2,3,4]\n",
    "for i in c: # Loop over items in a list/tuple\n",
    "    ...\n",
    "\n",
    "f = open('foo.txt')\n",
    "for x in f: # Loop over lines in a file\n",
    "    ...\n",
    "```\n",
    "#### **迭代：协议**\n",
    "考虑以下`for`语句：\n",
    "```\n",
    "for x in obj:\n",
    "    # statements\n",
    "```\n",
    "'for'语句的背后发生了什么？\n",
    "```\n",
    "_iter = obj.__iter__()        # 获取迭代器对象\n",
    "while True:\n",
    "    try:\n",
    "        x = _iter.__next__()  # 获取下一个元素\n",
    "    except StopIteration:     # 没有更多元素，则退出循环\n",
    "        break\n",
    "```\n",
    "所有可应用于 `for-loop` 的对象都实现了上述底层迭代协议。\n",
    "\n",
    "示例：手动迭代一个列表。"
   ],
   "id": "50bb44e6ebf8c62"
  },
  {
   "cell_type": "code",
   "id": "initial_id",
   "metadata": {
    "collapsed": true,
    "ExecuteTime": {
     "end_time": "2025-10-26T10:31:38.687403Z",
     "start_time": "2025-10-26T10:31:38.682947Z"
    }
   },
   "source": [
    "x = [1,2,3]\n",
    "it = x.__iter__()\n",
    "it\n",
    "it.__next__()"
   ],
   "outputs": [
    {
     "data": {
      "text/plain": [
       "1"
      ]
     },
     "execution_count": 3,
     "metadata": {},
     "output_type": "execute_result"
    }
   ],
   "execution_count": 3
  },
  {
   "metadata": {
    "ExecuteTime": {
     "end_time": "2025-10-26T10:32:04.963667Z",
     "start_time": "2025-10-26T10:32:04.959541Z"
    }
   },
   "cell_type": "code",
   "source": "it.__next__()",
   "id": "322ba19f607d2acc",
   "outputs": [
    {
     "data": {
      "text/plain": [
       "2"
      ]
     },
     "execution_count": 4,
     "metadata": {},
     "output_type": "execute_result"
    }
   ],
   "execution_count": 4
  },
  {
   "metadata": {
    "ExecuteTime": {
     "end_time": "2025-10-26T10:32:07.193707Z",
     "start_time": "2025-10-26T10:32:07.189315Z"
    }
   },
   "cell_type": "code",
   "source": "it.__next__()",
   "id": "c07fa80da27b2d61",
   "outputs": [
    {
     "data": {
      "text/plain": [
       "3"
      ]
     },
     "execution_count": 5,
     "metadata": {},
     "output_type": "execute_result"
    }
   ],
   "execution_count": 5
  },
  {
   "metadata": {
    "ExecuteTime": {
     "end_time": "2025-10-26T10:32:12.233460Z",
     "start_time": "2025-10-26T10:32:11.930898Z"
    }
   },
   "cell_type": "code",
   "source": "it.__next__()",
   "id": "5167dc6cad8ff2c1",
   "outputs": [
    {
     "ename": "StopIteration",
     "evalue": "",
     "output_type": "error",
     "traceback": [
      "\u001B[31m---------------------------------------------------------------------------\u001B[39m",
      "\u001B[31mStopIteration\u001B[39m                             Traceback (most recent call last)",
      "\u001B[36mCell\u001B[39m\u001B[36m \u001B[39m\u001B[32mIn[6]\u001B[39m\u001B[32m, line 1\u001B[39m\n\u001B[32m----> \u001B[39m\u001B[32m1\u001B[39m \u001B[43mit\u001B[49m\u001B[43m.\u001B[49m\u001B[34;43m__next__\u001B[39;49m\u001B[43m(\u001B[49m\u001B[43m)\u001B[49m\n",
      "\u001B[31mStopIteration\u001B[39m: "
     ]
    }
   ],
   "execution_count": 6
  },
  {
   "metadata": {},
   "cell_type": "markdown",
   "source": [
    "#### **支持迭代**\n",
    "如果想要将迭代添加到自己的对象中，那么了解迭代非常有用。例如：自定义容器。\n",
    "```\n",
    "class Portfolio:\n",
    "    def __init__(self):\n",
    "        self.holdings = []\n",
    "\n",
    "    def __iter__(self):\n",
    "        return self.holdings.__iter__()\n",
    "    ...\n",
    "\n",
    "port = Portfolio()\n",
    "for s in port:\n",
    "    ...\n",
    "```"
   ],
   "id": "4c0ab852616af5eb"
  },
  {
   "metadata": {},
   "cell_type": "markdown",
   "source": [
    "### 练习\n",
    "#### **练习 6.1：迭代演示 **\n",
    "创建以下列表："
   ],
   "id": "a8abdc3c9a9020d2"
  },
  {
   "metadata": {
    "ExecuteTime": {
     "end_time": "2025-10-26T10:35:51.757491Z",
     "start_time": "2025-10-26T10:35:51.754244Z"
    }
   },
   "cell_type": "code",
   "source": "a = [1,9,4,25,16]",
   "id": "3a5c7c21873947dc",
   "outputs": [],
   "execution_count": 7
  },
  {
   "metadata": {},
   "cell_type": "markdown",
   "source": "请手动迭代该列表：先调用`__iter__()`方法获取一个迭代器，然后调用`__next__()`方法获取下一个元素。",
   "id": "ff722dd18f985f8a"
  },
  {
   "metadata": {
    "ExecuteTime": {
     "end_time": "2025-10-26T10:38:20.943825Z",
     "start_time": "2025-10-26T10:38:20.921622Z"
    }
   },
   "cell_type": "code",
   "source": [
    "i = a.__iter__()\n",
    "i\n",
    "print(i.__next__())\n",
    "print(i.__next__())\n",
    "print(i.__next__())\n",
    "print(i.__next__())\n",
    "print(i.__next__())\n",
    "print(i.__next__())"
   ],
   "id": "cabafc4f56cae09c",
   "outputs": [
    {
     "name": "stdout",
     "output_type": "stream",
     "text": [
      "1\n",
      "9\n",
      "4\n",
      "25\n",
      "16\n"
     ]
    },
    {
     "ename": "StopIteration",
     "evalue": "",
     "output_type": "error",
     "traceback": [
      "\u001B[31m---------------------------------------------------------------------------\u001B[39m",
      "\u001B[31mStopIteration\u001B[39m                             Traceback (most recent call last)",
      "\u001B[36mCell\u001B[39m\u001B[36m \u001B[39m\u001B[32mIn[10]\u001B[39m\u001B[32m, line 8\u001B[39m\n\u001B[32m      6\u001B[39m \u001B[38;5;28mprint\u001B[39m(i.\u001B[34m__next__\u001B[39m())\n\u001B[32m      7\u001B[39m \u001B[38;5;28mprint\u001B[39m(i.\u001B[34m__next__\u001B[39m())\n\u001B[32m----> \u001B[39m\u001B[32m8\u001B[39m \u001B[38;5;28mprint\u001B[39m(\u001B[43mi\u001B[49m\u001B[43m.\u001B[49m\u001B[34;43m__next__\u001B[39;49m\u001B[43m(\u001B[49m\u001B[43m)\u001B[49m)\n",
      "\u001B[31mStopIteration\u001B[39m: "
     ]
    }
   ],
   "execution_count": 10
  },
  {
   "metadata": {},
   "cell_type": "markdown",
   "source": "内置函数 `next()` 是调用迭代器的 `__next__()` 方法的快捷方式。尝试在一个文件对象上使用 `next()` 方法：",
   "id": "edd015c9c36db7fc"
  },
  {
   "metadata": {
    "ExecuteTime": {
     "end_time": "2025-10-26T10:43:55.538012Z",
     "start_time": "2025-10-26T10:43:55.533585Z"
    }
   },
   "cell_type": "code",
   "source": [
    "f = open('../Data/portfolio.csv')\n",
    "f.__iter__()     # 这里返回文件对象自身，因为文件对象实现了迭代协议。"
   ],
   "id": "13be0e70947ec8d1",
   "outputs": [
    {
     "data": {
      "text/plain": [
       "<_io.TextIOWrapper name='../Data/portfolio.csv' mode='r' encoding='cp936'>"
      ]
     },
     "execution_count": 15,
     "metadata": {},
     "output_type": "execute_result"
    }
   ],
   "execution_count": 15
  },
  {
   "metadata": {
    "ExecuteTime": {
     "end_time": "2025-10-26T10:42:05.976864Z",
     "start_time": "2025-10-26T10:42:05.972502Z"
    }
   },
   "cell_type": "code",
   "source": "next(f)",
   "id": "afd525bbdb23676",
   "outputs": [
    {
     "data": {
      "text/plain": [
       "'name,shares,price\\n'"
      ]
     },
     "execution_count": 12,
     "metadata": {},
     "output_type": "execute_result"
    }
   ],
   "execution_count": 12
  },
  {
   "metadata": {
    "ExecuteTime": {
     "end_time": "2025-10-26T10:42:17.721234Z",
     "start_time": "2025-10-26T10:42:17.717312Z"
    }
   },
   "cell_type": "code",
   "source": "next(f)",
   "id": "b1ae0d348b2af79a",
   "outputs": [
    {
     "data": {
      "text/plain": [
       "'\"AA\",100,32.20\\n'"
      ]
     },
     "execution_count": 13,
     "metadata": {},
     "output_type": "execute_result"
    }
   ],
   "execution_count": 13
  },
  {
   "metadata": {
    "ExecuteTime": {
     "end_time": "2025-10-26T10:42:27.151750Z",
     "start_time": "2025-10-26T10:42:27.147174Z"
    }
   },
   "cell_type": "code",
   "source": "next(f)",
   "id": "45b08eb337177290",
   "outputs": [
    {
     "data": {
      "text/plain": [
       "'\"IBM\",50,91.10\\n'"
      ]
     },
     "execution_count": 14,
     "metadata": {},
     "output_type": "execute_result"
    }
   ],
   "execution_count": 14
  },
  {
   "metadata": {},
   "cell_type": "markdown",
   "source": "持续调用`next()`，直到文件末尾。方法会抛出一个 `StopIteration` 异常，因为文件对象已经没有更多元素了。",
   "id": "d9e4bc10e03484fd"
  },
  {
   "metadata": {},
   "cell_type": "markdown",
   "source": [
    "#### **练习 6.2：支持迭代**\n",
    "有时候，你可能想要使自己的类对象支持迭代——尤其是你的类对象封装了已有的列表或者其它可迭代对象时。请在新的 `portfolio.py` 文件中定义如下类：\n",
    "```\n",
    "# portfolio.py\n",
    "\n",
    "class Portfolio:\n",
    "\n",
    "    def __init__(self, holdings):\n",
    "        self._holdings = holdings\n",
    "\n",
    "    @property\n",
    "    def total_cost(self):\n",
    "        return sum([s.cost for s in self._holdings])\n",
    "\n",
    "    def tabulate_shares(self):\n",
    "        from collections import Counter\n",
    "        total_shares = Counter()\n",
    "        for s in self._holdings:\n",
    "            total_shares[s.name] += s.shares\n",
    "        return total_shares\n",
    "```\n",
    "Portfolio 类封装了一个列表，同时拥有一些方法，如： `total_cost` property。请修改 `report.py` 文件中的 `read_portfolio()` 函数，以便 `read_portfolio()` 函数能够像下面这样创建 Portfolio 类的实例：\n",
    "```\n",
    "# report.py\n",
    "...\n",
    "\n",
    "import fileparse\n",
    "from stock import Stock\n",
    "from portfolio import Portfolio\n",
    "\n",
    "def read_portfolio(filename):\n",
    "    '''\n",
    "    Read a stock portfolio file into a list of dictionaries with keys\n",
    "    name, shares, and price.\n",
    "    '''\n",
    "    with open(filename) as file:\n",
    "        portdicts = fileparse.parse_csv(file,\n",
    "                                        select=['name','shares','price'],\n",
    "                                        types=[str,int,float])\n",
    "\n",
    "    portfolio = [ Stock(d['name'], d['shares'], d['price']) for d in portdicts ]\n",
    "    return Portfolio(portfolio)\n",
    "...\n",
    "```\n",
    "接着运行 `report.py` 程序。你会发现程序运行失败，原因很明显，因为 `Portfolio` 的实例不是可迭代对象。"
   ],
   "id": "c722f90ff8d522aa"
  },
  {
   "metadata": {
    "ExecuteTime": {
     "end_time": "2025-10-26T11:05:17.333117Z",
     "start_time": "2025-10-26T11:05:17.325393Z"
    }
   },
   "cell_type": "code",
   "source": [
    "import report\n",
    "report.portfolio_report('../Data/portfolio.csv', '../Data/prices.csv')"
   ],
   "id": "c5ff7dfa12b0ec7f",
   "outputs": [
    {
     "name": "stdout",
     "output_type": "stream",
     "text": [
      "        名称       股份数量         价格         变化\n",
      "---------- ---------- ---------- ---------- \n",
      "        AA        100       9.22     -22.98\n",
      "       IBM         50     106.28      15.18\n",
      "       CAT        150      35.46     -47.98\n",
      "      MSFT        200      20.89     -30.34\n",
      "        GE         95      13.48     -26.89\n",
      "      MSFT         50      20.89     -44.21\n",
      "       IBM        100     106.28      35.84\n"
     ]
    }
   ],
   "execution_count": 1
  },
  {
   "metadata": {},
   "cell_type": "markdown",
   "source": [
    "可以通过修改 `Portfolio` 类，使 `Portfolio` 类支持迭代来解决此问题：\n",
    "```\n",
    "class Portfolio:\n",
    "\n",
    "    def __init__(self, holdings):\n",
    "        self._holdings = holdings\n",
    "\n",
    "    def __iter__(self):\n",
    "        return self._holdings.__iter__()\n",
    "\n",
    "    @property\n",
    "    def total_cost(self):\n",
    "        return sum([s.shares*s.price for s in self._holdings])\n",
    "\n",
    "    def tabulate_shares(self):\n",
    "        from collections import Counter\n",
    "        total_shares = Counter()\n",
    "        for s in self._holdings:\n",
    "            total_shares[s.name] += s.shares\n",
    "        return total_shares\n",
    "```\n",
    "修改完成后， `report.py` 程序应该能够再次正常运行。同时，请修改 `pcost.py` 程序，以便能够像下面这样使用新的 `Portfolio` 对象：\n",
    "```\n",
    "# pcost.py\n",
    "\n",
    "import report\n",
    "\n",
    "def portfolio_cost(filename):\n",
    "    '''\n",
    "    Computes the total cost (shares*price) of a portfolio file\n",
    "    '''\n",
    "    portfolio = report.read_portfolio(filename)\n",
    "    return portfolio.total_cost\n",
    "...\n",
    "```\n",
    "对 `pcost.py` 程序进行测试并确保其能正常工作：\n",
    "```\n",
    ">>> import pcost\n",
    ">>> pcost.portfolio_cost('Data/portfolio.csv')\n",
    "44671.15\n",
    ">>>\n",
    "```"
   ],
   "id": "c8376f5cf0c5b89a"
  },
  {
   "metadata": {
    "ExecuteTime": {
     "end_time": "2025-10-26T11:18:14.824405Z",
     "start_time": "2025-10-26T11:18:14.813843Z"
    }
   },
   "cell_type": "code",
   "source": [
    "import pcost\n",
    "pcost.portfolio_cost('../Data/portfolio.csv')"
   ],
   "id": "58f7784532097f4b",
   "outputs": [
    {
     "data": {
      "text/plain": [
       "44671.15"
      ]
     },
     "execution_count": 1,
     "metadata": {},
     "output_type": "execute_result"
    }
   ],
   "execution_count": 1
  },
  {
   "metadata": {},
   "cell_type": "markdown",
   "source": [
    "#### **练习 6.3：创建一个更合适的容器**\n",
    "通常，我们创建一个容器类时，不仅希望该类能够迭代，同时也希望该类能够具有一些其它用途。请修改 `Portfolio` 类，使其具有以下这些特殊方法：\n",
    "```\n",
    "class Portfolio:\n",
    "    def __init__(self, holdings):\n",
    "        self._holdings = holdings\n",
    "\n",
    "    def __iter__(self):\n",
    "        return self._holdings.__iter__()\n",
    "\n",
    "    def __len__(self):\n",
    "        return len(self._holdings)\n",
    "\n",
    "    def __getitem__(self, index):\n",
    "        return self._holdings[index]\n",
    "\n",
    "    def __contains__(self, name):\n",
    "        return any([s.name == name for s in self._holdings])\n",
    "\n",
    "    @property\n",
    "    def total_cost(self):\n",
    "        return sum([s.shares*s.price for s in self._holdings])\n",
    "\n",
    "    def tabulate_shares(self):\n",
    "        from collections import Counter\n",
    "        total_shares = Counter()\n",
    "        for s in self._holdings:\n",
    "            total_shares[s.name] += s.shares\n",
    "        return total_shares\n",
    "```\n",
    "现在，使用 `Portfolio` 类进行一些实验："
   ],
   "id": "54a0b132066febf4"
  },
  {
   "metadata": {
    "ExecuteTime": {
     "end_time": "2025-10-26T11:21:57.055372Z",
     "start_time": "2025-10-26T11:21:57.045189Z"
    }
   },
   "cell_type": "code",
   "source": [
    "import report\n",
    "portfolio = report.read_portfolio('../Data/portfolio.csv')\n",
    "len(portfolio)"
   ],
   "id": "b7342c3cb7db531a",
   "outputs": [
    {
     "data": {
      "text/plain": [
       "7"
      ]
     },
     "execution_count": 1,
     "metadata": {},
     "output_type": "execute_result"
    }
   ],
   "execution_count": 1
  },
  {
   "metadata": {
    "ExecuteTime": {
     "end_time": "2025-10-26T11:22:06.509905Z",
     "start_time": "2025-10-26T11:22:06.505578Z"
    }
   },
   "cell_type": "code",
   "source": "portfolio[0]",
   "id": "6f6f59ad5e974bca",
   "outputs": [
    {
     "data": {
      "text/plain": [
       "{'name': 'AA', 'shares': 100, 'price': 32.2}"
      ]
     },
     "execution_count": 2,
     "metadata": {},
     "output_type": "execute_result"
    }
   ],
   "execution_count": 2
  },
  {
   "metadata": {
    "ExecuteTime": {
     "end_time": "2025-10-26T11:22:35.785245Z",
     "start_time": "2025-10-26T11:22:35.780928Z"
    }
   },
   "cell_type": "code",
   "source": "portfolio[1]",
   "id": "28ef0ae625ef76b9",
   "outputs": [
    {
     "data": {
      "text/plain": [
       "{'name': 'IBM', 'shares': 50, 'price': 91.1}"
      ]
     },
     "execution_count": 3,
     "metadata": {},
     "output_type": "execute_result"
    }
   ],
   "execution_count": 3
  },
  {
   "metadata": {
    "ExecuteTime": {
     "end_time": "2025-10-26T11:22:55.231611Z",
     "start_time": "2025-10-26T11:22:55.226578Z"
    }
   },
   "cell_type": "code",
   "source": "portfolio[0:3]",
   "id": "deadc7e1738ac9e1",
   "outputs": [
    {
     "data": {
      "text/plain": [
       "[{'name': 'AA', 'shares': 100, 'price': 32.2},\n",
       " {'name': 'IBM', 'shares': 50, 'price': 91.1},\n",
       " {'name': 'CAT', 'shares': 150, 'price': 83.44}]"
      ]
     },
     "execution_count": 4,
     "metadata": {},
     "output_type": "execute_result"
    }
   ],
   "execution_count": 4
  },
  {
   "metadata": {
    "ExecuteTime": {
     "end_time": "2025-10-26T11:24:34.480443Z",
     "start_time": "2025-10-26T11:24:34.476894Z"
    }
   },
   "cell_type": "code",
   "source": [
    "print('IBM' in portfolio)\n",
    "# print('AAPL' in portfolio)"
   ],
   "id": "1e4f33d9240309a4",
   "outputs": [
    {
     "name": "stdout",
     "output_type": "stream",
     "text": [
      "False\n"
     ]
    }
   ],
   "execution_count": 6
  },
  {
   "metadata": {},
   "cell_type": "markdown",
   "source": "有关上述代码的一个重要发现——通常，如果一段代码和 Python 的其它代码\"类似（speaks the common vocabulary of how other parts of Python normally work）\"，那么该代码被认为是 “Pythonic” 的。同理，对于容器对象，其重要组成部分应该包括：支持迭代、可以进行索引、对所包含的元素进行判断，以及其它操作等等。",
   "id": "943dcffc483a2c98"
  },
  {
   "metadata": {},
   "cell_type": "markdown",
   "source": [
    "### 02 自定义迭代\n",
    "本节探究如何使用生成器函数自定义迭代。\n",
    "#### **问题**\n",
    "假设你想要自定义迭代模式。\n",
    "\n",
    "例如：倒数：\n",
    "```\n",
    "for x in countdown(10):\n",
    "    print(x, end=' ')\n",
    "10 9 8 7 6 5 4 3 2 1\n",
    "```\n",
    "有一个简单方法可以做到这一点。\n",
    "#### **生成器**\n",
    "生成器（generator）是定义了迭代的函数："
   ],
   "id": "8b92eb8cd2531942"
  },
  {
   "metadata": {
    "ExecuteTime": {
     "end_time": "2025-10-26T11:31:29.329620Z",
     "start_time": "2025-10-26T11:31:29.326578Z"
    }
   },
   "cell_type": "code",
   "source": [
    "def countdown(n):\n",
    "    while n > 0:\n",
    "        yield n\n",
    "        n -= 1"
   ],
   "id": "bf6f911c03715b18",
   "outputs": [],
   "execution_count": 7
  },
  {
   "metadata": {},
   "cell_type": "markdown",
   "source": "示例：",
   "id": "6faaf3b62f6d50c3"
  },
  {
   "metadata": {
    "ExecuteTime": {
     "end_time": "2025-10-26T11:31:45.510613Z",
     "start_time": "2025-10-26T11:31:45.506727Z"
    }
   },
   "cell_type": "code",
   "source": [
    "for x in countdown(10):\n",
    "    print(x, end=' ')"
   ],
   "id": "43c869f902540146",
   "outputs": [
    {
     "name": "stdout",
     "output_type": "stream",
     "text": [
      "10 9 8 7 6 5 4 3 2 1 "
     ]
    }
   ],
   "execution_count": 8
  },
  {
   "metadata": {},
   "cell_type": "markdown",
   "source": [
    "任何使用了 `yield` 语句的函数称为生成器。\n",
    "\n",
    "生成器函数的行为不同于普通函数。调用生成器函数会创建一个生成器对象（generator object），而不是立即执行函数："
   ],
   "id": "71cc5c9975afe78f"
  },
  {
   "metadata": {
    "ExecuteTime": {
     "end_time": "2025-10-26T12:32:48.276227Z",
     "start_time": "2025-10-26T12:32:48.270767Z"
    }
   },
   "cell_type": "code",
   "source": [
    "def countdown(n):\n",
    "    # Added a print statement\n",
    "    print('Counting down from', n)\n",
    "    while n > 0:\n",
    "        yield n\n",
    "        n -= 1\n",
    "\n",
    "x = countdown(10)\n",
    "x"
   ],
   "id": "f63b698c0e4d213d",
   "outputs": [
    {
     "data": {
      "text/plain": [
       "<generator object countdown at 0x0000017255E9E190>"
      ]
     },
     "execution_count": 9,
     "metadata": {},
     "output_type": "execute_result"
    }
   ],
   "execution_count": 9
  },
  {
   "metadata": {},
   "cell_type": "markdown",
   "source": "生成器函数只有在`__next__()` 方法被调用时才执行。",
   "id": "5fb9b6e5e161dfdd"
  },
  {
   "metadata": {
    "ExecuteTime": {
     "end_time": "2025-10-26T12:35:07.644668Z",
     "start_time": "2025-10-26T12:35:07.639654Z"
    }
   },
   "cell_type": "code",
   "source": [
    "x = countdown(10)\n",
    "x\n",
    "x.__next__()"
   ],
   "id": "8851219f3ac84a5e",
   "outputs": [
    {
     "name": "stdout",
     "output_type": "stream",
     "text": [
      "Counting down from 10\n"
     ]
    },
    {
     "data": {
      "text/plain": [
       "10"
      ]
     },
     "execution_count": 11,
     "metadata": {},
     "output_type": "execute_result"
    }
   ],
   "execution_count": 11
  },
  {
   "metadata": {},
   "cell_type": "markdown",
   "source": "`yield`生成一个值，但是挂起（suspend）函数的执行。生成器函数会在下次调用 `__next__()` 方法时恢复（resume）执行。",
   "id": "f9939be8d0f2f53c"
  },
  {
   "metadata": {
    "ExecuteTime": {
     "end_time": "2025-10-26T12:37:43.857777Z",
     "start_time": "2025-10-26T12:37:43.853278Z"
    }
   },
   "cell_type": "code",
   "source": "x.__next__()",
   "id": "34757ab343af77da",
   "outputs": [
    {
     "data": {
      "text/plain": [
       "9"
      ]
     },
     "execution_count": 12,
     "metadata": {},
     "output_type": "execute_result"
    }
   ],
   "execution_count": 12
  },
  {
   "metadata": {
    "ExecuteTime": {
     "end_time": "2025-10-26T12:39:37.576270Z",
     "start_time": "2025-10-26T12:39:37.572491Z"
    }
   },
   "cell_type": "code",
   "source": "x.__next__()",
   "id": "ac688e291485d6ba",
   "outputs": [
    {
     "data": {
      "text/plain": [
       "2"
      ]
     },
     "execution_count": 19,
     "metadata": {},
     "output_type": "execute_result"
    }
   ],
   "execution_count": 19
  },
  {
   "metadata": {},
   "cell_type": "markdown",
   "source": "当生成器返回最后一个值后，再次迭代将会触发一个错误。",
   "id": "84c5b5a0bbfcfbf6"
  },
  {
   "metadata": {
    "ExecuteTime": {
     "end_time": "2025-10-26T12:40:11.570501Z",
     "start_time": "2025-10-26T12:40:11.233569Z"
    }
   },
   "cell_type": "code",
   "source": [
    "x.__next__()\n",
    "x.__next__()"
   ],
   "id": "cd631ab72ba46dec",
   "outputs": [
    {
     "ename": "StopIteration",
     "evalue": "",
     "output_type": "error",
     "traceback": [
      "\u001B[31m---------------------------------------------------------------------------\u001B[39m",
      "\u001B[31mStopIteration\u001B[39m                             Traceback (most recent call last)",
      "\u001B[36mCell\u001B[39m\u001B[36m \u001B[39m\u001B[32mIn[20]\u001B[39m\u001B[32m, line 2\u001B[39m\n\u001B[32m      1\u001B[39m x.\u001B[34m__next__\u001B[39m()\n\u001B[32m----> \u001B[39m\u001B[32m2\u001B[39m \u001B[43mx\u001B[49m\u001B[43m.\u001B[49m\u001B[34;43m__next__\u001B[39;49m\u001B[43m(\u001B[49m\u001B[43m)\u001B[49m\n",
      "\u001B[31mStopIteration\u001B[39m: "
     ]
    }
   ],
   "execution_count": 20
  },
  {
   "metadata": {},
   "cell_type": "markdown",
   "source": "观察：生成器函数实现的协议与 `for` 语句在列表、元组、字典、文件上使用的底层协议相同。",
   "id": "52cc5c22dcbfafce"
  },
  {
   "metadata": {},
   "cell_type": "markdown",
   "source": [
    "### 练习\n",
    "#### **练习 6.4：一个简单的生成器**\n",
    "如果想要自定义迭代，那么你应该始终考虑生成器函数。生成器函数非常容易编写——创建一个函数，执行所需的迭代逻辑，并使用 `yield` 发送一个值。\n",
    "\n",
    "例如，创建一个在文件各行中查找匹配子串的生成器："
   ],
   "id": "ab081059d58fa4f7"
  },
  {
   "metadata": {
    "ExecuteTime": {
     "end_time": "2025-10-26T12:44:33.373966Z",
     "start_time": "2025-10-26T12:44:33.369199Z"
    }
   },
   "cell_type": "code",
   "source": [
    "def filematch(filename, substr):\n",
    "    with open(filename, 'r') as f:\n",
    "        for line in f:\n",
    "            if substr in line:\n",
    "                yield line\n",
    "for line in open('../Data/portfolio.csv'):\n",
    "    print(line, end=' ')"
   ],
   "id": "75ade6a0381676ff",
   "outputs": [
    {
     "name": "stdout",
     "output_type": "stream",
     "text": [
      "name,shares,price\n",
      " \"AA\",100,32.20\n",
      " \"IBM\",50,91.10\n",
      " \"CAT\",150,83.44\n",
      " \"MSFT\",200,51.23\n",
      " \"GE\",95,40.37\n",
      " \"MSFT\",50,65.10\n",
      " \"IBM\",100,70.44\n",
      " "
     ]
    }
   ],
   "execution_count": 21
  },
  {
   "metadata": {
    "ExecuteTime": {
     "end_time": "2025-10-26T12:45:35.212627Z",
     "start_time": "2025-10-26T12:45:35.207554Z"
    }
   },
   "cell_type": "code",
   "source": [
    "for line in filematch('../Data/portfolio.csv', 'IBM'):\n",
    "    print(line, end=' ')"
   ],
   "id": "8b444969a75cf86a",
   "outputs": [
    {
     "name": "stdout",
     "output_type": "stream",
     "text": [
      "\"IBM\",50,91.10\n",
      " \"IBM\",100,70.44\n",
      " "
     ]
    }
   ],
   "execution_count": 22
  },
  {
   "metadata": {},
   "cell_type": "markdown",
   "source": [
    "这是一种有趣的思想——你可以在函数中隐藏自定义的处理过程，并将该函数应用于 for 循环。下一个例子探究一种更不寻常的情况。\n",
    "#### **练习 6.5：监视流数据源**\n",
    "生成器可应用于监视实时数据源（如：日志文件，股票市场消息）。本部分，我们将对“使用生成器监视实时数据源”这一思想进行探索。首先，请严格遵循以下说明。\n",
    "`Data/stocksim.py` 用来模仿股市数据，将实时数据不断的写入到 `Data/stocklog.csv` 文件。请打开一个独立的命令行窗口，进入到 `Data/` 目录，然后运行 `stocksim.py` 程序：\n",
    "```\n",
    "bash % python3 stocksim.py\n",
    "```\n",
    "如果你使用的是 Windows 系统，那么请找到 `stocksim.py` 文件，然后双击该文件运行。然后，让我们先把这个程序放到一边（让它一直在那运行），打开另外一个命令行窗口，查看正在被模拟程序（译注：`stocksim.py`）写入数据的 `Data/stocklog.csv` 文件（译注：如果使用的是 Linux 系统，那么可以进入到 Data 目录下，然后使用 `tail -f stocklog.csv` 命令查看）。你应该可以看到每隔几秒新的文本行被添加到 `Data/stocklog.csv` 文件中。同样，让程序在后台运行——该程序会运行几个小时（对此不用担心）。\n",
    "\n",
    "`stocksim.py` 程序运行后，让我们编写一个程序来打开 `Data/stocklog.csv` 文件、移动到文件末尾、并查看新的输出。请在 Work 目录下创建 `follow.py` 文件，并把以下代码放入其中：\n",
    "```\n",
    "# follow.py\n",
    "import os\n",
    "import time\n",
    "\n",
    "f = open('Data/stocklog.csv')\n",
    "f.seek(0, os.SEEK_END)   # Move file pointer 0 bytes from end of file\n",
    "\n",
    "while True:\n",
    "    line = f.readline()\n",
    "    if line == '':\n",
    "        time.sleep(0.1)   # Sleep briefly and retry\n",
    "        continue\n",
    "    fields = line.split(',')\n",
    "    name = fields[0].strip('\"')\n",
    "    price = float(fields[1])\n",
    "    change = float(fields[4])\n",
    "    if change < 0:\n",
    "        print(f'{name:>10s} {price:>10.2f} {change:>10.2f}')\n",
    "```\n",
    "运行 `follow.py` 程序，你将会看到实时的股票报价（stock ticker）。 `follow.py` 里的代码类似于 Unix 系统查看日志文件的 `tail -f` 命令。\n",
    "\n",
    "注意事项：在本示例中，`readline()` 方法的使用与通常从文件中读取行的方式稍微有点不同（通常使用 `for` 循环）。在这种情况下，我们使用 `readline()` 来重复探测文件的末尾，以查看是否添加了新的数据（`readline()` 方法返回新的数据或者空字符串）。"
   ],
   "id": "59b9c0d604fb645e"
  },
  {
   "metadata": {},
   "cell_type": "markdown",
   "source": [
    "#### **练习 6.6：使用生成器生成数据**\n",
    "查看练习 6.5 中代码你会发现，代码的第一部分产生了几行数据，而 `while` 循环末尾的语句消费数据。生成器的一个主要特性是你可以将生成数据的代码移动到可重用的函数中。\n",
    "\n",
    "请修改练习 6.5 的代码，以便通过生成器函数` follow(filename) `执行文件读取。请实现更改以便下面的代码能够工作：\n",
    "```\n",
    ">>> for line in follow('stocklog.csv'):\n",
    "          print(line, end='')\n",
    "\n",
    "... Should see lines of output produced here ...\n",
    "```\n",
    "请修改股票报价代码，使代码看起来像下面这样：\n",
    "```\n",
    "if __name__ == '__main__':\n",
    "    for line in follow('stocklog.csv'):\n",
    "        fields = line.split(',')\n",
    "        name = fields[0].strip('\"')\n",
    "        price = float(fields[1])\n",
    "        change = float(fields[4])\n",
    "        if change < 0:\n",
    "            print(f'{name:>10s} {price:>10.2f} {change:>10.2f}')\n",
    "```"
   ],
   "id": "4730756fae71946"
  },
  {
   "metadata": {},
   "cell_type": "markdown",
   "source": [
    "#### **练习 6.7：查看股票投资组合**\n",
    "请修改 `follow.py` 程序，以便程序能够查看股票数据流，并打印股票投资组合中的那些股票的信息。示例：\n",
    "```\n",
    "if __name__ == '__main__':\n",
    "    import report\n",
    "\n",
    "    portfolio = report.read_portfolio('Data/portfolio.csv')\n",
    "\n",
    "    for line in follow('Data/stocklog.csv'):\n",
    "        fields = line.split(',')\n",
    "        name = fields[0].strip('\"')\n",
    "        price = float(fields[1])\n",
    "        change = float(fields[4])\n",
    "        if name in portfolio:\n",
    "            print(f'{name:>10s} {price:>10.2f} {change:>10.2f}')\n",
    "```\n",
    "注意事项：要想这段代码能够运行， `Portfolio` 类必须支持 `in` 运算符。请参阅 练习 6.3 ，确保 `Portfolio` 类实现了 `__contains__()` 运算符。"
   ],
   "id": "50d26c0cec56d45b"
  },
  {
   "metadata": {},
   "cell_type": "markdown",
   "source": [
    "#### **讨论**\n",
    "在这里，你将一个有趣的迭代模式（在文件末尾读取行）移动到函数中。`follow()`函数现在是可以在任何程序中使用的完全通用的实用程序。例如，你可以使用 `follow()` 函数查看服务器日志、调试日志、其它类似的数据源。"
   ],
   "id": "40fb4479339601ee"
  },
  {
   "metadata": {},
   "cell_type": "markdown",
   "source": [
    "### 03 生产者，消费者和管道\n",
    "生成器在设置各种生产者/消费者问题（produce/consumer problems）和数据流管道（pipeline）中非常有用。本节将对此进行讨论。\n",
    "#### **生产者/消费者问题**\n",
    "生成器与各种形式的生产者消费者问题密切相关。\n",
    "```\n",
    "# Prodcucer\n",
    "def follow(f):\n",
    "    ...\n",
    "    while True:\n",
    "        ...\n",
    "        yield line        # Produces value in `line` below\n",
    "        ...\n",
    "\n",
    "# Consumer\n",
    "for line in follow(f):    # Consumes value from `yield` above\n",
    "    ...\n",
    "```\n",
    "`yield`语句生成给`for`语句消费的值。\n",
    "#### **生成器管道**\n",
    "你可以使用生成器的这方面特性来设置进程管道（类似于 Unix 管道（pipe））。\n",
    "\n",
    "_producer → processing → processing → consumer_\n",
    "\n",
    "进程管道包括初始的数据生产者、中间的处理阶段、最后的消费者。\n",
    "\n",
    "_**producer** → processing → processing → consumer_\n",
    "```\n",
    "def producer():\n",
    "    ...\n",
    "    yield item\n",
    "    ...\n",
    "```\n",
    "通常情况下，生产者是一个生成器，尽管也可以是其它的序列列表。`yield` 将数据输入管道。\n",
    "\n",
    "_producer → processing → processing → **consumer**_\n",
    "```\n",
    "def consumer(s):\n",
    "    for item in s:\n",
    "        ...\n",
    "```\n",
    "消费者是一个 for 循环，获取数据（译注：items）并对数据执行某些操作。\n",
    "\n",
    "_producer → **processing → processing** → consumer_\n",
    "```\n",
    "def processing(s):\n",
    "    for item in s:\n",
    "        ...\n",
    "        yield newitem\n",
    "        ...\n",
    "```\n",
    "中间的处理阶段同时消费和生产数据。它们可能修改数据流，也可能筛选数据流（丢弃数据）。\n",
    "\n",
    "_producer → processing → processing → consumer_\n",
    "```\n",
    "def producer():\n",
    "    ...\n",
    "    yield item          # yields the item that is received by the `processing`\n",
    "    ...\n",
    "\n",
    "def processing(s):\n",
    "    for item in s:      # Comes from the `producer`\n",
    "        ...\n",
    "        yield newitem   # yields a new item\n",
    "        ...\n",
    "\n",
    "def consumer(s):\n",
    "    for item in s:      # Comes from the `processing`\n",
    "        ...\n",
    "```\n",
    "设置管道的代码如下：\n",
    "```\n",
    "a = producer()\n",
    "b = processing(a)\n",
    "c = consumer(b)\n",
    "```\n",
    "你会发现数据逐渐地流向不同的函数。"
   ],
   "id": "63c76cb7e7a8ac95"
  },
  {
   "metadata": {},
   "cell_type": "markdown",
   "source": [
    "### 练习\n",
    "对于本练习，`stocksim.py` 程序仍需要在后台运行。并且，你将使用到上一节练习（译注：练习 6.7）编写的 `follow()` 函数。\n",
    "#### **练习 6.8：创建一个简单的管道**\n",
    "让我们来看看管道的思想。请创建下面这个函数：\n",
    "```\n",
    ">>> def filematch(lines, substr):\n",
    "        for line in lines:\n",
    "            if substr in line:\n",
    "                yield line\n",
    "\n",
    ">>>\n",
    "```\n",
    "`filematch()` 函数除了不再打开文件，几乎与上一节练习的第一个生成器示例完全相同——仅仅对作为参数给出的行序列进行操作。现在，请尝试如下操作：\n",
    "```\n",
    ">>> from follow import follow\n",
    ">>> lines = follow('Data/stocklog.csv')\n",
    ">>> ibm = filematch(lines, 'IBM')\n",
    ">>> for line in ibm:\n",
    "        print(line)\n",
    "\n",
    "... wait for output ...\n",
    "```\n",
    "虽然输出可能需要一定时间才会出现，但是，最后你一定会看到包含 IBM 数据的行。"
   ],
   "id": "134b83e3690a105f"
  },
  {
   "metadata": {},
   "cell_type": "code",
   "source": [
    "def filematch(lines, substr):\n",
    "    for line in lines:\n",
    "        if substr in line:\n",
    "            yield line\n",
    "\n",
    "from follow import follow\n",
    "lines = follow('stocklog.csv')\n",
    "ibm = filematch(lines, 'IBM')\n",
    "for line in ibm:\n",
    "    print(line)"
   ],
   "id": "c12e623f642a4b49",
   "outputs": [],
   "execution_count": null
  },
  {
   "metadata": {},
   "cell_type": "markdown",
   "source": [
    "#### **练习 6.9：创建一个复杂的管道**\n",
    "通过执行更多操作来进一步理解管道的思想。"
   ],
   "id": "a94193a6988d7848"
  },
  {
   "metadata": {},
   "cell_type": "code",
   "source": [
    "from follow import follow\n",
    "import csv\n",
    "lines = follow('stocklog.csv')\n",
    "rows = csv.reader(lines)\n",
    "for row in rows:\n",
    "    print(row)"
   ],
   "id": "987c387db911ab49",
   "outputs": [],
   "execution_count": null
  },
  {
   "metadata": {},
   "cell_type": "markdown",
   "source": "这非常有趣。你在这里可以看到，` follow() `函数的输出被传递到 `csv.reader()`函数，并且，我们现在得到了一系列拆分的行。",
   "id": "94f930a1d2d04e04"
  },
  {
   "metadata": {},
   "cell_type": "markdown",
   "source": [
    "#### **练习 6.10：创建更多管道组件**\n",
    "让我们把这样的思想扩展到更大的管道中。首先，创建 `ticker.py` 文件，然后在 `ticker.py` 文件里面创建一个函数，像上面一样读取 CSV 文件：\n",
    "```\n",
    "# ticker.py\n",
    "\n",
    "from follow import follow\n",
    "import csv\n",
    "\n",
    "def parse_stock_data(lines):\n",
    "    rows = csv.reader(lines)\n",
    "    return rows\n",
    "\n",
    "if __name__ == '__main__':\n",
    "    lines = follow('Data/stocklog.csv')\n",
    "    rows = parse_stock_data(lines)\n",
    "    for row in rows:\n",
    "        print(row)\n",
    "```\n",
    "接着，创建一个选择特定列的新函数：\n",
    "```\n",
    "# ticker.py\n",
    "...\n",
    "def select_columns(rows, indices):\n",
    "    for row in rows:\n",
    "        yield [row[index] for index in indices]\n",
    "...\n",
    "def parse_stock_data(lines):\n",
    "    rows = csv.reader(lines)\n",
    "    rows = select_columns(rows, [0, 1, 4])\n",
    "    return rows\n",
    "```\n",
    "再次运行程序，你应该可以看到输出缩小如下：\n",
    "```\n",
    "['BA', '98.35', '0.16']\n",
    "['AA', '39.63', '-0.03']\n",
    "['XOM', '82.45','-0.23']\n",
    "['PG', '62.95', '-0.12']\n",
    "...\n",
    "```\n",
    "再接着，创建一个生成器函数以转换数据类型并构建字典。示例：\n",
    "```\n",
    "# ticker.py\n",
    "...\n",
    "\n",
    "def convert_types(rows, types):\n",
    "    for row in rows:\n",
    "        yield [func(val) for func, val in zip(types, row)]\n",
    "\n",
    "def make_dicts(rows, headers):\n",
    "    for row in rows:\n",
    "        yield dict(zip(headers, row))\n",
    "...\n",
    "def parse_stock_data(lines):\n",
    "    rows = csv.reader(lines)\n",
    "    rows = select_columns(rows, [0, 1, 4])\n",
    "    rows = convert_types(rows, [str, float, float])\n",
    "    rows = make_dicts(rows, ['name', 'price', 'change'])\n",
    "    return rows\n",
    "...\n",
    "```\n",
    "再次运行程序，你应该能够看到像下面这样的字典流：\n",
    "```\n",
    "{ 'name':'BA', 'price':98.35, 'change':0.16 }\n",
    "{ 'name':'AA', 'price':39.63, 'change':-0.03 }\n",
    "{ 'name':'XOM', 'price':82.45, 'change': -0.23 }\n",
    "{ 'name':'PG', 'price':62.95, 'change':-0.12 }\n",
    "...\n",
    "```"
   ],
   "id": "bf5e0692ffcbc7b0"
  },
  {
   "metadata": {},
   "cell_type": "markdown",
   "source": [
    "#### **练习 6.11：筛选数据**\n",
    "创建一个筛选数据的函数。示例：\n",
    "```\n",
    "# ticker.py\n",
    "...\n",
    "\n",
    "def filter_symbols(rows, names):\n",
    "    for row in rows:\n",
    "        if row['name'] in names:\n",
    "            yield row\n",
    "```\n",
    "使用该函数可以筛选出投资组合中的股票：\n",
    "```\n",
    "import report\n",
    "portfolio = report.read_portfolio('Data/portfolio.csv')\n",
    "rows = parse_stock_data(follow('Data/stocklog.csv'))\n",
    "rows = filter_symbols(rows, portfolio)\n",
    "for row in rows:\n",
    "    print(row)\n",
    "```\n",
    "#### **练习 6.12：整合所有的代码**\n",
    "请在 `ticker.py` 文件中编写函数 `ticker(portfile, logfile, fmt)` ，该函数根据给定的投资组合、日志文件和表格格式创建实时的股票报价器。示例：\n",
    "```\n",
    ">>> from ticker import ticker\n",
    ">>> ticker('Data/portfolio.csv', 'Data/stocklog.csv', 'txt')\n",
    "      Name      Price     Change\n",
    "---------- ---------- ----------\n",
    "        GE      37.14      -0.18\n",
    "      MSFT      29.96      -0.09\n",
    "       CAT      78.03      -0.49\n",
    "        AA      39.34      -0.32\n",
    "...\n",
    "\n",
    ">>> ticker('Data/portfolio.csv', 'Data/stocklog.csv', 'csv')\n",
    "Name,Price,Change\n",
    "IBM,102.79,-0.28\n",
    "CAT,78.04,-0.48\n",
    "AA,39.35,-0.31\n",
    "CAT,78.05,-0.47\n",
    "...\n",
    "```\n",
    "#### **讨论**\n",
    "心得体会：你可以创建各种生成器函数，并把它们链接在一起执行涉及数据流的管道处理。另外，你可以创建一个函数，把一系列的管道阶段打包到一个单独的函数中调用（例如 `parse_stock_data()` 函数）。"
   ],
   "id": "f8adbe0b6b580a63"
  },
  {
   "metadata": {},
   "cell_type": "markdown",
   "source": [
    "### 04 有关生成器的更多信息\n",
    "本节介绍其它与生成器相关的主题，包括生成器表达式（generator expressions）和 itertools 模块。\n",
    "#### **生成器表达式**\n",
    "生成器表达式可以理解为列表解析式（list comprehension）的生成器版本："
   ],
   "id": "4423c53e2bde39d1"
  },
  {
   "metadata": {
    "ExecuteTime": {
     "end_time": "2025-10-26T15:08:05.564118Z",
     "start_time": "2025-10-26T15:08:05.560509Z"
    }
   },
   "cell_type": "code",
   "source": [
    "a = [1,2,3,4]\n",
    "b = (2*x for x in a)\n",
    "b\n",
    "for i in b:\n",
    "    print(i, end=' ')"
   ],
   "id": "d254acee7e7786bc",
   "outputs": [
    {
     "name": "stdout",
     "output_type": "stream",
     "text": [
      "2 4 6 8 "
     ]
    }
   ],
   "execution_count": 31
  },
  {
   "metadata": {},
   "cell_type": "markdown",
   "source": [
    "生成器表达式与列表列表解析式的区别：\n",
    "*    不构造列表\n",
    "*    唯一有用的目的是迭代\n",
    "*    一旦被消费，无法重复使用\n",
    "生成器表达式语法：\n",
    "```\n",
    "(<expression> for i in s if <conditional>)\n",
    "```\n",
    "生成器表达式也可以用作函数参数："
   ],
   "id": "c2d35faeaaee71a6"
  },
  {
   "metadata": {
    "ExecuteTime": {
     "end_time": "2025-10-26T15:09:36.451531Z",
     "start_time": "2025-10-26T15:09:36.445906Z"
    }
   },
   "cell_type": "code",
   "source": "sum(x*x for x in a)",
   "id": "80c6ddfe39e7f026",
   "outputs": [
    {
     "data": {
      "text/plain": [
       "30"
      ]
     },
     "execution_count": 32,
     "metadata": {},
     "output_type": "execute_result"
    }
   ],
   "execution_count": 32
  },
  {
   "metadata": {},
   "cell_type": "markdown",
   "source": "生成器表达式可应用于任何迭代：",
   "id": "c1d13188437d4c62"
  },
  {
   "metadata": {
    "ExecuteTime": {
     "end_time": "2025-10-26T15:11:10.295837Z",
     "start_time": "2025-10-26T15:11:10.291513Z"
    }
   },
   "cell_type": "code",
   "source": [
    "a = [1,2,3,4]\n",
    "b = (x*x for x in a)\n",
    "c = (-x for x in b)\n",
    "for i in c:\n",
    "    print(i, end=' ')"
   ],
   "id": "e1b81d8c1b34b95a",
   "outputs": [
    {
     "name": "stdout",
     "output_type": "stream",
     "text": [
      "-1 -4 -9 -16 "
     ]
    }
   ],
   "execution_count": 33
  },
  {
   "metadata": {},
   "cell_type": "markdown",
   "source": [
    "生成器表达式在代码中的一个主要用途是：对序列进行计算，但只使用一次结果。例如，跳过文件中的所有注释。\n",
    "```\n",
    "f = open('somefile.txt')\n",
    "lines = (line for line in f if not line.startswith('#'))\n",
    "for line in lines:\n",
    "    ...\n",
    "f.close()\n",
    "```\n",
    "使用生成器，代码运行更快并且占用的内存更少，类似应用于流的过滤器。\n",
    "#### **为什么使用生成器**\n",
    "* 许多问题以迭代的形式进行表示会更清晰\n",
    "    - 对集合中的元素进行遍历，并执行某些操作（如查找、替换，修改等）。\n",
    "    - 处理管道（processing pipelines）可应用于各种数据处理问题。\n",
    "* 内存效率更高\n",
    "    - 只在需要的时候才生成值。\n",
    "    - 不构造庞大的列表。\n",
    "    - 可对流数据进行操作。\n",
    "* 生成器表达式鼓励代码复用\n",
    "    - 从使用迭代的代码中分离出迭代。\n",
    "    - 构建迭代函数工具箱，混合搭配（mix-n-match）使用各种工具。\n",
    "#### **itertools 模块**\n",
    "`itertools` 是 Python 自带的一个库模块，包含各种函数，旨在帮助开发迭代器/生成器。\n",
    "```\n",
    "itertools.chain(s1,s2)\n",
    "itertools.count(n)\n",
    "itertools.cycle(s)\n",
    "itertools.dropwhile(predicate, s)\n",
    "itertools.groupby(s)\n",
    "itertools.ifilter(predicate, s)\n",
    "itertools.imap(function, s1, ... sN)\n",
    "itertools.repeat(s, n)\n",
    "itertools.tee(s, ncopies)\n",
    "itertools.izip(s1, ... , sN)\n",
    "```\n",
    "`itertools` 模块中所有的函数都可以迭代地处理数据。并且，这些函数实现了各类迭代模式。\n",
    "\n",
    "有关生成器的更多信息可以查看 PyCon '08 上的 Generator Tricks for Systems Programmers 教程。"
   ],
   "id": "7d45393c4c43bf59"
  },
  {
   "metadata": {},
   "cell_type": "markdown",
   "source": [
    "### 练习\n",
    "在上一节练习中，我们编写代码监视写入日志文件的数据，并将其解析为行序列。\n",
    "\n",
    "本次练习将以上一节练习中的代码为基础，所以请确保 `Data/stocksim.py` 仍在运行。\n",
    "#### **练习 6.13：生成器表达式**\n",
    "生成器表达式是列表解析式的生成器版本。示例："
   ],
   "id": "6eff38eabdb5cdb3"
  },
  {
   "metadata": {
    "ExecuteTime": {
     "end_time": "2025-10-26T15:23:28.993604Z",
     "start_time": "2025-10-26T15:23:28.989257Z"
    }
   },
   "cell_type": "code",
   "source": [
    "nums = [1,2,3,4,5]\n",
    "squares = (x*x for x in nums)\n",
    "squares"
   ],
   "id": "42042acc5fc37eee",
   "outputs": [
    {
     "data": {
      "text/plain": [
       "<generator object <genexpr> at 0x0000017256851CB0>"
      ]
     },
     "execution_count": 41,
     "metadata": {},
     "output_type": "execute_result"
    }
   ],
   "execution_count": 41
  },
  {
   "metadata": {
    "ExecuteTime": {
     "end_time": "2025-10-26T15:23:31.214814Z",
     "start_time": "2025-10-26T15:23:31.211217Z"
    }
   },
   "cell_type": "code",
   "source": [
    "for i in squares:\n",
    "    print(i, end=' ')"
   ],
   "id": "f1d9f75d143d9f72",
   "outputs": [
    {
     "name": "stdout",
     "output_type": "stream",
     "text": [
      "1 4 9 16 25 "
     ]
    }
   ],
   "execution_count": 42
  },
  {
   "metadata": {},
   "cell_type": "markdown",
   "source": "与列表解析式不同，生成器表达式只能使用一次。因此，如果你遍历完生成器中的所有元素后，再次对生成器进行遍历，那么你将一无所获。",
   "id": "5d6c0480accc9843"
  },
  {
   "metadata": {
    "ExecuteTime": {
     "end_time": "2025-10-26T15:24:13.157915Z",
     "start_time": "2025-10-26T15:24:13.155050Z"
    }
   },
   "cell_type": "code",
   "source": [
    "for i in squares:\n",
    "    print(i, end=' ')"
   ],
   "id": "fc98b0f59684f785",
   "outputs": [],
   "execution_count": 43
  },
  {
   "metadata": {},
   "cell_type": "markdown",
   "source": [
    "#### **练习 6.14：函数参数中的生成器表达式**\n",
    "有时，生成器表达式会作为函数参数使用。虽然这看起来有点怪，但请尝试以下实验："
   ],
   "id": "9cfd9d06903a34dc"
  },
  {
   "metadata": {
    "ExecuteTime": {
     "end_time": "2025-10-26T15:25:09.159577Z",
     "start_time": "2025-10-26T15:25:09.155037Z"
    }
   },
   "cell_type": "code",
   "source": [
    "nums = [1,2,3,4,5]\n",
    "sum([x*x for x in nums])    # 一个列表推导式\n",
    "sum(x*x for x in nums)      # 一个生成器表达式"
   ],
   "id": "d774aa0487462c9d",
   "outputs": [
    {
     "data": {
      "text/plain": [
       "55"
      ]
     },
     "execution_count": 44,
     "metadata": {},
     "output_type": "execute_result"
    }
   ],
   "execution_count": 44
  },
  {
   "metadata": {},
   "cell_type": "markdown",
   "source": [
    "在上面的示例中，如果正在操作庞大的列表，那么使用生成器的第二个版本占用的内存会显著减少。\n",
    "\n",
    "在 `portfolio.py` 文件中，我们执行了一些与列表相关的计算，请尝试将其替换为生成器表达式。"
   ],
   "id": "b62d8bdadb46b11e"
  },
  {
   "metadata": {},
   "cell_type": "markdown",
   "source": [
    "#### **练习 6.15：简化代码**\n",
    "通常，对于简单的生成器函数，可以使用生成器表达式进行替换。例如，与其这样编写函数："
   ],
   "id": "7e3791c221324821"
  },
  {
   "metadata": {
    "ExecuteTime": {
     "end_time": "2025-10-26T15:28:56.221104Z",
     "start_time": "2025-10-26T15:28:56.217470Z"
    }
   },
   "cell_type": "code",
   "source": [
    "def filter_symbols(rows, names):\n",
    "    for row in rows:\n",
    "        if row['name'] in names:\n",
    "            yield row"
   ],
   "id": "ac3357dc5354b24a",
   "outputs": [],
   "execution_count": 45
  },
  {
   "metadata": {},
   "cell_type": "markdown",
   "source": "不如使用生成器表达式进行替换：",
   "id": "cbc49bff86e8987c"
  },
  {
   "metadata": {},
   "cell_type": "code",
   "outputs": [],
   "execution_count": null,
   "source": "rows = (row for row in rows if row['name'] in names)",
   "id": "d7a9dcc0c964ec9a"
  },
  {
   "metadata": {},
   "cell_type": "markdown",
   "source": "请修改 `ticker.py` 程序来适当地使用生成器表达式。",
   "id": "cb51fe03c65df75b"
  }
 ],
 "metadata": {
  "kernelspec": {
   "display_name": "Python 3",
   "language": "python",
   "name": "python3"
  },
  "language_info": {
   "codemirror_mode": {
    "name": "ipython",
    "version": 2
   },
   "file_extension": ".py",
   "mimetype": "text/x-python",
   "name": "python",
   "nbconvert_exporter": "python",
   "pygments_lexer": "ipython2",
   "version": "2.7.6"
  }
 },
 "nbformat": 4,
 "nbformat_minor": 5
}
