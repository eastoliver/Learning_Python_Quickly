{
 "cells": [
  {
   "metadata": {},
   "cell_type": "markdown",
   "source": [
    "## 7 高级特性\n",
    "本节，我们将探究一些高级的 Python 特性。你可能会在日常编程中遇到这些特性。虽然许多特性本可以在前面的章节中介绍，但是却没有介绍并不是为了让你在当时避免肝脑涂地。\n",
    "\n",
    "应该强调的是：本节主题旨在对这些（特性的）思想做基础介绍。你需要查看更高级的材料来了解它们的细节。"
   ],
   "id": "5893a29765bd652b"
  },
  {
   "metadata": {},
   "cell_type": "markdown",
   "source": [
    "### 01 可变参数\n",
    "本节介绍可变（variadic）参数。有时，可变参数使用 `*args` 和 `**kwargs` 进行表示。\n",
    "#### __可变位置参数（*args）__\n",
    "如果一个函数接受任意数量的（位置）参数，那么我们称该函数使用了可变参数（variable arguments）。示例："
   ],
   "id": "27ad6d9ff5653184"
  },
  {
   "metadata": {
    "ExecuteTime": {
     "end_time": "2025-10-27T06:11:41.545328Z",
     "start_time": "2025-10-27T06:11:41.541132Z"
    }
   },
   "cell_type": "code",
   "source": [
    "def f(x, *args):\n",
    "    print(x, args)\n",
    "\n",
    "f(1)\n",
    "f(1, 2)\n",
    "f(1, 2, 3)"
   ],
   "id": "b3aed869d6822aa8",
   "outputs": [
    {
     "name": "stdout",
     "output_type": "stream",
     "text": [
      "1 ()\n",
      "1 (2,)\n",
      "1 (2, 3)\n"
     ]
    }
   ],
   "execution_count": 3
  },
  {
   "metadata": {},
   "cell_type": "markdown",
   "source": "额外的参数作为元组进行传递：",
   "id": "46d53e6618878313"
  },
  {
   "metadata": {
    "ExecuteTime": {
     "end_time": "2025-10-27T06:12:36.853630Z",
     "start_time": "2025-10-27T06:12:36.850041Z"
    }
   },
   "cell_type": "code",
   "source": "f(1,2,'Hello World')",
   "id": "60d4fb4644fc13a8",
   "outputs": [
    {
     "name": "stdout",
     "output_type": "stream",
     "text": [
      "1 (2, 'Hello World')\n"
     ]
    }
   ],
   "execution_count": 4
  },
  {
   "metadata": {},
   "cell_type": "markdown",
   "source": [
    "#### __可变关键字参数（**kwargs）__\n",
    "\n",
    "一个函数也可以接受任意数量的关键字参数。示例："
   ],
   "id": "a5c213267e4674fb"
  },
  {
   "cell_type": "code",
   "execution_count": null,
   "id": "initial_id",
   "metadata": {
    "collapsed": true
   },
   "outputs": [],
   "source": [
    ""
   ]
  }
 ],
 "metadata": {
  "kernelspec": {
   "display_name": "Python 3",
   "language": "python",
   "name": "python3"
  },
  "language_info": {
   "codemirror_mode": {
    "name": "ipython",
    "version": 2
   },
   "file_extension": ".py",
   "mimetype": "text/x-python",
   "name": "python",
   "nbconvert_exporter": "python",
   "pygments_lexer": "ipython2",
   "version": "2.7.6"
  }
 },
 "nbformat": 4,
 "nbformat_minor": 5
}
