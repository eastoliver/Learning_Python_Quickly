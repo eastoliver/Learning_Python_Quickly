{
 "cells": [
  {
   "metadata": {},
   "cell_type": "markdown",
   "source": [
    "## 7 高级特性\n",
    "本节，我们将探究一些高级的 Python 特性。你可能会在日常编程中遇到这些特性。虽然许多特性本可以在前面的章节中介绍，但是却没有介绍并不是为了让你在当时避免肝脑涂地。\n",
    "\n",
    "应该强调的是：本节主题旨在对这些（特性的）思想做基础介绍。你需要查看更高级的材料来了解它们的细节。"
   ],
   "id": "5893a29765bd652b"
  },
  {
   "metadata": {},
   "cell_type": "markdown",
   "source": [
    "### 01 可变参数\n",
    "本节介绍可变（variadic）参数。有时，可变参数使用 `*args` 和 `**kwargs` 进行表示。\n",
    "#### __可变位置参数（*args）__\n",
    "如果一个函数接受任意数量的（位置）参数，那么我们称该函数使用了可变参数（variable arguments）。示例："
   ],
   "id": "27ad6d9ff5653184"
  },
  {
   "metadata": {},
   "cell_type": "code",
   "source": [
    "def f(x, *args):\n",
    "    print(x, args)\n",
    "\n",
    "f(1)\n",
    "f(1, 2)\n",
    "f(1, 2, 3)"
   ],
   "id": "b3aed869d6822aa8",
   "outputs": [],
   "execution_count": null
  },
  {
   "metadata": {},
   "cell_type": "markdown",
   "source": "额外的参数作为元组进行传递：",
   "id": "46d53e6618878313"
  },
  {
   "metadata": {},
   "cell_type": "code",
   "source": "f(1,2,'Hello World')",
   "id": "60d4fb4644fc13a8",
   "outputs": [],
   "execution_count": null
  },
  {
   "metadata": {},
   "cell_type": "markdown",
   "source": [
    "#### __可变关键字参数（**kwargs）__\n",
    "\n",
    "一个函数也可以接受任意数量的关键字参数。示例：\n",
    "```\n",
    "def f(x, y, **kwargs):\n",
    "    print(x, y, kwargs)\n",
    "```\n",
    "函数调用：\n",
    "`f(2, 3, flag = True, mode = 'fast', header = 'debug')`\n",
    "额外的参数作为字典进行传递：\n",
    "```\n",
    "def f(x,y,**kwargs):\n",
    "    # x -> 2\n",
    "    # y -> 3\n",
    "    # kwargs -> {'flag': True, 'mode': 'fast', 'header': 'debug'}\n",
    "```\n",
    "#### **可变位置参数与可变关键字参数结合使用**\n",
    "一个函数可以同时接受可变非关键字参数和可变关键字参数。\n",
    "```\n",
    "def f(x, *args, **kwargs):\n",
    "    ...\n",
    "```\n",
    "函数调用：\n",
    "`f(2, 3, flag = True, mode = 'fast', header = 'debug')`\n",
    "这些参数被分为位置参数和关键字参数两部分。\n",
    "```\n",
    "def f(*args, **kwargs):\n",
    "    # args -> (2, 3)\n",
    "    # kwargs -> {'flag': True, 'mode': 'fast', 'header': 'debug'}\n",
    "    ...\n",
    "```\n",
    "上述函数接收任意数量的位置参数和关键字参数。当编写包装器（wrappers）或要将参数传递给其他函数时使用。\n",
    "#### **传递元组和字典**\n",
    "元组可扩展为可变参数:\n",
    "```\n",
    "numbers = (2,3,4)\n",
    "f(1, *numbers)      # Same as f(1,2,3,4)\n",
    "```\n",
    "字典也可以扩展为关键字参数:\n",
    "```\n",
    "options = {\n",
    "    'color' : 'red',\n",
    "    'delimiter' : ',',\n",
    "    'width' : 400\n",
    "}\n",
    "f(data, **options)\n",
    "# Same as f(data, color='red', delimiter=',', width=400)\n",
    "```"
   ],
   "id": "a5c213267e4674fb"
  },
  {
   "metadata": {},
   "cell_type": "markdown",
   "source": [
    "### 练习\n",
    "#### **练习 7.1: 可变参数的简单示例**\n",
    "尝试定义下列函数："
   ],
   "id": "99be33579567001e"
  },
  {
   "cell_type": "code",
   "id": "initial_id",
   "metadata": {
    "collapsed": true
   },
   "source": [
    "def avg(x,*more):\n",
    "    return float(x + sum(more))/(1 + len(more))\n",
    "avg(10,11)\n",
    "avg(3,4,5)\n",
    "avg(1,2,3,4,5,6)"
   ],
   "outputs": [],
   "execution_count": null
  },
  {
   "metadata": {},
   "cell_type": "markdown",
   "source": [
    "请注意 `*more` 是如何收集其它所有参数的。　\n",
    "#### **练习 7.2：将元组和字典作为参数进行传递**\n",
    "假设你从文件中读取数据，并获得一个元组。例如："
   ],
   "id": "1f68145fe99e27e7"
  },
  {
   "metadata": {},
   "cell_type": "code",
   "source": "data = ('GOOG',100, 490.1)",
   "id": "70a76b6fbb7d976c",
   "outputs": [],
   "execution_count": null
  },
  {
   "metadata": {},
   "cell_type": "markdown",
   "source": "现在，假设你想根据上面的数据创建一个`Stock`对象。如果你直接传`data`，那就行不通了：",
   "id": "2bee221a21c779ef"
  },
  {
   "metadata": {},
   "cell_type": "code",
   "source": [
    "from stock import Stock\n",
    "s = Stock(data)"
   ],
   "id": "382425242d4237a1",
   "outputs": [],
   "execution_count": null
  },
  {
   "metadata": {},
   "cell_type": "markdown",
   "source": "这个问题很容易解决，直接使用`*data`即可。试试看：",
   "id": "970f3c353547f834"
  },
  {
   "metadata": {
    "ExecuteTime": {
     "end_time": "2025-10-28T09:54:57.691632Z",
     "start_time": "2025-10-28T09:54:57.284822Z"
    }
   },
   "cell_type": "code",
   "source": [
    "s = Stock(*data)\n",
    "s"
   ],
   "id": "cd17f50f569480d",
   "outputs": [
    {
     "ename": "NameError",
     "evalue": "name 'Stock' is not defined",
     "output_type": "error",
     "traceback": [
      "\u001B[31m---------------------------------------------------------------------------\u001B[39m",
      "\u001B[31mNameError\u001B[39m                                 Traceback (most recent call last)",
      "\u001B[36mCell\u001B[39m\u001B[36m \u001B[39m\u001B[32mIn[1]\u001B[39m\u001B[32m, line 1\u001B[39m\n\u001B[32m----> \u001B[39m\u001B[32m1\u001B[39m s = \u001B[43mStock\u001B[49m(*data)\n\u001B[32m      2\u001B[39m s\n",
      "\u001B[31mNameError\u001B[39m: name 'Stock' is not defined"
     ]
    }
   ],
   "execution_count": 1
  },
  {
   "metadata": {},
   "cell_type": "markdown",
   "source": "如果你拥有的是一个字典，那么你可以使用`**`进行传递。示例：",
   "id": "eab309bc5b088645"
  },
  {
   "metadata": {},
   "cell_type": "code",
   "source": [
    "data = {\n",
    "    'name' : 'GOOG',\n",
    "    'shares' : 100,\n",
    "    'price' : 490.1\n",
    "}\n",
    "s = Stock(**data)\n",
    "s"
   ],
   "id": "8fb0d55f5aefaa76",
   "outputs": [],
   "execution_count": null
  },
  {
   "metadata": {},
   "cell_type": "markdown",
   "source": [
    "#### **练习 7.3：创建实例列表**\n",
    "在 `report.py` 程序中，我们使用如下代码创建了一个实例列表：\n",
    "```\n",
    "def read_portfolio(filename):\n",
    "    '''\n",
    "    Read a stock portfolio file into a list of dictionaries with keys\n",
    "    name, shares, and price.\n",
    "    '''\n",
    "    with open(filename) as lines:\n",
    "        portdicts = fileparse.parse_csv(lines,\n",
    "                               select=['name','shares','price'],\n",
    "                               types=[str,int,float])\n",
    "\n",
    "    portfolio = [ Stock(d['name'], d['shares'], d['price'])\n",
    "                  for d in portdicts ]\n",
    "    return Portfolio(portfolio)\n",
    "```\n",
    "我们可以改用 Stock(**d) 来简化代码。请完成修改。"
   ],
   "id": "463476280dd433f2"
  },
  {
   "metadata": {},
   "cell_type": "markdown",
   "source": [
    "#### **练习 7.4：参数传递**\n",
    "`fileparse.parse_csv()` 函数具有一些选项，用于更改文件分隔符和错误报告。也许你会想把这些选择暴露给上面的 `read_portfolio() `函数。请完成修改：\n",
    "```\n",
    "def read_portfolio(filename, **opts):\n",
    "    '''\n",
    "    Read a stock portfolio file into a list of dictionaries with keys\n",
    "    name, shares, and price.\n",
    "    '''\n",
    "    with open(filename) as lines:\n",
    "        portdicts = fileparse.parse_csv(lines,\n",
    "                                        select=['name','shares','price'],\n",
    "                                        types=[str,int,float],\n",
    "                                        **opts)\n",
    "\n",
    "    portfolio = [ Stock(**d) for d in portdicts ]\n",
    "    return Portfolio(portfolio)\n",
    "```\n",
    "修改完成后，尝试阅读读取一些带有错误的文件："
   ],
   "id": "db1503c6d8903105"
  },
  {
   "metadata": {
    "ExecuteTime": {
     "end_time": "2025-10-28T09:55:09.623724Z",
     "start_time": "2025-10-28T09:55:09.613463Z"
    }
   },
   "cell_type": "code",
   "source": [
    "import report\n",
    "port = report.read_portfolio('../Data/missing.csv')"
   ],
   "id": "b4a45c7431b9f27c",
   "outputs": [
    {
     "name": "stdout",
     "output_type": "stream",
     "text": [
      "第4行: 无法转换 ['MSFT', '', '51.23']\n",
      "第4行: 原因 invalid literal for int() with base 10: ''\n",
      "第7行: 无法转换 ['IBM', '', '70.44']\n",
      "第7行: 原因 invalid literal for int() with base 10: ''\n"
     ]
    }
   ],
   "execution_count": 2
  },
  {
   "metadata": {},
   "cell_type": "markdown",
   "source": "现在尝试隐藏错误：",
   "id": "db0c77b35194e1c0"
  },
  {
   "metadata": {},
   "cell_type": "code",
   "source": [
    "import report\n",
    "port = report.read_portfolio('../Data/missing.csv', silence_errors=True)"
   ],
   "id": "9e3acdd898502eee",
   "outputs": [],
   "execution_count": null
  },
  {
   "metadata": {},
   "cell_type": "markdown",
   "source": [
    "### 02 匿名函数和Lambda\n",
    "#### **再探列表排序**\n",
    "列表可以使用`sort`方法进行原地（in-place）排序：\n",
    "```\n",
    "s = [10,1,7,3]\n",
    "s.sort() # s = [1,3,7,10]\n",
    "```\n",
    "也可以进行降序排列：\n",
    "```\n",
    "s = [10,1,7,3]\n",
    "s.sort(reverse=True) # s = [10,7,3,1]\n",
    "```\n",
    "对单个列表排序似乎非常简单，但是，如果对字典列表排序，那么我们怎么做呢？\n",
    "```\n",
    "[{'name': 'AA', 'price': 32.2, 'shares': 100},\n",
    "{'name': 'IBM', 'price': 91.1, 'shares': 50},\n",
    "{'name': 'CAT', 'price': 83.44, 'shares': 150},\n",
    "{'name': 'MSFT', 'price': 51.23, 'shares': 200},\n",
    "{'name': 'GE', 'price': 40.37, 'shares': 95},\n",
    "{'name': 'MSFT', 'price': 65.1, 'shares': 50},\n",
    "{'name': 'IBM', 'price': 70.44, 'shares': 100}]\n",
    "```\n",
    "通过什么样的规则进行排序呢？\n",
    "\n",
    "你可以使用键函数（key function)指导排序。键函数是这样的一种函数：接受一个字典并且返回一个用于排序的值。\n",
    "```\n",
    "def stock_name(s):\n",
    "    return s['name']\n",
    "portfolio.sort(key=stock_name)\n",
    "```\n",
    "排序后的结果：\n",
    "```\n",
    "[{'name': 'AA', 'price': 32.2, 'shares': 100},\n",
    "{'name': 'CAT', 'price': 83.44, 'shares': 150},\n",
    "{'name': 'GE', 'price': 40.37, 'shares': 95},\n",
    "{'name': 'IBM', 'price': 91.1, 'shares': 50},\n",
    "{'name': 'IBM', 'price': 70.44, 'shares': 100},\n",
    "{'name': 'MSFT', 'price': 51.23, 'shares': 200},\n",
    "{'name': 'MSFT', 'price': 65.1, 'shares': 50}]\n",
    "```\n",
    "#### **回调函数**\n",
    "在上面的示例中，键函数是一个回调函数（callback function)。`sort()` 方法调用了 `stock_name（）`函数，然后 `stock_name（）` 函数返回一个值给 `sort()` 方法。通常，回调函数是一个简短的单行函数，只用于一个操作。程序员经常会要求提供一种快捷方法来指定这种额外的处理。\n",
    "#### **Lambda 函数**\n",
    "在之前的排序示例中，我们可以使用 **lambda**， 而不是创建（具名）函数。\n",
    "```\n",
    "portfolio.sort(key=lambda s: s['name'])\n",
    "```\n",
    "上面的代码创建了一个匿名（unnamed）函数用来计算单个表达式，比初始代码短很多。\n",
    "```\n",
    "def stock_name(s):\n",
    "    return s['name']\n",
    "\n",
    "portfolio.sort(key=stock_name)\n",
    "\n",
    "# vs lambda\n",
    "portfolio.sort(key=lambda s: s['name'])\n",
    "```\n",
    "#### **使用lambda**\n",
    "*    lambda 是受到严格限制的。\n",
    "*    只允许一个表达式。\n",
    "*    没有 if，while 之类的语句。\n",
    "*    多和其它函数一起使用，类似于 `sort()` 方法。\n",
    "### 练习\n",
    "读取股票投资组合数据，并将数据转换为列表："
   ],
   "id": "ac7b3d94e12469e7"
  },
  {
   "metadata": {
    "ExecuteTime": {
     "end_time": "2025-10-28T14:01:01.232114Z",
     "start_time": "2025-10-28T14:01:01.221970Z"
    }
   },
   "cell_type": "code",
   "source": [
    "import report\n",
    "portfolio = list(report.read_portfolio('../Data/portfolio.csv'))\n",
    "for s in portfolio:\n",
    "    print(s)"
   ],
   "id": "793e94d98f204891",
   "outputs": [
    {
     "name": "stdout",
     "output_type": "stream",
     "text": [
      "{'name': 'AA', 'shares': 100, 'price': 32.2}\n",
      "{'name': 'IBM', 'shares': 50, 'price': 91.1}\n",
      "{'name': 'CAT', 'shares': 150, 'price': 83.44}\n",
      "{'name': 'MSFT', 'shares': 200, 'price': 51.23}\n",
      "{'name': 'GE', 'shares': 95, 'price': 40.37}\n",
      "{'name': 'MSFT', 'shares': 50, 'price': 65.1}\n",
      "{'name': 'IBM', 'shares': 100, 'price': 70.44}\n"
     ]
    }
   ],
   "execution_count": 22
  },
  {
   "metadata": {},
   "cell_type": "markdown",
   "source": [
    "#### **练习 7.5：对字段进行排序**\n",
    "请尝试下面的语句，这些语句按股票名称的字母顺序对投资组合数据进行排序。"
   ],
   "id": "a833fb9c53993f46"
  },
  {
   "metadata": {},
   "cell_type": "code",
   "source": [
    "def stock_name(s):\n",
    "    return s.name\n",
    "portfolio.sort(key=stock_name)\n",
    "for s in portfolio:\n",
    "    print(s)"
   ],
   "id": "456519ec220bab84",
   "outputs": [],
   "execution_count": null
  },
  {
   "metadata": {},
   "cell_type": "markdown",
   "source": [
    "在此部分，`stock_name()` 函数从 `portfolio` 列表的单个条目中提取股票名称。`sort()` 方法使用 `stock_name()` 函数的返回值进行比较并排序。\n",
    "#### **练习 7.6：使用 lambda 对字段进行排序**\n",
    "请尝试使用` lambda` 表达式，按股份数目对投资组合数据进行排序："
   ],
   "id": "44e7378c910538a"
  },
  {
   "metadata": {
    "ExecuteTime": {
     "end_time": "2025-10-28T14:09:23.382307Z",
     "start_time": "2025-10-28T14:09:23.378223Z"
    }
   },
   "cell_type": "code",
   "source": [
    "portfolio.sort(key=lambda s: s.shares])\n",
    "for s in portfolio:\n",
    "    print(s)"
   ],
   "id": "8054affdaac48857",
   "outputs": [
    {
     "name": "stdout",
     "output_type": "stream",
     "text": [
      "{'name': 'IBM', 'shares': 50, 'price': 91.1}\n",
      "{'name': 'MSFT', 'shares': 50, 'price': 65.1}\n",
      "{'name': 'GE', 'shares': 95, 'price': 40.37}\n",
      "{'name': 'AA', 'shares': 100, 'price': 32.2}\n",
      "{'name': 'IBM', 'shares': 100, 'price': 70.44}\n",
      "{'name': 'CAT', 'shares': 150, 'price': 83.44}\n",
      "{'name': 'MSFT', 'shares': 200, 'price': 51.23}\n"
     ]
    }
   ],
   "execution_count": 26
  },
  {
   "metadata": {},
   "cell_type": "markdown",
   "source": "尝试按每只股票的价格对投资组合数据进行排序：",
   "id": "af04e0c755980be4"
  },
  {
   "metadata": {},
   "cell_type": "code",
   "outputs": [],
   "execution_count": null,
   "source": [
    "portfolio.sort(key=lambda s: s.price)\n",
    "for s in portfolio:\n",
    "    print(s)"
   ],
   "id": "28977a1887711f2b"
  },
  {
   "metadata": {},
   "cell_type": "markdown",
   "source": "注意事项：lambda 是一种非常有用的快捷方式，因为它让你直接在 sort() 方法的调用中定义一个特殊的处理函数，而不必事先定义一个单独的函数。",
   "id": "69f1dd030bf13264"
  },
  {
   "metadata": {},
   "cell_type": "markdown",
   "source": [
    "### 03 返回函数\n",
    "本节介绍使用函数创建其他函数的思想。\n",
    "#### **简介**"
   ],
   "id": "347190394765d28a"
  },
  {
   "metadata": {
    "ExecuteTime": {
     "end_time": "2025-10-28T14:16:58.873304Z",
     "start_time": "2025-10-28T14:16:58.862969Z"
    }
   },
   "cell_type": "code",
   "source": [
    "# 考虑以下函数：\n",
    "def add(x, y):\n",
    "    def do_add():\n",
    "        print('Adding',x,y)\n",
    "        return x + y\n",
    "    return do_add\n",
    "\n",
    "#这是返回其它函数的函数。\n",
    "a = add(10, 20)\n",
    "a"
   ],
   "id": "687b9298a0a7a39d",
   "outputs": [
    {
     "data": {
      "text/plain": [
       "<function __main__.add.<locals>.do_add()>"
      ]
     },
     "execution_count": 28,
     "metadata": {},
     "output_type": "execute_result"
    }
   ],
   "execution_count": 28
  },
  {
   "metadata": {
    "ExecuteTime": {
     "end_time": "2025-10-28T14:17:04.389405Z",
     "start_time": "2025-10-28T14:17:04.383799Z"
    }
   },
   "cell_type": "code",
   "source": "a()",
   "id": "b227aa1f1a201150",
   "outputs": [
    {
     "name": "stdout",
     "output_type": "stream",
     "text": [
      "Adding 10 20\n"
     ]
    },
    {
     "data": {
      "text/plain": [
       "30"
      ]
     },
     "execution_count": 29,
     "metadata": {},
     "output_type": "execute_result"
    }
   ],
   "execution_count": 29
  },
  {
   "metadata": {},
   "cell_type": "markdown",
   "source": [
    "#### **局部变量**\n",
    "请观察内部函数时如何引用外部函数定义的变量的。"
   ],
   "id": "f448fa4d9556280e"
  },
  {
   "metadata": {},
   "cell_type": "code",
   "outputs": [],
   "execution_count": null,
   "source": [
    "def add(x, y):\n",
    "    def do_add():\n",
    "        # 'x'和'y'定义在'do_add()'之前\n",
    "        print('Adding',x,y)\n",
    "        return x + y\n",
    "    return do_add"
   ],
   "id": "a182b630aa38078b"
  },
  {
   "metadata": {},
   "cell_type": "markdown",
   "source": "进一步观察会发现，在 add() 函数结束后，这些变量仍然保持存活。",
   "id": "c86f2ba761f1c21a"
  },
  {
   "metadata": {
    "ExecuteTime": {
     "end_time": "2025-10-28T14:21:02.690578Z",
     "start_time": "2025-10-28T14:21:02.684377Z"
    }
   },
   "cell_type": "code",
   "source": [
    "a = add(10, 20)\n",
    "a()"
   ],
   "id": "30c23a58259379dc",
   "outputs": [
    {
     "name": "stdout",
     "output_type": "stream",
     "text": [
      "Adding 10 20\n"
     ]
    },
    {
     "data": {
      "text/plain": [
       "30"
      ]
     },
     "execution_count": 30,
     "metadata": {},
     "output_type": "execute_result"
    }
   ],
   "execution_count": 30
  },
  {
   "metadata": {},
   "cell_type": "markdown",
   "source": [
    "#### **闭包**\n",
    "当内部函数作为输出返回时，这个内部函数就称为闭包（closure)。\n",
    "```\n",
    "def add(x, y):\n",
    "    # do_add是一个闭包\n",
    "    def do_add():\n",
    "        print('Adding',x,y)\n",
    "        return x + y\n",
    "    return do_add\n",
    "```\n",
    "基本特性：闭包保留该函数以后正常运行所需的所有变量的值。可以将闭包视作一个函数，该函数拥有一个额外的环境来保存它所依赖的变量的值。\n",
    "#### **使用闭包**\n",
    "虽然闭包是Python的基本特性，但是他们的用法通常很微妙。常见应用：\n",
    "*    在回调函数中使用。\n",
    "*    延迟计算。\n",
    "*    装饰器函数（稍后介绍）。\n",
    "#### **延迟计算**\n",
    "考虑下面的例子：\n",
    "```\n",
    "def after(seconds, func):\n",
    "    import time\n",
    "    time.sleep(seconds)\n",
    "    func()\n",
    "```\n",
    "使用示例：\n",
    "```\n",
    "def greeting():\n",
    "    print('Hello World')\n",
    "\n",
    "after(30, greeting)\n",
    "```\n",
    "函数`after()`会等待30秒，然后调用`greeting()`函数。\n",
    "\n",
    "闭包附带了其他信息。\n",
    "```\n",
    "def add(x, y):\n",
    "    def do_add():\n",
    "        print(f'Adding {x} + {y} -> {x+y}')\n",
    "    return do_add\n",
    "\n",
    "def after(seconds, func):\n",
    "    import time\n",
    "    time.sleep(seconds)\n",
    "    func()\n",
    "after(30, add(10, 20))\n",
    "# 'do_add' 具有如下引用关系：x -> 2 与 y -> 3\n",
    "```\n",
    "#### **代码重复**\n",
    "闭包也可以用作一种避免大量重复的技术。"
   ],
   "id": "3e007cab3092f08d"
  },
  {
   "metadata": {},
   "cell_type": "markdown",
   "source": [
    "### 练习\n",
    "#### **练习 7.7：使用闭包避免重复**\n",
    "闭包的一个更强大的特性是用于生成重复的代码。让我们回顾练习5.7的代码，该代码中定义了带有类型检查的属性：\n",
    "```\n",
    "class Stock:\n",
    "    def __init__(self, name, shares, price):\n",
    "        self.name = name\n",
    "        self.shares = shares\n",
    "        self.price = price\n",
    "    ...\n",
    "    @property\n",
    "    def shares(self):\n",
    "        return self._shares\n",
    "\n",
    "    @shares.setter\n",
    "    def shares(self, value):\n",
    "        if not isinstance(value, int):\n",
    "            raise TypeError('Expected int')\n",
    "        self._shares = value\n",
    "    ...\n",
    "```\n",
    "与其一遍又一遍地输入代码，不如使用闭包自动创建代码。\n",
    "\n",
    "请创建 `typedproperty.py` 文件，并把下述代码放到文件中：\n",
    "```\n",
    "# typedproperty.py\n",
    "\n",
    "def typedproperty(name, expected_type):\n",
    "    private_name = '_' + name\n",
    "    @property\n",
    "    def prop(self):\n",
    "        return getattr(self, private_name)\n",
    "\n",
    "    @prop.setter\n",
    "    def prop(self, value):\n",
    "        if not isinstance(value, expected_type):\n",
    "            raise TypeError(f'Expected {expected_type}')\n",
    "        setattr(self, private_name, value)\n",
    "\n",
    "    return prop\n",
    "```\n",
    "现在，通过定义下面这样的类来尝试一下：\n",
    "```\n",
    "from typedproperty import typedproperty\n",
    "\n",
    "class Stock:\n",
    "    name = typedproperty('name', str)\n",
    "    shares = typedproperty('shares', int)\n",
    "    price = typedproperty('price', float)\n",
    "\n",
    "    def __init__(self, name, shares, price):\n",
    "        self.name = name\n",
    "        self.shares = shares\n",
    "        self.price = price\n",
    "```\n",
    "请尝试创建一个实例，并验证类型检查是否有效："
   ],
   "id": "47ed88ec958ed149"
  },
  {
   "metadata": {
    "ExecuteTime": {
     "end_time": "2025-10-28T14:48:27.077861Z",
     "start_time": "2025-10-28T14:48:27.047909Z"
    }
   },
   "cell_type": "code",
   "source": [
    "from stock import Stock\n",
    "s = Stock('GOOG', 100, 490.1)\n",
    "s.name\n",
    "s.shares = '100'"
   ],
   "id": "1dd5bdc12f801b3c",
   "outputs": [
    {
     "ename": "TypeError",
     "evalue": "Expected <class 'int'>",
     "output_type": "error",
     "traceback": [
      "\u001B[31m---------------------------------------------------------------------------\u001B[39m",
      "\u001B[31mTypeError\u001B[39m                                 Traceback (most recent call last)",
      "\u001B[36mCell\u001B[39m\u001B[36m \u001B[39m\u001B[32mIn[34]\u001B[39m\u001B[32m, line 4\u001B[39m\n\u001B[32m      2\u001B[39m s = Stock(\u001B[33m'\u001B[39m\u001B[33mGOOG\u001B[39m\u001B[33m'\u001B[39m, \u001B[32m100\u001B[39m, \u001B[32m490.1\u001B[39m)\n\u001B[32m      3\u001B[39m s.name\n\u001B[32m----> \u001B[39m\u001B[32m4\u001B[39m \u001B[43ms\u001B[49m\u001B[43m.\u001B[49m\u001B[43mshares\u001B[49m = \u001B[33m'\u001B[39m\u001B[33m100\u001B[39m\u001B[33m'\u001B[39m\n",
      "\u001B[36mFile \u001B[39m\u001B[32mF:\\python学习\\Python快速入门实战\\07-高级特性\\typedproperty.py:12\u001B[39m, in \u001B[36mtypedproperty.<locals>.prop\u001B[39m\u001B[34m(self, value)\u001B[39m\n\u001B[32m      9\u001B[39m \u001B[38;5;129m@prop\u001B[39m.setter\n\u001B[32m     10\u001B[39m \u001B[38;5;28;01mdef\u001B[39;00m\u001B[38;5;250m \u001B[39m\u001B[34mprop\u001B[39m(\u001B[38;5;28mself\u001B[39m, value):\n\u001B[32m     11\u001B[39m     \u001B[38;5;28;01mif\u001B[39;00m \u001B[38;5;129;01mnot\u001B[39;00m \u001B[38;5;28misinstance\u001B[39m(value, expected_type):\n\u001B[32m---> \u001B[39m\u001B[32m12\u001B[39m         \u001B[38;5;28;01mraise\u001B[39;00m \u001B[38;5;167;01mTypeError\u001B[39;00m(\u001B[33mf\u001B[39m\u001B[33m'\u001B[39m\u001B[33mExpected \u001B[39m\u001B[38;5;132;01m{\u001B[39;00mexpected_type\u001B[38;5;132;01m}\u001B[39;00m\u001B[33m'\u001B[39m)\n\u001B[32m     13\u001B[39m     \u001B[38;5;28msetattr\u001B[39m(\u001B[38;5;28mself\u001B[39m, private_name, value)\n",
      "\u001B[31mTypeError\u001B[39m: Expected <class 'int'>"
     ]
    }
   ],
   "execution_count": 34
  },
  {
   "metadata": {},
   "cell_type": "markdown",
   "source": [
    "#### **练习 7.8：简化函数调用**\n",
    "在上面示例中，用户可能会发现调用诸如 `typedproperty('shares', int)` 这样的方法稍微有点冗长 ——尤其是多次重复调用的时候。请将以下定义添加到 `typedproperty.py` 文件中。\n",
    "```\n",
    "String = lambda name: typedproperty(name, str)\n",
    "Integer = lambda name: typedproperty(name, int)\n",
    "Float = lambda name: typedproperty(name, float)\n",
    "```\n",
    "现在，请重新编写 `Stock` 类以使用以下函数：\n",
    "```\n",
    "class Stock:\n",
    "    name = String('name')\n",
    "    shares = Integer('shares')\n",
    "    price = Float('price')\n",
    "\n",
    "    def __init__(self, name, shares, price):\n",
    "        self.name = name\n",
    "        self.shares = shares\n",
    "        self.price = price\n",
    "```\n",
    "啊，好一点了。这里的要点是：闭包和 `lambda` 常用于简化代码，并消除令人讨厌的代码重复。这通常很不错。"
   ],
   "id": "ffe0323f562551e9"
  },
  {
   "metadata": {},
   "cell_type": "markdown",
   "source": [
    "#### **练习 7.9：付诸实践**\n",
    "请重新编写 `stock.py `文件中的 `Stock` 类，以便使用上面展示的类型化特性（typed properties）。"
   ],
   "id": "f96139b92106008"
  },
  {
   "metadata": {},
   "cell_type": "markdown",
   "source": [
    "### 04 函数装饰器\n",
    "本节介绍装饰器（decorator）。因为这是一个高级主题，所以我们只做简单介绍。\n",
    "#### **日志示例**\n",
    "考虑这样一个函数："
   ],
   "id": "129a21e4a8c5898b"
  },
  {
   "metadata": {
    "ExecuteTime": {
     "end_time": "2025-10-28T15:08:55.693925Z",
     "start_time": "2025-10-28T15:08:55.690471Z"
    }
   },
   "cell_type": "code",
   "source": [
    "def add(x, y):\n",
    "    return x + y"
   ],
   "id": "fa74f5b5d26483de",
   "outputs": [],
   "execution_count": 35
  },
  {
   "metadata": {},
   "cell_type": "markdown",
   "source": "考虑给'add(x,y)`函数添加日志功能：",
   "id": "b8de7f4f6911823f"
  },
  {
   "metadata": {},
   "cell_type": "code",
   "outputs": [],
   "execution_count": null,
   "source": [
    "def add(x, y):\n",
    "    print(f'Adding {x} + {y} -> {x+y}')\n",
    "    return x + y"
   ],
   "id": "96f480e9ed9bfeb4"
  },
  {
   "metadata": {},
   "cell_type": "markdown",
   "source": "也带有日志功能的`sub(x,y)`函数：",
   "id": "c759128ab077cdf5"
  },
  {
   "metadata": {},
   "cell_type": "code",
   "outputs": [],
   "execution_count": null,
   "source": [
    "def sub(x, y):\n",
    "    print(f'Subtracting {x} - {y} -> {x-y}')\n",
    "    return x - y"
   ],
   "id": "c97c484e90417acd"
  },
  {
   "metadata": {},
   "cell_type": "markdown",
   "source": [
    "#### **观察**\n",
    "观察： 这是一种重复。\n",
    "\n",
    "在有大量重复代码的地方编写程序通常很烦人。这些代码不仅写起来枯燥，维护起来也很麻烦。尤其是你决定更改其工作方式的时候（例如，可能是另一种类型的日志记录）。\n",
    "#### **记录日志的代码**\n",
    "也许你可以创建一个添加了日志功能的函数。例如包装器（wrapper）："
   ],
   "id": "6f6f085412b73dca"
  },
  {
   "metadata": {
    "ExecuteTime": {
     "end_time": "2025-10-28T15:12:50.652503Z",
     "start_time": "2025-10-28T15:12:50.648776Z"
    }
   },
   "cell_type": "code",
   "source": [
    "def logged(func):\n",
    "    def wrapper(*args, **kwargs):\n",
    "        print(f'Calling {func.__name__}')\n",
    "        return func(*args, **kwargs)\n",
    "    return wrapper"
   ],
   "id": "17c654078caf9fbe",
   "outputs": [],
   "execution_count": 36
  },
  {
   "metadata": {},
   "cell_type": "markdown",
   "source": "使用该函数：",
   "id": "87635576433d144b"
  },
  {
   "metadata": {
    "ExecuteTime": {
     "end_time": "2025-10-28T15:13:33.826333Z",
     "start_time": "2025-10-28T15:13:33.822828Z"
    }
   },
   "cell_type": "code",
   "source": [
    "def add(x, y):\n",
    "    return x + y\n",
    "logged_add = logged(add)"
   ],
   "id": "b3c0cdc8577337eb",
   "outputs": [],
   "execution_count": 37
  },
  {
   "metadata": {},
   "cell_type": "markdown",
   "source": "当调用`logged`返回的函数时会发生什么？",
   "id": "dca6cc75f9cf26e5"
  },
  {
   "metadata": {
    "ExecuteTime": {
     "end_time": "2025-10-28T15:14:52.060600Z",
     "start_time": "2025-10-28T15:14:52.055347Z"
    }
   },
   "cell_type": "code",
   "source": "logged_add(3, 4)",
   "id": "3288a42be7decb1c",
   "outputs": [
    {
     "name": "stdout",
     "output_type": "stream",
     "text": [
      "Calling add\n"
     ]
    },
    {
     "data": {
      "text/plain": [
       "7"
      ]
     },
     "execution_count": 38,
     "metadata": {},
     "output_type": "execute_result"
    }
   ],
   "execution_count": 38
  },
  {
   "metadata": {},
   "cell_type": "markdown",
   "source": [
    "注意事项：`logged()`函数创建了一个闭包，并作为结果返回。\n",
    "#### **使用装饰器**\n",
    "在Python中，在函数中使用装饰器非常常见。因为如此普遍，所以有一个特殊的语法："
   ],
   "id": "b4eb7534609e6286"
  },
  {
   "metadata": {
    "ExecuteTime": {
     "end_time": "2025-10-28T15:18:38.948789Z",
     "start_time": "2025-10-28T15:18:38.944994Z"
    }
   },
   "cell_type": "code",
   "source": [
    "def add(x, y):\n",
    "    return x + y\n",
    "add = logged(add)\n",
    "\n",
    "# 特殊语法\n",
    "@ logged\n",
    "def add(x, y):\n",
    "    return x + y"
   ],
   "id": "446e08f9b0caba0e",
   "outputs": [],
   "execution_count": 39
  },
  {
   "metadata": {},
   "cell_type": "markdown",
   "source": [
    "该特殊语法执行与上面完全相同的确切步骤。装饰器只是一种新语法，用于装饰函数。\n",
    "#### **说明**\n",
    "对于装饰器而言，还有许多比这里展示的更微妙的细节，例如，在类里面使用装饰器，或者对同一个函数使用多个装饰器。不过，这里的例子已经很好地说明了如何使用它们。一般而言，它是对出现在各种函数定义中的重复代码的响应。装饰器可以将重复代码移至中心定义。"
   ],
   "id": "843af81974e63fac"
  },
  {
   "metadata": {},
   "cell_type": "markdown",
   "source": [
    "### 练习\n",
    "#### **练习 7.10：计时装饰器**\n",
    "如果你定义了一个函数，那么函数的名称和函数所属模块的名称会分别存储到 `__name__` 和 `__module__`属性中。示例："
   ],
   "id": "7bd097ea0006de29"
  },
  {
   "metadata": {
    "ExecuteTime": {
     "end_time": "2025-10-28T15:20:56.745358Z",
     "start_time": "2025-10-28T15:20:56.741253Z"
    }
   },
   "cell_type": "code",
   "source": [
    "def add(x, y):\n",
    "    return x + y\n",
    "add.__name__"
   ],
   "id": "a155d141dbc20145",
   "outputs": [
    {
     "data": {
      "text/plain": [
       "'add'"
      ]
     },
     "execution_count": 40,
     "metadata": {},
     "output_type": "execute_result"
    }
   ],
   "execution_count": 40
  },
  {
   "metadata": {
    "ExecuteTime": {
     "end_time": "2025-10-28T15:21:18.961482Z",
     "start_time": "2025-10-28T15:21:18.956717Z"
    }
   },
   "cell_type": "code",
   "source": "add.__module__",
   "id": "a590081f6b8845ed",
   "outputs": [
    {
     "data": {
      "text/plain": [
       "'__main__'"
      ]
     },
     "execution_count": 41,
     "metadata": {},
     "output_type": "execute_result"
    }
   ],
   "execution_count": 41
  },
  {
   "metadata": {},
   "cell_type": "markdown",
   "source": [
    "请创建 `timethis.py` 文件，并在文件中编写 `timethis(func)` 函数。`timethis(func)` 函数包装一个具有额外逻辑层的函数，逻辑层打印出函数执行所需要的事件。为此，你将在函数中添加如下计时调用。\n",
    "```\n",
    "start = time.time()\n",
    "r = func(*args,**kwargs)\n",
    "end = time.time()\n",
    "print('%s.%s: %f' % (func.__module__, func.__name__, end-start))\n",
    "```\n",
    "（`timethis(func)`）装饰器工作方式示例：\n",
    "```\n",
    ">>> from timethis import timethis\n",
    ">>> @timethis\n",
    "def countdown(n):\n",
    "        while n > 0:\n",
    "             n -= 1\n",
    "\n",
    ">>> countdown(10000000)\n",
    "__main__.countdown : 0.076562\n",
    ">>>\n",
    "```\n",
    "讨论：`@timethis` 装饰器可以放在任何函数的前面，即你应该把装饰器用作性能调优（performance tuning）的诊断工具。"
   ],
   "id": "22b996ccf2dbbffd"
  },
  {
   "metadata": {
    "ExecuteTime": {
     "end_time": "2025-10-28T15:35:08.798179Z",
     "start_time": "2025-10-28T15:35:08.460744Z"
    }
   },
   "cell_type": "code",
   "source": [
    "from timethis import timethis\n",
    "@timethis\n",
    "def countdown(n):\n",
    "    while n > 0:\n",
    "        n -= 1\n",
    "countdown(10000000)"
   ],
   "id": "8a50e25a8d333584",
   "outputs": [
    {
     "name": "stdout",
     "output_type": "stream",
     "text": [
      "__main__.countdown 运行时间: 0.329256s\n"
     ]
    }
   ],
   "execution_count": 1
  },
  {
   "metadata": {},
   "cell_type": "markdown",
   "source": [
    "### 05 装饰方法\n",
    "本节讨论一些与方法定义结合使用的内置装饰器。\n",
    "#### **预定义的装饰器**\n",
    "在类定义中，有许多预定义的装饰器用于指定特殊方法。例如，`@staticmethod` 和 `@classmethod`、`@property`。\n",
    "```\n",
    "class Foo:\n",
    "    def bar(self,a):\n",
    "        ...\n",
    "\n",
    "    @staticmethod\n",
    "    def spam(a):\n",
    "        ...\n",
    "\n",
    "    @classmethod\n",
    "    def grok(cls,a):\n",
    "        ...\n",
    "\n",
    "    @property\n",
    "    def name(self):\n",
    "        ...\n",
    "```\n",
    "让我们逐个查看吧。\n",
    "#### **静态方法**\n",
    "`@staticmethod` 用于定义所谓的静态类方法（ static class method，来自于 C++/Java）。静态方法是一个函数，这个函数是类的一部分，但不是在实例上进行操作。\n",
    "```\n",
    "class Foo(object):\n",
    "    @staticmethod\n",
    "    def bar(x):\n",
    "        print('x =', x)\n",
    "\n",
    ">>> Foo.bar(2)\n",
    "x=2\n",
    ">>>\n",
    "```\n",
    "静态方法有时用于实现类的内部支持代码，例如，用于帮助管理已创建的实例（内存管理，系统资源，持久化，锁等等）。有时也用于某些设计模式（这里暂不讨论）。\n",
    "#### **类方法**\n",
    "`@classmethod` 用于定义类方法（class methods）。类方法是一种将 类 对象而不是实例作为第一个参数的方法。\n",
    "```\n",
    "class Foo:\n",
    "    def bar(self):\n",
    "        print(self)\n",
    "\n",
    "    @classmethod\n",
    "    def spam(cls):\n",
    "        print(cls)\n",
    "\n",
    ">>> f = Foo()\n",
    ">>> f.bar()\n",
    "<__main__.Foo object at 0x971690>   # The instance `f`\n",
    ">>> Foo.spam()\n",
    "<class '__main__.Foo'>              # The class `Foo`\n",
    ">>>\n",
    "```\n",
    "类方法常用作定义替代构造函数（constructor）的工具。\n",
    "```\n",
    "import time\n",
    "class Date:\n",
    "    def __init__(self,year,month,day):\n",
    "        self.year = year\n",
    "        self.month = month\n",
    "        self.day = day\n",
    "\n",
    "    @classmethod\n",
    "    def today(cls):\n",
    "        # Notice how the class is passed as an argument\n",
    "        tm = time.localtime()\n",
    "        # And used to create a new instance\n",
    "        return cls(tm.tm_year, tm.tm_mon, tm.tm_mday)\n",
    "\n",
    "d = Date.today()\n",
    "```\n",
    "类方法可以和继承等特性一起使用以解决棘手的问题。\n",
    "```\n",
    "class Date:\n",
    "    def __init__(self, year, month, day):\n",
    "        self.year = year\n",
    "        self.month = month\n",
    "        self.day = day\n",
    "\n",
    "    @classmethod\n",
    "    def today(cls):\n",
    "        # Gets the correct class (e.g. `NewDate`)\n",
    "        tm = time.localtime()\n",
    "        return cls(tm.tm_year, tm.tm_mon, tm.tm_mday)\n",
    "\n",
    "class NewDate(Date):\n",
    "    print('我是NewDate，父类是', Date)\n",
    "\n",
    "d = NewDate.today()\n",
    "```"
   ],
   "id": "40a65e1070afdf7d"
  },
  {
   "metadata": {
    "ExecuteTime": {
     "end_time": "2025-10-28T15:42:28.188583Z",
     "start_time": "2025-10-28T15:42:28.183927Z"
    }
   },
   "cell_type": "code",
   "source": [
    "import time\n",
    "\n",
    "class Date:\n",
    "    def __init__(self, year, month, day):\n",
    "        self.year = year\n",
    "        self.month = month\n",
    "        self.day = day\n",
    "\n",
    "    @classmethod\n",
    "    def today(cls):\n",
    "        # Gets the correct class (e.g. `NewDate`)\n",
    "        tm = time.localtime()\n",
    "        return cls(tm.tm_year, tm.tm_mon, tm.tm_mday)\n",
    "\n",
    "class NewDate(Date):\n",
    "    print('我是NewDate，父类是', Date)\n",
    "\n",
    "d = NewDate.today()"
   ],
   "id": "2ac1f12fd9eae2a",
   "outputs": [
    {
     "name": "stdout",
     "output_type": "stream",
     "text": [
      "我是NewDate，父类是 <class '__main__.Date'>\n"
     ]
    }
   ],
   "execution_count": 4
  },
  {
   "metadata": {},
   "cell_type": "markdown",
   "source": [
    "### 练习\n",
    "#### **练习 7.11：实践中的类方法**\n",
    "在 `report.py` 和 `portfolio.py` 文件中， `Portfolio` 类的创建稍微有点混乱。例如，`report.py` 程序具有如下代码：\n",
    "```\n",
    "def read_portfolio(filename, **opts):\n",
    "    '''\n",
    "    Read a stock portfolio file into a list of dictionaries with keys\n",
    "    name, shares, and price.\n",
    "    '''\n",
    "    with open(filename) as lines:\n",
    "        portdicts = fileparse.parse_csv(lines,\n",
    "                                        select=['name','shares','price'],\n",
    "                                        types=[str,int,float],\n",
    "                                        **opts)\n",
    "\n",
    "    portfolio = [ Stock(**d) for d in portdicts ]\n",
    "    return Portfolio(portfolio)\n",
    "```\n",
    "且 portfolio.py 文件中定义的 Portfolio 具有一个奇怪的初始化：\n",
    "```\n",
    "class Portfolio:\n",
    "    def __init__(self, holdings):\n",
    "        self.holdings = holdings\n",
    "    ...\n",
    "```\n",
    "坦白说，因为代码分散在各文件中，所以责任链稍微有点混乱。如果 `Portfolio` 类应该包含 `Stock` 类的实例列表，那么你应该修改该类以使其更清晰。示例：\n",
    "```\n",
    "# portfolio.py\n",
    "\n",
    "import stock\n",
    "\n",
    "class Portfolio:\n",
    "    def __init__(self):\n",
    "        self.holdings = []\n",
    "\n",
    "    def append(self, holding):\n",
    "        if not isinstance(holding, stock.Stock):\n",
    "            raise TypeError('Expected a Stock instance')\n",
    "        self.holdings.append(holding)\n",
    "    ...\n",
    "```\n",
    "如果想要从 CSV 文件中读取投资组合数据，那么你也许应该为此创建一个类方法：\n",
    "```\n",
    "# portfolio.py\n",
    "\n",
    "import fileparse\n",
    "import stock\n",
    "\n",
    "class Portfolio:\n",
    "    def __init__(self):\n",
    "        self.holdings = []\n",
    "\n",
    "    def append(self, holding):\n",
    "        if not isinstance(holding, stock.Stock):\n",
    "            raise TypeError('Expected a Stock instance')\n",
    "        self.holdings.append(holding)\n",
    "\n",
    "    @classmethod\n",
    "    def from_csv(cls, lines, **opts):\n",
    "        self = cls()\n",
    "        portdicts = fileparse.parse_csv(lines,\n",
    "                                        select=['name','shares','price'],\n",
    "                                        types=[str,int,float],\n",
    "                                        **opts)\n",
    "\n",
    "        for d in portdicts:\n",
    "            self.append(stock.Stock(**d))\n",
    "\n",
    "        return self\n",
    "```\n",
    "要使用新的 Portfolio 类，你可以这样编写代码：\n",
    "```\n",
    ">>> from portfolio import Portfolio\n",
    ">>> with open('Data/portfolio.csv') as lines:\n",
    "...     port = Portfolio.from_csv(lines)\n",
    "...\n",
    ">>>\n",
    "```\n",
    "请对 `Portfolio` 类进行修改，然后修改 `report.py` 的代码以使用类方法。"
   ],
   "id": "6055890823f999fe"
  },
  {
   "metadata": {},
   "cell_type": "code",
   "outputs": [],
   "execution_count": null,
   "source": "",
   "id": "873261d5511fd1f8"
  }
 ],
 "metadata": {
  "kernelspec": {
   "display_name": "Python 3",
   "language": "python",
   "name": "python3"
  },
  "language_info": {
   "codemirror_mode": {
    "name": "ipython",
    "version": 2
   },
   "file_extension": ".py",
   "mimetype": "text/x-python",
   "name": "python",
   "nbconvert_exporter": "python",
   "pygments_lexer": "ipython2",
   "version": "2.7.6"
  }
 },
 "nbformat": 4,
 "nbformat_minor": 5
}
