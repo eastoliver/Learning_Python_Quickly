{
 "cells": [
  {
   "metadata": {},
   "cell_type": "markdown",
   "source": [
    "#### 练习 1.1: 使用 Python 作为计算器\n",
    "\n",
    "在您的电脑上，启动 Python 并把它当做计算器去解决下面的问题。 幸运的拉里（Larry）以每股 235.14 美元的价格购买了 75 股谷歌的股票。如今，谷歌的股价是 711.25 美元每股，使用 Python 的交互模式作为计算器，计算出如果拉里出售他所有的股票，他将获取多少利润。"
   ],
   "id": "7ab648623d52cd63"
  },
  {
   "metadata": {},
   "cell_type": "code",
   "source": [
    "from _cffi_backend import string\n",
    "\n",
    "(711.25-235.14)*75"
   ],
   "id": "633f7b9064085cb9",
   "outputs": [],
   "execution_count": null
  },
  {
   "metadata": {},
   "cell_type": "markdown",
   "source": "高级技巧：使用下划线（_）变量来使用上次的计算结果。示例：如果股票经纪人（译者注：证券经纪人）拿走了 20% 的抽成，拉里赚了多少利润？",
   "id": "9cecf2efbe370770"
  },
  {
   "metadata": {},
   "cell_type": "code",
   "source": "_*0.8\n",
   "id": "1c38f4c8461fda0a",
   "outputs": [],
   "execution_count": null
  },
  {
   "metadata": {},
   "cell_type": "markdown",
   "source": [
    "#### 练习 1.2: 获取帮助\n",
    "\n",
    "使用 help() 函数可获取有关 abs() 函数的帮助。然后还可以使用 help() 函数获取关于 round() 函数的帮助。仅仅输入不带参数的 help（） 函数可以进入交互的帮助查看器（viewer）。 使用 help() 函数有一个要注意点的是：help() 函数并不适用于基本的 Python 语句，例如 for, if, while 语句（也就是说，如果您输入 help(for) ，那么将会得到一个语法错误（ SyntaxError））。替代方案是：将需要获取帮助的主题放在引号中（quotes，译者注：在 Python 中，单引号和双引号是一样的，所以 quotes 在这里既可以指单引号（''），也可以指双引号（\"\"）），例如：help(\"for\")。如果这还是没用，那么您就得上网搜索了。 进阶：访问 http://docs.python.org，然后找到 abs() 函数的说明文档（提示：可以在库参考（Library Reference）中的内建函数（Built-in Functions）部分找到它）。"
   ],
   "id": "3720fc0320af6baa"
  },
  {
   "metadata": {
    "jupyter": {
     "is_executing": true
    }
   },
   "cell_type": "code",
   "source": "round(_, 2)",
   "id": "308b7a7dcf8b7448",
   "outputs": [],
   "execution_count": null
  },
  {
   "metadata": {},
   "cell_type": "markdown",
   "source": [
    "#### 练习 1.3: 剪切和粘贴\n",
    "\n",
    "本课程是由一系列的传统网页构成，建议您尝试亲自手动输入这些交互的 Python 示例代码。尤其是对于第一次学习 Python 的人，推荐使用这种 ”慢速的方法“。通过降低学习速度，手动输入代码、并且思考您在做什么，您将对Python 这门语言有更好的了解。 如果您一定要剪切和粘贴示例代码，请从 >>> 提示符后开始选择，一直选择到最后，但是不要超过第一个空行或者下一个 >>> 提示符（以先出现的 >>> 提示符为准）。从浏览器中选择 “复制”，然后回到 Python 的窗口，接着选择 “粘贴” 将代码复制到 Python shell 中。当您粘贴之后，为了让代码运行，您需要按一下回车键（译者注：在windows系统的电脑上，是 Enter 键，在 mac 系统的电脑上是 Return 键）。 在此会话（ session）中使用 “剪切粘贴” 的方式执行 Python 语句："
   ],
   "id": "e927944a8d5603f"
  },
  {
   "metadata": {},
   "cell_type": "code",
   "source": "12+20",
   "id": "6f09bda616c31d64",
   "outputs": [],
   "execution_count": null
  },
  {
   "metadata": {},
   "cell_type": "code",
   "source": "(3 + 4 + 5 + 6)",
   "id": "b7ec7ebaa636da48",
   "outputs": [],
   "execution_count": null
  },
  {
   "metadata": {},
   "cell_type": "code",
   "source": [
    "for i in range(5):\n",
    "    print(i)"
   ],
   "id": "5f0414fe3e53a516",
   "outputs": [],
   "execution_count": null
  },
  {
   "metadata": {},
   "cell_type": "markdown",
   "source": [
    "#### 练习 1.4: 我的公共汽车在哪里?\n",
    "\n",
    "现在尝试一些高级的内容，输入下面的语句，看看在芝加哥的克拉克街（Clark street）和巴尔莫勒尔街（Balmoral street）拐角处等下一辆北上的 CTA #22 公交车的人需要等多久："
   ],
   "id": "753725c3c54780f0"
  },
  {
   "metadata": {},
   "cell_type": "code",
   "source": [
    "import requests\n",
    "from xml.etree import ElementTree\n",
    "\n",
    "url = 'http://ctabustracker.com/bustime/map/getStopPredictions.jsp?stop=14791&route=22'\n",
    "response = requests.get(url)\n",
    "\n",
    "try:\n",
    "    doc = ElementTree.fromstring(response.content)\n",
    "    for pt in doc.findall('.//pre-wrap'):\n",
    "        print(pt.text)\n",
    "except ElementTree.ParseError as e:\n",
    "    print(\"无法转换为xml\",e)\n",
    "    print(\"返回值：\",response.text)"
   ],
   "id": "57bd7d5894e18e35",
   "outputs": [],
   "execution_count": null
  },
  {
   "metadata": {},
   "cell_type": "markdown",
   "source": [
    "## 02 HelloWorld\n",
    "本节讨论有关如何创建一个程序、运行解释器和调试的基础知识。\n",
    "#### 运行Python\n",
    "Python程序始终在解释器中运行。\n",
    "解释器是一个基于控制台的应用程序，通常从命令行shell启动"
   ],
   "id": "5183a1e0cdb438f1"
  },
  {
   "metadata": {},
   "cell_type": "code",
   "source": "python3",
   "id": "59da874a7db790d6",
   "outputs": [],
   "execution_count": null
  },
  {
   "metadata": {},
   "cell_type": "markdown",
   "source": "老练的程序员以这种方式使用解释器时通常都没有问题，但对于初学者来说，这种方式并不是那么友好。您可能会使用一个为 Python 提供不同接口的环境，但是学会如何运行 Python 终端仍然是一项有必要了解的技能。",
   "id": "9e3fd402b1f0a3df"
  },
  {
   "metadata": {},
   "cell_type": "markdown",
   "source": [
    "#### 交互模式\n",
    "当启动 Python 时，可以进入一种交互的模式，在这种模式下，可以进行编程实验。\n",
    "如果输入代码完毕，这些代码将会马上运行。没有 edit/compile/run/debug 等流程。"
   ],
   "id": "341622dcaa078eff"
  },
  {
   "metadata": {},
   "cell_type": "code",
   "source": "print(\"hello world\")",
   "id": "24bc952137918a08",
   "outputs": [],
   "execution_count": null
  },
  {
   "metadata": {},
   "cell_type": "markdown",
   "source": [
    "这就是所谓的“读取-求值-输出-循环”（译者注：简写为 REPL，也有人译为 “交互式解释器”，正像 Python 这个词一样，为了更好地理解，这里不翻译），对于代码调试和探索非常有用。\n",
    "\n",
    "% 暂停：如果您不知道如何与 Python 进行交互，先停止您正在做的事情，然后弄清楚如何与 Python 进行交互。如果您正在使用的是集成开发环境（IDE）,它可能隐藏在一个菜单选项或者其它窗口后面。本课程的许多部分都假定您能与解释器进行交互。\n",
    "\n",
    "让我们仔细看看 REPL 的元素：\n",
    "\n",
    "    >>> 提示符用于开始一个新的语句。\n",
    "    ... 提示符用于继续一个语句，输入一个空行表示全部输入结束，并运行所输入的代码。\n",
    "\n",
    "... 提示符可能会显示，也可能不会显示，这取决于使用的环境。对于本课程，将 ... 提示符显示为空白，以便于剪切、粘贴示例代码。\n",
    "\n",
    "下划线 _ 保存最后的结果。\n",
    "\n",
    ">>> 37 * 42\n",
    "1554\n",
    ">>> _ * 2\n",
    "3108\n",
    ">>> _ + 50\n",
    "3158\n",
    ">>>\n",
    "\n",
    "仅在交互模式下如此（指下划线 _ 保存最后的结果)，永远不要在程序中使用这种方式。"
   ],
   "id": "3e8bb66af6917a0b"
  },
  {
   "metadata": {},
   "cell_type": "markdown",
   "source": [
    "#### 创建程序\n",
    "程序写在 .py 文件中。"
   ],
   "id": "9b2a7d199dd2dd5c"
  },
  {
   "metadata": {},
   "cell_type": "code",
   "source": "print(\"hello world\")",
   "id": "63bfa07c49e278fd",
   "outputs": [],
   "execution_count": null
  },
  {
   "metadata": {},
   "cell_type": "markdown",
   "source": [
    "#### 运行程序\n",
    "要执行程序，请在终端中使用 python 命令执行它。"
   ],
   "id": "98961924717de4cc"
  },
  {
   "metadata": {},
   "cell_type": "markdown",
   "source": [
    "#### 示例程序\n",
    "让我们解决以下的问题： 一天早上，您走出去，在芝加哥的西尔斯大厦旁的人行道上放 1 美元钞票。从那以后的每一天，您放的钞票都是前一天的两倍。这叠钞票需要多长时间才能超过塔的高度。"
   ],
   "id": "2b7d086d5f542a78"
  },
  {
   "metadata": {},
   "cell_type": "code",
   "source": [
    "bill_thickness = 0.11*0.001 # 米\n",
    "sears_height = 442 #塔高(米)\n",
    "num_bills = 1\n",
    "day = 1\n",
    "\n",
    "while num_bills * bill_thickness < sears_height:\n",
    "    print(day, num_bills, num_bills * bill_thickness)\n",
    "    day = day + 1\n",
    "    num_bills = num_bills * 2\n",
    "print('Days', day)\n",
    "print('Number of bills', num_bills)\n",
    "print('Height', num_bills * bill_thickness)"
   ],
   "id": "7d43c662ebc253c2",
   "outputs": [],
   "execution_count": null
  },
  {
   "metadata": {},
   "cell_type": "markdown",
   "source": [
    "#### 语句\n",
    "一个 Python 程序是由一系列的语句组成。\n",
    "每个语句以换行符终止。语句会一个接一个地执行，直到控制流达到文件的末尾\n",
    "### 注释\n",
    "注释#是不会被执行的文本。\n",
    "注释由#号表示，并延伸到行的末尾。"
   ],
   "id": "1d82cb140f440141"
  },
  {
   "metadata": {},
   "cell_type": "code",
   "source": [
    "a = 3 + 4\n",
    "#这是一个注释\n",
    "b = a + 2\n",
    "print(b)"
   ],
   "id": "a54e50ae9b0ab291",
   "outputs": [],
   "execution_count": null
  },
  {
   "metadata": {},
   "cell_type": "markdown",
   "source": [
    "#### 变量\n",
    "变量是一个值的名称。可以使用从 a 到 z 的字母（小写和大写都可以）表示，也可以使用下划线 _ 符号表示。数字也可以作为变量名的一部分，但第一个字符除外。"
   ],
   "id": "39bc62a5f3a5fcbd"
  },
  {
   "metadata": {},
   "cell_type": "code",
   "source": [
    "height = 442 # valid\n",
    "_height = 442 # valid\n",
    "height2 = 442 # valid\n",
    "2height = 442 # invalid"
   ],
   "id": "a165cba33b173aea",
   "outputs": [],
   "execution_count": null
  },
  {
   "metadata": {},
   "cell_type": "markdown",
   "source": [
    "#### 类型\n",
    "变量不需要使用值的类型进行声明。类型与右侧的值关联，而不是变量名。\n",
    "Python 是动态语言。当程序执行时，变量的感知“类型”可能会发生改变，这取决于赋给变量的当前值。"
   ],
   "id": "261476b2f45ae001"
  },
  {
   "metadata": {},
   "cell_type": "code",
   "source": [
    "height = 442           # An integer\n",
    "height = 442.0         # Floating point\n",
    "height = 'Really tall' # A string"
   ],
   "id": "7f1ae2ef915f9300",
   "outputs": [],
   "execution_count": null
  },
  {
   "metadata": {},
   "cell_type": "markdown",
   "source": [
    "#### 大小写敏感\n",
    "Python 语言是大小写敏感的（即区分大小写），大写字母和小写字母被认为是不同的字母。下面这些都是不同的变量：\n",
    "``` python\n",
    "name = 'Jake'\n",
    "Name = 'Elwood'\n",
    "NAME = 'Guido'\n",
    "```\n",
    "Python 语言自带的语句总是小写：\n",
    "``` python\n",
    "while x<0: # OK\n",
    "WHILE x<0: # ERROE\n",
    "```"
   ],
   "id": "6293d107dcb4cdd8"
  },
  {
   "metadata": {},
   "cell_type": "markdown",
   "source": [
    "#### 循环\n",
    "`while`语句执行一个循环：\n",
    "```  python\n",
    "while num_bills * bill_thickness < sears_height:\n",
    "    print(day, num_bills, num_bills * bill_thickness)\n",
    "    day = day + 1\n",
    "    num_bills = num_bills * 2\n",
    "\n",
    "print('Number of days', day)\n",
    "```\n",
    "只要`while`之后的表达式值是`true`,`while`下面缩进的语句就会被执行。"
   ],
   "id": "2d1d9828fad3143d"
  },
  {
   "metadata": {},
   "cell_type": "markdown",
   "source": [
    "#### 缩进\n",
    "缩进用于表示放在一起的语句组。考虑前面的示例：\n",
    "```\n",
    "while num_bills * bill_thickness < sears_height:\n",
    "    print(day, num_bills, num_bills * bill_thickness)\n",
    "    day = day + 1\n",
    "    num_bills = num_bills * 2\n",
    "```\n",
    "缩进将下面的语句分组为一个重复的操作：\n",
    "``` python\n",
    "    print(day, num_bills, num_bills * bill_thickness)\n",
    "    day = day + 1\n",
    "    num_bills = num_bills * 2\n",
    "```\n",
    "因为在末尾的 `print()` 语句（即 `print('Number of days', day)）`没有缩进，所以不属于循环。空行只是为了可读性，并不影响程序的执行。因为在末尾的 `print()` 语句（即 `print('Number of days', day)）`没有缩进，所以不属于循环。空行只是为了可读性，并不影响程序的执行。"
   ],
   "id": "6b3f7a27b31d886"
  },
  {
   "metadata": {},
   "cell_type": "markdown",
   "source": [
    "#### 缩进的最佳实践\n",
    "* 使用空格（spaces）而不是制表符（tabs）。\n",
    "* 每级使用四个空格。\n",
    "* 使用支持 Python 的编辑器。\n",
    "Python 唯一的要求就是同一代码块内的缩进必须一致。例如，下面的缩进是错误的：\n",
    "```\n",
    "while num_bills * bill_thickness < sears_height:\n",
    "    print(day, num_bills, num_bills * bill_thickness)\n",
    "        day = day + 1 # ERROR\n",
    "    num_bills = num_bills * 2\n",
    "```"
   ],
   "id": "188047c1300239f3"
  },
  {
   "metadata": {},
   "cell_type": "markdown",
   "source": [
    "#### 条件语句\n",
    "if 语句用来执行一个条件：\n",
    "``` python\n",
    "if a > b:\n",
    "    print('Computer says no')\n",
    "else:\n",
    "    print('Computer says yes')\n",
    "```\n",
    "为了检查多个条件，可以使用 elif来添加额外的检查。\n",
    "``` python\n",
    "if a > b:\n",
    "    print('Computer says no')\n",
    "elif a == b:\n",
    "    print('Computer says yes')\n",
    "else:\n",
    "    print('Computer says maybe')\n",
    "```"
   ],
   "id": "1833ebaefcd7759b"
  },
  {
   "metadata": {},
   "cell_type": "markdown",
   "source": [
    "#### 输出\n",
    "`print` 函数将传入的参数值输出成一行文本。\n",
    "```  python\n",
    "print('Hello world!') # Prints the text 'Hello world!'\n",
    "```\n",
    "也可以将变量进行输出。输出的文本将是变量的值，而不是变量的名字。\n",
    "```  python\n",
    "x = 100\n",
    "print(x) # Prints the text '100'\n",
    "```\n",
    "如果将两个以上的值传递给 print 函数，它们在输出的时候被空格分开。\n",
    "```  python\n",
    "name = 'Jake'\n",
    "print('My name is', name) # Print the text 'My name is Jake'\n",
    "```\n",
    "`print()`函数总是将换行符放在最后。\n",
    "```  python\n",
    "print('Hello')\n",
    "print('My name is', 'Jake')\n",
    "```\n",
    "上面的代码会输出如下的内容:\n",
    "``` python\n",
    "Hello\n",
    "My name is Jake\n",
    "```\n",
    "额外的换行符可以被抑制:\n",
    "``` python\n",
    "print('Hello', end=' ')\n",
    "print('My name is', 'Jake')\n",
    "```\n",
    "上面的代码将会输出如下内容:\n",
    "'''\n",
    "Hello My name is Jake\n",
    "```"
   ],
   "id": "892234c3dcdadb70"
  },
  {
   "metadata": {},
   "cell_type": "markdown",
   "source": [
    "#### 用户输入\n",
    "要读取一行类型化的用户输入，可以使用 input() 函数：\n",
    "```  python\n",
    "name = input('Enter your name:')\n",
    "print('Your name is', name)\n",
    "```\n",
    "`input()` `函数向用户输出一句提示，并且返回他们的响应。\n",
    "这对于一个简短的程序、学习练习或者简单的调试是非常有用的。\n",
    "但这并未广泛应用于实际的程序中。\n",
    "#### pass 语句\n",
    "有时候需要指定一个空的代码块，那么可以使用 pass 关键字。\n",
    "``` python\n",
    "if a > b:\n",
    "    pass\n",
    "else:\n",
    "    print('Computer says false')\n",
    "```\n",
    "`pass`语句也称为 “无操作” 语句，它什么也不做。它用作语句的占位符，可能以后会被添加。"
   ],
   "id": "197ae257030232d3"
  },
  {
   "metadata": {},
   "cell_type": "markdown",
   "source": [
    "### 练习\n",
    "这是需要创建 `Python` 文件并且运行这个文件的第一组练习。从现在开始，假定你正在编辑的文件位于`practical-python/Work/` 目录。为了帮您找到合适的 位置，已经创建了许多具有合适的文件名的空的启动文件。请找到在第一个练习中使用的 `Work/bounce.py` 文件。"
   ],
   "id": "12c3cbfb36c0cabb"
  },
  {
   "metadata": {},
   "cell_type": "markdown",
   "source": [
    "#### 练习 1.5: 弹跳球\n",
    "一个橡胶球从 100 米高的地方落下来，球每次撞到地面时弹到原来高度的 3/5 。编写一个程序 `bounce.py` ，输出一张表格，显示前 10 次反弹的高度。"
   ],
   "id": "aa2e09a1b68d70d1"
  },
  {
   "metadata": {},
   "cell_type": "code",
   "source": [
    "ball_height = [100]\n",
    "for i in range(10):\n",
    "    ball_height.append(round(ball_height[i] * 0.6,4))\n",
    "    print(i + 1, ball_height[i + 1])\n"
   ],
   "id": "79fecefe3d99f91e",
   "outputs": [],
   "execution_count": null
  },
  {
   "metadata": {},
   "cell_type": "markdown",
   "source": [
    "\n",
    "下面的代码片段包含来自于西尔斯大厦问题的代码，它还有一个 bug：\n",
    "``` python\n",
    "bill_thickness = 0.11 * 0.001    # Meters (0.11 mm)\n",
    "sears_height   = 442             # Height (meters)\n",
    "num_bills      = 1\n",
    "day            = 1\n",
    "\n",
    "while num_bills * bill_thickness < sears_height:\n",
    "    print(day, num_bills, num_bills * bill_thickness)\n",
    "    day = days + 1\n",
    "    num_bills = num_bills * 2\n",
    "\n",
    "print('Number of days', day)\n",
    "print('Number of bills', num_bills)\n",
    "print('Final height', num_bills * bill_thickness)\n",
    "```\n",
    "将上面显示的代码复制并粘贴到一个名为 sears.py的新程序中。当执行 sears.py 里的代码时，将会收到一条显示程序为什么崩溃的错误信息。错误信息如下所示：\n",
    "``` java\n",
    "Traceback (most recent call last):\n",
    "  File \"sears.py\", line 10, in <module>\n",
    "    day = days + 1\n",
    "NameError: name 'days' is not defined\n",
    "```\n",
    "读取错误信息是` Python `代码的重要组成部分。如果程序崩溃，则回溯消息的最后一行是程序为什么崩溃的实际原因。在此`（NameError: name 'days' is not defined）`之上，你应该可以看到源代码片段`（ day = days + 1）`、可识别的文件名`（ sears.py）`和错误代码的行号（ line 10）。\n",
    "\n",
    "  * 哪行是错误的？\n",
    "  * 错误是什么？\n",
    "  * 解决错误。\n",
    "  * 成功运行程序。"
   ],
   "id": "137d4d9a35868806"
  },
  {
   "metadata": {},
   "cell_type": "code",
   "source": [
    "bill_thickness = 0.11 * 0.001    # Meters (0.11 mm)\n",
    "sears_height   = 442             # Height (meters)\n",
    "num_bills      = 1\n",
    "day            = 1\n",
    "\n",
    "while num_bills * bill_thickness < sears_height:\n",
    "    print(day, num_bills, num_bills * bill_thickness)\n",
    "    day = day + 1\n",
    "    num_bills = num_bills * 2\n",
    "\n",
    "print('Number of days', day)\n",
    "print('Number of bills', num_bills)\n",
    "print('Final height', num_bills * bill_thickness)"
   ],
   "id": "47dfad2134c96b55",
   "outputs": [],
   "execution_count": null
  },
  {
   "metadata": {},
   "cell_type": "markdown",
   "source": [
    "## 03 数字\n",
    "本节讨论数学计算。\n",
    "\n",
    "#### **数字类型**\n",
    "\n",
    "Python 有 4 种类型的数字：\n",
    "\n",
    "    * 布尔型\n",
    "    * 整型\n",
    "    * 浮点型\n",
    "    * 复数（虚数）\n",
    "\n",
    "#### **布尔型（bool）**\n",
    "\n",
    "布尔型数字有两个值：True，False。\n",
    "```  python\n",
    "a = True\n",
    "b = False\n",
    "```\n",
    "在数值上，它们被计算成值为 1，0 的数。\n",
    "```  python\n",
    "c = 4 + True # 5\n",
    "d = False\n",
    "if d == 0:\n",
    "    print('d is False')\n",
    "```\n",
    "但是，不要像上面这样写代码，这会很奇怪。\n",
    "#### **整型（int）**\n",
    "\n",
    "任意大小的有符号值，或者以任意数为基数的有符号值。\n",
    "```  python\n",
    "a = 37\n",
    "b = -299392993727716627377128481812241231\n",
    "c = 0x7fa8      # 十六进制（Hexadecimal）\n",
    "d = 0o253       # 八进制（Octal）\n",
    "e = 0b10001111  # 二进制（Binary）\n",
    "```\n",
    "常用操作：\n",
    "```  python\n",
    "x + y      加（Add）\n",
    "x - y      减（Subtract）\n",
    "x * y      乘（Multiply）\n",
    "x / y      除（Divide，生成一个浮点数）\n",
    "x // y     地板除（Floor Divide，生成一个整数）\n",
    "x % y      取模（Modulo，余数(remainder)）\n",
    "x ** y     幂运算（Power）\n",
    "x << n     左移位（Bit shift left）\n",
    "x >> n     右移位（Bit shift right）\n",
    "x & y      按位与（Bit-wise AND）\n",
    "x | y      按位或（Bit-wise OR）\n",
    "x ^ y      按位异或（Bit-wise XOR）\n",
    "~x         取反（Bit-wise NOT）\n",
    "abs(x)     绝对值（Absolute value）\n",
    "```\n",
    "#### **浮点型（float）**\n",
    "\n",
    "使用十进制或者指数表示法来指定浮点数的值：\n",
    "``` python\n",
    "a = 37.45\n",
    "b = 4e5 # 4 x 10**5 or 400,000\n",
    "c = -1.345e-10\n",
    "```\n",
    "使用浮点数表示 IEEE 754 标准的双精度。这与 C 语言中的 double 类型相同。\n",
    "```  python\n",
    "    17 digits of precision\n",
    "    Exponent from -308 to 308\n",
    "```\n",
    "请注意，当代表小数时，浮点数是不精确的。\n",
    "``` python\n",
    "a = 2.1 + 4.2\n",
    "a == 6.3\n",
    "False\n",
    "a\n",
    "6.300000000000001\n",
    "```\n",
    "这不是 Python 的问题，而是 CPU 硬件上底层浮点硬件的问题。\n",
    "\n",
    "常用操作：\n",
    "```\n",
    "x + y      加（Add）\n",
    "x - y      减（Subtract）\n",
    "x * y      乘（Multiply）\n",
    "x / y      除（Divide）\n",
    "x // y     地板除（Floor Divide）\n",
    "x % y      取模（Modulo）\n",
    "x ** y     幂运算（Power）\n",
    "abs(x)     绝对值（Absolute Value）\n",
    "```\n",
    "除了按位运算符之外，浮点数的运算符与整数的运算符是一样的。\n",
    "\n",
    "其它数学函数可以在 math 中找到。\n",
    "``` python\n",
    "import math\n",
    "a = math.sqrt(x)\n",
    "b = math.sin(x)\n",
    "c = math.cos(x)\n",
    "d = math.tan(x)\n",
    "e = math.log(x)\n",
    "```\n",
    "#### **比较**\n",
    "\n",
    "下面的比较/关系运算符可以应用于数字：\n",
    "```  python\n",
    "x < y      小于（Less than）\n",
    "x <= y     小于等于（Less than or equal）\n",
    "x > y      大于（Greater than）\n",
    "x >= y     大于等于（Greater than or equal）\n",
    "x == y     等于（Equal to）\n",
    "x != y     不等于（Not equal to）\n",
    "```\n",
    "可以使用 and， or，not 组成更复杂的布尔表达式。\n",
    "\n",
    "这里有一些例子：\n",
    "```  python\n",
    "if b >= a and b <= c:\n",
    "    print('b is between a and c')\n",
    "\n",
    "if not (b < a or b > c):\n",
    "    print('b is still between a and c')\n",
    "```\n",
    "转换数字\n",
    "\n",
    "类型名可以被用来将其它数据转换为数字。\n",
    "```  python\n",
    "a = int(x)    # Convert x to integer\n",
    "b = float(x)  # Convert x to float\n",
    "```\n",
    "试试下面这些操作：\n",
    "\n",
    ">>> a = 3.14159\n",
    ">>> int(a)\n",
    "3\n",
    ">>> b = '3.14159' # It also works with strings containing numbers\n",
    ">>> float(b)\n",
    "3.14159\n",
    ">>>"
   ],
   "id": "ae970b0cf178205b"
  },
  {
   "metadata": {},
   "cell_type": "markdown",
   "source": [
    "### 练习\n",
    "#### **练习 1.7：戴夫的抵押贷款**\n",
    "戴夫决定从 Guido 的抵押贷款、股票投资和比特币交易公司获得 50 万美元的 30 年期固定利率抵押贷款。利率是 5%，每月还款额是 2684.11 美元。\n",
    "\n",
    "下面这个程序用于计算戴夫在抵押期内需要支付的总金额："
   ],
   "id": "b6766e1e072b80f5"
  },
  {
   "metadata": {},
   "cell_type": "code",
   "source": [
    "principal = 500000.0 #欠款额\n",
    "rate = 0.05 #年利率\n",
    "payment = 2684.11 #每月还款额\n",
    "total_paid = 0.0 #总还款额\n",
    "\n",
    "while principal >0:\n",
    "    principal = principal * (1+rate/12) - payment\n",
    "    total_paid = total_paid + payment\n",
    "print('需要支付的总金额为：',total_paid)"
   ],
   "id": "e2d7c5783d0fdfdb",
   "outputs": [],
   "execution_count": null
  },
  {
   "metadata": {},
   "cell_type": "markdown",
   "source": [
    "principal = 500000.0 #欠款额\n",
    "rate = 0.05 #年利率\n",
    "payment = 2684.11 #每月还款额\n",
    "total_paid = 0.0 #总还款额\n",
    "\n",
    "while principal >0:\n",
    "    principal = principal * (1+rate/12) - payment\n",
    "    total_paid = total_paid + payment\n",
    "print('需要支付的总金额为：',total_paid)#### **练习 1.8：额外付款**\n",
    "假设戴夫在抵押期的前 12 个月每月额外支付 1000 美元。\n",
    "修改程序以包含这部分额外的付款，并且输出已支付的总金额以及所需的月数。\n",
    "当你执行这个新程序时，它应该报告 342 个月的总付款额是 929,965.62 。"
   ],
   "id": "a8674c7b8a2a03a4"
  },
  {
   "metadata": {},
   "cell_type": "code",
   "source": [
    "principal = 500000.0  #欠款额\n",
    "rate = 0.05  #年利率\n",
    "payment = 2684.11  #每月还款额\n",
    "total_paid = 0.0  #总还款额\n",
    "months =0\n",
    "while principal > 0:\n",
    "    if months < 12:\n",
    "        payment = 2684.11 + 1000\n",
    "    else:\n",
    "        payment = 2684.11\n",
    "    months = months + 1\n",
    "    principal = principal * (1 + rate / 12) - payment\n",
    "    total_paid = total_paid + payment\n",
    "print(f'{ months}个月的总付款额是：{total_paid:.2f}')"
   ],
   "id": "52a2b0bce01fdd0",
   "outputs": [],
   "execution_count": null
  },
  {
   "metadata": {},
   "cell_type": "markdown",
   "source": [
    "#### **练习 1.9：制作一个额外的付款计算器**\n",
    "\n",
    "修改程序，以便可以更一般地处理额外的付款信息。做到这一点，以便用户可以设置下面这些变量：\n",
    "``` python\n",
    "extra_payment_start_month = 61\n",
    "extra_payment_end_month = 108\n",
    "extra_payment = 1000\n",
    "```\n",
    "使程序查看这些变量，并适当地计算总付款额 。如果戴夫从抵押期的第五年开始，每月额外支付 1000 每月并支付 4 年，那么他将要支付多少？"
   ],
   "id": "d3b232763dd80804"
  },
  {
   "metadata": {},
   "cell_type": "code",
   "source": [
    "principal = 500000.0  #欠款额\n",
    "rate = 0.05  #年利率\n",
    "payment = 2684.11  #每月还款额\n",
    "total_paid = 0.0  #总还款额\n",
    "months =1\n",
    "extra_payment_start_month = 61\n",
    "extra_payment_end_month = 108\n",
    "extra_payment = 1000\n",
    "\n",
    "while principal > 0:\n",
    "    if extra_payment_start_month<=months <= extra_payment_end_month:\n",
    "        payment = 2684.11 + extra_payment\n",
    "    else:\n",
    "        payment = 2684.11\n",
    "    print(f'第{months}个月，还款额为：{payment:.2f}')\n",
    "    months = months + 1\n",
    "    principal = principal * (1 + rate / 12) - payment\n",
    "    total_paid = total_paid + payment\n",
    "print(f'{ months}个月的总付款额是：{total_paid:.2f}')"
   ],
   "id": "1c56e6cd1131f00a",
   "outputs": [],
   "execution_count": null
  },
  {
   "metadata": {},
   "cell_type": "markdown",
   "source": [
    "#### **练习 1.10：制作表格**\n",
    "修改程序，使其显示迄今为止支付的月数，支付的总金额和剩余的本金。"
   ],
   "id": "23752d81619510ec"
  },
  {
   "metadata": {
    "ExecuteTime": {
     "end_time": "2025-10-23T14:51:02.844269Z",
     "start_time": "2025-10-23T14:51:02.835708Z"
    }
   },
   "cell_type": "code",
   "source": [
    "principal = 500000.0  #欠款额\n",
    "rate = 0.05  #年利率\n",
    "payment = 2684.11  #每月还款额\n",
    "total_paid = 0.0  #总还款额\n",
    "months = 1\n",
    "extra_payment_start_month = 61\n",
    "extra_payment_end_month = 108\n",
    "extra_payment = 1000\n",
    "\n",
    "while principal > 0:\n",
    "    if extra_payment_start_month <= months <= extra_payment_end_month:\n",
    "        payment = 2684.11 + extra_payment\n",
    "    else:\n",
    "        payment = 2684.11\n",
    "    principal = principal * (1 + rate / 12) - payment\n",
    "    total_paid = total_paid + payment\n",
    "    print(f'{months} {total_paid:.2f} {principal:.2f}')\n",
    "    months = months + 1\n",
    "print(f'{months-1}个月的总付款额是：{total_paid:.2f}')\n"
   ],
   "id": "a5e05dbc2a179dd8",
   "outputs": [
    {
     "name": "stdout",
     "output_type": "stream",
     "text": [
      "1 2684.11 499399.22\n",
      "2 5368.22 498795.94\n",
      "3 8052.33 498190.15\n",
      "4 10736.44 497581.83\n",
      "5 13420.55 496970.98\n",
      "6 16104.66 496357.58\n",
      "7 18788.77 495741.63\n",
      "8 21472.88 495123.11\n",
      "9 24156.99 494502.01\n",
      "10 26841.10 493878.33\n",
      "11 29525.21 493252.04\n",
      "12 32209.32 492623.15\n",
      "13 34893.43 491991.64\n",
      "14 37577.54 491357.49\n",
      "15 40261.65 490720.70\n",
      "16 42945.76 490081.26\n",
      "17 45629.87 489439.16\n",
      "18 48313.98 488794.38\n",
      "19 50998.09 488146.91\n",
      "20 53682.20 487496.75\n",
      "21 56366.31 486843.87\n",
      "22 59050.42 486188.28\n",
      "23 61734.53 485529.96\n",
      "24 64418.64 484868.89\n",
      "25 67102.75 484205.06\n",
      "26 69786.86 483538.47\n",
      "27 72470.97 482869.11\n",
      "28 75155.08 482196.95\n",
      "29 77839.19 481522.00\n",
      "30 80523.30 480844.23\n",
      "31 83207.41 480163.64\n",
      "32 85891.52 479480.21\n",
      "33 88575.63 478793.93\n",
      "34 91259.74 478104.80\n",
      "35 93943.85 477412.79\n",
      "36 96627.96 476717.90\n",
      "37 99312.07 476020.11\n",
      "38 101996.18 475319.42\n",
      "39 104680.29 474615.81\n",
      "40 107364.40 473909.27\n",
      "41 110048.51 473199.78\n",
      "42 112732.62 472487.33\n",
      "43 115416.73 471771.92\n",
      "44 118100.84 471053.53\n",
      "45 120784.95 470332.14\n",
      "46 123469.06 469607.75\n",
      "47 126153.17 468880.34\n",
      "48 128837.28 468149.89\n",
      "49 131521.39 467416.41\n",
      "50 134205.50 466679.87\n",
      "51 136889.61 465940.26\n",
      "52 139573.72 465197.56\n",
      "53 142257.83 464451.78\n",
      "54 144941.94 463702.88\n",
      "55 147626.05 462950.87\n",
      "56 150310.16 462195.72\n",
      "57 152994.27 461437.43\n",
      "58 155678.38 460675.97\n",
      "59 158362.49 459911.34\n",
      "60 161046.60 459143.53\n",
      "61 164730.71 457372.52\n",
      "62 168414.82 455594.13\n",
      "63 172098.93 453808.33\n",
      "64 175783.04 452015.09\n",
      "65 179467.15 450214.37\n",
      "66 183151.26 448406.16\n",
      "67 186835.37 446590.40\n",
      "68 190519.48 444767.09\n",
      "69 194203.59 442936.17\n",
      "70 197887.70 441097.63\n",
      "71 201571.81 439251.43\n",
      "72 205255.92 437397.53\n",
      "73 208940.03 435535.91\n",
      "74 212624.14 433666.54\n",
      "75 216308.25 431789.37\n",
      "76 219992.36 429904.38\n",
      "77 223676.47 428011.54\n",
      "78 227360.58 426110.81\n",
      "79 231044.69 424202.16\n",
      "80 234728.80 422285.56\n",
      "81 238412.91 420360.97\n",
      "82 242097.02 418428.37\n",
      "83 245781.13 416487.71\n",
      "84 249465.24 414538.97\n",
      "85 253149.35 412582.10\n",
      "86 256833.46 410617.08\n",
      "87 260517.57 408643.88\n",
      "88 264201.68 406662.45\n",
      "89 267885.79 404672.77\n",
      "90 271569.90 402674.79\n",
      "91 275254.01 400668.50\n",
      "92 278938.12 398653.84\n",
      "93 282622.23 396630.79\n",
      "94 286306.34 394599.30\n",
      "95 289990.45 392559.36\n",
      "96 293674.56 390510.91\n",
      "97 297358.67 388453.93\n",
      "98 301042.78 386388.38\n",
      "99 304726.89 384314.22\n",
      "100 308411.00 382231.42\n",
      "101 312095.11 380139.94\n",
      "102 315779.22 378039.75\n",
      "103 319463.33 375930.80\n",
      "104 323147.44 373813.07\n",
      "105 326831.55 371686.52\n",
      "106 330515.66 369551.10\n",
      "107 334199.77 367406.79\n",
      "108 337883.88 365253.54\n",
      "109 340567.99 364091.32\n",
      "110 343252.10 362924.25\n",
      "111 345936.21 361752.33\n",
      "112 348620.32 360575.52\n",
      "113 351304.43 359393.81\n",
      "114 353988.54 358207.17\n",
      "115 356672.65 357015.59\n",
      "116 359356.76 355819.05\n",
      "117 362040.87 354617.52\n",
      "118 364724.98 353410.98\n",
      "119 367409.09 352199.41\n",
      "120 370093.20 350982.80\n",
      "121 372777.31 349761.12\n",
      "122 375461.42 348534.35\n",
      "123 378145.53 347302.47\n",
      "124 380829.64 346065.45\n",
      "125 383513.75 344823.28\n",
      "126 386197.86 343575.93\n",
      "127 388881.97 342323.39\n",
      "128 391566.08 341065.63\n",
      "129 394250.19 339802.62\n",
      "130 396934.30 338534.36\n",
      "131 399618.41 337260.81\n",
      "132 402302.52 335981.95\n",
      "133 404986.63 334697.76\n",
      "134 407670.74 333408.23\n",
      "135 410354.85 332113.32\n",
      "136 413038.96 330813.02\n",
      "137 415723.07 329507.29\n",
      "138 418407.18 328196.13\n",
      "139 421091.29 326879.50\n",
      "140 423775.40 325557.39\n",
      "141 426459.51 324229.77\n",
      "142 429143.62 322896.62\n",
      "143 431827.73 321557.91\n",
      "144 434511.84 320213.63\n",
      "145 437195.95 318863.74\n",
      "146 439880.06 317508.23\n",
      "147 442564.17 316147.07\n",
      "148 445248.28 314780.24\n",
      "149 447932.39 313407.71\n",
      "150 450616.50 312029.47\n",
      "151 453300.61 310645.48\n",
      "152 455984.72 309255.73\n",
      "153 458668.83 307860.18\n",
      "154 461352.94 306458.82\n",
      "155 464037.05 305051.62\n",
      "156 466721.16 303638.56\n",
      "157 469405.27 302219.61\n",
      "158 472089.38 300794.75\n",
      "159 474773.49 299363.95\n",
      "160 477457.60 297927.19\n",
      "161 480141.71 296484.45\n",
      "162 482825.82 295035.69\n",
      "163 485509.93 293580.89\n",
      "164 488194.04 292120.04\n",
      "165 490878.15 290653.09\n",
      "166 493562.26 289180.04\n",
      "167 496246.37 287700.85\n",
      "168 498930.48 286215.49\n",
      "169 501614.59 284723.94\n",
      "170 504298.70 283226.18\n",
      "171 506982.81 281722.18\n",
      "172 509666.92 280211.92\n",
      "173 512351.03 278695.36\n",
      "174 515035.14 277172.48\n",
      "175 517719.25 275643.25\n",
      "176 520403.36 274107.65\n",
      "177 523087.47 272565.66\n",
      "178 525771.58 271017.24\n",
      "179 528455.69 269462.37\n",
      "180 531139.80 267901.02\n",
      "181 533823.91 266333.16\n",
      "182 536508.02 264758.77\n",
      "183 539192.13 263177.83\n",
      "184 541876.24 261590.29\n",
      "185 544560.35 259996.14\n",
      "186 547244.46 258395.35\n",
      "187 549928.57 256787.88\n",
      "188 552612.68 255173.72\n",
      "189 555296.79 253552.84\n",
      "190 557980.90 251925.20\n",
      "191 560665.01 250290.78\n",
      "192 563349.12 248649.54\n",
      "193 566033.23 247001.47\n",
      "194 568717.34 245346.54\n",
      "195 571401.45 243684.70\n",
      "196 574085.56 242015.95\n",
      "197 576769.67 240340.24\n",
      "198 579453.78 238657.54\n",
      "199 582137.89 236967.84\n",
      "200 584822.00 235271.10\n",
      "201 587506.11 233567.28\n",
      "202 590190.22 231856.37\n",
      "203 592874.33 230138.33\n",
      "204 595558.44 228413.13\n",
      "205 598242.55 226680.74\n",
      "206 600926.66 224941.13\n",
      "207 603610.77 223194.28\n",
      "208 606294.88 221440.14\n",
      "209 608978.99 219678.70\n",
      "210 611663.10 217909.92\n",
      "211 614347.21 216133.77\n",
      "212 617031.32 214350.21\n",
      "213 619715.43 212559.23\n",
      "214 622399.54 210760.78\n",
      "215 625083.65 208954.84\n",
      "216 627767.76 207141.38\n",
      "217 630451.87 205320.36\n",
      "218 633135.98 203491.75\n",
      "219 635820.09 201655.52\n",
      "220 638504.20 199811.64\n",
      "221 641188.31 197960.08\n",
      "222 643872.42 196100.80\n",
      "223 646556.53 194233.78\n",
      "224 649240.64 192358.98\n",
      "225 651924.75 190476.36\n",
      "226 654608.86 188585.91\n",
      "227 657292.97 186687.57\n",
      "228 659977.08 184781.33\n",
      "229 662661.19 182867.14\n",
      "230 665345.30 180944.97\n",
      "231 668029.41 179014.80\n",
      "232 670713.52 177076.59\n",
      "233 673397.63 175130.30\n",
      "234 676081.74 173175.90\n",
      "235 678765.85 171213.35\n",
      "236 681449.96 169242.63\n",
      "237 684134.07 167263.70\n",
      "238 686818.18 165276.52\n",
      "239 689502.29 163281.06\n",
      "240 692186.40 161277.29\n",
      "241 694870.51 159265.17\n",
      "242 697554.62 157244.66\n",
      "243 700238.73 155215.74\n",
      "244 702922.84 153178.36\n",
      "245 705606.95 151132.50\n",
      "246 708291.06 149078.10\n",
      "247 710975.17 147015.15\n",
      "248 713659.28 144943.61\n",
      "249 716343.39 142863.43\n",
      "250 719027.50 140774.58\n",
      "251 721711.61 138677.03\n",
      "252 724395.72 136570.74\n",
      "253 727079.83 134455.68\n",
      "254 729763.94 132331.80\n",
      "255 732448.05 130199.07\n",
      "256 735132.16 128057.46\n",
      "257 737816.27 125906.92\n",
      "258 740500.38 123747.42\n",
      "259 743184.49 121578.93\n",
      "260 745868.60 119401.40\n",
      "261 748552.71 117214.79\n",
      "262 751236.82 115019.08\n",
      "263 753920.93 112814.21\n",
      "264 756605.04 110600.16\n",
      "265 759289.15 108376.89\n",
      "266 761973.26 106144.35\n",
      "267 764657.37 103902.51\n",
      "268 767341.48 101651.32\n",
      "269 770025.59 99390.76\n",
      "270 772709.70 97120.78\n",
      "271 775393.81 94841.34\n",
      "272 778077.92 92552.40\n",
      "273 780762.03 90253.93\n",
      "274 783446.14 87945.87\n",
      "275 786130.25 85628.20\n",
      "276 788814.36 83300.88\n",
      "277 791498.47 80963.86\n",
      "278 794182.58 78617.09\n",
      "279 796866.69 76260.56\n",
      "280 799550.80 73894.20\n",
      "281 802234.91 71517.98\n",
      "282 804919.02 69131.86\n",
      "283 807603.13 66735.80\n",
      "284 810287.24 64329.76\n",
      "285 812971.35 61913.69\n",
      "286 815655.46 59487.55\n",
      "287 818339.57 57051.31\n",
      "288 821023.68 54604.91\n",
      "289 823707.79 52148.32\n",
      "290 826391.90 49681.50\n",
      "291 829076.01 47204.39\n",
      "292 831760.12 44716.97\n",
      "293 834444.23 42219.18\n",
      "294 837128.34 39710.98\n",
      "295 839812.45 37192.33\n",
      "296 842496.56 34663.19\n",
      "297 845180.67 32123.51\n",
      "298 847864.78 29573.25\n",
      "299 850548.89 27012.36\n",
      "300 853233.00 24440.80\n",
      "301 855917.11 21858.53\n",
      "302 858601.22 19265.50\n",
      "303 861285.33 16661.66\n",
      "304 863969.44 14046.97\n",
      "305 866653.55 11421.39\n",
      "306 869337.66 8784.87\n",
      "307 872021.77 6137.36\n",
      "308 874705.88 3478.83\n",
      "309 877389.99 809.21\n",
      "310 880074.10 -1871.53\n",
      "310个月的总付款额是：880074.10\n"
     ]
    }
   ],
   "execution_count": 5
  },
  {
   "metadata": {},
   "cell_type": "markdown",
   "source": [
    "#### **练习 1.11：奖金**\n",
    "使用该程序时，请修复程序以纠正发生在上个月的超额支付。"
   ],
   "id": "c29da33fcc8a0b99"
  },
  {
   "metadata": {},
   "cell_type": "code",
   "source": [
    "principal = 500000.0  #欠款额\n",
    "rate = 0.05  #年利率\n",
    "payment = 2684.11  #每月还款额\n",
    "total_paid = 0.0  #总还款额\n",
    "months = 1\n",
    "extra_payment_start_month = 61\n",
    "extra_payment_end_month = 108\n",
    "extra_payment = 1000\n",
    "\n",
    "while principal > 0 :\n",
    "    if extra_payment_start_month <= months <= extra_payment_end_month:\n",
    "        payment = 2684.11 + extra_payment\n",
    "    else:\n",
    "        payment = 2684.11\n",
    "    principal = principal * (1 + rate / 12) - payment\n",
    "    if principal < 0:\n",
    "        payment = payment + principal\n",
    "        principal = 0\n",
    "    total_paid = total_paid + payment\n",
    "    print(f'{months} {total_paid:.2f} {principal:.2f}')\n",
    "    months = months + 1\n",
    "print(f'{months-1}个月的总付款额是：{total_paid:.2f}')"
   ],
   "id": "ac93fa63f763f3c5",
   "outputs": [],
   "execution_count": null
  },
  {
   "metadata": {},
   "cell_type": "markdown",
   "source": [
    "#### **练习 1.12：一个谜**\n",
    "int() 函数和 float() 函数可以将其它类型的数据转换为数字类型。示例：\n"
   ],
   "id": "fc76989e8e5dcc3b"
  },
  {
   "metadata": {},
   "cell_type": "code",
   "source": [
    "int('123')\n",
    "float('123.456')\n",
    "bool('False') #这是因为‘False'是个字符串，是个非0的字符，所以返回True\n",
    "bool('')\n",
    "\n",
    "# 在 Python 中，任何非空字符串在转换为布尔值时都会被认为是 True\n",
    "# 只有空字符串 '' 才会被转换为 False\n"
   ],
   "id": "843986d73488dddc",
   "outputs": [],
   "execution_count": null
  },
  {
   "metadata": {},
   "cell_type": "markdown",
   "source": [
    "## 04 字符串\n",
    "\n",
    "本节介绍处理文本的方法。\n",
    "\n",
    "#### **表示字面量文本**\n",
    "\n",
    "在程序中字符串字面量使用引号来书写。\n",
    "```\n",
    "# 单引号（Single quote）\n",
    "a = 'Yeah but no but yeah but...'\n",
    "\n",
    "# 双引号（Double quote）\n",
    "b = \"computer says no\"\n",
    "\n",
    "# 三引号（Triple quotes）\n",
    "c = '''\n",
    "Look into my eyes, look into my eyes, the eyes, the eyes, the eyes,\n",
    "not around the eyes,\n",
    "don't look around the eyes,\n",
    "look into my eyes, you're under.\n",
    "'''\n",
    "```\n",
    "通常，字符串只能占一行。三引号捕获在引号结束之前的所有文本，包含所有的格式。\n",
    "\n",
    "使用单引号（'）和双引号（“）没有区别。但是，以什么样的引号开始字符串，必须以什么样的引号结束字符串。\n",
    "#### **字符串转义码**\n",
    "\n",
    "转义码被用于表示控制字符和不能轻易在键盘上输入的字符。以下是一些常见的转义码：\n",
    "```\n",
    "'\\n'      换行符（Line feed）\n",
    "'\\r'      回车符（Carriage return）\n",
    "'\\t'      制表符（Tab）\n",
    "'\\''      字面量单引号（Literal single quote）\n",
    "'\\\"'      字面量双引号（Literal double quote）\n",
    "'\\\\'      字面量反斜杠（Literal backslash）\n",
    "```\n",
    "#### **字符串表示**\n",
    "\n",
    "字符串中的每个字符在内部被存储为所谓的 Unicode “代码点（code-point）”，代码点是一个整数。可以使用下列转移序列指定确切的代码点 。\n",
    "```\n",
    "a = '\\xf1'          # a = 'ñ'\n",
    "b = '\\u2200'        # b = '∀'\n",
    "c = '\\U0001D122'    # c = '𝄢'\n",
    "d = '\\N{FOR ALL}'   # d = '∀'\n",
    "```\n",
    "所有可用的字符码请参考 Unicode 字符数据库 。\n",
    "### **字符串索引**\n",
    "\n",
    "可以像访问数组那样访问字符串的单个字符。你可以使用从 0 开始的整数索引，负索引指定相对于字符串尾部的位置。\n",
    "```\n",
    "a = 'Hello world'\n",
    "b = a[0]          # 'H'\n",
    "c = a[4]          # 'o'\n",
    "d = a[-1]         # 'd' (end of string)\n",
    "```\n",
    "你也可以指定一个索引范围来切割或者选择子串：\n",
    "```\n",
    "d = a[:5]     # 'Hello'\n",
    "e = a[6:]     # 'world'\n",
    "f = a[3:8]    # 'lo wo'\n",
    "g = a[-5:]    # 'world'\n",
    "```\n",
    "不包括结尾索引处的字符。缺失的索引假定为字符串的开始或者结尾。"
   ],
   "id": "83e751e5bba8efc0"
  },
  {
   "metadata": {},
   "cell_type": "markdown",
   "source": [
    " #### **字符串操作**\n",
    "\n",
    "字符串的操作包括：拼接，长度计算，成员判断和复制。\n",
    "```\n",
    "# Concatenation (+)\n",
    "a = 'Hello' + 'World'   # 'HelloWorld'\n",
    "b = 'Say ' + a          # 'Say HelloWorld'\n",
    "\n",
    "# Length (len)\n",
    "s = 'Hello'\n",
    "len(s)                  # 5\n",
    "\n",
    "# Membership test (`in`, `not in`)\n",
    "t = 'e' in s            # True\n",
    "f = 'x' in s            # False\n",
    "g = 'hi' not in s       # True\n",
    "\n",
    "# Replication (s * n)\n",
    "rep = s * 5             # 'HelloHelloHelloHelloHello'\n",
    "```\n",
    "#### **字符串的方法**\n",
    "\n",
    "字符串具有对数据执行各种操作的方法。\n",
    "\n",
    "示例：删除开头或者结尾处的任何空白。\n",
    "```\n",
    "s = '  Hello '\n",
    "t = s.strip()     # 'Hello'\n",
    "```\n",
    "示例：大小写转换。\n",
    "```\n",
    "s = 'Hello'\n",
    "l = s.lower()     # 'hello'\n",
    "u = s.upper()     # 'HELLO'\n",
    "```\n",
    "示例：文本替换。\n",
    "```\n",
    "s = 'Hello world'\n",
    "t = s.replace('Hello' , 'Hallo')   # 'Hallo world'\n",
    "```\n",
    "##### 更多字符串方法:\n",
    "\n",
    "字符串具有各种各样的方法用于测试和处理文本数据。\n",
    "\n",
    "下面是字符串方法的一小部分示例：\n",
    "```\n",
    "s.endswith(suffix)     # 判断s是否以suffix结尾\n",
    "s.find(t)              # s 中 t 的首次出现位置\n",
    "s.index(t)             # s 中 t 的首次出现位置\n",
    "s.isalpha()            # 判断s是否只包含字母\n",
    "s.isdigit()            # 检查s是否只包含数字\n",
    "s.islower()            # 检查s是否只包含小写字母\n",
    "s.isupper()            # 检查s是否只包含大写字母\n",
    "s.join(slist)          # 在slist中的元素之间插入s\n",
    "s.lower()              # 转换为小写\n",
    "s.replace(old,new)     # 替换old为new\n",
    "s.rfind(t)             # s 中 t 的最后一次出现的位置\n",
    "s.rindex(t)            # s 中 t 的最后一次出现位置\n",
    "s.split([delim])       # 根据分隔符delim将字符串分割为列表\n",
    "s.startswith(prefix)   # 判断s是否以prefix开头\n",
    "s.strip()              # 删除开头或者结尾处的任何空白\n",
    "s.upper()              # 转换为大写\n",
    "```"
   ],
   "id": "e471bac44a52eabd"
  },
  {
   "metadata": {},
   "cell_type": "markdown",
   "source": [
    "#### **字符串的可变性**\n",
    "字符串是“不可变的”或者说是只读的。一旦创建，字符串的值就无法修改。\n",
    "```\n",
    "s = 'Hello World'\n",
    "s[1] = 'a'\n",
    "```\n",
    "以上代码输出：\n",
    "```\n",
    "Traceback (most recent call last):\n",
    "File \"<stdin>\", line 1, in <module>\n",
    "TypeError: 'str' object does not support item assignment\n",
    "```\n",
    "所有处理字符串数据的操作和方法始终会创建一个新的字符串。\n",
    "#### **字符串转换**\n",
    "使用 `str()` 函数可以将任何值转换为字符串。 `str()` 函数得到的结果是一个字符串，该字符串包含的文本与` print() `语句产生的文本相同。\n",
    "```\n",
    ">>> x = 42\n",
    ">>> str(x)\n",
    "'42'\n",
    "```\n",
    "#### **字节字符串**\n",
    "通常，在底层 I/O 中会遇到 8 位字节的字符串（译注：字节字符串），它是这样写的：\n",
    "```\n",
    "data = b'Hello World\\r\\n'\n",
    "```\n",
    "通过把小写的 b 放到第一个引号之前来指定一个字节字符串而不是文本字符串（译注：在字符串前面加 b 表示这是使用 ASCII 编码的字节字符串）。大部分常用的文本字符串操作可应用于字节字符串。\n",
    "```\n",
    "len(data)                         # 13\n",
    "data[0:5]                         # b'Hello'\n",
    "data.replace(b'Hello', b'Cruel')  # b'Cruel World\\r\\n'\n",
    "```\n",
    "字节字符串索引有点不同，因为它返回的是整数形式的字节值：\n",
    "```\n",
    "data[0]   # 72 (ASCII code for 'H')\n",
    "```\n",
    "字节字符串与文本字符串之间的转换：\n",
    "```\n",
    "text = data.decode('utf-8') # bytes -> text\n",
    "data = text.encode('utf-8') # text -> bytes\n",
    "```\n",
    "'utf-8' 这个参数指定了字符的编码方式。其它常见的编码方式有 'ascii' 和 'latin1'。\n",
    "#### **原始字符串**\n",
    "原始字符串是未解释的带有反斜杠的字符串字面量。通过在原始引号之前添加 “r” 前缀来指定。\n",
    "```\n",
    ">>> rs = r'c:\\newdata\\test' # Raw (uninterpreted backslash)\n",
    ">>> rs\n",
    "'c:\\\\newdata\\\\test'\n",
    "```\n",
    "输出的字符串是包含在引号里面的字面量文本，与输入的文本完全相同。这在反斜杠有特殊意义的情况下很有用。例如：文件名、正则表达式等。\n",
    "#### **f-Strings**\n",
    "具有格式化表达式替换的字符串。\n",
    "```\n",
    ">>> name = 'IBM'\n",
    ">>> shares = 100\n",
    ">>> price = 91.1\n",
    ">>> a = f'{name:>10s} {shares:10d} {price:10.2f}'\n",
    ">>> a\n",
    "'       IBM        100      91.10'\n",
    ">>> b = f'Cost = ${shares*price:0.2f}'\n",
    ">>> b\n",
    "'Cost = $9110.00'\n",
    ">>>\n",
    "```\n",
    "注意: 这要求 Python 3.6 或者更新的版本. 格式化代码的含义稍后介绍。"
   ],
   "id": "76607f5f9a2a9e45"
  },
  {
   "metadata": {},
   "cell_type": "markdown",
   "source": [
    "### **练习**\n",
    "\n",
    "在这些习题中，你将尝试对 Python 字符串类型进行操作。你应该在 Python 交互提示符下操作，在该提示符下可以轻松地查看到结果。重要提示：\n",
    "\n",
    "    在应该与解释器进行交互的习题中， >>> 当 Python 希望你输入一个新的语句， 你将获得一个解释器提示符。习题中某些语句会跨越多行——要使这些语句执行，你可能需要多按几次回车键。提醒你，在做这些示例时，请勿输入 >>> 提示符。\n",
    "\n",
    "通过定义一个包含一系列股票代号的字符串开始吧。字符串如下所示：\n",
    "```\n",
    ">>> symbols = 'AAPL,IBM,MSFT,YHOO,SCO'\n",
    ">>>\n",
    "```\n",
    "练习 1.13：提取单个字符和子串\n",
    "\n",
    "字符串是字符数组。尝试提取一些字符：\n"
   ],
   "id": "bf36c9a0671df11"
  },
  {
   "metadata": {},
   "cell_type": "code",
   "source": [
    "symbols =  'AAPL,IBM,MSFT,YHOO,SCO'\n",
    "print(symbols[0])\n",
    "print(symbols[1])\n",
    "print(symbols[2])\n",
    "print(symbols[-1])\n",
    "print(symbols[-2])"
   ],
   "id": "d60705630411089e",
   "outputs": [],
   "execution_count": null
  },
  {
   "metadata": {},
   "cell_type": "markdown",
   "source": [
    "在 Python 语言中，字符串是只读的。\n",
    "尝试通过将 symbols 字符串的第一个字符变为小写字母 ‘a’ 来验证这一点。"
   ],
   "id": "f2ab27a00576fe8"
  },
  {
   "metadata": {},
   "cell_type": "code",
   "source": "symbols[0] = 'a'",
   "id": "3e5c63379da20d12",
   "outputs": [],
   "execution_count": null
  },
  {
   "metadata": {},
   "cell_type": "markdown",
   "source": [
    "#### **练习 1.14：字符串拼接**\n",
    "尽管字符串数据是只读的，但是你始终可以将变量重新分配给新创建的字符串。\n",
    "尝试下面的语句，该语句将一个新的股票代码 “GOOG” 拼接到 symbols 字符串的末尾。"
   ],
   "id": "1632338758a45d6b"
  },
  {
   "metadata": {},
   "cell_type": "code",
   "source": [
    "symbols = 7\n",
    "print(symbols)"
   ],
   "id": "22b18142149e5e27",
   "outputs": [],
   "execution_count": null
  },
  {
   "metadata": {},
   "cell_type": "markdown",
   "source": "糟糕！这不是我们想要的。修改它使得变量 symbols 保存的值为 'AAPL,IBM,MSFT,YHOO,SCO,GOOG'。",
   "id": "1fb142aee3e72321"
  },
  {
   "metadata": {
    "ExecuteTime": {
     "end_time": "2025-10-23T14:47:49.853132Z",
     "start_time": "2025-10-23T14:47:49.848388Z"
    }
   },
   "cell_type": "code",
   "source": [
    "symbols = 'AAPL,IBM,MSFT,YHOO,SCO'\n",
    "symbols = symbols + ',' + 'GOOG'\n",
    "print(symbols)"
   ],
   "id": "f9b30964da8947b7",
   "outputs": [
    {
     "name": "stdout",
     "output_type": "stream",
     "text": [
      "AAPL,IBM,MSFT,YHOO,SCO,GOOG\n"
     ]
    }
   ],
   "execution_count": 1
  },
  {
   "metadata": {},
   "cell_type": "markdown",
   "source": "把 'HPQ' 添加到 symbols 字符串的前面：",
   "id": "697d9e2589c15a2"
  },
  {
   "metadata": {
    "ExecuteTime": {
     "end_time": "2025-10-23T14:47:54.551239Z",
     "start_time": "2025-10-23T14:47:54.547413Z"
    }
   },
   "cell_type": "code",
   "source": [
    "symbols = 'HPQ,' + symbols\n",
    "print(symbols)"
   ],
   "id": "5158e6dc58b59669",
   "outputs": [
    {
     "name": "stdout",
     "output_type": "stream",
     "text": [
      "HPQ,AAPL,IBM,MSFT,YHOO,SCO,GOOG\n"
     ]
    }
   ],
   "execution_count": 2
  },
  {
   "metadata": {},
   "cell_type": "markdown",
   "source": "在这些示例中，表面上看起来原始字符串像正在被修改，明显违反了字符串是只读的。实际上不是这样的。每次，这些操作都会创建一个全新的字符串。当变量名 symbols 被重新分配，它会指向一个新创建的字符串。然后，旧的字符串被销毁，因为它不再被使用了。",
   "id": "4d6a3210a1d0f129"
  },
  {
   "metadata": {},
   "cell_type": "markdown",
   "source": [
    "#### **练习 1.15：成员测试（子串测试）**\n",
    "尝试使用 in 操作符检查子串。请在交互提示符下尝试这些操作。\n",
    "```\n",
    ">>> 'IBM' in symbols\n",
    "?\n",
    ">>> 'AA' in symbols\n",
    "True\n",
    ">>> 'CAT' in symbols\n",
    "?\n",
    ">>>\n",
    "```\n",
    "为什么检查 AA 的时候返回 True ? 因为 'AA' 是 symbols 的子串‘AAPL’中的一个子串。"
   ],
   "id": "ebff0ebc11c67501"
  },
  {
   "metadata": {
    "ExecuteTime": {
     "end_time": "2025-10-23T14:48:00.209483Z",
     "start_time": "2025-10-23T14:48:00.203698Z"
    }
   },
   "cell_type": "code",
   "source": [
    "'IBM' in symbols\n",
    "'AA' in symbols\n",
    "'CAT' in symbols"
   ],
   "id": "36932ea1a54dc495",
   "outputs": [
    {
     "data": {
      "text/plain": [
       "False"
      ]
     },
     "execution_count": 3,
     "metadata": {},
     "output_type": "execute_result"
    }
   ],
   "execution_count": 3
  },
  {
   "metadata": {},
   "cell_type": "markdown",
   "source": [
    "#### **练习 1.16：字符串方法**\n",
    "在 Python 交互提示符下，尝试一些新的字符串方法。\n",
    "```\n",
    ">>> symbols.lower()\n",
    "?\n",
    ">>> symbols\n",
    "?\n",
    ">>>\n",
    "```\n",
    "请记住，字符串始终是只读的。如果你想要保存操作的结果，你需要把它放置到一个变量中。\n",
    "```\n",
    ">>> lowersyms = symbols.lower()\n",
    ">>>\n",
    "```\n",
    "请尝试更多的操作：\n",
    "```\n",
    ">>> symbols.find('MSFT')\n",
    "?\n",
    ">>> symbols[13:17]\n",
    "?\n",
    ">>> symbols = symbols.replace('SCO','DOA')\n",
    ">>> symbols\n",
    "?\n",
    ">>> name = '   IBM   \\n'\n",
    ">>> name = name.strip()    # Remove surrounding whitespace\n",
    ">>> name\n",
    "?\n",
    ">>>\n",
    "```"
   ],
   "id": "57ec3e458ed76277"
  },
  {
   "metadata": {
    "ExecuteTime": {
     "end_time": "2025-10-23T14:48:05.826991Z",
     "start_time": "2025-10-23T14:48:05.821207Z"
    }
   },
   "cell_type": "code",
   "source": [
    "# symbols.lower()\n",
    "# symbols = symbols.lower()\n",
    "symbols\n",
    "symbols.find('MSFT')\n",
    "symbols[13:17]\n",
    "symbols = symbols.replace('SCO','DOA')\n",
    "symbols"
   ],
   "id": "3e9251ba3205b21b",
   "outputs": [
    {
     "data": {
      "text/plain": [
       "'HPQ,AAPL,IBM,MSFT,YHOO,DOA,GOOG'"
      ]
     },
     "execution_count": 4,
     "metadata": {},
     "output_type": "execute_result"
    }
   ],
   "execution_count": 4
  },
  {
   "metadata": {},
   "cell_type": "markdown",
   "source": [
    "#### **练习 1.17：f-strings**\n",
    "有时你想创建一个字符串并把其它变量的值嵌入到其中。\n",
    "要做到这点，可以使用 f-strings。示例：\n",
    "```\n",
    ">>> name = 'IBM'\n",
    ">>> shares = 100\n",
    ">>> price = 91.1\n",
    ">>> f'{shares} shares of {name} at ${price:0.2f}'\n",
    "'100 shares of IBM at $91.10'\n",
    ">>>\n",
    "```\n",
    "尝试实现它，使得输出能够很好地对齐。"
   ],
   "id": "b1abb4e84f5fb244"
  },
  {
   "metadata": {},
   "cell_type": "code",
   "source": [
    "principal = 500000.0  #欠款额\n",
    "rate = 0.05  #年利率\n",
    "payment = 2684.11  #每月还款额\n",
    "total_paid = 0.0  #总还款额\n",
    "months = 1\n",
    "extra_payment_start_month = 61\n",
    "extra_payment_end_month = 108\n",
    "extra_payment = 1000\n",
    "\n",
    "while principal > 0:\n",
    "    if extra_payment_start_month <= months <= extra_payment_end_month:\n",
    "        payment = 2684.11 + extra_payment\n",
    "    else:\n",
    "        payment = 2684.11\n",
    "    principal = principal * (1 + rate / 12) - payment\n",
    "    total_paid = total_paid + payment\n",
    "    print(f'{months} {total_paid:.2f} {principal:.2f}')\n",
    "    months = months + 1\n",
    "print(f'{months-1}个月的总付款额是：{total_paid:.2f}')"
   ],
   "id": "f984e2f7f1e405cc",
   "outputs": [],
   "execution_count": null
  },
  {
   "metadata": {},
   "cell_type": "markdown",
   "source": [
    "#### **练习 1.18：正则表达式**\n",
    "基本字符串操作的一个局限性在于它们不支持任何类型的高级模式匹配。为此，你需要使用 Python 的 `re` 模块和正则表达式。正则表达式处理是一个大的主题，这里只是一个简短的示例：\n",
    "有关 re 模块的更多信息，请查看官方文档：https://docs.python.org/library/re.html。\n",
    "```\n",
    ">>> text = 'Today is 3/27/2018. Tomorrow is 3/28/2018.'\n",
    ">>> # Find all occurrences of a date\n",
    ">>> import re\n",
    ">>> re.findall(r'\\d+/\\d+/\\d+', text)\n",
    "['3/27/2018', '3/28/2018']\n",
    ">>> # Replace all occurrences of a date with replacement text\n",
    ">>> re.sub(r'(\\d+)/(\\d+)/(\\d+)', r'\\3-\\1-\\2', text)\n",
    "'Today is 2018-3-27. Tomorrow is 2018-3-28.'\n",
    ">>>\n",
    "```\n"
   ],
   "id": "5ef4c7a5fc730323"
  },
  {
   "metadata": {
    "ExecuteTime": {
     "end_time": "2025-10-23T14:58:06.742919Z",
     "start_time": "2025-10-23T14:58:06.737200Z"
    }
   },
   "cell_type": "code",
   "source": [
    "text  = '今天是2025年10月23日，明天是2025年10月24日。'\n",
    "# 查找所有日期\n",
    "import re\n",
    "re.findall(r'\\d+年\\d+月\\d+日', text)\n",
    "# 替换所有日期\n",
    "re.sub(r'(\\d+)年(\\d+)月(\\d+)日', r'\\1-\\2-\\3', text)"
   ],
   "id": "c9ed7af352e68636",
   "outputs": [
    {
     "data": {
      "text/plain": [
       "'今天是2025-10-23，明天是2025-10-24。'"
      ]
     },
     "execution_count": 9,
     "metadata": {},
     "output_type": "execute_result"
    }
   ],
   "execution_count": 9
  },
  {
   "metadata": {},
   "cell_type": "markdown",
   "source": [
    "#### **说明**\n",
    "当你开始尝试使用解释器时，你总是希望了解更多有关不同对象所支持的操作。例如，如何找出哪些操作是对字符串是有效的？\n",
    "根据你的 Python 环境，你可能可以通过 tab 键补全来查看可用方法的列表。例如，尝试输入下面的代码：\n",
    "```\n",
    ">>> s = 'hello world'\n",
    ">>> s.<tab key>\n",
    ">>>\n",
    "```\n",
    "如果单击 tab 键没有任何作用，你可以使用 Python 的内建函数` dir()`。示例：\n",
    "```\n",
    ">>> s = 'hello'\n",
    ">>> dir(s)\n",
    "['__add__', '__class__', '__contains__', ..., 'find', 'format',\n",
    "'index', 'isalnum', 'isalpha', 'isdigit', 'islower', 'isspace',\n",
    "'istitle', 'isupper', 'join', 'ljust', 'lower', 'lstrip', 'partition',\n",
    "'replace', 'rfind', 'rindex', 'rjust', 'rpartition', 'rsplit',\n",
    "'rstrip', 'split', 'splitlines', 'startswith', 'strip', 'swapcase',\n",
    "'title', 'translate', 'upper', 'zfill']\n",
    ">>>\n",
    "```\n",
    "`dir() `函数生成一个在 (.) 后出现的所有操作的列表。\n",
    "\n",
    "使用` help() `函数可以获取有关特定操作的更多信息。\n",
    "```\n",
    ">>> help(s.upper)\n",
    "Help on built-in function upper:\n",
    "\n",
    "upper(...)\n",
    "    S.upper() -> string\n",
    "\n",
    "    Return a copy of the string S converted to uppercase.\n",
    ">>>\n",
    "```"
   ],
   "id": "1199a966df8b2dbe"
  },
  {
   "metadata": {},
   "cell_type": "markdown",
   "source": [
    "## 05 列表\n",
    "本节介绍 Python 原始数据类型列表（list）。 列表是一种有序的集合。\n",
    "#### **创建列表**\n",
    "使用方括号 [] 来定义列表字面量。\n",
    "```\n",
    "names = [ 'Elwood', 'Jake', 'Curtis' ]\n",
    "nums = [ 39, 38, 42, 65, 111]\n",
    "```\n",
    "有时候，列表也可以通过其它方法创建。例如：使用字符串的 split() 方法可以将一个字符串拆分为一个列表：\n",
    "```\n",
    ">>> line = 'GOOG,100,490.10'\n",
    ">>> row = line.split(',')\n",
    ">>> row\n",
    "['GOOG', '100', '490.10']\n",
    "```\n",
    "#### **列表操作**\n",
    "列表可以存储任何类型的项（译注：item，或者称为元素）。使用 append() 方法添加一个新的项：\n",
    "```\n",
    "names.append('Murphy')    # 添加在尾部\n",
    "names.insert(2, 'Aretha') # 插入在指定位置\n",
    "```\n",
    "使用加号 + 来拼接列表：\n",
    "```\n",
    "s = [1, 2, 3]\n",
    "t = ['a', 'b']\n",
    "s + t           # [1, 2, 3, 'a', 'b']\n",
    "```\n",
    "列表通过整数进行索引，索引从 0 开始。\n",
    "```\n",
    "names = [ 'Elwood', 'Jake', 'Curtis' ]\n",
    "\n",
    "names[0]  # 'Elwood'\n",
    "names[1]  # 'Jake'\n",
    "names[2]  # 'Curtis'\n",
    "```\n",
    "负索引从列表尾部开始计数：\n",
    "```\n",
    "names[-1] # 'Curtis'\n",
    "```\n",
    "你可以改变列表中的任何项:\n",
    "```\n",
    "names[1] = 'Joliet Jake'\n",
    "names                     # [ 'Elwood', 'Joliet Jake', 'Curtis' ]\n",
    "```\n",
    "列表的长度：\n",
    "```\n",
    "names = ['Elwood','Jake','Curtis']\n",
    "len(names)  # 3\n",
    "```\n",
    "成员测试（in, not in）：\n",
    "```\n",
    "'Elwood' in names       # True\n",
    "'Britney' not in names  # True\n",
    "```\n",
    "复制（s * n）：\n",
    "```\n",
    "s = [1, 2, 3]\n",
    "s * 3   # [1, 2, 3, 1, 2, 3, 1, 2, 3]\n",
    "```\n",
    "#### **列表遍历和查找：**\n",
    "使用 for 遍历列表内容：\n",
    "```\n",
    "for name in names:\n",
    "    # use name\n",
    "    # e.g. print(name)\n",
    "    ...\n",
    "```\n",
    "这和其它编程语言的 foreach 语句类似。\n",
    "\n",
    "为了快速找到某项的位置（索引），使用 index() 函数：\n",
    "```\n",
    "names = ['Elwood','Jake','Curtis']\n",
    "names.index('Curtis')   # 2\n",
    "```\n",
    "如果元素出现不止一次，index() **方法将会返回元素第一次出现的索引**。\n",
    "如果元素没有找到，index() 方法将引发 `ValueError` 异常。\n",
    "#### **列表删除**\n",
    "你可以按元素值或者按索引删除元素：\n",
    "```\n",
    "# 按元素值\n",
    "names.remove('Curtis')\n",
    "\n",
    "# 按索引\n",
    "del names[1]\n",
    "```\n",
    "移除一个元素不会“留空”。其它的元素将会移动来填充删除元素后腾出的空间。**如果元素出现不止一次，remove() 方法将只删除第一次出现的元素**。"
   ],
   "id": "441b12e4ed089620"
  },
  {
   "metadata": {},
   "cell_type": "markdown",
   "source": [
    "#### **列表排序**\n",
    "列表可以“原地”排序：\n",
    "```\n",
    "s = [10, 1, 7, 3]\n",
    "s.sort()                    # [1, 3, 7, 10]\n",
    "\n",
    "# 倒序排列\n",
    "s = [10, 1, 7, 3]\n",
    "s.sort(reverse=True)        # [10, 7, 3, 1]\n",
    "\n",
    "# It works with any ordered data\n",
    "s = ['foo', 'bar', 'spam']\n",
    "s.sort()                    # ['bar', 'foo', 'spam']\n",
    "```\n",
    "如果你想生成一个新的列表，使用 sorted() 函数：\n",
    "```\n",
    "t = sorted(s)               # s unchanged, t holds sorted values\n",
    "```\n",
    "#### **列表和数学**\n",
    "警告：列表不是为数学运算而设计的：\n",
    "```\n",
    ">>> nums = [1, 2, 3, 4, 5]\n",
    ">>> nums * 2\n",
    "[1, 2, 3, 4, 5, 1, 2, 3, 4, 5]\n",
    ">>> nums + [10, 11, 12, 13, 14]\n",
    "[1, 2, 3, 4, 5, 10, 11, 12, 13, 14]\n",
    "\n",
    "```\n",
    "特别地，列表无法像 MATLAB, Octave, R 那样表示向量/矩阵。但是，有一些包可以帮助你解决这个问题（例如：numpy）。"
   ],
   "id": "f822c5859ca4156a"
  },
  {
   "metadata": {},
   "cell_type": "markdown",
   "source": [
    "### 练习\n",
    "在本次练习中，我们尝试使用 Python 的列表数据类型。在上一节中，你使用了包含股票代码的字符串：\n",
    "```\n",
    ">>> symbols = 'HPQ,AAPL,IBM,MSFT,YHOO,DOA,GOOG'\n",
    "```\n",
    "使用字符串的 split() 方法把 symbols 拆分为一个包含股票代码名字的列表：\n",
    "```\n",
    ">>> symlist = symbols.split(',')\n",
    "```\n",
    "练习1.19：提取和重新分配列表元素\n",
    "\n",
    "尝试一些查找："
   ],
   "id": "bd843a90e2a6bd15"
  },
  {
   "metadata": {
    "ExecuteTime": {
     "end_time": "2025-10-23T15:20:06.023993Z",
     "start_time": "2025-10-23T15:20:06.018392Z"
    }
   },
   "cell_type": "code",
   "source": [
    "symlist = symbols.split(',')\n",
    "symlist\n",
    "# 查找\n",
    "symlist[0]\n",
    "symlist[1]\n",
    "symlist[-1]\n",
    "symlist[-2]\n",
    "# 尝试重新分配一个值：\n",
    "symlist[2]='AIG'\n",
    "symlist\n"
   ],
   "id": "c6f51ca4386fd948",
   "outputs": [
    {
     "data": {
      "text/plain": [
       "['HPQ', 'AAPL', 'AIG', 'MSFT', 'YHOO', 'DOA', 'GOOG']"
      ]
     },
     "execution_count": 20,
     "metadata": {},
     "output_type": "execute_result"
    }
   ],
   "execution_count": 20
  },
  {
   "metadata": {
    "ExecuteTime": {
     "end_time": "2025-10-23T15:21:48.934753Z",
     "start_time": "2025-10-23T15:21:48.930402Z"
    }
   },
   "cell_type": "code",
   "source": [
    "#切片\n",
    "symlist[0:3]\n",
    "symlist[-2:]\n",
    "# 创建一个空的列表并添加一个元素到其中：\n",
    "mysyms = []\n",
    "mysyms.append('GOOG')\n",
    "mysyms"
   ],
   "id": "d7a891213ad7469",
   "outputs": [
    {
     "data": {
      "text/plain": [
       "['GOOG']"
      ]
     },
     "execution_count": 22,
     "metadata": {},
     "output_type": "execute_result"
    }
   ],
   "execution_count": 22
  },
  {
   "metadata": {},
   "cell_type": "markdown",
   "source": "你可以将一个列表的一部分重新分配到另一个列表中。例如：",
   "id": "af5c63fb28f3f948"
  },
  {
   "metadata": {
    "ExecuteTime": {
     "end_time": "2025-10-23T15:23:01.214238Z",
     "start_time": "2025-10-23T15:23:01.210121Z"
    }
   },
   "cell_type": "code",
   "source": [
    "symlist[-2 :]= mysyms\n",
    "symlist"
   ],
   "id": "9e8d993113400c78",
   "outputs": [
    {
     "data": {
      "text/plain": [
       "['HPQ', 'AAPL', 'AIG', 'MSFT', 'YHOO', 'GOOG']"
      ]
     },
     "execution_count": 23,
     "metadata": {},
     "output_type": "execute_result"
    }
   ],
   "execution_count": 23
  },
  {
   "metadata": {},
   "cell_type": "markdown",
   "source": "当执行此操作时，左手边的列表（symlist）的大小将会被适当调整，以适应右手边的列表。 例如，在上面的实例中，symlist 的最后两项被 mysyms 列表中的单个元素（'GOOG'）取代。",
   "id": "74c8bd0578df4750"
  },
  {
   "metadata": {},
   "cell_type": "markdown",
   "source": [
    "#### **练习1.20：遍历列表元素**\n",
    "for 循环可以遍历列表这样的序列。通过输入下列的循环并且查看发生了什么来验证这点："
   ],
   "id": "ace285a74106c61e"
  },
  {
   "metadata": {},
   "cell_type": "code",
   "source": [
    "for s in symlist:\n",
    "    print('s = ',s)"
   ],
   "id": "c566afe30eb3e846",
   "outputs": [],
   "execution_count": null
  },
  {
   "metadata": {},
   "cell_type": "markdown",
   "source": [
    "#### **练习1.21：成员测试**\n",
    "使用 in 或者 not in 操作符来检查 'AIG'，'AA'，和 'CAT' 是否在 symbols 列表中："
   ],
   "id": "41bccd57246e7660"
  },
  {
   "metadata": {
    "ExecuteTime": {
     "end_time": "2025-10-23T15:28:53.153508Z",
     "start_time": "2025-10-23T15:28:53.149559Z"
    }
   },
   "cell_type": "code",
   "source": [
    "print('AIG' in symlist)\n",
    "print('AA' in symlist)\n",
    "print('CAT' not in symlist)"
   ],
   "id": "92faad6a5e01a5a",
   "outputs": [
    {
     "name": "stdout",
     "output_type": "stream",
     "text": [
      "True\n",
      "False\n",
      "True\n"
     ]
    }
   ],
   "execution_count": 25
  },
  {
   "metadata": {},
   "cell_type": "markdown",
   "source": [
    "#### **练习 1.22：添加，插入和删除元素**\n",
    "使用 append() 方法把 'RHT' 添加到列表 symlist 的末尾："
   ],
   "id": "4cdb771059a1b4d5"
  },
  {
   "metadata": {
    "ExecuteTime": {
     "end_time": "2025-10-23T15:29:51.972020Z",
     "start_time": "2025-10-23T15:29:51.968361Z"
    }
   },
   "cell_type": "code",
   "source": [
    "symlist.append('RHT')\n",
    "print(symlist)"
   ],
   "id": "9aba8d5d89ce3bf4",
   "outputs": [
    {
     "name": "stdout",
     "output_type": "stream",
     "text": [
      "['HPQ', 'AAPL', 'AIG', 'MSFT', 'YHOO', 'GOOG', 'RHT']\n"
     ]
    }
   ],
   "execution_count": 26
  },
  {
   "metadata": {},
   "cell_type": "markdown",
   "source": "使用 insert() 方法把 'AA' 作为列表的第二个元素插入到列表中：",
   "id": "cfaebd38baa25b85"
  },
  {
   "metadata": {
    "ExecuteTime": {
     "end_time": "2025-10-23T15:32:13.559388Z",
     "start_time": "2025-10-23T15:32:13.556596Z"
    }
   },
   "cell_type": "code",
   "source": "symlist.insert(1,'AA')",
   "id": "19a8ea88228a7e75",
   "outputs": [],
   "execution_count": 31
  },
  {
   "metadata": {},
   "cell_type": "markdown",
   "source": "使用 remove() 方法从列表中删除 'MSFT'：",
   "id": "c1a99052110618a"
  },
  {
   "metadata": {
    "ExecuteTime": {
     "end_time": "2025-10-23T15:32:52.529606Z",
     "start_time": "2025-10-23T15:32:52.525411Z"
    }
   },
   "cell_type": "code",
   "source": [
    "symlist.remove('MSFT')\n",
    "symlist"
   ],
   "id": "5cb16831f9b8e6c",
   "outputs": [
    {
     "data": {
      "text/plain": [
       "['HPQ', 'AA', 'AAPL', 'AIG', 'YHOO', 'GOOG', 'RHT']"
      ]
     },
     "execution_count": 32,
     "metadata": {},
     "output_type": "execute_result"
    }
   ],
   "execution_count": 32
  },
  {
   "metadata": {},
   "cell_type": "markdown",
   "source": [
    "添加一个重复的 'YHOO' 条目到列表的末尾。\n",
    "注意：列表有重复的值是完全没有问题的："
   ],
   "id": "d387dc3de62e7f36"
  },
  {
   "metadata": {
    "ExecuteTime": {
     "end_time": "2025-10-23T15:38:03.936045Z",
     "start_time": "2025-10-23T15:38:03.932060Z"
    }
   },
   "cell_type": "code",
   "source": [
    "symlist.append('YHOO')\n",
    "symlist"
   ],
   "id": "2f7b07454c95676c",
   "outputs": [
    {
     "data": {
      "text/plain": [
       "['HPQ', 'AA', 'AAPL', 'AIG', 'GOOG', 'RHT', 'YHOO', 'YHOO']"
      ]
     },
     "execution_count": 37,
     "metadata": {},
     "output_type": "execute_result"
    }
   ],
   "execution_count": 37
  },
  {
   "metadata": {},
   "cell_type": "markdown",
   "source": "使用 index() 方法查看 'YHOO' 在列表中的第一个位置：",
   "id": "b2c643462bb6f01b"
  },
  {
   "metadata": {
    "ExecuteTime": {
     "end_time": "2025-10-23T15:38:56.299974Z",
     "start_time": "2025-10-23T15:38:56.296817Z"
    }
   },
   "cell_type": "code",
   "source": [
    "symlist.index('YHOO')\n",
    "#统计 'YHOO' 在列表中出现了多少次：\n",
    "symlist.count('YHOO')\n",
    "#删除第一次出现的 'YHOO'：\n",
    "#symlist.pop(symlist.index('YHOO'))\n",
    "del symlist[symlist.index('YHOO')]"
   ],
   "id": "8f1a5ae05d54dbc5",
   "outputs": [],
   "execution_count": 38
  },
  {
   "metadata": {},
   "cell_type": "markdown",
   "source": "众所周知，没有方法找到或者删除某个元素在列表中重复出现的所有项。但是，我们将会在第二节看到一种优雅的方式去实现它。",
   "id": "f9b03aa2f34829a8"
  },
  {
   "metadata": {
    "ExecuteTime": {
     "end_time": "2025-10-23T15:39:08.988443Z",
     "start_time": "2025-10-23T15:39:08.984484Z"
    }
   },
   "cell_type": "code",
   "source": "symlist",
   "id": "ea851dbb3542d78a",
   "outputs": [
    {
     "data": {
      "text/plain": [
       "['HPQ', 'AA', 'AAPL', 'AIG', 'GOOG', 'RHT', 'YHOO']"
      ]
     },
     "execution_count": 39,
     "metadata": {},
     "output_type": "execute_result"
    }
   ],
   "execution_count": 39
  },
  {
   "metadata": {},
   "cell_type": "markdown",
   "source": [
    "#### **练习1.23：排序**\n",
    "想要对一个列表排序吗？使用 sort() 方法。试试看：\n",
    "```\n",
    ">>> symlist.sort()\n",
    ">>> symlist\n",
    "['AA', 'AAPL', 'AIG', 'GOOG', 'HPQ', 'RHT', 'YHOO']\n",
    ">>>\n",
    "```\n",
    "想要对一个列表倒序吗？尝试这个：\n",
    "```\n",
    ">>> symlist.sort(reverse=True)\n",
    ">>> symlist\n",
    "['YHOO', 'RHT', 'HPQ', 'GOOG', 'AIG', 'AAPL', 'AA']\n",
    ">>>\n",
    "```\n",
    "注意：对列表排序可以“原地”修改其内容。也就是说，是对列表的元素进行“洗牌”，而不是创建一个新的列表作为结果。"
   ],
   "id": "5f7ff5d840752331"
  },
  {
   "metadata": {
    "ExecuteTime": {
     "end_time": "2025-10-23T15:41:06.470677Z",
     "start_time": "2025-10-23T15:41:06.466074Z"
    }
   },
   "cell_type": "code",
   "source": [
    "symlist.sort()\n",
    "symlist\n",
    "symlist.sort(reverse=True)\n",
    "symlist"
   ],
   "id": "f74a4bda44538566",
   "outputs": [
    {
     "data": {
      "text/plain": [
       "['YHOO', 'RHT', 'HPQ', 'GOOG', 'AIG', 'AAPL', 'AA']"
      ]
     },
     "execution_count": 43,
     "metadata": {},
     "output_type": "execute_result"
    }
   ],
   "execution_count": 43
  },
  {
   "metadata": {},
   "cell_type": "markdown",
   "source": [
    "#### **练习 1.24：列表转字符串**\n",
    "想要把一个包含字符串的列表连接到一个字符串中吗？像下面这样使用字符串的 join() 方法实现（注意：这初看起来很有趣）："
   ],
   "id": "764ec3367d8fdc9f"
  },
  {
   "metadata": {
    "ExecuteTime": {
     "end_time": "2025-10-23T15:43:12.503671Z",
     "start_time": "2025-10-23T15:43:12.499415Z"
    }
   },
   "cell_type": "code",
   "source": [
    "a= ','.join(symlist)\n",
    "a\n",
    "b= ':'.join(symlist)\n",
    "b\n",
    "c= ''.join(symlist)\n",
    "c"
   ],
   "id": "c437bddbf9aa3130",
   "outputs": [
    {
     "data": {
      "text/plain": [
       "'YHOORHTHPQGOOGAIGAAPLAA'"
      ]
     },
     "execution_count": 47,
     "metadata": {},
     "output_type": "execute_result"
    }
   ],
   "execution_count": 47
  },
  {
   "metadata": {},
   "cell_type": "markdown",
   "source": [
    "#### **练习1.25：包含任何内容的列表**\n",
    "列表可以包含任何类型的对象，包括列表（示例：嵌套的列表）。试试看："
   ],
   "id": "18a321e67b7268ce"
  },
  {
   "metadata": {
    "ExecuteTime": {
     "end_time": "2025-10-23T15:44:38.742177Z",
     "start_time": "2025-10-23T15:44:38.737805Z"
    }
   },
   "cell_type": "code",
   "source": [
    "nums = [101, 102, 103]\n",
    "items = ['spam',symlist,nums]\n",
    "items"
   ],
   "id": "93de0a77761d0983",
   "outputs": [
    {
     "data": {
      "text/plain": [
       "['spam', ['YHOO', 'RHT', 'HPQ', 'GOOG', 'AIG', 'AAPL', 'AA'], [101, 102, 103]]"
      ]
     },
     "execution_count": 48,
     "metadata": {},
     "output_type": "execute_result"
    }
   ],
   "execution_count": 48
  },
  {
   "metadata": {},
   "cell_type": "markdown",
   "source": [
    "请注意上面的输出，`items` 是一个包含三个元素的列表，第一个元素是一个字符串，其它两个元素是列表。\n",
    "\n",
    "你可以通过多个索引操作来访问嵌套列表的项。"
   ],
   "id": "485e7283eab3c682"
  },
  {
   "metadata": {
    "ExecuteTime": {
     "end_time": "2025-10-23T15:47:04.526130Z",
     "start_time": "2025-10-23T15:47:04.521549Z"
    }
   },
   "cell_type": "code",
   "source": [
    "items[0]\n",
    "items[0][0]\n",
    "items[1]\n",
    "items[1][1]\n",
    "items[1][1][2]\n",
    "items[2]\n",
    "items[2][1]"
   ],
   "id": "93a8e852061a2aa9",
   "outputs": [
    {
     "data": {
      "text/plain": [
       "102"
      ]
     },
     "execution_count": 56,
     "metadata": {},
     "output_type": "execute_result"
    }
   ],
   "execution_count": 56
  },
  {
   "metadata": {},
   "cell_type": "markdown",
   "source": "尽管在技术上能够生成非常复杂的列表结构，但作为一般规则，你还是希望保持简单。通常，列表存储类型相同的元素。例如，完全由数字或者文本字符串构成的列表。在同一个列表中混合不同类型的数据，往往会让人感到头痛，因此最好避免这种情况。",
   "id": "59d5ad481d1df987"
  },
  {
   "metadata": {},
   "cell_type": "markdown",
   "source": [
    "## 06 文件\n",
    "大多数的程序需要从某处读取输入。本节讨论文件访问。\n",
    "本节的实例代码（不包含练习答案）皆在 06_Files.ipynb 文件中，可一个一个运行。\n",
    "#### **文件输入和输出**\n",
    "打开一个文件："
   ],
   "id": "552a2ae2f4d6d838"
  },
  {
   "metadata": {
    "ExecuteTime": {
     "end_time": "2025-10-24T01:32:20.824063Z",
     "start_time": "2025-10-24T01:32:20.819249Z"
    }
   },
   "cell_type": "code",
   "source": [
    "f = open('foo.txt', 'rt', encoding='utf-8')\n",
    "g = open('bar.txt', 'wt', encoding='utf-8')"
   ],
   "id": "3921508c3cf5b90b",
   "outputs": [],
   "execution_count": 85
  },
  {
   "metadata": {},
   "cell_type": "markdown",
   "source": "读取所有的数据：",
   "id": "a9f970e737f44799"
  },
  {
   "metadata": {
    "ExecuteTime": {
     "end_time": "2025-10-24T01:32:25.313664Z",
     "start_time": "2025-10-24T01:32:25.308711Z"
    }
   },
   "cell_type": "code",
   "source": [
    "data = f.read()\n",
    "# 读取 10 个字符\n",
    "data = f.read(10)\n",
    "data"
   ],
   "id": "9861dad93d58fe52",
   "outputs": [
    {
     "data": {
      "text/plain": [
       "''"
      ]
     },
     "execution_count": 86,
     "metadata": {},
     "output_type": "execute_result"
    }
   ],
   "execution_count": 86
  },
  {
   "metadata": {},
   "cell_type": "markdown",
   "source": "写入一些文本：",
   "id": "d7a79fb26fa0f975"
  },
  {
   "metadata": {
    "ExecuteTime": {
     "end_time": "2025-10-24T01:32:27.777870Z",
     "start_time": "2025-10-24T01:32:27.773187Z"
    }
   },
   "cell_type": "code",
   "source": "g.write('some text')",
   "id": "39386ac7fe23f319",
   "outputs": [
    {
     "data": {
      "text/plain": [
       "9"
      ]
     },
     "execution_count": 87,
     "metadata": {},
     "output_type": "execute_result"
    }
   ],
   "execution_count": 87
  },
  {
   "metadata": {},
   "cell_type": "markdown",
   "source": "当你完成操作后，关闭文件：",
   "id": "93469cb9da502d38"
  },
  {
   "metadata": {
    "ExecuteTime": {
     "end_time": "2025-10-24T01:32:32.936443Z",
     "start_time": "2025-10-24T01:32:32.932521Z"
    }
   },
   "cell_type": "code",
   "source": [
    "f.close()\n",
    "g.close()"
   ],
   "id": "d2d150162ddbd20b",
   "outputs": [],
   "execution_count": 88
  },
  {
   "metadata": {},
   "cell_type": "markdown",
   "source": [
    "文件应该被正确地关闭，这是很容易忘记的一个步骤。因此，首选方法是像下面这样使用 with 语句：\n",
    "```\n",
    "with open(filename, 'rt') as file:\n",
    "    # Use the file `file`\n",
    "    ...\n",
    "    # No need to close explicitly\n",
    "...statements\n",
    "```\n",
    "当控制流离开缩进的代码块时，这将会自动关闭文件。\n",
    "#### **读取文件数据的习惯用法**\n",
    "以字符串的形式一次性读取整个文件："
   ],
   "id": "d9a1e77ebb2060cb"
  },
  {
   "metadata": {
    "ExecuteTime": {
     "end_time": "2025-10-24T01:35:30.720878Z",
     "start_time": "2025-10-24T01:35:30.716619Z"
    }
   },
   "cell_type": "code",
   "source": [
    "with open('foo.txt', 'rt', encoding='utf-8') as file:\n",
    "    data = file.read() # 'data' 是这个文件的整个内容\n",
    "    print(data) #"
   ],
   "id": "9c8dc1fda197a7a5",
   "outputs": [
    {
     "name": "stdout",
     "output_type": "stream",
     "text": [
      "g = open('bar.txt', 'wt')\n",
      "### 文件输入和输出\n",
      "读取所有的数据：\n"
     ]
    }
   ],
   "execution_count": 90
  },
  {
   "metadata": {},
   "cell_type": "code",
   "source": [
    "#通过迭代逐行读取文件：\n",
    "with open('foo.txt', 'rt', encoding='utf-8') as file:\n",
    "    for line in file:\n",
    "        print(line)"
   ],
   "id": "df76354bb958af0d",
   "outputs": [],
   "execution_count": null
  },
  {
   "metadata": {},
   "cell_type": "markdown",
   "source": [
    "#### **写入文件的习惯用法**\n",
    "写入字符串数据："
   ],
   "id": "24415a37d9e4649c"
  },
  {
   "metadata": {
    "ExecuteTime": {
     "end_time": "2025-10-24T01:39:26.630510Z",
     "start_time": "2025-10-24T01:39:26.625235Z"
    }
   },
   "cell_type": "code",
   "source": [
    "with open('bar.txt', 'wt', encoding='utf-8') as file:\n",
    "    file.write('Hello World\\n')"
   ],
   "id": "71e30c7351334726",
   "outputs": [],
   "execution_count": 92
  },
  {
   "metadata": {
    "ExecuteTime": {
     "end_time": "2025-10-24T01:40:44.461423Z",
     "start_time": "2025-10-24T01:40:44.457732Z"
    }
   },
   "cell_type": "code",
   "source": [
    "# 重定向print（）函数：\n",
    "with open('bar.txt', 'wt', encoding='utf-8') as file:\n",
    "    print('Hello World！23', file=file)"
   ],
   "id": "3ef7cc7eaf29d2e7",
   "outputs": [],
   "execution_count": 95
  },
  {
   "metadata": {},
   "cell_type": "markdown",
   "source": [
    "### 练习\n",
    "本练习依赖于 Data/portfolio.csv 文件。该文件由一行一行的关于股票投资组合的信息构成。假定你是在 practical-python/Work/ 目录下进行操作。如果你不确定自己所在的目录，你可以通过执行以下操作找出 Python 运行的目录：\n",
    "```\n",
    ">>> import os\n",
    ">>> os.getcwd()\n",
    "'/Users/beazley/Desktop/practical-python/Work' # Output vary\n",
    "```\n",
    "#### **练习 1.26: 文件预览**\n",
    " 首先，尝试以字符串的形式一次性读取整个文件："
   ],
   "id": "4e0b7963f1b0571a"
  },
  {
   "metadata": {
    "ExecuteTime": {
     "end_time": "2025-10-24T01:48:15.703838Z",
     "start_time": "2025-10-24T01:48:15.699577Z"
    }
   },
   "cell_type": "code",
   "source": [
    "with open('Data/portfolio.csv', 'rt', encoding='utf-8') as f:\n",
    "    data = f.read()\n",
    "    # print(data)\n",
    "    # data"
   ],
   "id": "f4e9e98b3924fd55",
   "outputs": [],
   "execution_count": 3
  },
  {
   "metadata": {},
   "cell_type": "markdown",
   "source": [
    "在上面的示例中，应注意 Python 有两种输出模式。在第一种模式下，你在提示符后输入 data，Python 向你展示包含引号和转义码的原始字符串。当你输入 print(data)时，你获得真正的字符串的格式化输出。\n",
    "一次性读取文件很简单，但这通常不是最恰当的读取文件方式——尤其是当文件碰巧很大或者文件包含要一次性处理的文本行时。\n",
    "要逐行读取文件，可以像下面这样使用 for 循环："
   ],
   "id": "47352e9e940da1e5"
  },
  {
   "metadata": {
    "ExecuteTime": {
     "end_time": "2025-10-24T01:49:59.907247Z",
     "start_time": "2025-10-24T01:49:59.902953Z"
    }
   },
   "cell_type": "code",
   "source": [
    "with open('Data/portfolio.csv', 'rt', encoding='utf-8') as f:\n",
    "    for line in f:\n",
    "        print(line, end='')"
   ],
   "id": "1601bb1617c223fd",
   "outputs": [
    {
     "name": "stdout",
     "output_type": "stream",
     "text": [
      "name,shares,price\n",
      "\"AA\",100,32.20\n",
      "\"IBM\",50,91.10\n",
      "\"CAT\",150,83.44\n",
      "\"MSFT\",200,51.23\n",
      "\"GE\",95,40.37\n",
      "\"MSFT\",50,65.10\n",
      "\"IBM\",100,70.44\n"
     ]
    }
   ],
   "execution_count": 6
  },
  {
   "metadata": {},
   "cell_type": "markdown",
   "source": [
    "当你像上面展示的那样使用此代码时，它会读取文件的每一行，直到到达文件末尾。在文件末尾，循环会停止。\n",
    "在某些特定的情况下，你可能想要手动的读取或者跳过某一行文本（例如，可能你想跳过列标题的第一行）："
   ],
   "id": "6dec3bdb62629a97"
  },
  {
   "metadata": {
    "ExecuteTime": {
     "end_time": "2025-10-24T01:52:17.217119Z",
     "start_time": "2025-10-24T01:52:17.211780Z"
    }
   },
   "cell_type": "code",
   "source": [
    "f = open('Data/portfolio.csv', 'rt', encoding='utf-8')\n",
    "header = next(f)\n",
    "for line in f:\n",
    "    print(line, end='')\n",
    "f.close()"
   ],
   "id": "ce3fd0a7db9a42aa",
   "outputs": [
    {
     "name": "stdout",
     "output_type": "stream",
     "text": [
      "\"AA\",100,32.20\n",
      "\"IBM\",50,91.10\n",
      "\"CAT\",150,83.44\n",
      "\"MSFT\",200,51.23\n",
      "\"GE\",95,40.37\n",
      "\"MSFT\",50,65.10\n",
      "\"IBM\",100,70.44\n"
     ]
    }
   ],
   "execution_count": 9
  },
  {
   "metadata": {},
   "cell_type": "markdown",
   "source": [
    "next() 函数返回文件中的下一行文本。如果你反复调用该函数，将会获得连续的行。但是，如你所知，for 循环已经使用 next() 函数获取数据了。所以，通常情况下，除非你像上面展示的那样试图显式跳过或者读取一行，否则，不要直接调用 next() 函数。\n",
    "一旦读取文件的各行，你就可以开始执行更多的操作，例如拆分。\n",
    "示例，尝试以下操作："
   ],
   "id": "698486256590a4cc"
  },
  {
   "metadata": {
    "ExecuteTime": {
     "end_time": "2025-10-24T01:54:52.928967Z",
     "start_time": "2025-10-24T01:54:52.924761Z"
    }
   },
   "cell_type": "code",
   "source": [
    "f=open('Data/portfolio.csv', 'rt', encoding='utf-8')\n",
    "header = next(f).split(',')\n",
    "# print( header)\n",
    "for line in f:\n",
    "    row = line.split(',')\n",
    "    print(row)\n",
    "f.close()"
   ],
   "id": "b9a01b5e7cf7e25c",
   "outputs": [
    {
     "name": "stdout",
     "output_type": "stream",
     "text": [
      "['\"AA\"', '100', '32.20\\n']\n",
      "['\"IBM\"', '50', '91.10\\n']\n",
      "['\"CAT\"', '150', '83.44\\n']\n",
      "['\"MSFT\"', '200', '51.23\\n']\n",
      "['\"GE\"', '95', '40.37\\n']\n",
      "['\"MSFT\"', '50', '65.10\\n']\n",
      "['\"IBM\"', '100', '70.44\\n']\n"
     ]
    }
   ],
   "execution_count": 11
  },
  {
   "metadata": {},
   "cell_type": "markdown",
   "source": "注意：在这些示例中，因为没有使用 with 语句，所以 f.close() 被显式的调用。",
   "id": "d966704efac48795"
  },
  {
   "metadata": {},
   "cell_type": "markdown",
   "source": [
    "#### **练习 1.27: 读取数据文件**\n",
    "现在你已经知道如何读取文件，让我们编写一个程序来执行简单的计算。\n",
    "portfolio.csv 文件里面的列对应股票的名称，股票的数量以及单支股票持有的购买价格。编写一个名为 pcost.py 的程序来打开这个文件，读取所有的行并且计算在所有的股票投资组合中花费多少钱来购买这些股份。\n",
    "提示：要将字符串转为整数，使用 int() 函数。要将字符串转为浮点数，使用 float() 函数。\n",
    "你的程序应该打印如下输出：\n",
    "总投资金额： 44671.15"
   ],
   "id": "8617d0168fca65b4"
  },
  {
   "metadata": {
    "ExecuteTime": {
     "end_time": "2025-10-24T02:01:29.815408Z",
     "start_time": "2025-10-24T02:01:29.811229Z"
    }
   },
   "cell_type": "code",
   "source": [
    "with open('Data/portfolio.csv', 'rt', encoding='utf-8') as f:\n",
    "    header = next(f).split(',')\n",
    "    total_cost = 0.0\n",
    "    for line in f:\n",
    "        row = line.split(',')\n",
    "        nshares = int(row[1])\n",
    "        price = float(row[2])\n",
    "        total_cost += nshares * price\n",
    "    print('总投资金额：', total_cost)"
   ],
   "id": "41283c1528c09fbd",
   "outputs": [
    {
     "name": "stdout",
     "output_type": "stream",
     "text": [
      "总投资金额： 44671.15\n"
     ]
    }
   ],
   "execution_count": 14
  },
  {
   "metadata": {},
   "cell_type": "markdown",
   "source": [
    "#### **练习 1.28: 其它类型的“文件\"**\n",
    "如果你想读取非文本文件（如 gzip 压缩的数据文件）怎么办？虽然内建 open() 函数在这里帮不了你了，但是 Python 提供的 gzip 模块可以读取 gzip 文件。\n",
    "试试看："
   ],
   "id": "484d17b043eff3f2"
  },
  {
   "metadata": {
    "ExecuteTime": {
     "end_time": "2025-10-24T02:10:49.328444Z",
     "start_time": "2025-10-24T02:10:49.323768Z"
    }
   },
   "cell_type": "code",
   "source": [
    "import zipfile\n",
    "with zipfile.ZipFile('Data/portfolio.zip') as zip:\n",
    "    with zip.open('portfolio.csv', 'r') as f:\n",
    "        header = next(f)\n",
    "        for line in f:\n",
    "            print(line.decode('utf-8'), end='')"
   ],
   "id": "464648b75423b9fb",
   "outputs": [
    {
     "name": "stdout",
     "output_type": "stream",
     "text": [
      "\"AA\",100,32.20\r\n",
      "\"IBM\",50,91.10\r\n",
      "\"CAT\",150,83.44\r\n",
      "\"MSFT\",200,51.23\r\n",
      "\"GE\",95,40.37\r\n",
      "\"MSFT\",50,65.10\r\n",
      "\"IBM\",100,70.44\r\n"
     ]
    }
   ],
   "execution_count": 25
  },
  {
   "metadata": {},
   "cell_type": "markdown",
   "source": [
    "#### **说明: 我们不应该为此使用 Pandas 吗?**\n",
    "数据科学家很快指出，诸如 Pandas 这样的库已经具有读取 CSV 文件的函数，为什么不使用 Pandas 呢?的确如此——而且效果也很好。但是，这不是一门有关学习 Pandas 的课程，读取文件是一个比读取 CSV 文件更普遍的问题。我们使用 CSV 文件做例子的主要原因是：它是大多数编码人员熟悉的格式，并且相对易于直接使用——在读取 CSV 文件的过程中，阐明了许多 Python 特性。所以，当你回到工作中，请务必使用 Pandas。但是，在本课程剩下部分，我们将会继续使用标准的 Python 函数。"
   ],
   "id": "63367ea7021ca1b2"
  },
  {
   "metadata": {},
   "cell_type": "markdown",
   "source": [
    "## 07 函数\n",
    "随着程序开始变大，我们会想要有条理地组织这些程序。本节简要介绍函数、库模块以及带有异常的错误处理。\n",
    "#### **自定义函数**\n",
    "对你要重用的代码使用函数。下面是函数的定义方式："
   ],
   "id": "2d6b2726c538aeaf"
  },
  {
   "metadata": {
    "ExecuteTime": {
     "end_time": "2025-10-24T02:17:57.949311Z",
     "start_time": "2025-10-24T02:17:57.945596Z"
    }
   },
   "cell_type": "code",
   "source": [
    "def sumcount(n):\n",
    "    '''\n",
    "    返回从1到n的整数和\n",
    "    :param n:\n",
    "    :return:\n",
    "    '''\n",
    "    total = 0\n",
    "    while n > 0:\n",
    "        total += n\n",
    "        n -= 1\n",
    "    return total"
   ],
   "id": "ccada152699ccc12",
   "outputs": [],
   "execution_count": 26
  },
  {
   "metadata": {},
   "cell_type": "markdown",
   "source": "函数调用：",
   "id": "eb63725263725cfc"
  },
  {
   "metadata": {
    "ExecuteTime": {
     "end_time": "2025-10-24T02:18:23.128008Z",
     "start_time": "2025-10-24T02:18:23.120609Z"
    }
   },
   "cell_type": "code",
   "source": "sumcount(100)",
   "id": "2162b95e69b509be",
   "outputs": [
    {
     "data": {
      "text/plain": [
       "5050"
      ]
     },
     "execution_count": 27,
     "metadata": {},
     "output_type": "execute_result"
    }
   ],
   "execution_count": 27
  },
  {
   "metadata": {},
   "cell_type": "markdown",
   "source": [
    "函数是执行某些任务并返回结果的一系列语句。 return 关键字需要显式指定函数的返回值。\n",
    "#### **库函数**\n",
    "Python 带有一个大型的标准库。使用 import 访问库模块。示例："
   ],
   "id": "dd00b0e35abfeec0"
  },
  {
   "metadata": {},
   "cell_type": "code",
   "source": [
    "import math\n",
    "x = math.sqrt(10)\n",
    "\n",
    "import urllib.request\n",
    "u = urllib.request.urlopen('http://www.python.org/')\n",
    "data = u.read()\n"
   ],
   "id": "914077bc64697b37",
   "outputs": [],
   "execution_count": null
  },
  {
   "metadata": {},
   "cell_type": "markdown",
   "source": [
    "稍后，我们将更详细地介绍库和模块。\n",
    "#### **错误和异常**\n",
    "函数将错误报告为异常。异常会导致函数中止，如果未处理，可能会导致整个程序终止。\n",
    "在你的 Python 解释器（REPL）中尝试一下：\n",
    "```\n",
    ">>> int('N/A')\n",
    "Traceback (most recent call last):\n",
    "File \"<stdin>\", line 1, in <module>\n",
    "ValueError: invalid literal for int() with base 10: 'N/A'\n",
    ">>>\n",
    "```\n",
    "出于调试的目的，上面的错误信息描述了发生的情况，错误产生的位置以及回溯。该回溯显示导致失败的其它函数调用。\n",
    "#### **捕获和处理异常**\n",
    "异常可以被捕获并处理。要捕获异常，使用 try - except 语句：\n",
    "```\n",
    "for line in f:\n",
    "    fields = line.split()\n",
    "    try:\n",
    "        shares = int(fields[1])\n",
    "    except ValueError:\n",
    "        print(\"Couldn't parse\", line)\n",
    "    ...\n",
    "```\n",
    "该名称 ValueError 必须与你尝试捕获的错误类型匹配。\n",
    "通常，根据所执行的操作，很难提前确切地知道可能会发生哪种错误。不管是好是坏，通常会添加在程序意外崩溃后的异常处理（示例：”天哪，我们忘记捕获错误了。我们应该处理错误的。“）。\n",
    "#### **触发异常**\n",
    "要触发异常，请使用 raise 语句：\n",
    "```\n",
    "raise RuntimeError('What a kerfuffle')\n",
    "```\n",
    "这将导致程序因异常回溯而中止，除非该异常通过 try-except 代码块捕获。\n",
    "```\n",
    "% python3 foo.py\n",
    "Traceback (most recent call last):\n",
    "  File \"foo.py\", line 21, in <module>\n",
    "    raise RuntimeError(\"What a kerfuffle\")\n",
    "RuntimeError: What a kerfuffle\n",
    "```"
   ],
   "id": "b39190331fb9947e"
  },
  {
   "metadata": {},
   "cell_type": "markdown",
   "source": [
    "### 练习\n",
    "#### **练习 1.29：定义一个函数**\n",
    "尝试定义一个简单的函数：\n",
    "```\n",
    ">>> def greeting(name):\n",
    "        'Issues a greeting'\n",
    "        print('Hello', name)\n",
    "\n",
    ">>> greeting('Guido')\n",
    "Hello Guido\n",
    ">>> greeting('Paula')\n",
    "Hello Paula\n",
    ">>>\n",
    "```\n",
    "如果函数的第一条语句是字符串，那么它被当做文档字符串。尝试输入一个命令来显示该文档字符串，例如 help(greeting)。"
   ],
   "id": "14b9057bfa4ae7c5"
  },
  {
   "metadata": {
    "ExecuteTime": {
     "end_time": "2025-10-24T02:27:21.241507Z",
     "start_time": "2025-10-24T02:27:21.237356Z"
    }
   },
   "cell_type": "code",
   "source": [
    "def greeting(name):\n",
    "    'Issues a greeting'\n",
    "    print('Hello', name)\n",
    "help(greeting)"
   ],
   "id": "43323612b2b537e1",
   "outputs": [
    {
     "name": "stdout",
     "output_type": "stream",
     "text": [
      "Help on function greeting in module __main__:\n",
      "\n",
      "greeting(name)\n",
      "    Issues a greeting\n",
      "\n"
     ]
    }
   ],
   "execution_count": 31
  },
  {
   "metadata": {},
   "cell_type": "markdown",
   "source": [
    "#### **练习 1.30：将脚本转换为函数**\n",
    "把你在 练习1.27 为 pcost.py 程序编写的代码放到 portfolio_cost(filename) 函数里面。此函数以文件名作为输入，读取文件中的投资组合数据，把投资组合总的费用作为浮点数返回。\n",
    "要使用你的函数，请修改程序，使其看起来像下面这样：\n",
    "```\n",
    "def portfolio_cost(filename):\n",
    "    ...\n",
    "    # Your code here\n",
    "    ...\n",
    "\n",
    "cost = portfolio_cost('Data/portfolio.csv')\n",
    "print('Total cost:', cost)\n",
    "```\n",
    "运行程序时，你应该会看到和以前一样的输出。运行程序后，你也可以输入一下命令来交互式地调用函数：\n",
    "```\n",
    "bash $ python3 -i pcost.py\n",
    "```\n",
    "这将允许你从交互模式调用函数：\n",
    "```\n",
    ">>> portfolio_cost('Data/portfolio.csv')\n",
    "44671.15\n",
    ">>>\n",
    "```\n",
    "能够交互地试验代码对调试和测试非常有用。"
   ],
   "id": "4791c940b8edb778"
  },
  {
   "metadata": {
    "ExecuteTime": {
     "end_time": "2025-10-24T02:31:23.462170Z",
     "start_time": "2025-10-24T02:31:23.457785Z"
    }
   },
   "cell_type": "code",
   "source": [
    "def portfolio_cost(filename):\n",
    "    with open(filename, 'rt', encoding='utf-8') as f:\n",
    "        header = next(f).split(',')\n",
    "        total_cost = 0.0\n",
    "        for line in f:\n",
    "            row = line.split(',')\n",
    "            nshares = int(row[1])\n",
    "            price = float(row[2])\n",
    "            total_cost += nshares * price\n",
    "        return total_cost\n",
    "cost = portfolio_cost('Data/portfolio.csv')\n",
    "print('总投资金额：', cost)"
   ],
   "id": "6d1256c6d3c9cd7e",
   "outputs": [
    {
     "name": "stdout",
     "output_type": "stream",
     "text": [
      "总投资金额： 44671.15\n"
     ]
    }
   ],
   "execution_count": 32
  },
  {
   "metadata": {},
   "cell_type": "markdown",
   "source": [
    "#### **练习 1.31：错误处理**\n",
    "如果你在缺少某些字段的文件上使用函数，会发生什么情况？\n",
    "```\n",
    ">>> portfolio_cost('Data/missing.csv')\n",
    "Traceback (most recent call last):\n",
    "    File \"<stdin>\", line 1, in <module>\n",
    "    File \"pcost.py\", line 11, in portfolio_cost\n",
    "    nshares    = int(fields[1])\n",
    "ValueError: invalid literal for int() with base 10: ''\n",
    ">>>\n",
    "```\n",
    "在这一点上，你面临一个决定：要使程序正常工作，你可以通过消除错误行（bad lines）来清理原始输入文件，或者修改代码，以某种方式处理错误行。\n",
    "请修改 pcost.py 程序以捕获异常，打印警告信息然后继续处理文件余下部分。"
   ],
   "id": "f326e1055aa9b90e"
  },
  {
   "metadata": {
    "ExecuteTime": {
     "end_time": "2025-10-24T02:36:58.346268Z",
     "start_time": "2025-10-24T02:36:58.341596Z"
    }
   },
   "cell_type": "code",
   "source": [
    "def portfolio_cost(filename):\n",
    "    with open(filename, 'rt', encoding='utf-8') as f:\n",
    "        header = next(f).split(',')\n",
    "        total_cost = 0.0\n",
    "        for line in f:\n",
    "            row = line.split(',')\n",
    "            try:\n",
    "                nshares = int(row[1])\n",
    "                price = float(row[2])\n",
    "                total_cost += nshares * price\n",
    "            except Exception as e:\n",
    "                print('bad line:', line, ':', e)\n",
    "                continue\n",
    "        return total_cost\n",
    "cost = portfolio_cost('Data/portfolio.csv')\n",
    "print('总投资金额：', cost)"
   ],
   "id": "2d61ab6d5eaa0127",
   "outputs": [
    {
     "name": "stdout",
     "output_type": "stream",
     "text": [
      "总投资金额： 44671.15\n"
     ]
    }
   ],
   "execution_count": 35
  },
  {
   "metadata": {},
   "cell_type": "markdown",
   "source": [
    "#### **练习1.32：使用库函数**\n",
    "Python 带有一个拥有大量有用函数的大型标准库。csv 模块是一个在这里可能有用的库。无论何时，每当必须必须使用 CSV 数据文件时，都应使用 csv 模块。下面是一个有关 csv 模块是如何工作的示例："
   ],
   "id": "544a98846a3a8b98"
  },
  {
   "metadata": {
    "ExecuteTime": {
     "end_time": "2025-10-24T02:39:05.669165Z",
     "start_time": "2025-10-24T02:39:05.664925Z"
    }
   },
   "cell_type": "code",
   "source": [
    "import csv\n",
    "f = open('Data/portfolio.csv')\n",
    "rows = csv.reader(f)\n",
    "headers = next(rows)\n",
    "headers\n",
    "for row in rows:\n",
    "    print(row)\n",
    "f.close()"
   ],
   "id": "178573eec750b0a4",
   "outputs": [
    {
     "name": "stdout",
     "output_type": "stream",
     "text": [
      "['AA', '100', '32.20']\n",
      "['IBM', '50', '91.10']\n",
      "['CAT', '150', '83.44']\n",
      "['MSFT', '200', '51.23']\n",
      "['GE', '95', '40.37']\n",
      "['MSFT', '50', '65.10']\n",
      "['IBM', '100', '70.44']\n"
     ]
    }
   ],
   "execution_count": 37
  },
  {
   "metadata": {},
   "cell_type": "markdown",
   "source": [
    "csv 模块有一个非常棒的功能——它处理各种底层细节，例如引号和适当的逗号拆分。在上面的输出中，你会注意到它从第一列的名称（names）中删除了双引号。\n",
    "\n",
    "修改你的 pcost.py 程序，以使用 csv 模块进行解析，然后尝试运行前面的示例。\n",
    "#### **练习 1.33：从命令行读取**\n",
    "\n",
    "在 pcost.py 程序中，输入文件的名称已经被硬编码到代码中：\n",
    "```\n",
    "# pcost.py\n",
    "\n",
    "def portfolio_cost(filename):\n",
    "    ...\n",
    "    # Your code here\n",
    "    ...\n",
    "\n",
    "cost = portfolio_cost('Data/portfolio.csv')\n",
    "print('Total cost:', cost)\n",
    "```\n",
    "虽然用于学习和测试还行，但在实际的程序中，你可能不会这么做。\n",
    "相反，你可以把文件名作为参数传递给脚本。尝试按以下步骤修改程序的底部：\n",
    "```\n",
    "# pcost.py\n",
    "import sys\n",
    "\n",
    "def portfolio_cost(filename):\n",
    "    ...\n",
    "    # Your code here\n",
    "    ...\n",
    "\n",
    "if len(sys.argv) == 2:\n",
    "    filename = sys.argv[1]\n",
    "else:\n",
    "    filename = 'Data/portfolio.csv'\n",
    "\n",
    "cost = portfolio_cost(filename)\n",
    "print('Total cost:', cost)\n",
    "\n",
    "sys.argv 是一个列表，该列表包含了在命令行上传递的参数（如果有）。\n",
    "```\n",
    "要运行程序，你需要从终端（terminal）运行 Python。\n",
    "\n",
    "示例，从 Unix系统中的 bash 运行：\n",
    "```\n",
    "bash % python3 pcost.py Data/portfolio.csv\n",
    "Total cost: 44671.15\n",
    "bash %\n",
    "```"
   ],
   "id": "3c6775050bf16d0a"
  },
  {
   "metadata": {
    "ExecuteTime": {
     "end_time": "2025-10-24T02:48:15.418275Z",
     "start_time": "2025-10-24T02:48:15.412716Z"
    }
   },
   "cell_type": "code",
   "source": [
    "import sys\n",
    "def portfolio_cost(filename):\n",
    "    with open(filename, 'rt', encoding='utf-8') as f:\n",
    "        header = next(f).split(',')\n",
    "        total_cost = 0.0\n",
    "        for line in f:\n",
    "            row = line.split(',')\n",
    "            try:\n",
    "                nshares = int(row[1])\n",
    "                price = float(row[2])\n",
    "                total_cost += nshares * price\n",
    "            except Exception as e:\n",
    "                print('bad line:', line, ':', e)\n",
    "                continue\n",
    "        return total_cost\n",
    "if len(sys.argv) == 2:\n",
    "    filename = sys.argv[1]\n",
    "else:\n",
    "    filename = 'Data/portfolio.csv'\n",
    "\n",
    "cost = portfolio_cost(filename)\n",
    "print('Total cost:', cost)"
   ],
   "id": "f8bf8d651954f9a8",
   "outputs": [
    {
     "name": "stdout",
     "output_type": "stream",
     "text": [
      "Total cost: 44671.15\n"
     ]
    }
   ],
   "execution_count": 40
  },
  {
   "metadata": {},
   "cell_type": "markdown",
   "source": [
    "sys.argv 是一个列表，该列表包含了在命令行上传递的参数（如果有）。\n",
    "\n",
    "要运行程序，你需要从终端（terminal）运行 Python。\n",
    "\n",
    "示例，从 Unix系统中的 bash 运行：\n",
    "```\n",
    "bash % python3 pcost.py Data/portfolio.csv\n",
    "Total cost: 44671.15\n",
    "bash %\n",
    "```"
   ],
   "id": "87bb03e605692d09"
  },
  {
   "metadata": {},
   "cell_type": "code",
   "outputs": [],
   "execution_count": null,
   "source": "",
   "id": "6d7ee79f75208710"
  }
 ],
 "metadata": {
  "kernelspec": {
   "display_name": "Python 3",
   "language": "python",
   "name": "python3"
  },
  "language_info": {
   "codemirror_mode": {
    "name": "ipython",
    "version": 2
   },
   "file_extension": ".py",
   "mimetype": "text/x-python",
   "name": "python",
   "nbconvert_exporter": "python",
   "pygments_lexer": "ipython2",
   "version": "2.7.6"
  }
 },
 "nbformat": 4,
 "nbformat_minor": 5
}
